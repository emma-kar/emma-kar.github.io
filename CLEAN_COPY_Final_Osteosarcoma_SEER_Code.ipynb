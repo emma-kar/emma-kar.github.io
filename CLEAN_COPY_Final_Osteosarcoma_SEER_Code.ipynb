{
  "nbformat": 4,
  "nbformat_minor": 0,
  "metadata": {
    "colab": {
      "provenance": [],
      "mount_file_id": "1u3dfZlR_GtV7SYEBCUHc5g0C6_65oXsW",
      "authorship_tag": "ABX9TyO+KD+UD0U0JNvKAX3d661l",
      "include_colab_link": true
    },
    "kernelspec": {
      "name": "python3",
      "display_name": "Python 3"
    },
    "language_info": {
      "name": "python"
    }
  },
  "cells": [
    {
      "cell_type": "markdown",
      "metadata": {
        "id": "view-in-github",
        "colab_type": "text"
      },
      "source": [
        "<a href=\"https://colab.research.google.com/github/emma-kar/osteosarcoma/blob/main/CLEAN_COPY_Final_Osteosarcoma_SEER_Code.ipynb\" target=\"_parent\"><img src=\"https://colab.research.google.com/assets/colab-badge.svg\" alt=\"Open In Colab\"/></a>"
      ]
    },
    {
      "cell_type": "code",
      "execution_count": null,
      "metadata": {
        "id": "k-KviWVttFWJ",
        "colab": {
          "base_uri": "https://localhost:8080/"
        },
        "outputId": "45c1be1a-ce0a-418f-9e10-0a86a2e32632"
      },
      "outputs": [
        {
          "output_type": "stream",
          "name": "stdout",
          "text": [
            "Collecting plotly_express\n",
            "  Downloading plotly_express-0.4.1-py2.py3-none-any.whl (2.9 kB)\n",
            "Requirement already satisfied: pandas>=0.20.0 in /usr/local/lib/python3.10/dist-packages (from plotly_express) (1.5.3)\n",
            "Requirement already satisfied: plotly>=4.1.0 in /usr/local/lib/python3.10/dist-packages (from plotly_express) (5.13.1)\n",
            "Requirement already satisfied: statsmodels>=0.9.0 in /usr/local/lib/python3.10/dist-packages (from plotly_express) (0.13.5)\n",
            "Requirement already satisfied: scipy>=0.18 in /usr/local/lib/python3.10/dist-packages (from plotly_express) (1.10.1)\n",
            "Requirement already satisfied: patsy>=0.5 in /usr/local/lib/python3.10/dist-packages (from plotly_express) (0.5.3)\n",
            "Requirement already satisfied: numpy>=1.11 in /usr/local/lib/python3.10/dist-packages (from plotly_express) (1.22.4)\n",
            "Requirement already satisfied: python-dateutil>=2.8.1 in /usr/local/lib/python3.10/dist-packages (from pandas>=0.20.0->plotly_express) (2.8.2)\n",
            "Requirement already satisfied: pytz>=2020.1 in /usr/local/lib/python3.10/dist-packages (from pandas>=0.20.0->plotly_express) (2022.7.1)\n",
            "Requirement already satisfied: six in /usr/local/lib/python3.10/dist-packages (from patsy>=0.5->plotly_express) (1.16.0)\n",
            "Requirement already satisfied: tenacity>=6.2.0 in /usr/local/lib/python3.10/dist-packages (from plotly>=4.1.0->plotly_express) (8.2.2)\n",
            "Requirement already satisfied: packaging>=21.3 in /usr/local/lib/python3.10/dist-packages (from statsmodels>=0.9.0->plotly_express) (23.1)\n",
            "Installing collected packages: plotly_express\n",
            "Successfully installed plotly_express-0.4.1\n"
          ]
        }
      ],
      "source": [
        "#import packages to be used\n",
        "import pandas as pd\n",
        "import numpy as np\n",
        "!pip install plotly_express\n",
        "import plotly_express as px\n",
        "import plotly.graph_objects as go\n",
        "from scipy.stats import fisher_exact\n",
        "import matplotlib.pyplot as plt\n"
      ]
    },
    {
      "cell_type": "code",
      "source": [
        "#connect to google drive in order to open up files on drive\n",
        "from google.colab import drive\n",
        "drive.mount('/content/drive')"
      ],
      "metadata": {
        "colab": {
          "base_uri": "https://localhost:8080/"
        },
        "id": "yQw2VTdgYS4t",
        "outputId": "f3b69916-b74d-4776-fa10-5ecb7caa73f5"
      },
      "execution_count": null,
      "outputs": [
        {
          "output_type": "stream",
          "name": "stdout",
          "text": [
            "Mounted at /content/drive\n"
          ]
        }
      ]
    },
    {
      "cell_type": "code",
      "source": [
        "#First we open the file that will be used. This file has been extracted from SEER.\n",
        "df = pd.read_csv(\"/content/drive/MyDrive/SP_research/ost_agerates_042823.csv\")\n",
        "df.head(10)"
      ],
      "metadata": {
        "id": "f6IJ_r0ht90X",
        "colab": {
          "base_uri": "https://localhost:8080/",
          "height": 363
        },
        "outputId": "08afffe8-58c1-4e4d-81e9-fd0e370f42d9"
      },
      "execution_count": null,
      "outputs": [
        {
          "output_type": "execute_result",
          "data": {
            "text/plain": [
              "               Sex Age recode with <1 year olds Year of diagnosis  \\\n",
              "0  Male and female                     00 years         1975-2020   \n",
              "1  Male and female                     00 years              1975   \n",
              "2  Male and female                     00 years              1976   \n",
              "3  Male and female                     00 years              1977   \n",
              "4  Male and female                     00 years              1978   \n",
              "5  Male and female                     00 years              1979   \n",
              "6  Male and female                     00 years              1980   \n",
              "7  Male and female                     00 years              1981   \n",
              "8  Male and female                     00 years              1982   \n",
              "9  Male and female                     00 years              1983   \n",
              "\n",
              "  Age-Adjusted Rate  Count  Population  \n",
              "0               0.0      0    14295114  \n",
              "1               0.0      0      240660  \n",
              "2               0.0      0      240444  \n",
              "3               0.0      0      254975  \n",
              "4               0.0      0      262016  \n",
              "5               0.0      0      273282  \n",
              "6               0.0      0      287392  \n",
              "7               0.0      0      293927  \n",
              "8               0.0      0      296658  \n",
              "9               0.0      0      297450  "
            ],
            "text/html": [
              "\n",
              "\n",
              "  <div id=\"df-25556fcc-4cb8-4cb4-b444-a9ac78360327\">\n",
              "    <div class=\"colab-df-container\">\n",
              "      <div>\n",
              "<style scoped>\n",
              "    .dataframe tbody tr th:only-of-type {\n",
              "        vertical-align: middle;\n",
              "    }\n",
              "\n",
              "    .dataframe tbody tr th {\n",
              "        vertical-align: top;\n",
              "    }\n",
              "\n",
              "    .dataframe thead th {\n",
              "        text-align: right;\n",
              "    }\n",
              "</style>\n",
              "<table border=\"1\" class=\"dataframe\">\n",
              "  <thead>\n",
              "    <tr style=\"text-align: right;\">\n",
              "      <th></th>\n",
              "      <th>Sex</th>\n",
              "      <th>Age recode with &lt;1 year olds</th>\n",
              "      <th>Year of diagnosis</th>\n",
              "      <th>Age-Adjusted Rate</th>\n",
              "      <th>Count</th>\n",
              "      <th>Population</th>\n",
              "    </tr>\n",
              "  </thead>\n",
              "  <tbody>\n",
              "    <tr>\n",
              "      <th>0</th>\n",
              "      <td>Male and female</td>\n",
              "      <td>00 years</td>\n",
              "      <td>1975-2020</td>\n",
              "      <td>0.0</td>\n",
              "      <td>0</td>\n",
              "      <td>14295114</td>\n",
              "    </tr>\n",
              "    <tr>\n",
              "      <th>1</th>\n",
              "      <td>Male and female</td>\n",
              "      <td>00 years</td>\n",
              "      <td>1975</td>\n",
              "      <td>0.0</td>\n",
              "      <td>0</td>\n",
              "      <td>240660</td>\n",
              "    </tr>\n",
              "    <tr>\n",
              "      <th>2</th>\n",
              "      <td>Male and female</td>\n",
              "      <td>00 years</td>\n",
              "      <td>1976</td>\n",
              "      <td>0.0</td>\n",
              "      <td>0</td>\n",
              "      <td>240444</td>\n",
              "    </tr>\n",
              "    <tr>\n",
              "      <th>3</th>\n",
              "      <td>Male and female</td>\n",
              "      <td>00 years</td>\n",
              "      <td>1977</td>\n",
              "      <td>0.0</td>\n",
              "      <td>0</td>\n",
              "      <td>254975</td>\n",
              "    </tr>\n",
              "    <tr>\n",
              "      <th>4</th>\n",
              "      <td>Male and female</td>\n",
              "      <td>00 years</td>\n",
              "      <td>1978</td>\n",
              "      <td>0.0</td>\n",
              "      <td>0</td>\n",
              "      <td>262016</td>\n",
              "    </tr>\n",
              "    <tr>\n",
              "      <th>5</th>\n",
              "      <td>Male and female</td>\n",
              "      <td>00 years</td>\n",
              "      <td>1979</td>\n",
              "      <td>0.0</td>\n",
              "      <td>0</td>\n",
              "      <td>273282</td>\n",
              "    </tr>\n",
              "    <tr>\n",
              "      <th>6</th>\n",
              "      <td>Male and female</td>\n",
              "      <td>00 years</td>\n",
              "      <td>1980</td>\n",
              "      <td>0.0</td>\n",
              "      <td>0</td>\n",
              "      <td>287392</td>\n",
              "    </tr>\n",
              "    <tr>\n",
              "      <th>7</th>\n",
              "      <td>Male and female</td>\n",
              "      <td>00 years</td>\n",
              "      <td>1981</td>\n",
              "      <td>0.0</td>\n",
              "      <td>0</td>\n",
              "      <td>293927</td>\n",
              "    </tr>\n",
              "    <tr>\n",
              "      <th>8</th>\n",
              "      <td>Male and female</td>\n",
              "      <td>00 years</td>\n",
              "      <td>1982</td>\n",
              "      <td>0.0</td>\n",
              "      <td>0</td>\n",
              "      <td>296658</td>\n",
              "    </tr>\n",
              "    <tr>\n",
              "      <th>9</th>\n",
              "      <td>Male and female</td>\n",
              "      <td>00 years</td>\n",
              "      <td>1983</td>\n",
              "      <td>0.0</td>\n",
              "      <td>0</td>\n",
              "      <td>297450</td>\n",
              "    </tr>\n",
              "  </tbody>\n",
              "</table>\n",
              "</div>\n",
              "      <button class=\"colab-df-convert\" onclick=\"convertToInteractive('df-25556fcc-4cb8-4cb4-b444-a9ac78360327')\"\n",
              "              title=\"Convert this dataframe to an interactive table.\"\n",
              "              style=\"display:none;\">\n",
              "\n",
              "  <svg xmlns=\"http://www.w3.org/2000/svg\" height=\"24px\"viewBox=\"0 0 24 24\"\n",
              "       width=\"24px\">\n",
              "    <path d=\"M0 0h24v24H0V0z\" fill=\"none\"/>\n",
              "    <path d=\"M18.56 5.44l.94 2.06.94-2.06 2.06-.94-2.06-.94-.94-2.06-.94 2.06-2.06.94zm-11 1L8.5 8.5l.94-2.06 2.06-.94-2.06-.94L8.5 2.5l-.94 2.06-2.06.94zm10 10l.94 2.06.94-2.06 2.06-.94-2.06-.94-.94-2.06-.94 2.06-2.06.94z\"/><path d=\"M17.41 7.96l-1.37-1.37c-.4-.4-.92-.59-1.43-.59-.52 0-1.04.2-1.43.59L10.3 9.45l-7.72 7.72c-.78.78-.78 2.05 0 2.83L4 21.41c.39.39.9.59 1.41.59.51 0 1.02-.2 1.41-.59l7.78-7.78 2.81-2.81c.8-.78.8-2.07 0-2.86zM5.41 20L4 18.59l7.72-7.72 1.47 1.35L5.41 20z\"/>\n",
              "  </svg>\n",
              "      </button>\n",
              "\n",
              "\n",
              "\n",
              "    <div id=\"df-e50d881c-cfb6-4cac-addb-d0640e9d707f\">\n",
              "      <button class=\"colab-df-quickchart\" onclick=\"quickchart('df-e50d881c-cfb6-4cac-addb-d0640e9d707f')\"\n",
              "              title=\"Suggest charts.\"\n",
              "              style=\"display:none;\">\n",
              "\n",
              "<svg xmlns=\"http://www.w3.org/2000/svg\" height=\"24px\"viewBox=\"0 0 24 24\"\n",
              "     width=\"24px\">\n",
              "    <g>\n",
              "        <path d=\"M19 3H5c-1.1 0-2 .9-2 2v14c0 1.1.9 2 2 2h14c1.1 0 2-.9 2-2V5c0-1.1-.9-2-2-2zM9 17H7v-7h2v7zm4 0h-2V7h2v10zm4 0h-2v-4h2v4z\"/>\n",
              "    </g>\n",
              "</svg>\n",
              "      </button>\n",
              "    </div>\n",
              "\n",
              "<style>\n",
              "  .colab-df-quickchart {\n",
              "    background-color: #E8F0FE;\n",
              "    border: none;\n",
              "    border-radius: 50%;\n",
              "    cursor: pointer;\n",
              "    display: none;\n",
              "    fill: #1967D2;\n",
              "    height: 32px;\n",
              "    padding: 0 0 0 0;\n",
              "    width: 32px;\n",
              "  }\n",
              "\n",
              "  .colab-df-quickchart:hover {\n",
              "    background-color: #E2EBFA;\n",
              "    box-shadow: 0px 1px 2px rgba(60, 64, 67, 0.3), 0px 1px 3px 1px rgba(60, 64, 67, 0.15);\n",
              "    fill: #174EA6;\n",
              "  }\n",
              "\n",
              "  [theme=dark] .colab-df-quickchart {\n",
              "    background-color: #3B4455;\n",
              "    fill: #D2E3FC;\n",
              "  }\n",
              "\n",
              "  [theme=dark] .colab-df-quickchart:hover {\n",
              "    background-color: #434B5C;\n",
              "    box-shadow: 0px 1px 3px 1px rgba(0, 0, 0, 0.15);\n",
              "    filter: drop-shadow(0px 1px 2px rgba(0, 0, 0, 0.3));\n",
              "    fill: #FFFFFF;\n",
              "  }\n",
              "</style>\n",
              "\n",
              "    <script>\n",
              "      async function quickchart(key) {\n",
              "        const containerElement = document.querySelector('#' + key);\n",
              "        const charts = await google.colab.kernel.invokeFunction(\n",
              "            'suggestCharts', [key], {});\n",
              "      }\n",
              "    </script>\n",
              "\n",
              "      <script>\n",
              "\n",
              "function displayQuickchartButton(domScope) {\n",
              "  let quickchartButtonEl =\n",
              "    domScope.querySelector('#df-e50d881c-cfb6-4cac-addb-d0640e9d707f button.colab-df-quickchart');\n",
              "  quickchartButtonEl.style.display =\n",
              "    google.colab.kernel.accessAllowed ? 'block' : 'none';\n",
              "}\n",
              "\n",
              "        displayQuickchartButton(document);\n",
              "      </script>\n",
              "      <style>\n",
              "    .colab-df-container {\n",
              "      display:flex;\n",
              "      flex-wrap:wrap;\n",
              "      gap: 12px;\n",
              "    }\n",
              "\n",
              "    .colab-df-convert {\n",
              "      background-color: #E8F0FE;\n",
              "      border: none;\n",
              "      border-radius: 50%;\n",
              "      cursor: pointer;\n",
              "      display: none;\n",
              "      fill: #1967D2;\n",
              "      height: 32px;\n",
              "      padding: 0 0 0 0;\n",
              "      width: 32px;\n",
              "    }\n",
              "\n",
              "    .colab-df-convert:hover {\n",
              "      background-color: #E2EBFA;\n",
              "      box-shadow: 0px 1px 2px rgba(60, 64, 67, 0.3), 0px 1px 3px 1px rgba(60, 64, 67, 0.15);\n",
              "      fill: #174EA6;\n",
              "    }\n",
              "\n",
              "    [theme=dark] .colab-df-convert {\n",
              "      background-color: #3B4455;\n",
              "      fill: #D2E3FC;\n",
              "    }\n",
              "\n",
              "    [theme=dark] .colab-df-convert:hover {\n",
              "      background-color: #434B5C;\n",
              "      box-shadow: 0px 1px 3px 1px rgba(0, 0, 0, 0.15);\n",
              "      filter: drop-shadow(0px 1px 2px rgba(0, 0, 0, 0.3));\n",
              "      fill: #FFFFFF;\n",
              "    }\n",
              "  </style>\n",
              "\n",
              "      <script>\n",
              "        const buttonEl =\n",
              "          document.querySelector('#df-25556fcc-4cb8-4cb4-b444-a9ac78360327 button.colab-df-convert');\n",
              "        buttonEl.style.display =\n",
              "          google.colab.kernel.accessAllowed ? 'block' : 'none';\n",
              "\n",
              "        async function convertToInteractive(key) {\n",
              "          const element = document.querySelector('#df-25556fcc-4cb8-4cb4-b444-a9ac78360327');\n",
              "          const dataTable =\n",
              "            await google.colab.kernel.invokeFunction('convertToInteractive',\n",
              "                                                     [key], {});\n",
              "          if (!dataTable) return;\n",
              "\n",
              "          const docLinkHtml = 'Like what you see? Visit the ' +\n",
              "            '<a target=\"_blank\" href=https://colab.research.google.com/notebooks/data_table.ipynb>data table notebook</a>'\n",
              "            + ' to learn more about interactive tables.';\n",
              "          element.innerHTML = '';\n",
              "          dataTable['output_type'] = 'display_data';\n",
              "          await google.colab.output.renderOutput(dataTable, element);\n",
              "          const docLink = document.createElement('div');\n",
              "          docLink.innerHTML = docLinkHtml;\n",
              "          element.appendChild(docLink);\n",
              "        }\n",
              "      </script>\n",
              "    </div>\n",
              "  </div>\n"
            ]
          },
          "metadata": {},
          "execution_count": 3
        }
      ]
    },
    {
      "cell_type": "code",
      "source": [
        "# This code is meant to clean the data set, removing data points where the Year\n",
        "# category is '1975-2020,' removing where gender is 'Male and female,'\n",
        "# and where age is equal to '00 years' and 'unknown.'\n",
        "\n",
        "df_clean = df[df[\"Year of diagnosis\"]!=\"1975-2020\"].copy()\n",
        "df_clean['Year of diagnosis']=df_clean['Year of diagnosis'].astype(int)\n",
        "df_clean = df_clean[(df_clean['Sex']!='Male and female')&\n",
        "         (df_clean['Age recode with <1 year olds']!='00 years')&(df_clean[\n",
        "             'Age recode with <1 year olds']!='Unknown')]"
      ],
      "metadata": {
        "id": "VbHn3sO9vBcv"
      },
      "execution_count": null,
      "outputs": []
    },
    {
      "cell_type": "code",
      "source": [
        "# Here we are saving off the cleaned dataframe to an excel that can be used in a different\n",
        "# worksheet of code.\n",
        "df_clean.to_excel('df_clean_osteosarcoma2020_new.xlsx', index=False, header=False)"
      ],
      "metadata": {
        "id": "CnbQ60rcvsuS"
      },
      "execution_count": null,
      "outputs": []
    },
    {
      "cell_type": "markdown",
      "source": [
        "Getting graph for total Osteosarcoma incidence"
      ],
      "metadata": {
        "id": "OXKuRzEpS-p1"
      }
    },
    {
      "cell_type": "code",
      "source": [
        "#This code creates a graph of sum of osteosarcoma incidence across the 46 year span.\n",
        "fig = px.histogram(df_clean, x = \"Age recode with <1 year olds\", y = \"Count\",\n",
        "                   histfunc = \"sum\" , width=600, height = 600)\n",
        "fig.update_layout(\n",
        "   # title={\n",
        "       # 'text':\"Age in patients with Osteosarcoma <br> of long bones of lower limbs from SEER data 1975-2020\",\n",
        "      #  'y':0.95,\n",
        "       # 'x':0.5,\n",
        "       # 'xanchor': 'center',\n",
        "       # 'yanchor': 'top'},\n",
        "        xaxis_title=\"Age of diagnosis\", yaxis_title=\"Number of Tumors\",\n",
        "        font=dict(\n",
        "        family=\"arial, monospace\",\n",
        "        size=12))"
      ],
      "metadata": {
        "id": "YC6cDRYSWSmj",
        "colab": {
          "base_uri": "https://localhost:8080/",
          "height": 617
        },
        "outputId": "496192fd-48fa-41b4-b78b-15d92372d957"
      },
      "execution_count": null,
      "outputs": [
        {
          "output_type": "display_data",
          "data": {
            "text/html": [
              "<html>\n",
              "<head><meta charset=\"utf-8\" /></head>\n",
              "<body>\n",
              "    <div>            <script src=\"https://cdnjs.cloudflare.com/ajax/libs/mathjax/2.7.5/MathJax.js?config=TeX-AMS-MML_SVG\"></script><script type=\"text/javascript\">if (window.MathJax && window.MathJax.Hub && window.MathJax.Hub.Config) {window.MathJax.Hub.Config({SVG: {font: \"STIX-Web\"}});}</script>                <script type=\"text/javascript\">window.PlotlyConfig = {MathJaxConfig: 'local'};</script>\n",
              "        <script src=\"https://cdn.plot.ly/plotly-2.18.2.min.js\"></script>                <div id=\"8f0c3ff4-89ff-44c5-a97b-c4d90df43f8d\" class=\"plotly-graph-div\" style=\"height:600px; width:600px;\"></div>            <script type=\"text/javascript\">                                    window.PLOTLYENV=window.PLOTLYENV || {};                                    if (document.getElementById(\"8f0c3ff4-89ff-44c5-a97b-c4d90df43f8d\")) {                    Plotly.newPlot(                        \"8f0c3ff4-89ff-44c5-a97b-c4d90df43f8d\",                        [{\"alignmentgroup\":\"True\",\"bingroup\":\"x\",\"histfunc\":\"sum\",\"hovertemplate\":\"Age recode with <1 year olds=%{x}<br>sum of Count=%{y}<extra></extra>\",\"legendgroup\":\"\",\"marker\":{\"color\":\"#636efa\",\"pattern\":{\"shape\":\"\"}},\"name\":\"\",\"offsetgroup\":\"\",\"orientation\":\"v\",\"showlegend\":false,\"x\":[\"01-04 years\",\"01-04 years\",\"01-04 years\",\"01-04 years\",\"01-04 years\",\"01-04 years\",\"01-04 years\",\"01-04 years\",\"01-04 years\",\"01-04 years\",\"01-04 years\",\"01-04 years\",\"01-04 years\",\"01-04 years\",\"01-04 years\",\"01-04 years\",\"01-04 years\",\"01-04 years\",\"01-04 years\",\"01-04 years\",\"01-04 years\",\"01-04 years\",\"01-04 years\",\"01-04 years\",\"01-04 years\",\"01-04 years\",\"01-04 years\",\"01-04 years\",\"01-04 years\",\"01-04 years\",\"01-04 years\",\"01-04 years\",\"01-04 years\",\"01-04 years\",\"01-04 years\",\"01-04 years\",\"01-04 years\",\"01-04 years\",\"01-04 years\",\"01-04 years\",\"01-04 years\",\"01-04 years\",\"01-04 years\",\"01-04 years\",\"01-04 years\",\"01-04 years\",\"05-09 years\",\"05-09 years\",\"05-09 years\",\"05-09 years\",\"05-09 years\",\"05-09 years\",\"05-09 years\",\"05-09 years\",\"05-09 years\",\"05-09 years\",\"05-09 years\",\"05-09 years\",\"05-09 years\",\"05-09 years\",\"05-09 years\",\"05-09 years\",\"05-09 years\",\"05-09 years\",\"05-09 years\",\"05-09 years\",\"05-09 years\",\"05-09 years\",\"05-09 years\",\"05-09 years\",\"05-09 years\",\"05-09 years\",\"05-09 years\",\"05-09 years\",\"05-09 years\",\"05-09 years\",\"05-09 years\",\"05-09 years\",\"05-09 years\",\"05-09 years\",\"05-09 years\",\"05-09 years\",\"05-09 years\",\"05-09 years\",\"05-09 years\",\"05-09 years\",\"05-09 years\",\"05-09 years\",\"05-09 years\",\"05-09 years\",\"05-09 years\",\"05-09 years\",\"10-14 years\",\"10-14 years\",\"10-14 years\",\"10-14 years\",\"10-14 years\",\"10-14 years\",\"10-14 years\",\"10-14 years\",\"10-14 years\",\"10-14 years\",\"10-14 years\",\"10-14 years\",\"10-14 years\",\"10-14 years\",\"10-14 years\",\"10-14 years\",\"10-14 years\",\"10-14 years\",\"10-14 years\",\"10-14 years\",\"10-14 years\",\"10-14 years\",\"10-14 years\",\"10-14 years\",\"10-14 years\",\"10-14 years\",\"10-14 years\",\"10-14 years\",\"10-14 years\",\"10-14 years\",\"10-14 years\",\"10-14 years\",\"10-14 years\",\"10-14 years\",\"10-14 years\",\"10-14 years\",\"10-14 years\",\"10-14 years\",\"10-14 years\",\"10-14 years\",\"10-14 years\",\"10-14 years\",\"10-14 years\",\"10-14 years\",\"10-14 years\",\"10-14 years\",\"15-19 years\",\"15-19 years\",\"15-19 years\",\"15-19 years\",\"15-19 years\",\"15-19 years\",\"15-19 years\",\"15-19 years\",\"15-19 years\",\"15-19 years\",\"15-19 years\",\"15-19 years\",\"15-19 years\",\"15-19 years\",\"15-19 years\",\"15-19 years\",\"15-19 years\",\"15-19 years\",\"15-19 years\",\"15-19 years\",\"15-19 years\",\"15-19 years\",\"15-19 years\",\"15-19 years\",\"15-19 years\",\"15-19 years\",\"15-19 years\",\"15-19 years\",\"15-19 years\",\"15-19 years\",\"15-19 years\",\"15-19 years\",\"15-19 years\",\"15-19 years\",\"15-19 years\",\"15-19 years\",\"15-19 years\",\"15-19 years\",\"15-19 years\",\"15-19 years\",\"15-19 years\",\"15-19 years\",\"15-19 years\",\"15-19 years\",\"15-19 years\",\"15-19 years\",\"20-24 years\",\"20-24 years\",\"20-24 years\",\"20-24 years\",\"20-24 years\",\"20-24 years\",\"20-24 years\",\"20-24 years\",\"20-24 years\",\"20-24 years\",\"20-24 years\",\"20-24 years\",\"20-24 years\",\"20-24 years\",\"20-24 years\",\"20-24 years\",\"20-24 years\",\"20-24 years\",\"20-24 years\",\"20-24 years\",\"20-24 years\",\"20-24 years\",\"20-24 years\",\"20-24 years\",\"20-24 years\",\"20-24 years\",\"20-24 years\",\"20-24 years\",\"20-24 years\",\"20-24 years\",\"20-24 years\",\"20-24 years\",\"20-24 years\",\"20-24 years\",\"20-24 years\",\"20-24 years\",\"20-24 years\",\"20-24 years\",\"20-24 years\",\"20-24 years\",\"20-24 years\",\"20-24 years\",\"20-24 years\",\"20-24 years\",\"20-24 years\",\"20-24 years\",\"25-29 years\",\"25-29 years\",\"25-29 years\",\"25-29 years\",\"25-29 years\",\"25-29 years\",\"25-29 years\",\"25-29 years\",\"25-29 years\",\"25-29 years\",\"25-29 years\",\"25-29 years\",\"25-29 years\",\"25-29 years\",\"25-29 years\",\"25-29 years\",\"25-29 years\",\"25-29 years\",\"25-29 years\",\"25-29 years\",\"25-29 years\",\"25-29 years\",\"25-29 years\",\"25-29 years\",\"25-29 years\",\"25-29 years\",\"25-29 years\",\"25-29 years\",\"25-29 years\",\"25-29 years\",\"25-29 years\",\"25-29 years\",\"25-29 years\",\"25-29 years\",\"25-29 years\",\"25-29 years\",\"25-29 years\",\"25-29 years\",\"25-29 years\",\"25-29 years\",\"25-29 years\",\"25-29 years\",\"25-29 years\",\"25-29 years\",\"25-29 years\",\"25-29 years\",\"30-34 years\",\"30-34 years\",\"30-34 years\",\"30-34 years\",\"30-34 years\",\"30-34 years\",\"30-34 years\",\"30-34 years\",\"30-34 years\",\"30-34 years\",\"30-34 years\",\"30-34 years\",\"30-34 years\",\"30-34 years\",\"30-34 years\",\"30-34 years\",\"30-34 years\",\"30-34 years\",\"30-34 years\",\"30-34 years\",\"30-34 years\",\"30-34 years\",\"30-34 years\",\"30-34 years\",\"30-34 years\",\"30-34 years\",\"30-34 years\",\"30-34 years\",\"30-34 years\",\"30-34 years\",\"30-34 years\",\"30-34 years\",\"30-34 years\",\"30-34 years\",\"30-34 years\",\"30-34 years\",\"30-34 years\",\"30-34 years\",\"30-34 years\",\"30-34 years\",\"30-34 years\",\"30-34 years\",\"30-34 years\",\"30-34 years\",\"30-34 years\",\"30-34 years\",\"35-39 years\",\"35-39 years\",\"35-39 years\",\"35-39 years\",\"35-39 years\",\"35-39 years\",\"35-39 years\",\"35-39 years\",\"35-39 years\",\"35-39 years\",\"35-39 years\",\"35-39 years\",\"35-39 years\",\"35-39 years\",\"35-39 years\",\"35-39 years\",\"35-39 years\",\"35-39 years\",\"35-39 years\",\"35-39 years\",\"35-39 years\",\"35-39 years\",\"35-39 years\",\"35-39 years\",\"35-39 years\",\"35-39 years\",\"35-39 years\",\"35-39 years\",\"35-39 years\",\"35-39 years\",\"35-39 years\",\"35-39 years\",\"35-39 years\",\"35-39 years\",\"35-39 years\",\"35-39 years\",\"35-39 years\",\"35-39 years\",\"35-39 years\",\"35-39 years\",\"35-39 years\",\"35-39 years\",\"35-39 years\",\"35-39 years\",\"35-39 years\",\"35-39 years\",\"40-44 years\",\"40-44 years\",\"40-44 years\",\"40-44 years\",\"40-44 years\",\"40-44 years\",\"40-44 years\",\"40-44 years\",\"40-44 years\",\"40-44 years\",\"40-44 years\",\"40-44 years\",\"40-44 years\",\"40-44 years\",\"40-44 years\",\"40-44 years\",\"40-44 years\",\"40-44 years\",\"40-44 years\",\"40-44 years\",\"40-44 years\",\"40-44 years\",\"40-44 years\",\"40-44 years\",\"40-44 years\",\"40-44 years\",\"40-44 years\",\"40-44 years\",\"40-44 years\",\"40-44 years\",\"40-44 years\",\"40-44 years\",\"40-44 years\",\"40-44 years\",\"40-44 years\",\"40-44 years\",\"40-44 years\",\"40-44 years\",\"40-44 years\",\"40-44 years\",\"40-44 years\",\"40-44 years\",\"40-44 years\",\"40-44 years\",\"40-44 years\",\"40-44 years\",\"45-49 years\",\"45-49 years\",\"45-49 years\",\"45-49 years\",\"45-49 years\",\"45-49 years\",\"45-49 years\",\"45-49 years\",\"45-49 years\",\"45-49 years\",\"45-49 years\",\"45-49 years\",\"45-49 years\",\"45-49 years\",\"45-49 years\",\"45-49 years\",\"45-49 years\",\"45-49 years\",\"45-49 years\",\"45-49 years\",\"45-49 years\",\"45-49 years\",\"45-49 years\",\"45-49 years\",\"45-49 years\",\"45-49 years\",\"45-49 years\",\"45-49 years\",\"45-49 years\",\"45-49 years\",\"45-49 years\",\"45-49 years\",\"45-49 years\",\"45-49 years\",\"45-49 years\",\"45-49 years\",\"45-49 years\",\"45-49 years\",\"45-49 years\",\"45-49 years\",\"45-49 years\",\"45-49 years\",\"45-49 years\",\"45-49 years\",\"45-49 years\",\"45-49 years\",\"50-54 years\",\"50-54 years\",\"50-54 years\",\"50-54 years\",\"50-54 years\",\"50-54 years\",\"50-54 years\",\"50-54 years\",\"50-54 years\",\"50-54 years\",\"50-54 years\",\"50-54 years\",\"50-54 years\",\"50-54 years\",\"50-54 years\",\"50-54 years\",\"50-54 years\",\"50-54 years\",\"50-54 years\",\"50-54 years\",\"50-54 years\",\"50-54 years\",\"50-54 years\",\"50-54 years\",\"50-54 years\",\"50-54 years\",\"50-54 years\",\"50-54 years\",\"50-54 years\",\"50-54 years\",\"50-54 years\",\"50-54 years\",\"50-54 years\",\"50-54 years\",\"50-54 years\",\"50-54 years\",\"50-54 years\",\"50-54 years\",\"50-54 years\",\"50-54 years\",\"50-54 years\",\"50-54 years\",\"50-54 years\",\"50-54 years\",\"50-54 years\",\"50-54 years\",\"55-59 years\",\"55-59 years\",\"55-59 years\",\"55-59 years\",\"55-59 years\",\"55-59 years\",\"55-59 years\",\"55-59 years\",\"55-59 years\",\"55-59 years\",\"55-59 years\",\"55-59 years\",\"55-59 years\",\"55-59 years\",\"55-59 years\",\"55-59 years\",\"55-59 years\",\"55-59 years\",\"55-59 years\",\"55-59 years\",\"55-59 years\",\"55-59 years\",\"55-59 years\",\"55-59 years\",\"55-59 years\",\"55-59 years\",\"55-59 years\",\"55-59 years\",\"55-59 years\",\"55-59 years\",\"55-59 years\",\"55-59 years\",\"55-59 years\",\"55-59 years\",\"55-59 years\",\"55-59 years\",\"55-59 years\",\"55-59 years\",\"55-59 years\",\"55-59 years\",\"55-59 years\",\"55-59 years\",\"55-59 years\",\"55-59 years\",\"55-59 years\",\"55-59 years\",\"60-64 years\",\"60-64 years\",\"60-64 years\",\"60-64 years\",\"60-64 years\",\"60-64 years\",\"60-64 years\",\"60-64 years\",\"60-64 years\",\"60-64 years\",\"60-64 years\",\"60-64 years\",\"60-64 years\",\"60-64 years\",\"60-64 years\",\"60-64 years\",\"60-64 years\",\"60-64 years\",\"60-64 years\",\"60-64 years\",\"60-64 years\",\"60-64 years\",\"60-64 years\",\"60-64 years\",\"60-64 years\",\"60-64 years\",\"60-64 years\",\"60-64 years\",\"60-64 years\",\"60-64 years\",\"60-64 years\",\"60-64 years\",\"60-64 years\",\"60-64 years\",\"60-64 years\",\"60-64 years\",\"60-64 years\",\"60-64 years\",\"60-64 years\",\"60-64 years\",\"60-64 years\",\"60-64 years\",\"60-64 years\",\"60-64 years\",\"60-64 years\",\"60-64 years\",\"65-69 years\",\"65-69 years\",\"65-69 years\",\"65-69 years\",\"65-69 years\",\"65-69 years\",\"65-69 years\",\"65-69 years\",\"65-69 years\",\"65-69 years\",\"65-69 years\",\"65-69 years\",\"65-69 years\",\"65-69 years\",\"65-69 years\",\"65-69 years\",\"65-69 years\",\"65-69 years\",\"65-69 years\",\"65-69 years\",\"65-69 years\",\"65-69 years\",\"65-69 years\",\"65-69 years\",\"65-69 years\",\"65-69 years\",\"65-69 years\",\"65-69 years\",\"65-69 years\",\"65-69 years\",\"65-69 years\",\"65-69 years\",\"65-69 years\",\"65-69 years\",\"65-69 years\",\"65-69 years\",\"65-69 years\",\"65-69 years\",\"65-69 years\",\"65-69 years\",\"65-69 years\",\"65-69 years\",\"65-69 years\",\"65-69 years\",\"65-69 years\",\"65-69 years\",\"70-74 years\",\"70-74 years\",\"70-74 years\",\"70-74 years\",\"70-74 years\",\"70-74 years\",\"70-74 years\",\"70-74 years\",\"70-74 years\",\"70-74 years\",\"70-74 years\",\"70-74 years\",\"70-74 years\",\"70-74 years\",\"70-74 years\",\"70-74 years\",\"70-74 years\",\"70-74 years\",\"70-74 years\",\"70-74 years\",\"70-74 years\",\"70-74 years\",\"70-74 years\",\"70-74 years\",\"70-74 years\",\"70-74 years\",\"70-74 years\",\"70-74 years\",\"70-74 years\",\"70-74 years\",\"70-74 years\",\"70-74 years\",\"70-74 years\",\"70-74 years\",\"70-74 years\",\"70-74 years\",\"70-74 years\",\"70-74 years\",\"70-74 years\",\"70-74 years\",\"70-74 years\",\"70-74 years\",\"70-74 years\",\"70-74 years\",\"70-74 years\",\"70-74 years\",\"75-79 years\",\"75-79 years\",\"75-79 years\",\"75-79 years\",\"75-79 years\",\"75-79 years\",\"75-79 years\",\"75-79 years\",\"75-79 years\",\"75-79 years\",\"75-79 years\",\"75-79 years\",\"75-79 years\",\"75-79 years\",\"75-79 years\",\"75-79 years\",\"75-79 years\",\"75-79 years\",\"75-79 years\",\"75-79 years\",\"75-79 years\",\"75-79 years\",\"75-79 years\",\"75-79 years\",\"75-79 years\",\"75-79 years\",\"75-79 years\",\"75-79 years\",\"75-79 years\",\"75-79 years\",\"75-79 years\",\"75-79 years\",\"75-79 years\",\"75-79 years\",\"75-79 years\",\"75-79 years\",\"75-79 years\",\"75-79 years\",\"75-79 years\",\"75-79 years\",\"75-79 years\",\"75-79 years\",\"75-79 years\",\"75-79 years\",\"75-79 years\",\"75-79 years\",\"80-84 years\",\"80-84 years\",\"80-84 years\",\"80-84 years\",\"80-84 years\",\"80-84 years\",\"80-84 years\",\"80-84 years\",\"80-84 years\",\"80-84 years\",\"80-84 years\",\"80-84 years\",\"80-84 years\",\"80-84 years\",\"80-84 years\",\"80-84 years\",\"80-84 years\",\"80-84 years\",\"80-84 years\",\"80-84 years\",\"80-84 years\",\"80-84 years\",\"80-84 years\",\"80-84 years\",\"80-84 years\",\"80-84 years\",\"80-84 years\",\"80-84 years\",\"80-84 years\",\"80-84 years\",\"80-84 years\",\"80-84 years\",\"80-84 years\",\"80-84 years\",\"80-84 years\",\"80-84 years\",\"80-84 years\",\"80-84 years\",\"80-84 years\",\"80-84 years\",\"80-84 years\",\"80-84 years\",\"80-84 years\",\"80-84 years\",\"80-84 years\",\"80-84 years\",\"85+ years\",\"85+ years\",\"85+ years\",\"85+ years\",\"85+ years\",\"85+ years\",\"85+ years\",\"85+ years\",\"85+ years\",\"85+ years\",\"85+ years\",\"85+ years\",\"85+ years\",\"85+ years\",\"85+ years\",\"85+ years\",\"85+ years\",\"85+ years\",\"85+ years\",\"85+ years\",\"85+ years\",\"85+ years\",\"85+ years\",\"85+ years\",\"85+ years\",\"85+ years\",\"85+ years\",\"85+ years\",\"85+ years\",\"85+ years\",\"85+ years\",\"85+ years\",\"85+ years\",\"85+ years\",\"85+ years\",\"85+ years\",\"85+ years\",\"85+ years\",\"85+ years\",\"85+ years\",\"85+ years\",\"85+ years\",\"85+ years\",\"85+ years\",\"85+ years\",\"85+ years\",\"01-04 years\",\"01-04 years\",\"01-04 years\",\"01-04 years\",\"01-04 years\",\"01-04 years\",\"01-04 years\",\"01-04 years\",\"01-04 years\",\"01-04 years\",\"01-04 years\",\"01-04 years\",\"01-04 years\",\"01-04 years\",\"01-04 years\",\"01-04 years\",\"01-04 years\",\"01-04 years\",\"01-04 years\",\"01-04 years\",\"01-04 years\",\"01-04 years\",\"01-04 years\",\"01-04 years\",\"01-04 years\",\"01-04 years\",\"01-04 years\",\"01-04 years\",\"01-04 years\",\"01-04 years\",\"01-04 years\",\"01-04 years\",\"01-04 years\",\"01-04 years\",\"01-04 years\",\"01-04 years\",\"01-04 years\",\"01-04 years\",\"01-04 years\",\"01-04 years\",\"01-04 years\",\"01-04 years\",\"01-04 years\",\"01-04 years\",\"01-04 years\",\"01-04 years\",\"05-09 years\",\"05-09 years\",\"05-09 years\",\"05-09 years\",\"05-09 years\",\"05-09 years\",\"05-09 years\",\"05-09 years\",\"05-09 years\",\"05-09 years\",\"05-09 years\",\"05-09 years\",\"05-09 years\",\"05-09 years\",\"05-09 years\",\"05-09 years\",\"05-09 years\",\"05-09 years\",\"05-09 years\",\"05-09 years\",\"05-09 years\",\"05-09 years\",\"05-09 years\",\"05-09 years\",\"05-09 years\",\"05-09 years\",\"05-09 years\",\"05-09 years\",\"05-09 years\",\"05-09 years\",\"05-09 years\",\"05-09 years\",\"05-09 years\",\"05-09 years\",\"05-09 years\",\"05-09 years\",\"05-09 years\",\"05-09 years\",\"05-09 years\",\"05-09 years\",\"05-09 years\",\"05-09 years\",\"05-09 years\",\"05-09 years\",\"05-09 years\",\"05-09 years\",\"10-14 years\",\"10-14 years\",\"10-14 years\",\"10-14 years\",\"10-14 years\",\"10-14 years\",\"10-14 years\",\"10-14 years\",\"10-14 years\",\"10-14 years\",\"10-14 years\",\"10-14 years\",\"10-14 years\",\"10-14 years\",\"10-14 years\",\"10-14 years\",\"10-14 years\",\"10-14 years\",\"10-14 years\",\"10-14 years\",\"10-14 years\",\"10-14 years\",\"10-14 years\",\"10-14 years\",\"10-14 years\",\"10-14 years\",\"10-14 years\",\"10-14 years\",\"10-14 years\",\"10-14 years\",\"10-14 years\",\"10-14 years\",\"10-14 years\",\"10-14 years\",\"10-14 years\",\"10-14 years\",\"10-14 years\",\"10-14 years\",\"10-14 years\",\"10-14 years\",\"10-14 years\",\"10-14 years\",\"10-14 years\",\"10-14 years\",\"10-14 years\",\"10-14 years\",\"15-19 years\",\"15-19 years\",\"15-19 years\",\"15-19 years\",\"15-19 years\",\"15-19 years\",\"15-19 years\",\"15-19 years\",\"15-19 years\",\"15-19 years\",\"15-19 years\",\"15-19 years\",\"15-19 years\",\"15-19 years\",\"15-19 years\",\"15-19 years\",\"15-19 years\",\"15-19 years\",\"15-19 years\",\"15-19 years\",\"15-19 years\",\"15-19 years\",\"15-19 years\",\"15-19 years\",\"15-19 years\",\"15-19 years\",\"15-19 years\",\"15-19 years\",\"15-19 years\",\"15-19 years\",\"15-19 years\",\"15-19 years\",\"15-19 years\",\"15-19 years\",\"15-19 years\",\"15-19 years\",\"15-19 years\",\"15-19 years\",\"15-19 years\",\"15-19 years\",\"15-19 years\",\"15-19 years\",\"15-19 years\",\"15-19 years\",\"15-19 years\",\"15-19 years\",\"20-24 years\",\"20-24 years\",\"20-24 years\",\"20-24 years\",\"20-24 years\",\"20-24 years\",\"20-24 years\",\"20-24 years\",\"20-24 years\",\"20-24 years\",\"20-24 years\",\"20-24 years\",\"20-24 years\",\"20-24 years\",\"20-24 years\",\"20-24 years\",\"20-24 years\",\"20-24 years\",\"20-24 years\",\"20-24 years\",\"20-24 years\",\"20-24 years\",\"20-24 years\",\"20-24 years\",\"20-24 years\",\"20-24 years\",\"20-24 years\",\"20-24 years\",\"20-24 years\",\"20-24 years\",\"20-24 years\",\"20-24 years\",\"20-24 years\",\"20-24 years\",\"20-24 years\",\"20-24 years\",\"20-24 years\",\"20-24 years\",\"20-24 years\",\"20-24 years\",\"20-24 years\",\"20-24 years\",\"20-24 years\",\"20-24 years\",\"20-24 years\",\"20-24 years\",\"25-29 years\",\"25-29 years\",\"25-29 years\",\"25-29 years\",\"25-29 years\",\"25-29 years\",\"25-29 years\",\"25-29 years\",\"25-29 years\",\"25-29 years\",\"25-29 years\",\"25-29 years\",\"25-29 years\",\"25-29 years\",\"25-29 years\",\"25-29 years\",\"25-29 years\",\"25-29 years\",\"25-29 years\",\"25-29 years\",\"25-29 years\",\"25-29 years\",\"25-29 years\",\"25-29 years\",\"25-29 years\",\"25-29 years\",\"25-29 years\",\"25-29 years\",\"25-29 years\",\"25-29 years\",\"25-29 years\",\"25-29 years\",\"25-29 years\",\"25-29 years\",\"25-29 years\",\"25-29 years\",\"25-29 years\",\"25-29 years\",\"25-29 years\",\"25-29 years\",\"25-29 years\",\"25-29 years\",\"25-29 years\",\"25-29 years\",\"25-29 years\",\"25-29 years\",\"30-34 years\",\"30-34 years\",\"30-34 years\",\"30-34 years\",\"30-34 years\",\"30-34 years\",\"30-34 years\",\"30-34 years\",\"30-34 years\",\"30-34 years\",\"30-34 years\",\"30-34 years\",\"30-34 years\",\"30-34 years\",\"30-34 years\",\"30-34 years\",\"30-34 years\",\"30-34 years\",\"30-34 years\",\"30-34 years\",\"30-34 years\",\"30-34 years\",\"30-34 years\",\"30-34 years\",\"30-34 years\",\"30-34 years\",\"30-34 years\",\"30-34 years\",\"30-34 years\",\"30-34 years\",\"30-34 years\",\"30-34 years\",\"30-34 years\",\"30-34 years\",\"30-34 years\",\"30-34 years\",\"30-34 years\",\"30-34 years\",\"30-34 years\",\"30-34 years\",\"30-34 years\",\"30-34 years\",\"30-34 years\",\"30-34 years\",\"30-34 years\",\"30-34 years\",\"35-39 years\",\"35-39 years\",\"35-39 years\",\"35-39 years\",\"35-39 years\",\"35-39 years\",\"35-39 years\",\"35-39 years\",\"35-39 years\",\"35-39 years\",\"35-39 years\",\"35-39 years\",\"35-39 years\",\"35-39 years\",\"35-39 years\",\"35-39 years\",\"35-39 years\",\"35-39 years\",\"35-39 years\",\"35-39 years\",\"35-39 years\",\"35-39 years\",\"35-39 years\",\"35-39 years\",\"35-39 years\",\"35-39 years\",\"35-39 years\",\"35-39 years\",\"35-39 years\",\"35-39 years\",\"35-39 years\",\"35-39 years\",\"35-39 years\",\"35-39 years\",\"35-39 years\",\"35-39 years\",\"35-39 years\",\"35-39 years\",\"35-39 years\",\"35-39 years\",\"35-39 years\",\"35-39 years\",\"35-39 years\",\"35-39 years\",\"35-39 years\",\"35-39 years\",\"40-44 years\",\"40-44 years\",\"40-44 years\",\"40-44 years\",\"40-44 years\",\"40-44 years\",\"40-44 years\",\"40-44 years\",\"40-44 years\",\"40-44 years\",\"40-44 years\",\"40-44 years\",\"40-44 years\",\"40-44 years\",\"40-44 years\",\"40-44 years\",\"40-44 years\",\"40-44 years\",\"40-44 years\",\"40-44 years\",\"40-44 years\",\"40-44 years\",\"40-44 years\",\"40-44 years\",\"40-44 years\",\"40-44 years\",\"40-44 years\",\"40-44 years\",\"40-44 years\",\"40-44 years\",\"40-44 years\",\"40-44 years\",\"40-44 years\",\"40-44 years\",\"40-44 years\",\"40-44 years\",\"40-44 years\",\"40-44 years\",\"40-44 years\",\"40-44 years\",\"40-44 years\",\"40-44 years\",\"40-44 years\",\"40-44 years\",\"40-44 years\",\"40-44 years\",\"45-49 years\",\"45-49 years\",\"45-49 years\",\"45-49 years\",\"45-49 years\",\"45-49 years\",\"45-49 years\",\"45-49 years\",\"45-49 years\",\"45-49 years\",\"45-49 years\",\"45-49 years\",\"45-49 years\",\"45-49 years\",\"45-49 years\",\"45-49 years\",\"45-49 years\",\"45-49 years\",\"45-49 years\",\"45-49 years\",\"45-49 years\",\"45-49 years\",\"45-49 years\",\"45-49 years\",\"45-49 years\",\"45-49 years\",\"45-49 years\",\"45-49 years\",\"45-49 years\",\"45-49 years\",\"45-49 years\",\"45-49 years\",\"45-49 years\",\"45-49 years\",\"45-49 years\",\"45-49 years\",\"45-49 years\",\"45-49 years\",\"45-49 years\",\"45-49 years\",\"45-49 years\",\"45-49 years\",\"45-49 years\",\"45-49 years\",\"45-49 years\",\"45-49 years\",\"50-54 years\",\"50-54 years\",\"50-54 years\",\"50-54 years\",\"50-54 years\",\"50-54 years\",\"50-54 years\",\"50-54 years\",\"50-54 years\",\"50-54 years\",\"50-54 years\",\"50-54 years\",\"50-54 years\",\"50-54 years\",\"50-54 years\",\"50-54 years\",\"50-54 years\",\"50-54 years\",\"50-54 years\",\"50-54 years\",\"50-54 years\",\"50-54 years\",\"50-54 years\",\"50-54 years\",\"50-54 years\",\"50-54 years\",\"50-54 years\",\"50-54 years\",\"50-54 years\",\"50-54 years\",\"50-54 years\",\"50-54 years\",\"50-54 years\",\"50-54 years\",\"50-54 years\",\"50-54 years\",\"50-54 years\",\"50-54 years\",\"50-54 years\",\"50-54 years\",\"50-54 years\",\"50-54 years\",\"50-54 years\",\"50-54 years\",\"50-54 years\",\"50-54 years\",\"55-59 years\",\"55-59 years\",\"55-59 years\",\"55-59 years\",\"55-59 years\",\"55-59 years\",\"55-59 years\",\"55-59 years\",\"55-59 years\",\"55-59 years\",\"55-59 years\",\"55-59 years\",\"55-59 years\",\"55-59 years\",\"55-59 years\",\"55-59 years\",\"55-59 years\",\"55-59 years\",\"55-59 years\",\"55-59 years\",\"55-59 years\",\"55-59 years\",\"55-59 years\",\"55-59 years\",\"55-59 years\",\"55-59 years\",\"55-59 years\",\"55-59 years\",\"55-59 years\",\"55-59 years\",\"55-59 years\",\"55-59 years\",\"55-59 years\",\"55-59 years\",\"55-59 years\",\"55-59 years\",\"55-59 years\",\"55-59 years\",\"55-59 years\",\"55-59 years\",\"55-59 years\",\"55-59 years\",\"55-59 years\",\"55-59 years\",\"55-59 years\",\"55-59 years\",\"60-64 years\",\"60-64 years\",\"60-64 years\",\"60-64 years\",\"60-64 years\",\"60-64 years\",\"60-64 years\",\"60-64 years\",\"60-64 years\",\"60-64 years\",\"60-64 years\",\"60-64 years\",\"60-64 years\",\"60-64 years\",\"60-64 years\",\"60-64 years\",\"60-64 years\",\"60-64 years\",\"60-64 years\",\"60-64 years\",\"60-64 years\",\"60-64 years\",\"60-64 years\",\"60-64 years\",\"60-64 years\",\"60-64 years\",\"60-64 years\",\"60-64 years\",\"60-64 years\",\"60-64 years\",\"60-64 years\",\"60-64 years\",\"60-64 years\",\"60-64 years\",\"60-64 years\",\"60-64 years\",\"60-64 years\",\"60-64 years\",\"60-64 years\",\"60-64 years\",\"60-64 years\",\"60-64 years\",\"60-64 years\",\"60-64 years\",\"60-64 years\",\"60-64 years\",\"65-69 years\",\"65-69 years\",\"65-69 years\",\"65-69 years\",\"65-69 years\",\"65-69 years\",\"65-69 years\",\"65-69 years\",\"65-69 years\",\"65-69 years\",\"65-69 years\",\"65-69 years\",\"65-69 years\",\"65-69 years\",\"65-69 years\",\"65-69 years\",\"65-69 years\",\"65-69 years\",\"65-69 years\",\"65-69 years\",\"65-69 years\",\"65-69 years\",\"65-69 years\",\"65-69 years\",\"65-69 years\",\"65-69 years\",\"65-69 years\",\"65-69 years\",\"65-69 years\",\"65-69 years\",\"65-69 years\",\"65-69 years\",\"65-69 years\",\"65-69 years\",\"65-69 years\",\"65-69 years\",\"65-69 years\",\"65-69 years\",\"65-69 years\",\"65-69 years\",\"65-69 years\",\"65-69 years\",\"65-69 years\",\"65-69 years\",\"65-69 years\",\"65-69 years\",\"70-74 years\",\"70-74 years\",\"70-74 years\",\"70-74 years\",\"70-74 years\",\"70-74 years\",\"70-74 years\",\"70-74 years\",\"70-74 years\",\"70-74 years\",\"70-74 years\",\"70-74 years\",\"70-74 years\",\"70-74 years\",\"70-74 years\",\"70-74 years\",\"70-74 years\",\"70-74 years\",\"70-74 years\",\"70-74 years\",\"70-74 years\",\"70-74 years\",\"70-74 years\",\"70-74 years\",\"70-74 years\",\"70-74 years\",\"70-74 years\",\"70-74 years\",\"70-74 years\",\"70-74 years\",\"70-74 years\",\"70-74 years\",\"70-74 years\",\"70-74 years\",\"70-74 years\",\"70-74 years\",\"70-74 years\",\"70-74 years\",\"70-74 years\",\"70-74 years\",\"70-74 years\",\"70-74 years\",\"70-74 years\",\"70-74 years\",\"70-74 years\",\"70-74 years\",\"75-79 years\",\"75-79 years\",\"75-79 years\",\"75-79 years\",\"75-79 years\",\"75-79 years\",\"75-79 years\",\"75-79 years\",\"75-79 years\",\"75-79 years\",\"75-79 years\",\"75-79 years\",\"75-79 years\",\"75-79 years\",\"75-79 years\",\"75-79 years\",\"75-79 years\",\"75-79 years\",\"75-79 years\",\"75-79 years\",\"75-79 years\",\"75-79 years\",\"75-79 years\",\"75-79 years\",\"75-79 years\",\"75-79 years\",\"75-79 years\",\"75-79 years\",\"75-79 years\",\"75-79 years\",\"75-79 years\",\"75-79 years\",\"75-79 years\",\"75-79 years\",\"75-79 years\",\"75-79 years\",\"75-79 years\",\"75-79 years\",\"75-79 years\",\"75-79 years\",\"75-79 years\",\"75-79 years\",\"75-79 years\",\"75-79 years\",\"75-79 years\",\"75-79 years\",\"80-84 years\",\"80-84 years\",\"80-84 years\",\"80-84 years\",\"80-84 years\",\"80-84 years\",\"80-84 years\",\"80-84 years\",\"80-84 years\",\"80-84 years\",\"80-84 years\",\"80-84 years\",\"80-84 years\",\"80-84 years\",\"80-84 years\",\"80-84 years\",\"80-84 years\",\"80-84 years\",\"80-84 years\",\"80-84 years\",\"80-84 years\",\"80-84 years\",\"80-84 years\",\"80-84 years\",\"80-84 years\",\"80-84 years\",\"80-84 years\",\"80-84 years\",\"80-84 years\",\"80-84 years\",\"80-84 years\",\"80-84 years\",\"80-84 years\",\"80-84 years\",\"80-84 years\",\"80-84 years\",\"80-84 years\",\"80-84 years\",\"80-84 years\",\"80-84 years\",\"80-84 years\",\"80-84 years\",\"80-84 years\",\"80-84 years\",\"80-84 years\",\"80-84 years\",\"85+ years\",\"85+ years\",\"85+ years\",\"85+ years\",\"85+ years\",\"85+ years\",\"85+ years\",\"85+ years\",\"85+ years\",\"85+ years\",\"85+ years\",\"85+ years\",\"85+ years\",\"85+ years\",\"85+ years\",\"85+ years\",\"85+ years\",\"85+ years\",\"85+ years\",\"85+ years\",\"85+ years\",\"85+ years\",\"85+ years\",\"85+ years\",\"85+ years\",\"85+ years\",\"85+ years\",\"85+ years\",\"85+ years\",\"85+ years\",\"85+ years\",\"85+ years\",\"85+ years\",\"85+ years\",\"85+ years\",\"85+ years\",\"85+ years\",\"85+ years\",\"85+ years\",\"85+ years\",\"85+ years\",\"85+ years\",\"85+ years\",\"85+ years\",\"85+ years\",\"85+ years\"],\"xaxis\":\"x\",\"y\":[0,0,1,0,0,0,0,1,0,0,0,0,0,0,0,0,0,0,1,0,0,0,0,0,0,0,0,0,0,0,0,0,0,1,0,0,0,0,1,0,0,0,0,0,0,0,1,1,1,0,1,0,3,0,3,1,1,2,1,0,0,2,3,1,0,1,3,1,1,1,1,3,1,4,0,0,2,2,2,1,3,2,2,2,3,1,1,4,1,2,3,0,2,6,4,4,4,5,3,7,4,3,5,4,2,5,4,5,0,3,6,7,5,6,10,11,5,4,3,4,2,4,5,4,5,9,6,5,4,10,4,8,4,4,9,3,5,4,3,0,5,3,7,9,9,2,8,3,9,4,4,6,9,5,4,7,5,7,9,8,11,9,5,4,8,11,7,2,4,5,7,8,9,3,6,5,5,7,11,4,12,10,8,6,1,1,0,2,1,0,3,2,4,0,2,1,4,1,2,1,4,6,1,2,2,2,3,3,1,1,4,1,4,3,4,2,1,5,2,4,0,3,3,4,3,3,2,2,1,2,1,1,0,0,2,0,0,0,2,1,0,2,0,3,4,1,0,2,0,1,2,1,3,0,0,1,3,0,0,0,2,0,0,0,2,2,0,1,2,1,4,2,0,0,1,2,0,0,1,1,1,0,1,0,0,1,3,1,1,1,1,2,0,0,1,2,0,1,0,2,0,1,3,0,1,0,3,1,0,2,0,0,2,2,0,2,1,1,2,1,0,2,0,1,0,0,0,0,0,0,0,0,0,0,0,1,0,1,0,1,1,0,0,1,0,0,1,0,0,0,1,0,1,0,2,0,1,0,1,0,0,0,3,0,1,0,0,0,0,0,0,0,0,0,1,0,1,0,0,0,1,1,0,1,2,2,0,0,0,4,0,0,1,1,0,1,0,1,2,1,3,1,1,1,0,0,2,4,0,0,0,0,1,0,0,0,0,0,0,0,0,0,0,0,0,0,0,0,0,1,0,0,0,1,1,1,1,0,0,0,0,1,0,1,2,2,1,1,0,1,1,1,0,0,2,0,0,0,1,2,0,2,0,1,1,1,0,0,0,0,0,0,0,0,0,0,0,0,0,0,0,0,0,2,3,1,0,0,0,1,0,0,0,0,1,1,0,0,0,0,1,1,0,0,1,1,3,0,0,0,0,1,0,2,0,1,0,1,0,0,0,0,1,0,0,1,1,0,1,1,1,2,1,0,1,1,2,0,0,1,0,0,0,0,0,1,1,0,1,1,0,0,1,0,0,0,2,0,1,1,0,2,1,0,1,0,0,0,0,0,1,0,0,0,0,3,0,1,0,0,0,0,1,0,1,1,0,1,0,0,0,2,0,0,1,0,0,0,1,0,0,1,0,1,1,0,0,0,1,0,1,0,0,1,0,0,0,0,1,0,1,0,0,1,0,0,1,0,1,1,0,0,0,1,0,0,1,0,0,0,2,0,1,0,0,0,1,0,0,0,0,2,0,2,1,0,0,0,0,0,0,0,1,0,1,0,0,0,1,0,0,0,0,0,0,0,1,0,0,2,1,1,2,0,0,0,0,0,0,1,0,0,0,0,1,1,0,1,1,0,0,1,0,0,0,0,0,0,0,0,0,1,1,1,0,0,0,0,1,1,1,0,0,0,0,0,0,0,0,0,0,0,0,0,0,0,0,0,0,0,0,0,0,0,0,0,0,1,0,0,0,0,0,0,0,0,1,0,1,1,0,0,0,0,0,0,0,0,1,0,0,0,0,0,0,0,1,0,0,0,0,1,0,0,0,0,0,0,2,0,0,0,0,0,0,0,0,0,2,1,0,0,0,0,0,0,0,0,0,0,0,0,0,0,1,0,0,0,1,0,0,0,0,0,3,0,2,0,0,0,0,0,0,0,0,0,1,0,0,0,0,0,0,1,1,0,0,0,0,1,0,0,0,1,1,0,0,0,0,0,1,0,0,0,1,0,0,0,0,0,0,0,0,0,0,0,1,2,2,1,0,0,3,0,0,1,2,0,4,1,3,2,1,2,1,2,1,2,1,0,2,3,1,2,2,2,1,2,3,0,3,3,2,3,4,3,3,2,3,1,3,3,3,8,5,3,3,5,2,5,3,3,5,5,4,1,7,4,4,4,6,2,5,5,6,4,6,6,4,8,6,1,5,2,5,6,2,11,5,9,5,5,3,6,10,7,6,2,3,8,4,3,6,2,4,4,4,4,4,4,1,3,3,3,5,2,1,2,6,1,0,2,1,6,6,2,6,3,2,4,3,6,3,2,4,6,2,5,2,1,8,4,1,3,1,1,2,2,1,1,2,1,1,0,1,1,1,1,2,2,1,2,1,1,3,2,1,2,1,1,0,1,2,5,0,2,4,1,2,1,2,0,3,2,1,0,1,2,0,1,1,2,1,2,0,1,1,0,0,0,0,1,0,1,1,1,4,0,0,1,4,1,1,0,0,1,1,0,2,1,3,1,0,0,0,0,1,0,2,0,1,1,1,1,1,0,0,1,0,0,0,1,0,0,0,1,2,1,1,0,2,0,1,0,0,1,2,1,0,0,0,1,2,1,2,2,1,0,0,0,0,0,1,0,0,1,2,0,2,1,0,0,0,0,0,0,0,0,2,1,0,1,0,0,1,1,0,1,1,1,2,1,1,1,1,0,0,0,1,0,0,0,0,2,1,1,2,1,0,1,1,1,1,0,0,1,1,0,0,0,0,1,0,0,0,0,0,0,0,0,2,0,1,0,1,0,0,2,0,1,0,0,1,1,0,2,0,0,1,0,0,0,1,1,0,1,1,0,2,1,1,0,1,0,1,1,1,0,1,0,0,0,0,0,1,1,0,0,0,0,1,1,0,0,0,0,0,0,0,0,1,0,3,1,2,1,0,0,0,0,1,2,1,0,1,0,0,0,0,0,0,1,0,0,0,0,0,0,0,0,0,0,0,1,0,0,0,2,0,0,0,0,0,0,0,1,0,0,0,0,0,0,0,1,2,0,0,1,2,2,0,2,1,0,0,0,0,0,2,0,0,0,0,0,0,0,0,0,0,0,0,0,1,0,0,0,1,0,0,0,0,0,0,0,0,0,0,0,0,1,0,1,0,0,0,1,0,1,2,1,1,0,1,1,1,0,1,0,0,0,1,1,0,0,2,2,0,1,0,1,1,0,0,0,0,1,0,2,0,0,1,0,0,0,2,0,0,1,0,0,0,0,0,1,1,0,0,0,0,0,1,0,0,0,1,1,1,1,0,2,0,1,0,0,0,0,0,0,1,0,0,0,0,0,0,0,0,0,0,0,0,1,0,0,0,0,0,0,2,2,0,0,0,0,1,0,0,1,1,0,0,0,0,0,0,1,0,1,0,0,0,1,0,0,1,0,0,0,1,0,0,0,0,0,0,0,0,1,0,0,0,1,1,2,0,1,1,1,0,0,0,1,2,0,0,0,0,0,0,0,0,0,0,1,0,2,0,0,2,0,0,0,0,0,0,1,0,0,0,1,0,0,0,0,0,0,0,0,1,0,0,1,0,0,0,0,0,1,2,0,0,0,0,0,0,0,0,1,0,0,0,0,0,0,0,0,0,0,0,0,0,0,0,0,0,0,1,0,0,0,0,0,0,1,0,0,0,0,0,0,1,0,1,0,1,1,0,0,0,0,0,0,0,0,0,0,0,0,0,1,0,0,0,0,0,0,0,0,0,0,0,0,0,1,0,0,0,1,1,0,1,1,1,1,1,0],\"yaxis\":\"y\",\"type\":\"histogram\"}],                        {\"template\":{\"data\":{\"histogram2dcontour\":[{\"type\":\"histogram2dcontour\",\"colorbar\":{\"outlinewidth\":0,\"ticks\":\"\"},\"colorscale\":[[0.0,\"#0d0887\"],[0.1111111111111111,\"#46039f\"],[0.2222222222222222,\"#7201a8\"],[0.3333333333333333,\"#9c179e\"],[0.4444444444444444,\"#bd3786\"],[0.5555555555555556,\"#d8576b\"],[0.6666666666666666,\"#ed7953\"],[0.7777777777777778,\"#fb9f3a\"],[0.8888888888888888,\"#fdca26\"],[1.0,\"#f0f921\"]]}],\"choropleth\":[{\"type\":\"choropleth\",\"colorbar\":{\"outlinewidth\":0,\"ticks\":\"\"}}],\"histogram2d\":[{\"type\":\"histogram2d\",\"colorbar\":{\"outlinewidth\":0,\"ticks\":\"\"},\"colorscale\":[[0.0,\"#0d0887\"],[0.1111111111111111,\"#46039f\"],[0.2222222222222222,\"#7201a8\"],[0.3333333333333333,\"#9c179e\"],[0.4444444444444444,\"#bd3786\"],[0.5555555555555556,\"#d8576b\"],[0.6666666666666666,\"#ed7953\"],[0.7777777777777778,\"#fb9f3a\"],[0.8888888888888888,\"#fdca26\"],[1.0,\"#f0f921\"]]}],\"heatmap\":[{\"type\":\"heatmap\",\"colorbar\":{\"outlinewidth\":0,\"ticks\":\"\"},\"colorscale\":[[0.0,\"#0d0887\"],[0.1111111111111111,\"#46039f\"],[0.2222222222222222,\"#7201a8\"],[0.3333333333333333,\"#9c179e\"],[0.4444444444444444,\"#bd3786\"],[0.5555555555555556,\"#d8576b\"],[0.6666666666666666,\"#ed7953\"],[0.7777777777777778,\"#fb9f3a\"],[0.8888888888888888,\"#fdca26\"],[1.0,\"#f0f921\"]]}],\"heatmapgl\":[{\"type\":\"heatmapgl\",\"colorbar\":{\"outlinewidth\":0,\"ticks\":\"\"},\"colorscale\":[[0.0,\"#0d0887\"],[0.1111111111111111,\"#46039f\"],[0.2222222222222222,\"#7201a8\"],[0.3333333333333333,\"#9c179e\"],[0.4444444444444444,\"#bd3786\"],[0.5555555555555556,\"#d8576b\"],[0.6666666666666666,\"#ed7953\"],[0.7777777777777778,\"#fb9f3a\"],[0.8888888888888888,\"#fdca26\"],[1.0,\"#f0f921\"]]}],\"contourcarpet\":[{\"type\":\"contourcarpet\",\"colorbar\":{\"outlinewidth\":0,\"ticks\":\"\"}}],\"contour\":[{\"type\":\"contour\",\"colorbar\":{\"outlinewidth\":0,\"ticks\":\"\"},\"colorscale\":[[0.0,\"#0d0887\"],[0.1111111111111111,\"#46039f\"],[0.2222222222222222,\"#7201a8\"],[0.3333333333333333,\"#9c179e\"],[0.4444444444444444,\"#bd3786\"],[0.5555555555555556,\"#d8576b\"],[0.6666666666666666,\"#ed7953\"],[0.7777777777777778,\"#fb9f3a\"],[0.8888888888888888,\"#fdca26\"],[1.0,\"#f0f921\"]]}],\"surface\":[{\"type\":\"surface\",\"colorbar\":{\"outlinewidth\":0,\"ticks\":\"\"},\"colorscale\":[[0.0,\"#0d0887\"],[0.1111111111111111,\"#46039f\"],[0.2222222222222222,\"#7201a8\"],[0.3333333333333333,\"#9c179e\"],[0.4444444444444444,\"#bd3786\"],[0.5555555555555556,\"#d8576b\"],[0.6666666666666666,\"#ed7953\"],[0.7777777777777778,\"#fb9f3a\"],[0.8888888888888888,\"#fdca26\"],[1.0,\"#f0f921\"]]}],\"mesh3d\":[{\"type\":\"mesh3d\",\"colorbar\":{\"outlinewidth\":0,\"ticks\":\"\"}}],\"scatter\":[{\"fillpattern\":{\"fillmode\":\"overlay\",\"size\":10,\"solidity\":0.2},\"type\":\"scatter\"}],\"parcoords\":[{\"type\":\"parcoords\",\"line\":{\"colorbar\":{\"outlinewidth\":0,\"ticks\":\"\"}}}],\"scatterpolargl\":[{\"type\":\"scatterpolargl\",\"marker\":{\"colorbar\":{\"outlinewidth\":0,\"ticks\":\"\"}}}],\"bar\":[{\"error_x\":{\"color\":\"#2a3f5f\"},\"error_y\":{\"color\":\"#2a3f5f\"},\"marker\":{\"line\":{\"color\":\"#E5ECF6\",\"width\":0.5},\"pattern\":{\"fillmode\":\"overlay\",\"size\":10,\"solidity\":0.2}},\"type\":\"bar\"}],\"scattergeo\":[{\"type\":\"scattergeo\",\"marker\":{\"colorbar\":{\"outlinewidth\":0,\"ticks\":\"\"}}}],\"scatterpolar\":[{\"type\":\"scatterpolar\",\"marker\":{\"colorbar\":{\"outlinewidth\":0,\"ticks\":\"\"}}}],\"histogram\":[{\"marker\":{\"pattern\":{\"fillmode\":\"overlay\",\"size\":10,\"solidity\":0.2}},\"type\":\"histogram\"}],\"scattergl\":[{\"type\":\"scattergl\",\"marker\":{\"colorbar\":{\"outlinewidth\":0,\"ticks\":\"\"}}}],\"scatter3d\":[{\"type\":\"scatter3d\",\"line\":{\"colorbar\":{\"outlinewidth\":0,\"ticks\":\"\"}},\"marker\":{\"colorbar\":{\"outlinewidth\":0,\"ticks\":\"\"}}}],\"scattermapbox\":[{\"type\":\"scattermapbox\",\"marker\":{\"colorbar\":{\"outlinewidth\":0,\"ticks\":\"\"}}}],\"scatterternary\":[{\"type\":\"scatterternary\",\"marker\":{\"colorbar\":{\"outlinewidth\":0,\"ticks\":\"\"}}}],\"scattercarpet\":[{\"type\":\"scattercarpet\",\"marker\":{\"colorbar\":{\"outlinewidth\":0,\"ticks\":\"\"}}}],\"carpet\":[{\"aaxis\":{\"endlinecolor\":\"#2a3f5f\",\"gridcolor\":\"white\",\"linecolor\":\"white\",\"minorgridcolor\":\"white\",\"startlinecolor\":\"#2a3f5f\"},\"baxis\":{\"endlinecolor\":\"#2a3f5f\",\"gridcolor\":\"white\",\"linecolor\":\"white\",\"minorgridcolor\":\"white\",\"startlinecolor\":\"#2a3f5f\"},\"type\":\"carpet\"}],\"table\":[{\"cells\":{\"fill\":{\"color\":\"#EBF0F8\"},\"line\":{\"color\":\"white\"}},\"header\":{\"fill\":{\"color\":\"#C8D4E3\"},\"line\":{\"color\":\"white\"}},\"type\":\"table\"}],\"barpolar\":[{\"marker\":{\"line\":{\"color\":\"#E5ECF6\",\"width\":0.5},\"pattern\":{\"fillmode\":\"overlay\",\"size\":10,\"solidity\":0.2}},\"type\":\"barpolar\"}],\"pie\":[{\"automargin\":true,\"type\":\"pie\"}]},\"layout\":{\"autotypenumbers\":\"strict\",\"colorway\":[\"#636efa\",\"#EF553B\",\"#00cc96\",\"#ab63fa\",\"#FFA15A\",\"#19d3f3\",\"#FF6692\",\"#B6E880\",\"#FF97FF\",\"#FECB52\"],\"font\":{\"color\":\"#2a3f5f\"},\"hovermode\":\"closest\",\"hoverlabel\":{\"align\":\"left\"},\"paper_bgcolor\":\"white\",\"plot_bgcolor\":\"#E5ECF6\",\"polar\":{\"bgcolor\":\"#E5ECF6\",\"angularaxis\":{\"gridcolor\":\"white\",\"linecolor\":\"white\",\"ticks\":\"\"},\"radialaxis\":{\"gridcolor\":\"white\",\"linecolor\":\"white\",\"ticks\":\"\"}},\"ternary\":{\"bgcolor\":\"#E5ECF6\",\"aaxis\":{\"gridcolor\":\"white\",\"linecolor\":\"white\",\"ticks\":\"\"},\"baxis\":{\"gridcolor\":\"white\",\"linecolor\":\"white\",\"ticks\":\"\"},\"caxis\":{\"gridcolor\":\"white\",\"linecolor\":\"white\",\"ticks\":\"\"}},\"coloraxis\":{\"colorbar\":{\"outlinewidth\":0,\"ticks\":\"\"}},\"colorscale\":{\"sequential\":[[0.0,\"#0d0887\"],[0.1111111111111111,\"#46039f\"],[0.2222222222222222,\"#7201a8\"],[0.3333333333333333,\"#9c179e\"],[0.4444444444444444,\"#bd3786\"],[0.5555555555555556,\"#d8576b\"],[0.6666666666666666,\"#ed7953\"],[0.7777777777777778,\"#fb9f3a\"],[0.8888888888888888,\"#fdca26\"],[1.0,\"#f0f921\"]],\"sequentialminus\":[[0.0,\"#0d0887\"],[0.1111111111111111,\"#46039f\"],[0.2222222222222222,\"#7201a8\"],[0.3333333333333333,\"#9c179e\"],[0.4444444444444444,\"#bd3786\"],[0.5555555555555556,\"#d8576b\"],[0.6666666666666666,\"#ed7953\"],[0.7777777777777778,\"#fb9f3a\"],[0.8888888888888888,\"#fdca26\"],[1.0,\"#f0f921\"]],\"diverging\":[[0,\"#8e0152\"],[0.1,\"#c51b7d\"],[0.2,\"#de77ae\"],[0.3,\"#f1b6da\"],[0.4,\"#fde0ef\"],[0.5,\"#f7f7f7\"],[0.6,\"#e6f5d0\"],[0.7,\"#b8e186\"],[0.8,\"#7fbc41\"],[0.9,\"#4d9221\"],[1,\"#276419\"]]},\"xaxis\":{\"gridcolor\":\"white\",\"linecolor\":\"white\",\"ticks\":\"\",\"title\":{\"standoff\":15},\"zerolinecolor\":\"white\",\"automargin\":true,\"zerolinewidth\":2},\"yaxis\":{\"gridcolor\":\"white\",\"linecolor\":\"white\",\"ticks\":\"\",\"title\":{\"standoff\":15},\"zerolinecolor\":\"white\",\"automargin\":true,\"zerolinewidth\":2},\"scene\":{\"xaxis\":{\"backgroundcolor\":\"#E5ECF6\",\"gridcolor\":\"white\",\"linecolor\":\"white\",\"showbackground\":true,\"ticks\":\"\",\"zerolinecolor\":\"white\",\"gridwidth\":2},\"yaxis\":{\"backgroundcolor\":\"#E5ECF6\",\"gridcolor\":\"white\",\"linecolor\":\"white\",\"showbackground\":true,\"ticks\":\"\",\"zerolinecolor\":\"white\",\"gridwidth\":2},\"zaxis\":{\"backgroundcolor\":\"#E5ECF6\",\"gridcolor\":\"white\",\"linecolor\":\"white\",\"showbackground\":true,\"ticks\":\"\",\"zerolinecolor\":\"white\",\"gridwidth\":2}},\"shapedefaults\":{\"line\":{\"color\":\"#2a3f5f\"}},\"annotationdefaults\":{\"arrowcolor\":\"#2a3f5f\",\"arrowhead\":0,\"arrowwidth\":1},\"geo\":{\"bgcolor\":\"white\",\"landcolor\":\"#E5ECF6\",\"subunitcolor\":\"white\",\"showland\":true,\"showlakes\":true,\"lakecolor\":\"white\"},\"title\":{\"x\":0.05},\"mapbox\":{\"style\":\"light\"}}},\"xaxis\":{\"anchor\":\"y\",\"domain\":[0.0,1.0],\"title\":{\"text\":\"Age of diagnosis\"}},\"yaxis\":{\"anchor\":\"x\",\"domain\":[0.0,1.0],\"title\":{\"text\":\"Number of Tumors\"}},\"legend\":{\"tracegroupgap\":0},\"margin\":{\"t\":60},\"barmode\":\"relative\",\"height\":600,\"width\":600,\"font\":{\"family\":\"arial, monospace\",\"size\":12}},                        {\"responsive\": true}                    ).then(function(){\n",
              "                            \n",
              "var gd = document.getElementById('8f0c3ff4-89ff-44c5-a97b-c4d90df43f8d');\n",
              "var x = new MutationObserver(function (mutations, observer) {{\n",
              "        var display = window.getComputedStyle(gd).display;\n",
              "        if (!display || display === 'none') {{\n",
              "            console.log([gd, 'removed!']);\n",
              "            Plotly.purge(gd);\n",
              "            observer.disconnect();\n",
              "        }}\n",
              "}});\n",
              "\n",
              "// Listen for the removal of the full notebook cells\n",
              "var notebookContainer = gd.closest('#notebook-container');\n",
              "if (notebookContainer) {{\n",
              "    x.observe(notebookContainer, {childList: true});\n",
              "}}\n",
              "\n",
              "// Listen for the clearing of the current output cell\n",
              "var outputEl = gd.closest('.output');\n",
              "if (outputEl) {{\n",
              "    x.observe(outputEl, {childList: true});\n",
              "}}\n",
              "\n",
              "                        })                };                            </script>        </div>\n",
              "</body>\n",
              "</html>"
            ]
          },
          "metadata": {}
        }
      ]
    },
    {
      "cell_type": "code",
      "source": [
        "# This makes the graph a higher resolution image for saving.\n",
        "config = {\n",
        "  'toImageButtonOptions': {\n",
        "    'format': 'png', # one of png, svg, jpeg, webp\n",
        "    'filename': 'SEER_Osteosarcoma_total_notitle_2020',\n",
        "    'height': 500,\n",
        "    'width': 700,\n",
        "    'scale':6 # Multiply title/legend/axis/canvas sizes by this factor\n",
        "  }\n",
        "}\n",
        "\n",
        "\n",
        "fig.show(config=config)"
      ],
      "metadata": {
        "id": "b4CVyI9MkMG5",
        "colab": {
          "base_uri": "https://localhost:8080/",
          "height": 617
        },
        "outputId": "95c09671-a0bf-48cb-9d20-2f5437a8c2b0"
      },
      "execution_count": null,
      "outputs": [
        {
          "output_type": "display_data",
          "data": {
            "text/html": [
              "<html>\n",
              "<head><meta charset=\"utf-8\" /></head>\n",
              "<body>\n",
              "    <div>            <script src=\"https://cdnjs.cloudflare.com/ajax/libs/mathjax/2.7.5/MathJax.js?config=TeX-AMS-MML_SVG\"></script><script type=\"text/javascript\">if (window.MathJax && window.MathJax.Hub && window.MathJax.Hub.Config) {window.MathJax.Hub.Config({SVG: {font: \"STIX-Web\"}});}</script>                <script type=\"text/javascript\">window.PlotlyConfig = {MathJaxConfig: 'local'};</script>\n",
              "        <script src=\"https://cdn.plot.ly/plotly-2.18.2.min.js\"></script>                <div id=\"5cde1866-9d42-4b44-8e83-4684b9c546a2\" class=\"plotly-graph-div\" style=\"height:600px; width:600px;\"></div>            <script type=\"text/javascript\">                                    window.PLOTLYENV=window.PLOTLYENV || {};                                    if (document.getElementById(\"5cde1866-9d42-4b44-8e83-4684b9c546a2\")) {                    Plotly.newPlot(                        \"5cde1866-9d42-4b44-8e83-4684b9c546a2\",                        [{\"alignmentgroup\":\"True\",\"bingroup\":\"x\",\"histfunc\":\"sum\",\"hovertemplate\":\"Age recode with <1 year olds=%{x}<br>sum of Count=%{y}<extra></extra>\",\"legendgroup\":\"\",\"marker\":{\"color\":\"#636efa\",\"pattern\":{\"shape\":\"\"}},\"name\":\"\",\"offsetgroup\":\"\",\"orientation\":\"v\",\"showlegend\":false,\"x\":[\"01-04 years\",\"01-04 years\",\"01-04 years\",\"01-04 years\",\"01-04 years\",\"01-04 years\",\"01-04 years\",\"01-04 years\",\"01-04 years\",\"01-04 years\",\"01-04 years\",\"01-04 years\",\"01-04 years\",\"01-04 years\",\"01-04 years\",\"01-04 years\",\"01-04 years\",\"01-04 years\",\"01-04 years\",\"01-04 years\",\"01-04 years\",\"01-04 years\",\"01-04 years\",\"01-04 years\",\"01-04 years\",\"01-04 years\",\"01-04 years\",\"01-04 years\",\"01-04 years\",\"01-04 years\",\"01-04 years\",\"01-04 years\",\"01-04 years\",\"01-04 years\",\"01-04 years\",\"01-04 years\",\"01-04 years\",\"01-04 years\",\"01-04 years\",\"01-04 years\",\"01-04 years\",\"01-04 years\",\"01-04 years\",\"01-04 years\",\"01-04 years\",\"01-04 years\",\"05-09 years\",\"05-09 years\",\"05-09 years\",\"05-09 years\",\"05-09 years\",\"05-09 years\",\"05-09 years\",\"05-09 years\",\"05-09 years\",\"05-09 years\",\"05-09 years\",\"05-09 years\",\"05-09 years\",\"05-09 years\",\"05-09 years\",\"05-09 years\",\"05-09 years\",\"05-09 years\",\"05-09 years\",\"05-09 years\",\"05-09 years\",\"05-09 years\",\"05-09 years\",\"05-09 years\",\"05-09 years\",\"05-09 years\",\"05-09 years\",\"05-09 years\",\"05-09 years\",\"05-09 years\",\"05-09 years\",\"05-09 years\",\"05-09 years\",\"05-09 years\",\"05-09 years\",\"05-09 years\",\"05-09 years\",\"05-09 years\",\"05-09 years\",\"05-09 years\",\"05-09 years\",\"05-09 years\",\"05-09 years\",\"05-09 years\",\"05-09 years\",\"05-09 years\",\"10-14 years\",\"10-14 years\",\"10-14 years\",\"10-14 years\",\"10-14 years\",\"10-14 years\",\"10-14 years\",\"10-14 years\",\"10-14 years\",\"10-14 years\",\"10-14 years\",\"10-14 years\",\"10-14 years\",\"10-14 years\",\"10-14 years\",\"10-14 years\",\"10-14 years\",\"10-14 years\",\"10-14 years\",\"10-14 years\",\"10-14 years\",\"10-14 years\",\"10-14 years\",\"10-14 years\",\"10-14 years\",\"10-14 years\",\"10-14 years\",\"10-14 years\",\"10-14 years\",\"10-14 years\",\"10-14 years\",\"10-14 years\",\"10-14 years\",\"10-14 years\",\"10-14 years\",\"10-14 years\",\"10-14 years\",\"10-14 years\",\"10-14 years\",\"10-14 years\",\"10-14 years\",\"10-14 years\",\"10-14 years\",\"10-14 years\",\"10-14 years\",\"10-14 years\",\"15-19 years\",\"15-19 years\",\"15-19 years\",\"15-19 years\",\"15-19 years\",\"15-19 years\",\"15-19 years\",\"15-19 years\",\"15-19 years\",\"15-19 years\",\"15-19 years\",\"15-19 years\",\"15-19 years\",\"15-19 years\",\"15-19 years\",\"15-19 years\",\"15-19 years\",\"15-19 years\",\"15-19 years\",\"15-19 years\",\"15-19 years\",\"15-19 years\",\"15-19 years\",\"15-19 years\",\"15-19 years\",\"15-19 years\",\"15-19 years\",\"15-19 years\",\"15-19 years\",\"15-19 years\",\"15-19 years\",\"15-19 years\",\"15-19 years\",\"15-19 years\",\"15-19 years\",\"15-19 years\",\"15-19 years\",\"15-19 years\",\"15-19 years\",\"15-19 years\",\"15-19 years\",\"15-19 years\",\"15-19 years\",\"15-19 years\",\"15-19 years\",\"15-19 years\",\"20-24 years\",\"20-24 years\",\"20-24 years\",\"20-24 years\",\"20-24 years\",\"20-24 years\",\"20-24 years\",\"20-24 years\",\"20-24 years\",\"20-24 years\",\"20-24 years\",\"20-24 years\",\"20-24 years\",\"20-24 years\",\"20-24 years\",\"20-24 years\",\"20-24 years\",\"20-24 years\",\"20-24 years\",\"20-24 years\",\"20-24 years\",\"20-24 years\",\"20-24 years\",\"20-24 years\",\"20-24 years\",\"20-24 years\",\"20-24 years\",\"20-24 years\",\"20-24 years\",\"20-24 years\",\"20-24 years\",\"20-24 years\",\"20-24 years\",\"20-24 years\",\"20-24 years\",\"20-24 years\",\"20-24 years\",\"20-24 years\",\"20-24 years\",\"20-24 years\",\"20-24 years\",\"20-24 years\",\"20-24 years\",\"20-24 years\",\"20-24 years\",\"20-24 years\",\"25-29 years\",\"25-29 years\",\"25-29 years\",\"25-29 years\",\"25-29 years\",\"25-29 years\",\"25-29 years\",\"25-29 years\",\"25-29 years\",\"25-29 years\",\"25-29 years\",\"25-29 years\",\"25-29 years\",\"25-29 years\",\"25-29 years\",\"25-29 years\",\"25-29 years\",\"25-29 years\",\"25-29 years\",\"25-29 years\",\"25-29 years\",\"25-29 years\",\"25-29 years\",\"25-29 years\",\"25-29 years\",\"25-29 years\",\"25-29 years\",\"25-29 years\",\"25-29 years\",\"25-29 years\",\"25-29 years\",\"25-29 years\",\"25-29 years\",\"25-29 years\",\"25-29 years\",\"25-29 years\",\"25-29 years\",\"25-29 years\",\"25-29 years\",\"25-29 years\",\"25-29 years\",\"25-29 years\",\"25-29 years\",\"25-29 years\",\"25-29 years\",\"25-29 years\",\"30-34 years\",\"30-34 years\",\"30-34 years\",\"30-34 years\",\"30-34 years\",\"30-34 years\",\"30-34 years\",\"30-34 years\",\"30-34 years\",\"30-34 years\",\"30-34 years\",\"30-34 years\",\"30-34 years\",\"30-34 years\",\"30-34 years\",\"30-34 years\",\"30-34 years\",\"30-34 years\",\"30-34 years\",\"30-34 years\",\"30-34 years\",\"30-34 years\",\"30-34 years\",\"30-34 years\",\"30-34 years\",\"30-34 years\",\"30-34 years\",\"30-34 years\",\"30-34 years\",\"30-34 years\",\"30-34 years\",\"30-34 years\",\"30-34 years\",\"30-34 years\",\"30-34 years\",\"30-34 years\",\"30-34 years\",\"30-34 years\",\"30-34 years\",\"30-34 years\",\"30-34 years\",\"30-34 years\",\"30-34 years\",\"30-34 years\",\"30-34 years\",\"30-34 years\",\"35-39 years\",\"35-39 years\",\"35-39 years\",\"35-39 years\",\"35-39 years\",\"35-39 years\",\"35-39 years\",\"35-39 years\",\"35-39 years\",\"35-39 years\",\"35-39 years\",\"35-39 years\",\"35-39 years\",\"35-39 years\",\"35-39 years\",\"35-39 years\",\"35-39 years\",\"35-39 years\",\"35-39 years\",\"35-39 years\",\"35-39 years\",\"35-39 years\",\"35-39 years\",\"35-39 years\",\"35-39 years\",\"35-39 years\",\"35-39 years\",\"35-39 years\",\"35-39 years\",\"35-39 years\",\"35-39 years\",\"35-39 years\",\"35-39 years\",\"35-39 years\",\"35-39 years\",\"35-39 years\",\"35-39 years\",\"35-39 years\",\"35-39 years\",\"35-39 years\",\"35-39 years\",\"35-39 years\",\"35-39 years\",\"35-39 years\",\"35-39 years\",\"35-39 years\",\"40-44 years\",\"40-44 years\",\"40-44 years\",\"40-44 years\",\"40-44 years\",\"40-44 years\",\"40-44 years\",\"40-44 years\",\"40-44 years\",\"40-44 years\",\"40-44 years\",\"40-44 years\",\"40-44 years\",\"40-44 years\",\"40-44 years\",\"40-44 years\",\"40-44 years\",\"40-44 years\",\"40-44 years\",\"40-44 years\",\"40-44 years\",\"40-44 years\",\"40-44 years\",\"40-44 years\",\"40-44 years\",\"40-44 years\",\"40-44 years\",\"40-44 years\",\"40-44 years\",\"40-44 years\",\"40-44 years\",\"40-44 years\",\"40-44 years\",\"40-44 years\",\"40-44 years\",\"40-44 years\",\"40-44 years\",\"40-44 years\",\"40-44 years\",\"40-44 years\",\"40-44 years\",\"40-44 years\",\"40-44 years\",\"40-44 years\",\"40-44 years\",\"40-44 years\",\"45-49 years\",\"45-49 years\",\"45-49 years\",\"45-49 years\",\"45-49 years\",\"45-49 years\",\"45-49 years\",\"45-49 years\",\"45-49 years\",\"45-49 years\",\"45-49 years\",\"45-49 years\",\"45-49 years\",\"45-49 years\",\"45-49 years\",\"45-49 years\",\"45-49 years\",\"45-49 years\",\"45-49 years\",\"45-49 years\",\"45-49 years\",\"45-49 years\",\"45-49 years\",\"45-49 years\",\"45-49 years\",\"45-49 years\",\"45-49 years\",\"45-49 years\",\"45-49 years\",\"45-49 years\",\"45-49 years\",\"45-49 years\",\"45-49 years\",\"45-49 years\",\"45-49 years\",\"45-49 years\",\"45-49 years\",\"45-49 years\",\"45-49 years\",\"45-49 years\",\"45-49 years\",\"45-49 years\",\"45-49 years\",\"45-49 years\",\"45-49 years\",\"45-49 years\",\"50-54 years\",\"50-54 years\",\"50-54 years\",\"50-54 years\",\"50-54 years\",\"50-54 years\",\"50-54 years\",\"50-54 years\",\"50-54 years\",\"50-54 years\",\"50-54 years\",\"50-54 years\",\"50-54 years\",\"50-54 years\",\"50-54 years\",\"50-54 years\",\"50-54 years\",\"50-54 years\",\"50-54 years\",\"50-54 years\",\"50-54 years\",\"50-54 years\",\"50-54 years\",\"50-54 years\",\"50-54 years\",\"50-54 years\",\"50-54 years\",\"50-54 years\",\"50-54 years\",\"50-54 years\",\"50-54 years\",\"50-54 years\",\"50-54 years\",\"50-54 years\",\"50-54 years\",\"50-54 years\",\"50-54 years\",\"50-54 years\",\"50-54 years\",\"50-54 years\",\"50-54 years\",\"50-54 years\",\"50-54 years\",\"50-54 years\",\"50-54 years\",\"50-54 years\",\"55-59 years\",\"55-59 years\",\"55-59 years\",\"55-59 years\",\"55-59 years\",\"55-59 years\",\"55-59 years\",\"55-59 years\",\"55-59 years\",\"55-59 years\",\"55-59 years\",\"55-59 years\",\"55-59 years\",\"55-59 years\",\"55-59 years\",\"55-59 years\",\"55-59 years\",\"55-59 years\",\"55-59 years\",\"55-59 years\",\"55-59 years\",\"55-59 years\",\"55-59 years\",\"55-59 years\",\"55-59 years\",\"55-59 years\",\"55-59 years\",\"55-59 years\",\"55-59 years\",\"55-59 years\",\"55-59 years\",\"55-59 years\",\"55-59 years\",\"55-59 years\",\"55-59 years\",\"55-59 years\",\"55-59 years\",\"55-59 years\",\"55-59 years\",\"55-59 years\",\"55-59 years\",\"55-59 years\",\"55-59 years\",\"55-59 years\",\"55-59 years\",\"55-59 years\",\"60-64 years\",\"60-64 years\",\"60-64 years\",\"60-64 years\",\"60-64 years\",\"60-64 years\",\"60-64 years\",\"60-64 years\",\"60-64 years\",\"60-64 years\",\"60-64 years\",\"60-64 years\",\"60-64 years\",\"60-64 years\",\"60-64 years\",\"60-64 years\",\"60-64 years\",\"60-64 years\",\"60-64 years\",\"60-64 years\",\"60-64 years\",\"60-64 years\",\"60-64 years\",\"60-64 years\",\"60-64 years\",\"60-64 years\",\"60-64 years\",\"60-64 years\",\"60-64 years\",\"60-64 years\",\"60-64 years\",\"60-64 years\",\"60-64 years\",\"60-64 years\",\"60-64 years\",\"60-64 years\",\"60-64 years\",\"60-64 years\",\"60-64 years\",\"60-64 years\",\"60-64 years\",\"60-64 years\",\"60-64 years\",\"60-64 years\",\"60-64 years\",\"60-64 years\",\"65-69 years\",\"65-69 years\",\"65-69 years\",\"65-69 years\",\"65-69 years\",\"65-69 years\",\"65-69 years\",\"65-69 years\",\"65-69 years\",\"65-69 years\",\"65-69 years\",\"65-69 years\",\"65-69 years\",\"65-69 years\",\"65-69 years\",\"65-69 years\",\"65-69 years\",\"65-69 years\",\"65-69 years\",\"65-69 years\",\"65-69 years\",\"65-69 years\",\"65-69 years\",\"65-69 years\",\"65-69 years\",\"65-69 years\",\"65-69 years\",\"65-69 years\",\"65-69 years\",\"65-69 years\",\"65-69 years\",\"65-69 years\",\"65-69 years\",\"65-69 years\",\"65-69 years\",\"65-69 years\",\"65-69 years\",\"65-69 years\",\"65-69 years\",\"65-69 years\",\"65-69 years\",\"65-69 years\",\"65-69 years\",\"65-69 years\",\"65-69 years\",\"65-69 years\",\"70-74 years\",\"70-74 years\",\"70-74 years\",\"70-74 years\",\"70-74 years\",\"70-74 years\",\"70-74 years\",\"70-74 years\",\"70-74 years\",\"70-74 years\",\"70-74 years\",\"70-74 years\",\"70-74 years\",\"70-74 years\",\"70-74 years\",\"70-74 years\",\"70-74 years\",\"70-74 years\",\"70-74 years\",\"70-74 years\",\"70-74 years\",\"70-74 years\",\"70-74 years\",\"70-74 years\",\"70-74 years\",\"70-74 years\",\"70-74 years\",\"70-74 years\",\"70-74 years\",\"70-74 years\",\"70-74 years\",\"70-74 years\",\"70-74 years\",\"70-74 years\",\"70-74 years\",\"70-74 years\",\"70-74 years\",\"70-74 years\",\"70-74 years\",\"70-74 years\",\"70-74 years\",\"70-74 years\",\"70-74 years\",\"70-74 years\",\"70-74 years\",\"70-74 years\",\"75-79 years\",\"75-79 years\",\"75-79 years\",\"75-79 years\",\"75-79 years\",\"75-79 years\",\"75-79 years\",\"75-79 years\",\"75-79 years\",\"75-79 years\",\"75-79 years\",\"75-79 years\",\"75-79 years\",\"75-79 years\",\"75-79 years\",\"75-79 years\",\"75-79 years\",\"75-79 years\",\"75-79 years\",\"75-79 years\",\"75-79 years\",\"75-79 years\",\"75-79 years\",\"75-79 years\",\"75-79 years\",\"75-79 years\",\"75-79 years\",\"75-79 years\",\"75-79 years\",\"75-79 years\",\"75-79 years\",\"75-79 years\",\"75-79 years\",\"75-79 years\",\"75-79 years\",\"75-79 years\",\"75-79 years\",\"75-79 years\",\"75-79 years\",\"75-79 years\",\"75-79 years\",\"75-79 years\",\"75-79 years\",\"75-79 years\",\"75-79 years\",\"75-79 years\",\"80-84 years\",\"80-84 years\",\"80-84 years\",\"80-84 years\",\"80-84 years\",\"80-84 years\",\"80-84 years\",\"80-84 years\",\"80-84 years\",\"80-84 years\",\"80-84 years\",\"80-84 years\",\"80-84 years\",\"80-84 years\",\"80-84 years\",\"80-84 years\",\"80-84 years\",\"80-84 years\",\"80-84 years\",\"80-84 years\",\"80-84 years\",\"80-84 years\",\"80-84 years\",\"80-84 years\",\"80-84 years\",\"80-84 years\",\"80-84 years\",\"80-84 years\",\"80-84 years\",\"80-84 years\",\"80-84 years\",\"80-84 years\",\"80-84 years\",\"80-84 years\",\"80-84 years\",\"80-84 years\",\"80-84 years\",\"80-84 years\",\"80-84 years\",\"80-84 years\",\"80-84 years\",\"80-84 years\",\"80-84 years\",\"80-84 years\",\"80-84 years\",\"80-84 years\",\"85+ years\",\"85+ years\",\"85+ years\",\"85+ years\",\"85+ years\",\"85+ years\",\"85+ years\",\"85+ years\",\"85+ years\",\"85+ years\",\"85+ years\",\"85+ years\",\"85+ years\",\"85+ years\",\"85+ years\",\"85+ years\",\"85+ years\",\"85+ years\",\"85+ years\",\"85+ years\",\"85+ years\",\"85+ years\",\"85+ years\",\"85+ years\",\"85+ years\",\"85+ years\",\"85+ years\",\"85+ years\",\"85+ years\",\"85+ years\",\"85+ years\",\"85+ years\",\"85+ years\",\"85+ years\",\"85+ years\",\"85+ years\",\"85+ years\",\"85+ years\",\"85+ years\",\"85+ years\",\"85+ years\",\"85+ years\",\"85+ years\",\"85+ years\",\"85+ years\",\"85+ years\",\"01-04 years\",\"01-04 years\",\"01-04 years\",\"01-04 years\",\"01-04 years\",\"01-04 years\",\"01-04 years\",\"01-04 years\",\"01-04 years\",\"01-04 years\",\"01-04 years\",\"01-04 years\",\"01-04 years\",\"01-04 years\",\"01-04 years\",\"01-04 years\",\"01-04 years\",\"01-04 years\",\"01-04 years\",\"01-04 years\",\"01-04 years\",\"01-04 years\",\"01-04 years\",\"01-04 years\",\"01-04 years\",\"01-04 years\",\"01-04 years\",\"01-04 years\",\"01-04 years\",\"01-04 years\",\"01-04 years\",\"01-04 years\",\"01-04 years\",\"01-04 years\",\"01-04 years\",\"01-04 years\",\"01-04 years\",\"01-04 years\",\"01-04 years\",\"01-04 years\",\"01-04 years\",\"01-04 years\",\"01-04 years\",\"01-04 years\",\"01-04 years\",\"01-04 years\",\"05-09 years\",\"05-09 years\",\"05-09 years\",\"05-09 years\",\"05-09 years\",\"05-09 years\",\"05-09 years\",\"05-09 years\",\"05-09 years\",\"05-09 years\",\"05-09 years\",\"05-09 years\",\"05-09 years\",\"05-09 years\",\"05-09 years\",\"05-09 years\",\"05-09 years\",\"05-09 years\",\"05-09 years\",\"05-09 years\",\"05-09 years\",\"05-09 years\",\"05-09 years\",\"05-09 years\",\"05-09 years\",\"05-09 years\",\"05-09 years\",\"05-09 years\",\"05-09 years\",\"05-09 years\",\"05-09 years\",\"05-09 years\",\"05-09 years\",\"05-09 years\",\"05-09 years\",\"05-09 years\",\"05-09 years\",\"05-09 years\",\"05-09 years\",\"05-09 years\",\"05-09 years\",\"05-09 years\",\"05-09 years\",\"05-09 years\",\"05-09 years\",\"05-09 years\",\"10-14 years\",\"10-14 years\",\"10-14 years\",\"10-14 years\",\"10-14 years\",\"10-14 years\",\"10-14 years\",\"10-14 years\",\"10-14 years\",\"10-14 years\",\"10-14 years\",\"10-14 years\",\"10-14 years\",\"10-14 years\",\"10-14 years\",\"10-14 years\",\"10-14 years\",\"10-14 years\",\"10-14 years\",\"10-14 years\",\"10-14 years\",\"10-14 years\",\"10-14 years\",\"10-14 years\",\"10-14 years\",\"10-14 years\",\"10-14 years\",\"10-14 years\",\"10-14 years\",\"10-14 years\",\"10-14 years\",\"10-14 years\",\"10-14 years\",\"10-14 years\",\"10-14 years\",\"10-14 years\",\"10-14 years\",\"10-14 years\",\"10-14 years\",\"10-14 years\",\"10-14 years\",\"10-14 years\",\"10-14 years\",\"10-14 years\",\"10-14 years\",\"10-14 years\",\"15-19 years\",\"15-19 years\",\"15-19 years\",\"15-19 years\",\"15-19 years\",\"15-19 years\",\"15-19 years\",\"15-19 years\",\"15-19 years\",\"15-19 years\",\"15-19 years\",\"15-19 years\",\"15-19 years\",\"15-19 years\",\"15-19 years\",\"15-19 years\",\"15-19 years\",\"15-19 years\",\"15-19 years\",\"15-19 years\",\"15-19 years\",\"15-19 years\",\"15-19 years\",\"15-19 years\",\"15-19 years\",\"15-19 years\",\"15-19 years\",\"15-19 years\",\"15-19 years\",\"15-19 years\",\"15-19 years\",\"15-19 years\",\"15-19 years\",\"15-19 years\",\"15-19 years\",\"15-19 years\",\"15-19 years\",\"15-19 years\",\"15-19 years\",\"15-19 years\",\"15-19 years\",\"15-19 years\",\"15-19 years\",\"15-19 years\",\"15-19 years\",\"15-19 years\",\"20-24 years\",\"20-24 years\",\"20-24 years\",\"20-24 years\",\"20-24 years\",\"20-24 years\",\"20-24 years\",\"20-24 years\",\"20-24 years\",\"20-24 years\",\"20-24 years\",\"20-24 years\",\"20-24 years\",\"20-24 years\",\"20-24 years\",\"20-24 years\",\"20-24 years\",\"20-24 years\",\"20-24 years\",\"20-24 years\",\"20-24 years\",\"20-24 years\",\"20-24 years\",\"20-24 years\",\"20-24 years\",\"20-24 years\",\"20-24 years\",\"20-24 years\",\"20-24 years\",\"20-24 years\",\"20-24 years\",\"20-24 years\",\"20-24 years\",\"20-24 years\",\"20-24 years\",\"20-24 years\",\"20-24 years\",\"20-24 years\",\"20-24 years\",\"20-24 years\",\"20-24 years\",\"20-24 years\",\"20-24 years\",\"20-24 years\",\"20-24 years\",\"20-24 years\",\"25-29 years\",\"25-29 years\",\"25-29 years\",\"25-29 years\",\"25-29 years\",\"25-29 years\",\"25-29 years\",\"25-29 years\",\"25-29 years\",\"25-29 years\",\"25-29 years\",\"25-29 years\",\"25-29 years\",\"25-29 years\",\"25-29 years\",\"25-29 years\",\"25-29 years\",\"25-29 years\",\"25-29 years\",\"25-29 years\",\"25-29 years\",\"25-29 years\",\"25-29 years\",\"25-29 years\",\"25-29 years\",\"25-29 years\",\"25-29 years\",\"25-29 years\",\"25-29 years\",\"25-29 years\",\"25-29 years\",\"25-29 years\",\"25-29 years\",\"25-29 years\",\"25-29 years\",\"25-29 years\",\"25-29 years\",\"25-29 years\",\"25-29 years\",\"25-29 years\",\"25-29 years\",\"25-29 years\",\"25-29 years\",\"25-29 years\",\"25-29 years\",\"25-29 years\",\"30-34 years\",\"30-34 years\",\"30-34 years\",\"30-34 years\",\"30-34 years\",\"30-34 years\",\"30-34 years\",\"30-34 years\",\"30-34 years\",\"30-34 years\",\"30-34 years\",\"30-34 years\",\"30-34 years\",\"30-34 years\",\"30-34 years\",\"30-34 years\",\"30-34 years\",\"30-34 years\",\"30-34 years\",\"30-34 years\",\"30-34 years\",\"30-34 years\",\"30-34 years\",\"30-34 years\",\"30-34 years\",\"30-34 years\",\"30-34 years\",\"30-34 years\",\"30-34 years\",\"30-34 years\",\"30-34 years\",\"30-34 years\",\"30-34 years\",\"30-34 years\",\"30-34 years\",\"30-34 years\",\"30-34 years\",\"30-34 years\",\"30-34 years\",\"30-34 years\",\"30-34 years\",\"30-34 years\",\"30-34 years\",\"30-34 years\",\"30-34 years\",\"30-34 years\",\"35-39 years\",\"35-39 years\",\"35-39 years\",\"35-39 years\",\"35-39 years\",\"35-39 years\",\"35-39 years\",\"35-39 years\",\"35-39 years\",\"35-39 years\",\"35-39 years\",\"35-39 years\",\"35-39 years\",\"35-39 years\",\"35-39 years\",\"35-39 years\",\"35-39 years\",\"35-39 years\",\"35-39 years\",\"35-39 years\",\"35-39 years\",\"35-39 years\",\"35-39 years\",\"35-39 years\",\"35-39 years\",\"35-39 years\",\"35-39 years\",\"35-39 years\",\"35-39 years\",\"35-39 years\",\"35-39 years\",\"35-39 years\",\"35-39 years\",\"35-39 years\",\"35-39 years\",\"35-39 years\",\"35-39 years\",\"35-39 years\",\"35-39 years\",\"35-39 years\",\"35-39 years\",\"35-39 years\",\"35-39 years\",\"35-39 years\",\"35-39 years\",\"35-39 years\",\"40-44 years\",\"40-44 years\",\"40-44 years\",\"40-44 years\",\"40-44 years\",\"40-44 years\",\"40-44 years\",\"40-44 years\",\"40-44 years\",\"40-44 years\",\"40-44 years\",\"40-44 years\",\"40-44 years\",\"40-44 years\",\"40-44 years\",\"40-44 years\",\"40-44 years\",\"40-44 years\",\"40-44 years\",\"40-44 years\",\"40-44 years\",\"40-44 years\",\"40-44 years\",\"40-44 years\",\"40-44 years\",\"40-44 years\",\"40-44 years\",\"40-44 years\",\"40-44 years\",\"40-44 years\",\"40-44 years\",\"40-44 years\",\"40-44 years\",\"40-44 years\",\"40-44 years\",\"40-44 years\",\"40-44 years\",\"40-44 years\",\"40-44 years\",\"40-44 years\",\"40-44 years\",\"40-44 years\",\"40-44 years\",\"40-44 years\",\"40-44 years\",\"40-44 years\",\"45-49 years\",\"45-49 years\",\"45-49 years\",\"45-49 years\",\"45-49 years\",\"45-49 years\",\"45-49 years\",\"45-49 years\",\"45-49 years\",\"45-49 years\",\"45-49 years\",\"45-49 years\",\"45-49 years\",\"45-49 years\",\"45-49 years\",\"45-49 years\",\"45-49 years\",\"45-49 years\",\"45-49 years\",\"45-49 years\",\"45-49 years\",\"45-49 years\",\"45-49 years\",\"45-49 years\",\"45-49 years\",\"45-49 years\",\"45-49 years\",\"45-49 years\",\"45-49 years\",\"45-49 years\",\"45-49 years\",\"45-49 years\",\"45-49 years\",\"45-49 years\",\"45-49 years\",\"45-49 years\",\"45-49 years\",\"45-49 years\",\"45-49 years\",\"45-49 years\",\"45-49 years\",\"45-49 years\",\"45-49 years\",\"45-49 years\",\"45-49 years\",\"45-49 years\",\"50-54 years\",\"50-54 years\",\"50-54 years\",\"50-54 years\",\"50-54 years\",\"50-54 years\",\"50-54 years\",\"50-54 years\",\"50-54 years\",\"50-54 years\",\"50-54 years\",\"50-54 years\",\"50-54 years\",\"50-54 years\",\"50-54 years\",\"50-54 years\",\"50-54 years\",\"50-54 years\",\"50-54 years\",\"50-54 years\",\"50-54 years\",\"50-54 years\",\"50-54 years\",\"50-54 years\",\"50-54 years\",\"50-54 years\",\"50-54 years\",\"50-54 years\",\"50-54 years\",\"50-54 years\",\"50-54 years\",\"50-54 years\",\"50-54 years\",\"50-54 years\",\"50-54 years\",\"50-54 years\",\"50-54 years\",\"50-54 years\",\"50-54 years\",\"50-54 years\",\"50-54 years\",\"50-54 years\",\"50-54 years\",\"50-54 years\",\"50-54 years\",\"50-54 years\",\"55-59 years\",\"55-59 years\",\"55-59 years\",\"55-59 years\",\"55-59 years\",\"55-59 years\",\"55-59 years\",\"55-59 years\",\"55-59 years\",\"55-59 years\",\"55-59 years\",\"55-59 years\",\"55-59 years\",\"55-59 years\",\"55-59 years\",\"55-59 years\",\"55-59 years\",\"55-59 years\",\"55-59 years\",\"55-59 years\",\"55-59 years\",\"55-59 years\",\"55-59 years\",\"55-59 years\",\"55-59 years\",\"55-59 years\",\"55-59 years\",\"55-59 years\",\"55-59 years\",\"55-59 years\",\"55-59 years\",\"55-59 years\",\"55-59 years\",\"55-59 years\",\"55-59 years\",\"55-59 years\",\"55-59 years\",\"55-59 years\",\"55-59 years\",\"55-59 years\",\"55-59 years\",\"55-59 years\",\"55-59 years\",\"55-59 years\",\"55-59 years\",\"55-59 years\",\"60-64 years\",\"60-64 years\",\"60-64 years\",\"60-64 years\",\"60-64 years\",\"60-64 years\",\"60-64 years\",\"60-64 years\",\"60-64 years\",\"60-64 years\",\"60-64 years\",\"60-64 years\",\"60-64 years\",\"60-64 years\",\"60-64 years\",\"60-64 years\",\"60-64 years\",\"60-64 years\",\"60-64 years\",\"60-64 years\",\"60-64 years\",\"60-64 years\",\"60-64 years\",\"60-64 years\",\"60-64 years\",\"60-64 years\",\"60-64 years\",\"60-64 years\",\"60-64 years\",\"60-64 years\",\"60-64 years\",\"60-64 years\",\"60-64 years\",\"60-64 years\",\"60-64 years\",\"60-64 years\",\"60-64 years\",\"60-64 years\",\"60-64 years\",\"60-64 years\",\"60-64 years\",\"60-64 years\",\"60-64 years\",\"60-64 years\",\"60-64 years\",\"60-64 years\",\"65-69 years\",\"65-69 years\",\"65-69 years\",\"65-69 years\",\"65-69 years\",\"65-69 years\",\"65-69 years\",\"65-69 years\",\"65-69 years\",\"65-69 years\",\"65-69 years\",\"65-69 years\",\"65-69 years\",\"65-69 years\",\"65-69 years\",\"65-69 years\",\"65-69 years\",\"65-69 years\",\"65-69 years\",\"65-69 years\",\"65-69 years\",\"65-69 years\",\"65-69 years\",\"65-69 years\",\"65-69 years\",\"65-69 years\",\"65-69 years\",\"65-69 years\",\"65-69 years\",\"65-69 years\",\"65-69 years\",\"65-69 years\",\"65-69 years\",\"65-69 years\",\"65-69 years\",\"65-69 years\",\"65-69 years\",\"65-69 years\",\"65-69 years\",\"65-69 years\",\"65-69 years\",\"65-69 years\",\"65-69 years\",\"65-69 years\",\"65-69 years\",\"65-69 years\",\"70-74 years\",\"70-74 years\",\"70-74 years\",\"70-74 years\",\"70-74 years\",\"70-74 years\",\"70-74 years\",\"70-74 years\",\"70-74 years\",\"70-74 years\",\"70-74 years\",\"70-74 years\",\"70-74 years\",\"70-74 years\",\"70-74 years\",\"70-74 years\",\"70-74 years\",\"70-74 years\",\"70-74 years\",\"70-74 years\",\"70-74 years\",\"70-74 years\",\"70-74 years\",\"70-74 years\",\"70-74 years\",\"70-74 years\",\"70-74 years\",\"70-74 years\",\"70-74 years\",\"70-74 years\",\"70-74 years\",\"70-74 years\",\"70-74 years\",\"70-74 years\",\"70-74 years\",\"70-74 years\",\"70-74 years\",\"70-74 years\",\"70-74 years\",\"70-74 years\",\"70-74 years\",\"70-74 years\",\"70-74 years\",\"70-74 years\",\"70-74 years\",\"70-74 years\",\"75-79 years\",\"75-79 years\",\"75-79 years\",\"75-79 years\",\"75-79 years\",\"75-79 years\",\"75-79 years\",\"75-79 years\",\"75-79 years\",\"75-79 years\",\"75-79 years\",\"75-79 years\",\"75-79 years\",\"75-79 years\",\"75-79 years\",\"75-79 years\",\"75-79 years\",\"75-79 years\",\"75-79 years\",\"75-79 years\",\"75-79 years\",\"75-79 years\",\"75-79 years\",\"75-79 years\",\"75-79 years\",\"75-79 years\",\"75-79 years\",\"75-79 years\",\"75-79 years\",\"75-79 years\",\"75-79 years\",\"75-79 years\",\"75-79 years\",\"75-79 years\",\"75-79 years\",\"75-79 years\",\"75-79 years\",\"75-79 years\",\"75-79 years\",\"75-79 years\",\"75-79 years\",\"75-79 years\",\"75-79 years\",\"75-79 years\",\"75-79 years\",\"75-79 years\",\"80-84 years\",\"80-84 years\",\"80-84 years\",\"80-84 years\",\"80-84 years\",\"80-84 years\",\"80-84 years\",\"80-84 years\",\"80-84 years\",\"80-84 years\",\"80-84 years\",\"80-84 years\",\"80-84 years\",\"80-84 years\",\"80-84 years\",\"80-84 years\",\"80-84 years\",\"80-84 years\",\"80-84 years\",\"80-84 years\",\"80-84 years\",\"80-84 years\",\"80-84 years\",\"80-84 years\",\"80-84 years\",\"80-84 years\",\"80-84 years\",\"80-84 years\",\"80-84 years\",\"80-84 years\",\"80-84 years\",\"80-84 years\",\"80-84 years\",\"80-84 years\",\"80-84 years\",\"80-84 years\",\"80-84 years\",\"80-84 years\",\"80-84 years\",\"80-84 years\",\"80-84 years\",\"80-84 years\",\"80-84 years\",\"80-84 years\",\"80-84 years\",\"80-84 years\",\"85+ years\",\"85+ years\",\"85+ years\",\"85+ years\",\"85+ years\",\"85+ years\",\"85+ years\",\"85+ years\",\"85+ years\",\"85+ years\",\"85+ years\",\"85+ years\",\"85+ years\",\"85+ years\",\"85+ years\",\"85+ years\",\"85+ years\",\"85+ years\",\"85+ years\",\"85+ years\",\"85+ years\",\"85+ years\",\"85+ years\",\"85+ years\",\"85+ years\",\"85+ years\",\"85+ years\",\"85+ years\",\"85+ years\",\"85+ years\",\"85+ years\",\"85+ years\",\"85+ years\",\"85+ years\",\"85+ years\",\"85+ years\",\"85+ years\",\"85+ years\",\"85+ years\",\"85+ years\",\"85+ years\",\"85+ years\",\"85+ years\",\"85+ years\",\"85+ years\",\"85+ years\"],\"xaxis\":\"x\",\"y\":[0,0,1,0,0,0,0,1,0,0,0,0,0,0,0,0,0,0,1,0,0,0,0,0,0,0,0,0,0,0,0,0,0,1,0,0,0,0,1,0,0,0,0,0,0,0,1,1,1,0,1,0,3,0,3,1,1,2,1,0,0,2,3,1,0,1,3,1,1,1,1,3,1,4,0,0,2,2,2,1,3,2,2,2,3,1,1,4,1,2,3,0,2,6,4,4,4,5,3,7,4,3,5,4,2,5,4,5,0,3,6,7,5,6,10,11,5,4,3,4,2,4,5,4,5,9,6,5,4,10,4,8,4,4,9,3,5,4,3,0,5,3,7,9,9,2,8,3,9,4,4,6,9,5,4,7,5,7,9,8,11,9,5,4,8,11,7,2,4,5,7,8,9,3,6,5,5,7,11,4,12,10,8,6,1,1,0,2,1,0,3,2,4,0,2,1,4,1,2,1,4,6,1,2,2,2,3,3,1,1,4,1,4,3,4,2,1,5,2,4,0,3,3,4,3,3,2,2,1,2,1,1,0,0,2,0,0,0,2,1,0,2,0,3,4,1,0,2,0,1,2,1,3,0,0,1,3,0,0,0,2,0,0,0,2,2,0,1,2,1,4,2,0,0,1,2,0,0,1,1,1,0,1,0,0,1,3,1,1,1,1,2,0,0,1,2,0,1,0,2,0,1,3,0,1,0,3,1,0,2,0,0,2,2,0,2,1,1,2,1,0,2,0,1,0,0,0,0,0,0,0,0,0,0,0,1,0,1,0,1,1,0,0,1,0,0,1,0,0,0,1,0,1,0,2,0,1,0,1,0,0,0,3,0,1,0,0,0,0,0,0,0,0,0,1,0,1,0,0,0,1,1,0,1,2,2,0,0,0,4,0,0,1,1,0,1,0,1,2,1,3,1,1,1,0,0,2,4,0,0,0,0,1,0,0,0,0,0,0,0,0,0,0,0,0,0,0,0,0,1,0,0,0,1,1,1,1,0,0,0,0,1,0,1,2,2,1,1,0,1,1,1,0,0,2,0,0,0,1,2,0,2,0,1,1,1,0,0,0,0,0,0,0,0,0,0,0,0,0,0,0,0,0,2,3,1,0,0,0,1,0,0,0,0,1,1,0,0,0,0,1,1,0,0,1,1,3,0,0,0,0,1,0,2,0,1,0,1,0,0,0,0,1,0,0,1,1,0,1,1,1,2,1,0,1,1,2,0,0,1,0,0,0,0,0,1,1,0,1,1,0,0,1,0,0,0,2,0,1,1,0,2,1,0,1,0,0,0,0,0,1,0,0,0,0,3,0,1,0,0,0,0,1,0,1,1,0,1,0,0,0,2,0,0,1,0,0,0,1,0,0,1,0,1,1,0,0,0,1,0,1,0,0,1,0,0,0,0,1,0,1,0,0,1,0,0,1,0,1,1,0,0,0,1,0,0,1,0,0,0,2,0,1,0,0,0,1,0,0,0,0,2,0,2,1,0,0,0,0,0,0,0,1,0,1,0,0,0,1,0,0,0,0,0,0,0,1,0,0,2,1,1,2,0,0,0,0,0,0,1,0,0,0,0,1,1,0,1,1,0,0,1,0,0,0,0,0,0,0,0,0,1,1,1,0,0,0,0,1,1,1,0,0,0,0,0,0,0,0,0,0,0,0,0,0,0,0,0,0,0,0,0,0,0,0,0,0,1,0,0,0,0,0,0,0,0,1,0,1,1,0,0,0,0,0,0,0,0,1,0,0,0,0,0,0,0,1,0,0,0,0,1,0,0,0,0,0,0,2,0,0,0,0,0,0,0,0,0,2,1,0,0,0,0,0,0,0,0,0,0,0,0,0,0,1,0,0,0,1,0,0,0,0,0,3,0,2,0,0,0,0,0,0,0,0,0,1,0,0,0,0,0,0,1,1,0,0,0,0,1,0,0,0,1,1,0,0,0,0,0,1,0,0,0,1,0,0,0,0,0,0,0,0,0,0,0,1,2,2,1,0,0,3,0,0,1,2,0,4,1,3,2,1,2,1,2,1,2,1,0,2,3,1,2,2,2,1,2,3,0,3,3,2,3,4,3,3,2,3,1,3,3,3,8,5,3,3,5,2,5,3,3,5,5,4,1,7,4,4,4,6,2,5,5,6,4,6,6,4,8,6,1,5,2,5,6,2,11,5,9,5,5,3,6,10,7,6,2,3,8,4,3,6,2,4,4,4,4,4,4,1,3,3,3,5,2,1,2,6,1,0,2,1,6,6,2,6,3,2,4,3,6,3,2,4,6,2,5,2,1,8,4,1,3,1,1,2,2,1,1,2,1,1,0,1,1,1,1,2,2,1,2,1,1,3,2,1,2,1,1,0,1,2,5,0,2,4,1,2,1,2,0,3,2,1,0,1,2,0,1,1,2,1,2,0,1,1,0,0,0,0,1,0,1,1,1,4,0,0,1,4,1,1,0,0,1,1,0,2,1,3,1,0,0,0,0,1,0,2,0,1,1,1,1,1,0,0,1,0,0,0,1,0,0,0,1,2,1,1,0,2,0,1,0,0,1,2,1,0,0,0,1,2,1,2,2,1,0,0,0,0,0,1,0,0,1,2,0,2,1,0,0,0,0,0,0,0,0,2,1,0,1,0,0,1,1,0,1,1,1,2,1,1,1,1,0,0,0,1,0,0,0,0,2,1,1,2,1,0,1,1,1,1,0,0,1,1,0,0,0,0,1,0,0,0,0,0,0,0,0,2,0,1,0,1,0,0,2,0,1,0,0,1,1,0,2,0,0,1,0,0,0,1,1,0,1,1,0,2,1,1,0,1,0,1,1,1,0,1,0,0,0,0,0,1,1,0,0,0,0,1,1,0,0,0,0,0,0,0,0,1,0,3,1,2,1,0,0,0,0,1,2,1,0,1,0,0,0,0,0,0,1,0,0,0,0,0,0,0,0,0,0,0,1,0,0,0,2,0,0,0,0,0,0,0,1,0,0,0,0,0,0,0,1,2,0,0,1,2,2,0,2,1,0,0,0,0,0,2,0,0,0,0,0,0,0,0,0,0,0,0,0,1,0,0,0,1,0,0,0,0,0,0,0,0,0,0,0,0,1,0,1,0,0,0,1,0,1,2,1,1,0,1,1,1,0,1,0,0,0,1,1,0,0,2,2,0,1,0,1,1,0,0,0,0,1,0,2,0,0,1,0,0,0,2,0,0,1,0,0,0,0,0,1,1,0,0,0,0,0,1,0,0,0,1,1,1,1,0,2,0,1,0,0,0,0,0,0,1,0,0,0,0,0,0,0,0,0,0,0,0,1,0,0,0,0,0,0,2,2,0,0,0,0,1,0,0,1,1,0,0,0,0,0,0,1,0,1,0,0,0,1,0,0,1,0,0,0,1,0,0,0,0,0,0,0,0,1,0,0,0,1,1,2,0,1,1,1,0,0,0,1,2,0,0,0,0,0,0,0,0,0,0,1,0,2,0,0,2,0,0,0,0,0,0,1,0,0,0,1,0,0,0,0,0,0,0,0,1,0,0,1,0,0,0,0,0,1,2,0,0,0,0,0,0,0,0,1,0,0,0,0,0,0,0,0,0,0,0,0,0,0,0,0,0,0,1,0,0,0,0,0,0,1,0,0,0,0,0,0,1,0,1,0,1,1,0,0,0,0,0,0,0,0,0,0,0,0,0,1,0,0,0,0,0,0,0,0,0,0,0,0,0,1,0,0,0,1,1,0,1,1,1,1,1,0],\"yaxis\":\"y\",\"type\":\"histogram\"}],                        {\"template\":{\"data\":{\"histogram2dcontour\":[{\"type\":\"histogram2dcontour\",\"colorbar\":{\"outlinewidth\":0,\"ticks\":\"\"},\"colorscale\":[[0.0,\"#0d0887\"],[0.1111111111111111,\"#46039f\"],[0.2222222222222222,\"#7201a8\"],[0.3333333333333333,\"#9c179e\"],[0.4444444444444444,\"#bd3786\"],[0.5555555555555556,\"#d8576b\"],[0.6666666666666666,\"#ed7953\"],[0.7777777777777778,\"#fb9f3a\"],[0.8888888888888888,\"#fdca26\"],[1.0,\"#f0f921\"]]}],\"choropleth\":[{\"type\":\"choropleth\",\"colorbar\":{\"outlinewidth\":0,\"ticks\":\"\"}}],\"histogram2d\":[{\"type\":\"histogram2d\",\"colorbar\":{\"outlinewidth\":0,\"ticks\":\"\"},\"colorscale\":[[0.0,\"#0d0887\"],[0.1111111111111111,\"#46039f\"],[0.2222222222222222,\"#7201a8\"],[0.3333333333333333,\"#9c179e\"],[0.4444444444444444,\"#bd3786\"],[0.5555555555555556,\"#d8576b\"],[0.6666666666666666,\"#ed7953\"],[0.7777777777777778,\"#fb9f3a\"],[0.8888888888888888,\"#fdca26\"],[1.0,\"#f0f921\"]]}],\"heatmap\":[{\"type\":\"heatmap\",\"colorbar\":{\"outlinewidth\":0,\"ticks\":\"\"},\"colorscale\":[[0.0,\"#0d0887\"],[0.1111111111111111,\"#46039f\"],[0.2222222222222222,\"#7201a8\"],[0.3333333333333333,\"#9c179e\"],[0.4444444444444444,\"#bd3786\"],[0.5555555555555556,\"#d8576b\"],[0.6666666666666666,\"#ed7953\"],[0.7777777777777778,\"#fb9f3a\"],[0.8888888888888888,\"#fdca26\"],[1.0,\"#f0f921\"]]}],\"heatmapgl\":[{\"type\":\"heatmapgl\",\"colorbar\":{\"outlinewidth\":0,\"ticks\":\"\"},\"colorscale\":[[0.0,\"#0d0887\"],[0.1111111111111111,\"#46039f\"],[0.2222222222222222,\"#7201a8\"],[0.3333333333333333,\"#9c179e\"],[0.4444444444444444,\"#bd3786\"],[0.5555555555555556,\"#d8576b\"],[0.6666666666666666,\"#ed7953\"],[0.7777777777777778,\"#fb9f3a\"],[0.8888888888888888,\"#fdca26\"],[1.0,\"#f0f921\"]]}],\"contourcarpet\":[{\"type\":\"contourcarpet\",\"colorbar\":{\"outlinewidth\":0,\"ticks\":\"\"}}],\"contour\":[{\"type\":\"contour\",\"colorbar\":{\"outlinewidth\":0,\"ticks\":\"\"},\"colorscale\":[[0.0,\"#0d0887\"],[0.1111111111111111,\"#46039f\"],[0.2222222222222222,\"#7201a8\"],[0.3333333333333333,\"#9c179e\"],[0.4444444444444444,\"#bd3786\"],[0.5555555555555556,\"#d8576b\"],[0.6666666666666666,\"#ed7953\"],[0.7777777777777778,\"#fb9f3a\"],[0.8888888888888888,\"#fdca26\"],[1.0,\"#f0f921\"]]}],\"surface\":[{\"type\":\"surface\",\"colorbar\":{\"outlinewidth\":0,\"ticks\":\"\"},\"colorscale\":[[0.0,\"#0d0887\"],[0.1111111111111111,\"#46039f\"],[0.2222222222222222,\"#7201a8\"],[0.3333333333333333,\"#9c179e\"],[0.4444444444444444,\"#bd3786\"],[0.5555555555555556,\"#d8576b\"],[0.6666666666666666,\"#ed7953\"],[0.7777777777777778,\"#fb9f3a\"],[0.8888888888888888,\"#fdca26\"],[1.0,\"#f0f921\"]]}],\"mesh3d\":[{\"type\":\"mesh3d\",\"colorbar\":{\"outlinewidth\":0,\"ticks\":\"\"}}],\"scatter\":[{\"fillpattern\":{\"fillmode\":\"overlay\",\"size\":10,\"solidity\":0.2},\"type\":\"scatter\"}],\"parcoords\":[{\"type\":\"parcoords\",\"line\":{\"colorbar\":{\"outlinewidth\":0,\"ticks\":\"\"}}}],\"scatterpolargl\":[{\"type\":\"scatterpolargl\",\"marker\":{\"colorbar\":{\"outlinewidth\":0,\"ticks\":\"\"}}}],\"bar\":[{\"error_x\":{\"color\":\"#2a3f5f\"},\"error_y\":{\"color\":\"#2a3f5f\"},\"marker\":{\"line\":{\"color\":\"#E5ECF6\",\"width\":0.5},\"pattern\":{\"fillmode\":\"overlay\",\"size\":10,\"solidity\":0.2}},\"type\":\"bar\"}],\"scattergeo\":[{\"type\":\"scattergeo\",\"marker\":{\"colorbar\":{\"outlinewidth\":0,\"ticks\":\"\"}}}],\"scatterpolar\":[{\"type\":\"scatterpolar\",\"marker\":{\"colorbar\":{\"outlinewidth\":0,\"ticks\":\"\"}}}],\"histogram\":[{\"marker\":{\"pattern\":{\"fillmode\":\"overlay\",\"size\":10,\"solidity\":0.2}},\"type\":\"histogram\"}],\"scattergl\":[{\"type\":\"scattergl\",\"marker\":{\"colorbar\":{\"outlinewidth\":0,\"ticks\":\"\"}}}],\"scatter3d\":[{\"type\":\"scatter3d\",\"line\":{\"colorbar\":{\"outlinewidth\":0,\"ticks\":\"\"}},\"marker\":{\"colorbar\":{\"outlinewidth\":0,\"ticks\":\"\"}}}],\"scattermapbox\":[{\"type\":\"scattermapbox\",\"marker\":{\"colorbar\":{\"outlinewidth\":0,\"ticks\":\"\"}}}],\"scatterternary\":[{\"type\":\"scatterternary\",\"marker\":{\"colorbar\":{\"outlinewidth\":0,\"ticks\":\"\"}}}],\"scattercarpet\":[{\"type\":\"scattercarpet\",\"marker\":{\"colorbar\":{\"outlinewidth\":0,\"ticks\":\"\"}}}],\"carpet\":[{\"aaxis\":{\"endlinecolor\":\"#2a3f5f\",\"gridcolor\":\"white\",\"linecolor\":\"white\",\"minorgridcolor\":\"white\",\"startlinecolor\":\"#2a3f5f\"},\"baxis\":{\"endlinecolor\":\"#2a3f5f\",\"gridcolor\":\"white\",\"linecolor\":\"white\",\"minorgridcolor\":\"white\",\"startlinecolor\":\"#2a3f5f\"},\"type\":\"carpet\"}],\"table\":[{\"cells\":{\"fill\":{\"color\":\"#EBF0F8\"},\"line\":{\"color\":\"white\"}},\"header\":{\"fill\":{\"color\":\"#C8D4E3\"},\"line\":{\"color\":\"white\"}},\"type\":\"table\"}],\"barpolar\":[{\"marker\":{\"line\":{\"color\":\"#E5ECF6\",\"width\":0.5},\"pattern\":{\"fillmode\":\"overlay\",\"size\":10,\"solidity\":0.2}},\"type\":\"barpolar\"}],\"pie\":[{\"automargin\":true,\"type\":\"pie\"}]},\"layout\":{\"autotypenumbers\":\"strict\",\"colorway\":[\"#636efa\",\"#EF553B\",\"#00cc96\",\"#ab63fa\",\"#FFA15A\",\"#19d3f3\",\"#FF6692\",\"#B6E880\",\"#FF97FF\",\"#FECB52\"],\"font\":{\"color\":\"#2a3f5f\"},\"hovermode\":\"closest\",\"hoverlabel\":{\"align\":\"left\"},\"paper_bgcolor\":\"white\",\"plot_bgcolor\":\"#E5ECF6\",\"polar\":{\"bgcolor\":\"#E5ECF6\",\"angularaxis\":{\"gridcolor\":\"white\",\"linecolor\":\"white\",\"ticks\":\"\"},\"radialaxis\":{\"gridcolor\":\"white\",\"linecolor\":\"white\",\"ticks\":\"\"}},\"ternary\":{\"bgcolor\":\"#E5ECF6\",\"aaxis\":{\"gridcolor\":\"white\",\"linecolor\":\"white\",\"ticks\":\"\"},\"baxis\":{\"gridcolor\":\"white\",\"linecolor\":\"white\",\"ticks\":\"\"},\"caxis\":{\"gridcolor\":\"white\",\"linecolor\":\"white\",\"ticks\":\"\"}},\"coloraxis\":{\"colorbar\":{\"outlinewidth\":0,\"ticks\":\"\"}},\"colorscale\":{\"sequential\":[[0.0,\"#0d0887\"],[0.1111111111111111,\"#46039f\"],[0.2222222222222222,\"#7201a8\"],[0.3333333333333333,\"#9c179e\"],[0.4444444444444444,\"#bd3786\"],[0.5555555555555556,\"#d8576b\"],[0.6666666666666666,\"#ed7953\"],[0.7777777777777778,\"#fb9f3a\"],[0.8888888888888888,\"#fdca26\"],[1.0,\"#f0f921\"]],\"sequentialminus\":[[0.0,\"#0d0887\"],[0.1111111111111111,\"#46039f\"],[0.2222222222222222,\"#7201a8\"],[0.3333333333333333,\"#9c179e\"],[0.4444444444444444,\"#bd3786\"],[0.5555555555555556,\"#d8576b\"],[0.6666666666666666,\"#ed7953\"],[0.7777777777777778,\"#fb9f3a\"],[0.8888888888888888,\"#fdca26\"],[1.0,\"#f0f921\"]],\"diverging\":[[0,\"#8e0152\"],[0.1,\"#c51b7d\"],[0.2,\"#de77ae\"],[0.3,\"#f1b6da\"],[0.4,\"#fde0ef\"],[0.5,\"#f7f7f7\"],[0.6,\"#e6f5d0\"],[0.7,\"#b8e186\"],[0.8,\"#7fbc41\"],[0.9,\"#4d9221\"],[1,\"#276419\"]]},\"xaxis\":{\"gridcolor\":\"white\",\"linecolor\":\"white\",\"ticks\":\"\",\"title\":{\"standoff\":15},\"zerolinecolor\":\"white\",\"automargin\":true,\"zerolinewidth\":2},\"yaxis\":{\"gridcolor\":\"white\",\"linecolor\":\"white\",\"ticks\":\"\",\"title\":{\"standoff\":15},\"zerolinecolor\":\"white\",\"automargin\":true,\"zerolinewidth\":2},\"scene\":{\"xaxis\":{\"backgroundcolor\":\"#E5ECF6\",\"gridcolor\":\"white\",\"linecolor\":\"white\",\"showbackground\":true,\"ticks\":\"\",\"zerolinecolor\":\"white\",\"gridwidth\":2},\"yaxis\":{\"backgroundcolor\":\"#E5ECF6\",\"gridcolor\":\"white\",\"linecolor\":\"white\",\"showbackground\":true,\"ticks\":\"\",\"zerolinecolor\":\"white\",\"gridwidth\":2},\"zaxis\":{\"backgroundcolor\":\"#E5ECF6\",\"gridcolor\":\"white\",\"linecolor\":\"white\",\"showbackground\":true,\"ticks\":\"\",\"zerolinecolor\":\"white\",\"gridwidth\":2}},\"shapedefaults\":{\"line\":{\"color\":\"#2a3f5f\"}},\"annotationdefaults\":{\"arrowcolor\":\"#2a3f5f\",\"arrowhead\":0,\"arrowwidth\":1},\"geo\":{\"bgcolor\":\"white\",\"landcolor\":\"#E5ECF6\",\"subunitcolor\":\"white\",\"showland\":true,\"showlakes\":true,\"lakecolor\":\"white\"},\"title\":{\"x\":0.05},\"mapbox\":{\"style\":\"light\"}}},\"xaxis\":{\"anchor\":\"y\",\"domain\":[0.0,1.0],\"title\":{\"text\":\"Age of diagnosis\"}},\"yaxis\":{\"anchor\":\"x\",\"domain\":[0.0,1.0],\"title\":{\"text\":\"Number of Tumors\"}},\"legend\":{\"tracegroupgap\":0},\"margin\":{\"t\":60},\"barmode\":\"relative\",\"height\":600,\"width\":600,\"font\":{\"family\":\"arial, monospace\",\"size\":12}},                        {\"toImageButtonOptions\": {\"format\": \"png\", \"filename\": \"SEER_Osteosarcoma_total_notitle_2020\", \"height\": 500, \"width\": 700, \"scale\": 6}, \"responsive\": true}                    ).then(function(){\n",
              "                            \n",
              "var gd = document.getElementById('5cde1866-9d42-4b44-8e83-4684b9c546a2');\n",
              "var x = new MutationObserver(function (mutations, observer) {{\n",
              "        var display = window.getComputedStyle(gd).display;\n",
              "        if (!display || display === 'none') {{\n",
              "            console.log([gd, 'removed!']);\n",
              "            Plotly.purge(gd);\n",
              "            observer.disconnect();\n",
              "        }}\n",
              "}});\n",
              "\n",
              "// Listen for the removal of the full notebook cells\n",
              "var notebookContainer = gd.closest('#notebook-container');\n",
              "if (notebookContainer) {{\n",
              "    x.observe(notebookContainer, {childList: true});\n",
              "}}\n",
              "\n",
              "// Listen for the clearing of the current output cell\n",
              "var outputEl = gd.closest('.output');\n",
              "if (outputEl) {{\n",
              "    x.observe(outputEl, {childList: true});\n",
              "}}\n",
              "\n",
              "                        })                };                            </script>        </div>\n",
              "</body>\n",
              "</html>"
            ]
          },
          "metadata": {}
        }
      ]
    },
    {
      "cell_type": "markdown",
      "source": [
        "Graphing Males vs Females"
      ],
      "metadata": {
        "id": "N9xJFXCmWwZd"
      }
    },
    {
      "cell_type": "code",
      "source": [
        "# This creates a new dataframe where the data is grouped by sex in each age group\n",
        "# across all years, which will be used to create a line graph representing incidence\n",
        "# by sex.\n",
        "df_MF = df_clean.groupby(['Age recode with <1 year olds',\n",
        "                          'Sex'])['Count'].sum().reset_index()"
      ],
      "metadata": {
        "id": "0DE1jA_vaygj"
      },
      "execution_count": null,
      "outputs": []
    },
    {
      "cell_type": "code",
      "source": [
        "# This is a line graph of Males vs Females incidence of osteosarcoma across the\n",
        "# 46 year span.\n",
        "fig = px.line(df_MF, x = \"Age recode with <1 year olds\", y = \"Count\",\n",
        "              color = \"Sex\", width=900, height = 500,\n",
        "              category_orders = {\"Sex\":[\"Male\",\"Female\"]})\n",
        "fig.update_layout(\n",
        "   # title={\n",
        "    #    'text':\"Age in patients with Osteosarcoma <br> of long bones of lower limbs from SEER data 1975-2020\",\n",
        "   #     'y':0.95,\n",
        "    #    'x':0.5,\n",
        "    #    'xanchor': 'center',\n",
        "     #   'yanchor': 'top'},\n",
        "        xaxis_title=\"Age of diagnosis\", yaxis_title=\"Number of Tumors\",\n",
        "        font=dict(\n",
        "        family=\"arial, monospace\",\n",
        "        size=12))"
      ],
      "metadata": {
        "id": "G4Yf_4y1ZfhY",
        "colab": {
          "base_uri": "https://localhost:8080/",
          "height": 517
        },
        "outputId": "20beadac-2362-4fff-fd04-18bb418fd72a"
      },
      "execution_count": null,
      "outputs": [
        {
          "output_type": "display_data",
          "data": {
            "text/html": [
              "<html>\n",
              "<head><meta charset=\"utf-8\" /></head>\n",
              "<body>\n",
              "    <div>            <script src=\"https://cdnjs.cloudflare.com/ajax/libs/mathjax/2.7.5/MathJax.js?config=TeX-AMS-MML_SVG\"></script><script type=\"text/javascript\">if (window.MathJax && window.MathJax.Hub && window.MathJax.Hub.Config) {window.MathJax.Hub.Config({SVG: {font: \"STIX-Web\"}});}</script>                <script type=\"text/javascript\">window.PlotlyConfig = {MathJaxConfig: 'local'};</script>\n",
              "        <script src=\"https://cdn.plot.ly/plotly-2.18.2.min.js\"></script>                <div id=\"26fb9f1c-e273-4038-8cba-a07674a2b514\" class=\"plotly-graph-div\" style=\"height:500px; width:900px;\"></div>            <script type=\"text/javascript\">                                    window.PLOTLYENV=window.PLOTLYENV || {};                                    if (document.getElementById(\"26fb9f1c-e273-4038-8cba-a07674a2b514\")) {                    Plotly.newPlot(                        \"26fb9f1c-e273-4038-8cba-a07674a2b514\",                        [{\"hovertemplate\":\"Sex=Male<br>Age recode with <1 year olds=%{x}<br>Count=%{y}<extra></extra>\",\"legendgroup\":\"Male\",\"line\":{\"color\":\"#636efa\",\"dash\":\"solid\"},\"marker\":{\"symbol\":\"circle\"},\"mode\":\"lines\",\"name\":\"Male\",\"orientation\":\"v\",\"showlegend\":true,\"x\":[\"01-04 years\",\"05-09 years\",\"10-14 years\",\"15-19 years\",\"20-24 years\",\"25-29 years\",\"30-34 years\",\"35-39 years\",\"40-44 years\",\"45-49 years\",\"50-54 years\",\"55-59 years\",\"60-64 years\",\"65-69 years\",\"70-74 years\",\"75-79 years\",\"80-84 years\",\"85+ years\"],\"xaxis\":\"x\",\"y\":[5,68,226,293,103,49,44,17,33,21,18,26,21,18,17,11,7,12],\"yaxis\":\"y\",\"type\":\"scatter\"},{\"hovertemplate\":\"Sex=Female<br>Age recode with <1 year olds=%{x}<br>Count=%{y}<extra></extra>\",\"legendgroup\":\"Female\",\"line\":{\"color\":\"#EF553B\",\"dash\":\"solid\"},\"marker\":{\"symbol\":\"circle\"},\"mode\":\"lines\",\"name\":\"Female\",\"orientation\":\"v\",\"showlegend\":true,\"x\":[\"01-04 years\",\"05-09 years\",\"10-14 years\",\"15-19 years\",\"20-24 years\",\"25-29 years\",\"30-34 years\",\"35-39 years\",\"40-44 years\",\"45-49 years\",\"50-54 years\",\"55-59 years\",\"60-64 years\",\"65-69 years\",\"70-74 years\",\"75-79 years\",\"80-84 years\",\"85+ years\"],\"xaxis\":\"x\",\"y\":[8,77,220,163,68,40,31,28,22,22,16,11,23,14,16,12,6,13],\"yaxis\":\"y\",\"type\":\"scatter\"}],                        {\"template\":{\"data\":{\"histogram2dcontour\":[{\"type\":\"histogram2dcontour\",\"colorbar\":{\"outlinewidth\":0,\"ticks\":\"\"},\"colorscale\":[[0.0,\"#0d0887\"],[0.1111111111111111,\"#46039f\"],[0.2222222222222222,\"#7201a8\"],[0.3333333333333333,\"#9c179e\"],[0.4444444444444444,\"#bd3786\"],[0.5555555555555556,\"#d8576b\"],[0.6666666666666666,\"#ed7953\"],[0.7777777777777778,\"#fb9f3a\"],[0.8888888888888888,\"#fdca26\"],[1.0,\"#f0f921\"]]}],\"choropleth\":[{\"type\":\"choropleth\",\"colorbar\":{\"outlinewidth\":0,\"ticks\":\"\"}}],\"histogram2d\":[{\"type\":\"histogram2d\",\"colorbar\":{\"outlinewidth\":0,\"ticks\":\"\"},\"colorscale\":[[0.0,\"#0d0887\"],[0.1111111111111111,\"#46039f\"],[0.2222222222222222,\"#7201a8\"],[0.3333333333333333,\"#9c179e\"],[0.4444444444444444,\"#bd3786\"],[0.5555555555555556,\"#d8576b\"],[0.6666666666666666,\"#ed7953\"],[0.7777777777777778,\"#fb9f3a\"],[0.8888888888888888,\"#fdca26\"],[1.0,\"#f0f921\"]]}],\"heatmap\":[{\"type\":\"heatmap\",\"colorbar\":{\"outlinewidth\":0,\"ticks\":\"\"},\"colorscale\":[[0.0,\"#0d0887\"],[0.1111111111111111,\"#46039f\"],[0.2222222222222222,\"#7201a8\"],[0.3333333333333333,\"#9c179e\"],[0.4444444444444444,\"#bd3786\"],[0.5555555555555556,\"#d8576b\"],[0.6666666666666666,\"#ed7953\"],[0.7777777777777778,\"#fb9f3a\"],[0.8888888888888888,\"#fdca26\"],[1.0,\"#f0f921\"]]}],\"heatmapgl\":[{\"type\":\"heatmapgl\",\"colorbar\":{\"outlinewidth\":0,\"ticks\":\"\"},\"colorscale\":[[0.0,\"#0d0887\"],[0.1111111111111111,\"#46039f\"],[0.2222222222222222,\"#7201a8\"],[0.3333333333333333,\"#9c179e\"],[0.4444444444444444,\"#bd3786\"],[0.5555555555555556,\"#d8576b\"],[0.6666666666666666,\"#ed7953\"],[0.7777777777777778,\"#fb9f3a\"],[0.8888888888888888,\"#fdca26\"],[1.0,\"#f0f921\"]]}],\"contourcarpet\":[{\"type\":\"contourcarpet\",\"colorbar\":{\"outlinewidth\":0,\"ticks\":\"\"}}],\"contour\":[{\"type\":\"contour\",\"colorbar\":{\"outlinewidth\":0,\"ticks\":\"\"},\"colorscale\":[[0.0,\"#0d0887\"],[0.1111111111111111,\"#46039f\"],[0.2222222222222222,\"#7201a8\"],[0.3333333333333333,\"#9c179e\"],[0.4444444444444444,\"#bd3786\"],[0.5555555555555556,\"#d8576b\"],[0.6666666666666666,\"#ed7953\"],[0.7777777777777778,\"#fb9f3a\"],[0.8888888888888888,\"#fdca26\"],[1.0,\"#f0f921\"]]}],\"surface\":[{\"type\":\"surface\",\"colorbar\":{\"outlinewidth\":0,\"ticks\":\"\"},\"colorscale\":[[0.0,\"#0d0887\"],[0.1111111111111111,\"#46039f\"],[0.2222222222222222,\"#7201a8\"],[0.3333333333333333,\"#9c179e\"],[0.4444444444444444,\"#bd3786\"],[0.5555555555555556,\"#d8576b\"],[0.6666666666666666,\"#ed7953\"],[0.7777777777777778,\"#fb9f3a\"],[0.8888888888888888,\"#fdca26\"],[1.0,\"#f0f921\"]]}],\"mesh3d\":[{\"type\":\"mesh3d\",\"colorbar\":{\"outlinewidth\":0,\"ticks\":\"\"}}],\"scatter\":[{\"fillpattern\":{\"fillmode\":\"overlay\",\"size\":10,\"solidity\":0.2},\"type\":\"scatter\"}],\"parcoords\":[{\"type\":\"parcoords\",\"line\":{\"colorbar\":{\"outlinewidth\":0,\"ticks\":\"\"}}}],\"scatterpolargl\":[{\"type\":\"scatterpolargl\",\"marker\":{\"colorbar\":{\"outlinewidth\":0,\"ticks\":\"\"}}}],\"bar\":[{\"error_x\":{\"color\":\"#2a3f5f\"},\"error_y\":{\"color\":\"#2a3f5f\"},\"marker\":{\"line\":{\"color\":\"#E5ECF6\",\"width\":0.5},\"pattern\":{\"fillmode\":\"overlay\",\"size\":10,\"solidity\":0.2}},\"type\":\"bar\"}],\"scattergeo\":[{\"type\":\"scattergeo\",\"marker\":{\"colorbar\":{\"outlinewidth\":0,\"ticks\":\"\"}}}],\"scatterpolar\":[{\"type\":\"scatterpolar\",\"marker\":{\"colorbar\":{\"outlinewidth\":0,\"ticks\":\"\"}}}],\"histogram\":[{\"marker\":{\"pattern\":{\"fillmode\":\"overlay\",\"size\":10,\"solidity\":0.2}},\"type\":\"histogram\"}],\"scattergl\":[{\"type\":\"scattergl\",\"marker\":{\"colorbar\":{\"outlinewidth\":0,\"ticks\":\"\"}}}],\"scatter3d\":[{\"type\":\"scatter3d\",\"line\":{\"colorbar\":{\"outlinewidth\":0,\"ticks\":\"\"}},\"marker\":{\"colorbar\":{\"outlinewidth\":0,\"ticks\":\"\"}}}],\"scattermapbox\":[{\"type\":\"scattermapbox\",\"marker\":{\"colorbar\":{\"outlinewidth\":0,\"ticks\":\"\"}}}],\"scatterternary\":[{\"type\":\"scatterternary\",\"marker\":{\"colorbar\":{\"outlinewidth\":0,\"ticks\":\"\"}}}],\"scattercarpet\":[{\"type\":\"scattercarpet\",\"marker\":{\"colorbar\":{\"outlinewidth\":0,\"ticks\":\"\"}}}],\"carpet\":[{\"aaxis\":{\"endlinecolor\":\"#2a3f5f\",\"gridcolor\":\"white\",\"linecolor\":\"white\",\"minorgridcolor\":\"white\",\"startlinecolor\":\"#2a3f5f\"},\"baxis\":{\"endlinecolor\":\"#2a3f5f\",\"gridcolor\":\"white\",\"linecolor\":\"white\",\"minorgridcolor\":\"white\",\"startlinecolor\":\"#2a3f5f\"},\"type\":\"carpet\"}],\"table\":[{\"cells\":{\"fill\":{\"color\":\"#EBF0F8\"},\"line\":{\"color\":\"white\"}},\"header\":{\"fill\":{\"color\":\"#C8D4E3\"},\"line\":{\"color\":\"white\"}},\"type\":\"table\"}],\"barpolar\":[{\"marker\":{\"line\":{\"color\":\"#E5ECF6\",\"width\":0.5},\"pattern\":{\"fillmode\":\"overlay\",\"size\":10,\"solidity\":0.2}},\"type\":\"barpolar\"}],\"pie\":[{\"automargin\":true,\"type\":\"pie\"}]},\"layout\":{\"autotypenumbers\":\"strict\",\"colorway\":[\"#636efa\",\"#EF553B\",\"#00cc96\",\"#ab63fa\",\"#FFA15A\",\"#19d3f3\",\"#FF6692\",\"#B6E880\",\"#FF97FF\",\"#FECB52\"],\"font\":{\"color\":\"#2a3f5f\"},\"hovermode\":\"closest\",\"hoverlabel\":{\"align\":\"left\"},\"paper_bgcolor\":\"white\",\"plot_bgcolor\":\"#E5ECF6\",\"polar\":{\"bgcolor\":\"#E5ECF6\",\"angularaxis\":{\"gridcolor\":\"white\",\"linecolor\":\"white\",\"ticks\":\"\"},\"radialaxis\":{\"gridcolor\":\"white\",\"linecolor\":\"white\",\"ticks\":\"\"}},\"ternary\":{\"bgcolor\":\"#E5ECF6\",\"aaxis\":{\"gridcolor\":\"white\",\"linecolor\":\"white\",\"ticks\":\"\"},\"baxis\":{\"gridcolor\":\"white\",\"linecolor\":\"white\",\"ticks\":\"\"},\"caxis\":{\"gridcolor\":\"white\",\"linecolor\":\"white\",\"ticks\":\"\"}},\"coloraxis\":{\"colorbar\":{\"outlinewidth\":0,\"ticks\":\"\"}},\"colorscale\":{\"sequential\":[[0.0,\"#0d0887\"],[0.1111111111111111,\"#46039f\"],[0.2222222222222222,\"#7201a8\"],[0.3333333333333333,\"#9c179e\"],[0.4444444444444444,\"#bd3786\"],[0.5555555555555556,\"#d8576b\"],[0.6666666666666666,\"#ed7953\"],[0.7777777777777778,\"#fb9f3a\"],[0.8888888888888888,\"#fdca26\"],[1.0,\"#f0f921\"]],\"sequentialminus\":[[0.0,\"#0d0887\"],[0.1111111111111111,\"#46039f\"],[0.2222222222222222,\"#7201a8\"],[0.3333333333333333,\"#9c179e\"],[0.4444444444444444,\"#bd3786\"],[0.5555555555555556,\"#d8576b\"],[0.6666666666666666,\"#ed7953\"],[0.7777777777777778,\"#fb9f3a\"],[0.8888888888888888,\"#fdca26\"],[1.0,\"#f0f921\"]],\"diverging\":[[0,\"#8e0152\"],[0.1,\"#c51b7d\"],[0.2,\"#de77ae\"],[0.3,\"#f1b6da\"],[0.4,\"#fde0ef\"],[0.5,\"#f7f7f7\"],[0.6,\"#e6f5d0\"],[0.7,\"#b8e186\"],[0.8,\"#7fbc41\"],[0.9,\"#4d9221\"],[1,\"#276419\"]]},\"xaxis\":{\"gridcolor\":\"white\",\"linecolor\":\"white\",\"ticks\":\"\",\"title\":{\"standoff\":15},\"zerolinecolor\":\"white\",\"automargin\":true,\"zerolinewidth\":2},\"yaxis\":{\"gridcolor\":\"white\",\"linecolor\":\"white\",\"ticks\":\"\",\"title\":{\"standoff\":15},\"zerolinecolor\":\"white\",\"automargin\":true,\"zerolinewidth\":2},\"scene\":{\"xaxis\":{\"backgroundcolor\":\"#E5ECF6\",\"gridcolor\":\"white\",\"linecolor\":\"white\",\"showbackground\":true,\"ticks\":\"\",\"zerolinecolor\":\"white\",\"gridwidth\":2},\"yaxis\":{\"backgroundcolor\":\"#E5ECF6\",\"gridcolor\":\"white\",\"linecolor\":\"white\",\"showbackground\":true,\"ticks\":\"\",\"zerolinecolor\":\"white\",\"gridwidth\":2},\"zaxis\":{\"backgroundcolor\":\"#E5ECF6\",\"gridcolor\":\"white\",\"linecolor\":\"white\",\"showbackground\":true,\"ticks\":\"\",\"zerolinecolor\":\"white\",\"gridwidth\":2}},\"shapedefaults\":{\"line\":{\"color\":\"#2a3f5f\"}},\"annotationdefaults\":{\"arrowcolor\":\"#2a3f5f\",\"arrowhead\":0,\"arrowwidth\":1},\"geo\":{\"bgcolor\":\"white\",\"landcolor\":\"#E5ECF6\",\"subunitcolor\":\"white\",\"showland\":true,\"showlakes\":true,\"lakecolor\":\"white\"},\"title\":{\"x\":0.05},\"mapbox\":{\"style\":\"light\"}}},\"xaxis\":{\"anchor\":\"y\",\"domain\":[0.0,1.0],\"title\":{\"text\":\"Age of diagnosis\"}},\"yaxis\":{\"anchor\":\"x\",\"domain\":[0.0,1.0],\"title\":{\"text\":\"Number of Tumors\"}},\"legend\":{\"title\":{\"text\":\"Sex\"},\"tracegroupgap\":0},\"margin\":{\"t\":60},\"height\":500,\"width\":900,\"font\":{\"family\":\"arial, monospace\",\"size\":12}},                        {\"responsive\": true}                    ).then(function(){\n",
              "                            \n",
              "var gd = document.getElementById('26fb9f1c-e273-4038-8cba-a07674a2b514');\n",
              "var x = new MutationObserver(function (mutations, observer) {{\n",
              "        var display = window.getComputedStyle(gd).display;\n",
              "        if (!display || display === 'none') {{\n",
              "            console.log([gd, 'removed!']);\n",
              "            Plotly.purge(gd);\n",
              "            observer.disconnect();\n",
              "        }}\n",
              "}});\n",
              "\n",
              "// Listen for the removal of the full notebook cells\n",
              "var notebookContainer = gd.closest('#notebook-container');\n",
              "if (notebookContainer) {{\n",
              "    x.observe(notebookContainer, {childList: true});\n",
              "}}\n",
              "\n",
              "// Listen for the clearing of the current output cell\n",
              "var outputEl = gd.closest('.output');\n",
              "if (outputEl) {{\n",
              "    x.observe(outputEl, {childList: true});\n",
              "}}\n",
              "\n",
              "                        })                };                            </script>        </div>\n",
              "</body>\n",
              "</html>"
            ]
          },
          "metadata": {}
        }
      ]
    },
    {
      "cell_type": "code",
      "source": [
        "# This makes the graph a higher resolution image for saving.\n",
        "config = {\n",
        "  'toImageButtonOptions': {\n",
        "    'format': 'png', # one of png, svg, jpeg, webp\n",
        "    'filename': 'SEER_Osteosarcoma_M/F_line_notitle_2020',\n",
        "    'height': 500,\n",
        "    'width': 900,\n",
        "    'scale':6 # Multiply title/legend/axis/canvas sizes by this factor\n",
        "  }\n",
        "}\n",
        "\n",
        "\n",
        "fig.show(config=config)"
      ],
      "metadata": {
        "id": "TROXO1MAMpQK",
        "colab": {
          "base_uri": "https://localhost:8080/",
          "height": 517
        },
        "outputId": "33281f5f-bd44-488a-ec0c-4e97a7397812"
      },
      "execution_count": null,
      "outputs": [
        {
          "output_type": "display_data",
          "data": {
            "text/html": [
              "<html>\n",
              "<head><meta charset=\"utf-8\" /></head>\n",
              "<body>\n",
              "    <div>            <script src=\"https://cdnjs.cloudflare.com/ajax/libs/mathjax/2.7.5/MathJax.js?config=TeX-AMS-MML_SVG\"></script><script type=\"text/javascript\">if (window.MathJax && window.MathJax.Hub && window.MathJax.Hub.Config) {window.MathJax.Hub.Config({SVG: {font: \"STIX-Web\"}});}</script>                <script type=\"text/javascript\">window.PlotlyConfig = {MathJaxConfig: 'local'};</script>\n",
              "        <script src=\"https://cdn.plot.ly/plotly-2.18.2.min.js\"></script>                <div id=\"63a7720d-3b2c-4708-8bb8-4e5690dc1274\" class=\"plotly-graph-div\" style=\"height:500px; width:900px;\"></div>            <script type=\"text/javascript\">                                    window.PLOTLYENV=window.PLOTLYENV || {};                                    if (document.getElementById(\"63a7720d-3b2c-4708-8bb8-4e5690dc1274\")) {                    Plotly.newPlot(                        \"63a7720d-3b2c-4708-8bb8-4e5690dc1274\",                        [{\"hovertemplate\":\"Sex=Male<br>Age recode with <1 year olds=%{x}<br>Count=%{y}<extra></extra>\",\"legendgroup\":\"Male\",\"line\":{\"color\":\"#636efa\",\"dash\":\"solid\"},\"marker\":{\"symbol\":\"circle\"},\"mode\":\"lines\",\"name\":\"Male\",\"orientation\":\"v\",\"showlegend\":true,\"x\":[\"01-04 years\",\"05-09 years\",\"10-14 years\",\"15-19 years\",\"20-24 years\",\"25-29 years\",\"30-34 years\",\"35-39 years\",\"40-44 years\",\"45-49 years\",\"50-54 years\",\"55-59 years\",\"60-64 years\",\"65-69 years\",\"70-74 years\",\"75-79 years\",\"80-84 years\",\"85+ years\"],\"xaxis\":\"x\",\"y\":[5,68,226,293,103,49,44,17,33,21,18,26,21,18,17,11,7,12],\"yaxis\":\"y\",\"type\":\"scatter\"},{\"hovertemplate\":\"Sex=Female<br>Age recode with <1 year olds=%{x}<br>Count=%{y}<extra></extra>\",\"legendgroup\":\"Female\",\"line\":{\"color\":\"#EF553B\",\"dash\":\"solid\"},\"marker\":{\"symbol\":\"circle\"},\"mode\":\"lines\",\"name\":\"Female\",\"orientation\":\"v\",\"showlegend\":true,\"x\":[\"01-04 years\",\"05-09 years\",\"10-14 years\",\"15-19 years\",\"20-24 years\",\"25-29 years\",\"30-34 years\",\"35-39 years\",\"40-44 years\",\"45-49 years\",\"50-54 years\",\"55-59 years\",\"60-64 years\",\"65-69 years\",\"70-74 years\",\"75-79 years\",\"80-84 years\",\"85+ years\"],\"xaxis\":\"x\",\"y\":[8,77,220,163,68,40,31,28,22,22,16,11,23,14,16,12,6,13],\"yaxis\":\"y\",\"type\":\"scatter\"}],                        {\"template\":{\"data\":{\"histogram2dcontour\":[{\"type\":\"histogram2dcontour\",\"colorbar\":{\"outlinewidth\":0,\"ticks\":\"\"},\"colorscale\":[[0.0,\"#0d0887\"],[0.1111111111111111,\"#46039f\"],[0.2222222222222222,\"#7201a8\"],[0.3333333333333333,\"#9c179e\"],[0.4444444444444444,\"#bd3786\"],[0.5555555555555556,\"#d8576b\"],[0.6666666666666666,\"#ed7953\"],[0.7777777777777778,\"#fb9f3a\"],[0.8888888888888888,\"#fdca26\"],[1.0,\"#f0f921\"]]}],\"choropleth\":[{\"type\":\"choropleth\",\"colorbar\":{\"outlinewidth\":0,\"ticks\":\"\"}}],\"histogram2d\":[{\"type\":\"histogram2d\",\"colorbar\":{\"outlinewidth\":0,\"ticks\":\"\"},\"colorscale\":[[0.0,\"#0d0887\"],[0.1111111111111111,\"#46039f\"],[0.2222222222222222,\"#7201a8\"],[0.3333333333333333,\"#9c179e\"],[0.4444444444444444,\"#bd3786\"],[0.5555555555555556,\"#d8576b\"],[0.6666666666666666,\"#ed7953\"],[0.7777777777777778,\"#fb9f3a\"],[0.8888888888888888,\"#fdca26\"],[1.0,\"#f0f921\"]]}],\"heatmap\":[{\"type\":\"heatmap\",\"colorbar\":{\"outlinewidth\":0,\"ticks\":\"\"},\"colorscale\":[[0.0,\"#0d0887\"],[0.1111111111111111,\"#46039f\"],[0.2222222222222222,\"#7201a8\"],[0.3333333333333333,\"#9c179e\"],[0.4444444444444444,\"#bd3786\"],[0.5555555555555556,\"#d8576b\"],[0.6666666666666666,\"#ed7953\"],[0.7777777777777778,\"#fb9f3a\"],[0.8888888888888888,\"#fdca26\"],[1.0,\"#f0f921\"]]}],\"heatmapgl\":[{\"type\":\"heatmapgl\",\"colorbar\":{\"outlinewidth\":0,\"ticks\":\"\"},\"colorscale\":[[0.0,\"#0d0887\"],[0.1111111111111111,\"#46039f\"],[0.2222222222222222,\"#7201a8\"],[0.3333333333333333,\"#9c179e\"],[0.4444444444444444,\"#bd3786\"],[0.5555555555555556,\"#d8576b\"],[0.6666666666666666,\"#ed7953\"],[0.7777777777777778,\"#fb9f3a\"],[0.8888888888888888,\"#fdca26\"],[1.0,\"#f0f921\"]]}],\"contourcarpet\":[{\"type\":\"contourcarpet\",\"colorbar\":{\"outlinewidth\":0,\"ticks\":\"\"}}],\"contour\":[{\"type\":\"contour\",\"colorbar\":{\"outlinewidth\":0,\"ticks\":\"\"},\"colorscale\":[[0.0,\"#0d0887\"],[0.1111111111111111,\"#46039f\"],[0.2222222222222222,\"#7201a8\"],[0.3333333333333333,\"#9c179e\"],[0.4444444444444444,\"#bd3786\"],[0.5555555555555556,\"#d8576b\"],[0.6666666666666666,\"#ed7953\"],[0.7777777777777778,\"#fb9f3a\"],[0.8888888888888888,\"#fdca26\"],[1.0,\"#f0f921\"]]}],\"surface\":[{\"type\":\"surface\",\"colorbar\":{\"outlinewidth\":0,\"ticks\":\"\"},\"colorscale\":[[0.0,\"#0d0887\"],[0.1111111111111111,\"#46039f\"],[0.2222222222222222,\"#7201a8\"],[0.3333333333333333,\"#9c179e\"],[0.4444444444444444,\"#bd3786\"],[0.5555555555555556,\"#d8576b\"],[0.6666666666666666,\"#ed7953\"],[0.7777777777777778,\"#fb9f3a\"],[0.8888888888888888,\"#fdca26\"],[1.0,\"#f0f921\"]]}],\"mesh3d\":[{\"type\":\"mesh3d\",\"colorbar\":{\"outlinewidth\":0,\"ticks\":\"\"}}],\"scatter\":[{\"fillpattern\":{\"fillmode\":\"overlay\",\"size\":10,\"solidity\":0.2},\"type\":\"scatter\"}],\"parcoords\":[{\"type\":\"parcoords\",\"line\":{\"colorbar\":{\"outlinewidth\":0,\"ticks\":\"\"}}}],\"scatterpolargl\":[{\"type\":\"scatterpolargl\",\"marker\":{\"colorbar\":{\"outlinewidth\":0,\"ticks\":\"\"}}}],\"bar\":[{\"error_x\":{\"color\":\"#2a3f5f\"},\"error_y\":{\"color\":\"#2a3f5f\"},\"marker\":{\"line\":{\"color\":\"#E5ECF6\",\"width\":0.5},\"pattern\":{\"fillmode\":\"overlay\",\"size\":10,\"solidity\":0.2}},\"type\":\"bar\"}],\"scattergeo\":[{\"type\":\"scattergeo\",\"marker\":{\"colorbar\":{\"outlinewidth\":0,\"ticks\":\"\"}}}],\"scatterpolar\":[{\"type\":\"scatterpolar\",\"marker\":{\"colorbar\":{\"outlinewidth\":0,\"ticks\":\"\"}}}],\"histogram\":[{\"marker\":{\"pattern\":{\"fillmode\":\"overlay\",\"size\":10,\"solidity\":0.2}},\"type\":\"histogram\"}],\"scattergl\":[{\"type\":\"scattergl\",\"marker\":{\"colorbar\":{\"outlinewidth\":0,\"ticks\":\"\"}}}],\"scatter3d\":[{\"type\":\"scatter3d\",\"line\":{\"colorbar\":{\"outlinewidth\":0,\"ticks\":\"\"}},\"marker\":{\"colorbar\":{\"outlinewidth\":0,\"ticks\":\"\"}}}],\"scattermapbox\":[{\"type\":\"scattermapbox\",\"marker\":{\"colorbar\":{\"outlinewidth\":0,\"ticks\":\"\"}}}],\"scatterternary\":[{\"type\":\"scatterternary\",\"marker\":{\"colorbar\":{\"outlinewidth\":0,\"ticks\":\"\"}}}],\"scattercarpet\":[{\"type\":\"scattercarpet\",\"marker\":{\"colorbar\":{\"outlinewidth\":0,\"ticks\":\"\"}}}],\"carpet\":[{\"aaxis\":{\"endlinecolor\":\"#2a3f5f\",\"gridcolor\":\"white\",\"linecolor\":\"white\",\"minorgridcolor\":\"white\",\"startlinecolor\":\"#2a3f5f\"},\"baxis\":{\"endlinecolor\":\"#2a3f5f\",\"gridcolor\":\"white\",\"linecolor\":\"white\",\"minorgridcolor\":\"white\",\"startlinecolor\":\"#2a3f5f\"},\"type\":\"carpet\"}],\"table\":[{\"cells\":{\"fill\":{\"color\":\"#EBF0F8\"},\"line\":{\"color\":\"white\"}},\"header\":{\"fill\":{\"color\":\"#C8D4E3\"},\"line\":{\"color\":\"white\"}},\"type\":\"table\"}],\"barpolar\":[{\"marker\":{\"line\":{\"color\":\"#E5ECF6\",\"width\":0.5},\"pattern\":{\"fillmode\":\"overlay\",\"size\":10,\"solidity\":0.2}},\"type\":\"barpolar\"}],\"pie\":[{\"automargin\":true,\"type\":\"pie\"}]},\"layout\":{\"autotypenumbers\":\"strict\",\"colorway\":[\"#636efa\",\"#EF553B\",\"#00cc96\",\"#ab63fa\",\"#FFA15A\",\"#19d3f3\",\"#FF6692\",\"#B6E880\",\"#FF97FF\",\"#FECB52\"],\"font\":{\"color\":\"#2a3f5f\"},\"hovermode\":\"closest\",\"hoverlabel\":{\"align\":\"left\"},\"paper_bgcolor\":\"white\",\"plot_bgcolor\":\"#E5ECF6\",\"polar\":{\"bgcolor\":\"#E5ECF6\",\"angularaxis\":{\"gridcolor\":\"white\",\"linecolor\":\"white\",\"ticks\":\"\"},\"radialaxis\":{\"gridcolor\":\"white\",\"linecolor\":\"white\",\"ticks\":\"\"}},\"ternary\":{\"bgcolor\":\"#E5ECF6\",\"aaxis\":{\"gridcolor\":\"white\",\"linecolor\":\"white\",\"ticks\":\"\"},\"baxis\":{\"gridcolor\":\"white\",\"linecolor\":\"white\",\"ticks\":\"\"},\"caxis\":{\"gridcolor\":\"white\",\"linecolor\":\"white\",\"ticks\":\"\"}},\"coloraxis\":{\"colorbar\":{\"outlinewidth\":0,\"ticks\":\"\"}},\"colorscale\":{\"sequential\":[[0.0,\"#0d0887\"],[0.1111111111111111,\"#46039f\"],[0.2222222222222222,\"#7201a8\"],[0.3333333333333333,\"#9c179e\"],[0.4444444444444444,\"#bd3786\"],[0.5555555555555556,\"#d8576b\"],[0.6666666666666666,\"#ed7953\"],[0.7777777777777778,\"#fb9f3a\"],[0.8888888888888888,\"#fdca26\"],[1.0,\"#f0f921\"]],\"sequentialminus\":[[0.0,\"#0d0887\"],[0.1111111111111111,\"#46039f\"],[0.2222222222222222,\"#7201a8\"],[0.3333333333333333,\"#9c179e\"],[0.4444444444444444,\"#bd3786\"],[0.5555555555555556,\"#d8576b\"],[0.6666666666666666,\"#ed7953\"],[0.7777777777777778,\"#fb9f3a\"],[0.8888888888888888,\"#fdca26\"],[1.0,\"#f0f921\"]],\"diverging\":[[0,\"#8e0152\"],[0.1,\"#c51b7d\"],[0.2,\"#de77ae\"],[0.3,\"#f1b6da\"],[0.4,\"#fde0ef\"],[0.5,\"#f7f7f7\"],[0.6,\"#e6f5d0\"],[0.7,\"#b8e186\"],[0.8,\"#7fbc41\"],[0.9,\"#4d9221\"],[1,\"#276419\"]]},\"xaxis\":{\"gridcolor\":\"white\",\"linecolor\":\"white\",\"ticks\":\"\",\"title\":{\"standoff\":15},\"zerolinecolor\":\"white\",\"automargin\":true,\"zerolinewidth\":2},\"yaxis\":{\"gridcolor\":\"white\",\"linecolor\":\"white\",\"ticks\":\"\",\"title\":{\"standoff\":15},\"zerolinecolor\":\"white\",\"automargin\":true,\"zerolinewidth\":2},\"scene\":{\"xaxis\":{\"backgroundcolor\":\"#E5ECF6\",\"gridcolor\":\"white\",\"linecolor\":\"white\",\"showbackground\":true,\"ticks\":\"\",\"zerolinecolor\":\"white\",\"gridwidth\":2},\"yaxis\":{\"backgroundcolor\":\"#E5ECF6\",\"gridcolor\":\"white\",\"linecolor\":\"white\",\"showbackground\":true,\"ticks\":\"\",\"zerolinecolor\":\"white\",\"gridwidth\":2},\"zaxis\":{\"backgroundcolor\":\"#E5ECF6\",\"gridcolor\":\"white\",\"linecolor\":\"white\",\"showbackground\":true,\"ticks\":\"\",\"zerolinecolor\":\"white\",\"gridwidth\":2}},\"shapedefaults\":{\"line\":{\"color\":\"#2a3f5f\"}},\"annotationdefaults\":{\"arrowcolor\":\"#2a3f5f\",\"arrowhead\":0,\"arrowwidth\":1},\"geo\":{\"bgcolor\":\"white\",\"landcolor\":\"#E5ECF6\",\"subunitcolor\":\"white\",\"showland\":true,\"showlakes\":true,\"lakecolor\":\"white\"},\"title\":{\"x\":0.05},\"mapbox\":{\"style\":\"light\"}}},\"xaxis\":{\"anchor\":\"y\",\"domain\":[0.0,1.0],\"title\":{\"text\":\"Age of diagnosis\"}},\"yaxis\":{\"anchor\":\"x\",\"domain\":[0.0,1.0],\"title\":{\"text\":\"Number of Tumors\"}},\"legend\":{\"title\":{\"text\":\"Sex\"},\"tracegroupgap\":0},\"margin\":{\"t\":60},\"height\":500,\"width\":900,\"font\":{\"family\":\"arial, monospace\",\"size\":12}},                        {\"toImageButtonOptions\": {\"format\": \"png\", \"filename\": \"SEER_Osteosarcoma_M/F_line_notitle_2020\", \"height\": 500, \"width\": 900, \"scale\": 6}, \"responsive\": true}                    ).then(function(){\n",
              "                            \n",
              "var gd = document.getElementById('63a7720d-3b2c-4708-8bb8-4e5690dc1274');\n",
              "var x = new MutationObserver(function (mutations, observer) {{\n",
              "        var display = window.getComputedStyle(gd).display;\n",
              "        if (!display || display === 'none') {{\n",
              "            console.log([gd, 'removed!']);\n",
              "            Plotly.purge(gd);\n",
              "            observer.disconnect();\n",
              "        }}\n",
              "}});\n",
              "\n",
              "// Listen for the removal of the full notebook cells\n",
              "var notebookContainer = gd.closest('#notebook-container');\n",
              "if (notebookContainer) {{\n",
              "    x.observe(notebookContainer, {childList: true});\n",
              "}}\n",
              "\n",
              "// Listen for the clearing of the current output cell\n",
              "var outputEl = gd.closest('.output');\n",
              "if (outputEl) {{\n",
              "    x.observe(outputEl, {childList: true});\n",
              "}}\n",
              "\n",
              "                        })                };                            </script>        </div>\n",
              "</body>\n",
              "</html>"
            ]
          },
          "metadata": {}
        }
      ]
    },
    {
      "cell_type": "markdown",
      "source": [
        "subcohort analysis of the 40+ age group"
      ],
      "metadata": {
        "id": "pjgV6vej85Kv"
      }
    },
    {
      "cell_type": "code",
      "source": [
        "# First we create a new data frame where we eliminate the year \"1975-2020\",\n",
        "# Sex = Male&Female, Count > 0, and age of \"00 years\" and \"unknown\".\n",
        "df_MF_total = df[df[\"Year of diagnosis\"]!=\"1975-2020\"].copy()\n",
        "df_MF_total['Year of diagnosis']=df_MF_total['Year of diagnosis'].astype(int)\n",
        "df_MF_total = df_MF_total[(df_MF_total['Count']>=0)&(df_MF_total['Sex']=='Male and female')&\n",
        "         (df_MF_total['Age recode with <1 year olds']!='00 years')&\n",
        "         (df_MF_total['Age recode with <1 year olds']!='Unknown')]"
      ],
      "metadata": {
        "id": "h0-NWo2pdWIn"
      },
      "execution_count": null,
      "outputs": []
    },
    {
      "cell_type": "code",
      "source": [
        "# Next we create a copy of the dataframe that only extracts the data corresponding\n",
        "# to those 40+ years old. Then we reorder the data in that new dataframe by age\n",
        "# and year, reporting the total number of osteosarcoma cases for each.\n",
        "df_40plus1 = df_MF_total.copy()\n",
        "df_40plus1 = df_40plus1[(df_40plus1['Age recode with <1 year olds'].isin(\n",
        "    ['40-44 years', '45-49 years', '50-54 years',\n",
        "       '55-59 years', '60-64 years', '65-69 years', '70-74 years',\n",
        "       '75-79 years', '80-84 years', '85+ years']))]\n",
        "df_40plus1 = df_40plus1.groupby(['Year of diagnosis','Age recode with <1 year olds'])['Count'].sum().reset_index()"
      ],
      "metadata": {
        "id": "Vo0roGXSajLb"
      },
      "execution_count": null,
      "outputs": []
    },
    {
      "cell_type": "code",
      "source": [
        "# Now we create a dataframe that extracts the age group with the maximum each year\n",
        "# and then pulls information regarding the incidence of osteosarcoma and year from\n",
        "# that original dataframe.\n",
        "df_maxcount = df_40plus1.groupby(['Year of diagnosis'])['Count'].max().reset_index()\n",
        "df_maxage = df_maxcount.merge(df_40plus1, on=['Year of diagnosis','Count'], how = 'left')"
      ],
      "metadata": {
        "id": "LfaiYOJCc3xE"
      },
      "execution_count": null,
      "outputs": []
    },
    {
      "cell_type": "code",
      "source": [
        "# Since there are several years where there are more than one max, we create a\n",
        "# new dataframe that only extracts the years where there was a unique maximum.\n",
        "# Then we reset the count to '1'for each occurence of a unique maximum, which will help\n",
        "# when it comes time to tallying up the total number of unique maximums.\n",
        "df_singlemax = df_maxage.groupby('Year of diagnosis')['Age recode with <1 year olds'].nunique().reset_index()\n",
        "df_singlemax = df_singlemax[df_singlemax['Age recode with <1 year olds']==1]"
      ],
      "metadata": {
        "id": "cXsxyc_0hRdp"
      },
      "execution_count": null,
      "outputs": []
    },
    {
      "cell_type": "code",
      "source": [
        "# This line of code creates a histogram of the subcohort analysis that tallies\n",
        "# the number of times each age group over in the 40+ years range held a unique\n",
        "# maximum.\n",
        "figmax = px.histogram(df_maxage[df_maxage['Year of diagnosis'].isin(df_singlemax[\n",
        "    'Year of diagnosis'].unique())], width = 600, height = 500,\n",
        "    x = 'Age recode with <1 year olds', category_orders =\n",
        "    {'Age recode with <1 year olds':['40-44 years', '45-49 years', '50-54 years',\n",
        "       '55-59 years', '60-64 years', '65-69 years', '70-74 years',\n",
        "       '75-79 years', '80-84 years', '85+ years']} )\n",
        "figmax.update_layout(\n",
        "   # title={\n",
        "    #   'text':\"Frequency of Unique Maximums of <br> Osteosarcoma of the long bones of the lower limbs for <br> 40+ years old in SEER data 1975-2020\",\n",
        "    #    'y':0.97,\n",
        "    #    'x':0.5,\n",
        "    #    'xanchor': 'center',\n",
        "    #    'yanchor': 'top'},\n",
        "    xaxis_title=\"Age of diagnosis\",\n",
        "    yaxis_title=\"Frequency of Unique Maximums\",\n",
        "    font=dict(\n",
        "        family=\"arial, monospace\",\n",
        "        size=12\n",
        "    ))"
      ],
      "metadata": {
        "id": "Prai7yYXiCDk",
        "colab": {
          "base_uri": "https://localhost:8080/",
          "height": 517
        },
        "outputId": "1d548640-bbb4-43f4-fc04-f3983f449367"
      },
      "execution_count": null,
      "outputs": [
        {
          "output_type": "display_data",
          "data": {
            "text/html": [
              "<html>\n",
              "<head><meta charset=\"utf-8\" /></head>\n",
              "<body>\n",
              "    <div>            <script src=\"https://cdnjs.cloudflare.com/ajax/libs/mathjax/2.7.5/MathJax.js?config=TeX-AMS-MML_SVG\"></script><script type=\"text/javascript\">if (window.MathJax && window.MathJax.Hub && window.MathJax.Hub.Config) {window.MathJax.Hub.Config({SVG: {font: \"STIX-Web\"}});}</script>                <script type=\"text/javascript\">window.PlotlyConfig = {MathJaxConfig: 'local'};</script>\n",
              "        <script src=\"https://cdn.plot.ly/plotly-2.18.2.min.js\"></script>                <div id=\"2f53406b-aaed-4826-b9de-ae4ab86ecf0e\" class=\"plotly-graph-div\" style=\"height:500px; width:600px;\"></div>            <script type=\"text/javascript\">                                    window.PLOTLYENV=window.PLOTLYENV || {};                                    if (document.getElementById(\"2f53406b-aaed-4826-b9de-ae4ab86ecf0e\")) {                    Plotly.newPlot(                        \"2f53406b-aaed-4826-b9de-ae4ab86ecf0e\",                        [{\"alignmentgroup\":\"True\",\"bingroup\":\"x\",\"hovertemplate\":\"Age recode with <1 year olds=%{x}<br>count=%{y}<extra></extra>\",\"legendgroup\":\"\",\"marker\":{\"color\":\"#636efa\",\"pattern\":{\"shape\":\"\"}},\"name\":\"\",\"offsetgroup\":\"\",\"orientation\":\"v\",\"showlegend\":false,\"x\":[\"55-59 years\",\"50-54 years\",\"70-74 years\",\"50-54 years\",\"65-69 years\",\"40-44 years\",\"75-79 years\",\"40-44 years\",\"60-64 years\",\"50-54 years\",\"40-44 years\",\"45-49 years\",\"45-49 years\",\"40-44 years\",\"45-49 years\",\"60-64 years\",\"70-74 years\",\"50-54 years\",\"40-44 years\",\"50-54 years\",\"85+ years\"],\"xaxis\":\"x\",\"yaxis\":\"y\",\"type\":\"histogram\"}],                        {\"template\":{\"data\":{\"histogram2dcontour\":[{\"type\":\"histogram2dcontour\",\"colorbar\":{\"outlinewidth\":0,\"ticks\":\"\"},\"colorscale\":[[0.0,\"#0d0887\"],[0.1111111111111111,\"#46039f\"],[0.2222222222222222,\"#7201a8\"],[0.3333333333333333,\"#9c179e\"],[0.4444444444444444,\"#bd3786\"],[0.5555555555555556,\"#d8576b\"],[0.6666666666666666,\"#ed7953\"],[0.7777777777777778,\"#fb9f3a\"],[0.8888888888888888,\"#fdca26\"],[1.0,\"#f0f921\"]]}],\"choropleth\":[{\"type\":\"choropleth\",\"colorbar\":{\"outlinewidth\":0,\"ticks\":\"\"}}],\"histogram2d\":[{\"type\":\"histogram2d\",\"colorbar\":{\"outlinewidth\":0,\"ticks\":\"\"},\"colorscale\":[[0.0,\"#0d0887\"],[0.1111111111111111,\"#46039f\"],[0.2222222222222222,\"#7201a8\"],[0.3333333333333333,\"#9c179e\"],[0.4444444444444444,\"#bd3786\"],[0.5555555555555556,\"#d8576b\"],[0.6666666666666666,\"#ed7953\"],[0.7777777777777778,\"#fb9f3a\"],[0.8888888888888888,\"#fdca26\"],[1.0,\"#f0f921\"]]}],\"heatmap\":[{\"type\":\"heatmap\",\"colorbar\":{\"outlinewidth\":0,\"ticks\":\"\"},\"colorscale\":[[0.0,\"#0d0887\"],[0.1111111111111111,\"#46039f\"],[0.2222222222222222,\"#7201a8\"],[0.3333333333333333,\"#9c179e\"],[0.4444444444444444,\"#bd3786\"],[0.5555555555555556,\"#d8576b\"],[0.6666666666666666,\"#ed7953\"],[0.7777777777777778,\"#fb9f3a\"],[0.8888888888888888,\"#fdca26\"],[1.0,\"#f0f921\"]]}],\"heatmapgl\":[{\"type\":\"heatmapgl\",\"colorbar\":{\"outlinewidth\":0,\"ticks\":\"\"},\"colorscale\":[[0.0,\"#0d0887\"],[0.1111111111111111,\"#46039f\"],[0.2222222222222222,\"#7201a8\"],[0.3333333333333333,\"#9c179e\"],[0.4444444444444444,\"#bd3786\"],[0.5555555555555556,\"#d8576b\"],[0.6666666666666666,\"#ed7953\"],[0.7777777777777778,\"#fb9f3a\"],[0.8888888888888888,\"#fdca26\"],[1.0,\"#f0f921\"]]}],\"contourcarpet\":[{\"type\":\"contourcarpet\",\"colorbar\":{\"outlinewidth\":0,\"ticks\":\"\"}}],\"contour\":[{\"type\":\"contour\",\"colorbar\":{\"outlinewidth\":0,\"ticks\":\"\"},\"colorscale\":[[0.0,\"#0d0887\"],[0.1111111111111111,\"#46039f\"],[0.2222222222222222,\"#7201a8\"],[0.3333333333333333,\"#9c179e\"],[0.4444444444444444,\"#bd3786\"],[0.5555555555555556,\"#d8576b\"],[0.6666666666666666,\"#ed7953\"],[0.7777777777777778,\"#fb9f3a\"],[0.8888888888888888,\"#fdca26\"],[1.0,\"#f0f921\"]]}],\"surface\":[{\"type\":\"surface\",\"colorbar\":{\"outlinewidth\":0,\"ticks\":\"\"},\"colorscale\":[[0.0,\"#0d0887\"],[0.1111111111111111,\"#46039f\"],[0.2222222222222222,\"#7201a8\"],[0.3333333333333333,\"#9c179e\"],[0.4444444444444444,\"#bd3786\"],[0.5555555555555556,\"#d8576b\"],[0.6666666666666666,\"#ed7953\"],[0.7777777777777778,\"#fb9f3a\"],[0.8888888888888888,\"#fdca26\"],[1.0,\"#f0f921\"]]}],\"mesh3d\":[{\"type\":\"mesh3d\",\"colorbar\":{\"outlinewidth\":0,\"ticks\":\"\"}}],\"scatter\":[{\"fillpattern\":{\"fillmode\":\"overlay\",\"size\":10,\"solidity\":0.2},\"type\":\"scatter\"}],\"parcoords\":[{\"type\":\"parcoords\",\"line\":{\"colorbar\":{\"outlinewidth\":0,\"ticks\":\"\"}}}],\"scatterpolargl\":[{\"type\":\"scatterpolargl\",\"marker\":{\"colorbar\":{\"outlinewidth\":0,\"ticks\":\"\"}}}],\"bar\":[{\"error_x\":{\"color\":\"#2a3f5f\"},\"error_y\":{\"color\":\"#2a3f5f\"},\"marker\":{\"line\":{\"color\":\"#E5ECF6\",\"width\":0.5},\"pattern\":{\"fillmode\":\"overlay\",\"size\":10,\"solidity\":0.2}},\"type\":\"bar\"}],\"scattergeo\":[{\"type\":\"scattergeo\",\"marker\":{\"colorbar\":{\"outlinewidth\":0,\"ticks\":\"\"}}}],\"scatterpolar\":[{\"type\":\"scatterpolar\",\"marker\":{\"colorbar\":{\"outlinewidth\":0,\"ticks\":\"\"}}}],\"histogram\":[{\"marker\":{\"pattern\":{\"fillmode\":\"overlay\",\"size\":10,\"solidity\":0.2}},\"type\":\"histogram\"}],\"scattergl\":[{\"type\":\"scattergl\",\"marker\":{\"colorbar\":{\"outlinewidth\":0,\"ticks\":\"\"}}}],\"scatter3d\":[{\"type\":\"scatter3d\",\"line\":{\"colorbar\":{\"outlinewidth\":0,\"ticks\":\"\"}},\"marker\":{\"colorbar\":{\"outlinewidth\":0,\"ticks\":\"\"}}}],\"scattermapbox\":[{\"type\":\"scattermapbox\",\"marker\":{\"colorbar\":{\"outlinewidth\":0,\"ticks\":\"\"}}}],\"scatterternary\":[{\"type\":\"scatterternary\",\"marker\":{\"colorbar\":{\"outlinewidth\":0,\"ticks\":\"\"}}}],\"scattercarpet\":[{\"type\":\"scattercarpet\",\"marker\":{\"colorbar\":{\"outlinewidth\":0,\"ticks\":\"\"}}}],\"carpet\":[{\"aaxis\":{\"endlinecolor\":\"#2a3f5f\",\"gridcolor\":\"white\",\"linecolor\":\"white\",\"minorgridcolor\":\"white\",\"startlinecolor\":\"#2a3f5f\"},\"baxis\":{\"endlinecolor\":\"#2a3f5f\",\"gridcolor\":\"white\",\"linecolor\":\"white\",\"minorgridcolor\":\"white\",\"startlinecolor\":\"#2a3f5f\"},\"type\":\"carpet\"}],\"table\":[{\"cells\":{\"fill\":{\"color\":\"#EBF0F8\"},\"line\":{\"color\":\"white\"}},\"header\":{\"fill\":{\"color\":\"#C8D4E3\"},\"line\":{\"color\":\"white\"}},\"type\":\"table\"}],\"barpolar\":[{\"marker\":{\"line\":{\"color\":\"#E5ECF6\",\"width\":0.5},\"pattern\":{\"fillmode\":\"overlay\",\"size\":10,\"solidity\":0.2}},\"type\":\"barpolar\"}],\"pie\":[{\"automargin\":true,\"type\":\"pie\"}]},\"layout\":{\"autotypenumbers\":\"strict\",\"colorway\":[\"#636efa\",\"#EF553B\",\"#00cc96\",\"#ab63fa\",\"#FFA15A\",\"#19d3f3\",\"#FF6692\",\"#B6E880\",\"#FF97FF\",\"#FECB52\"],\"font\":{\"color\":\"#2a3f5f\"},\"hovermode\":\"closest\",\"hoverlabel\":{\"align\":\"left\"},\"paper_bgcolor\":\"white\",\"plot_bgcolor\":\"#E5ECF6\",\"polar\":{\"bgcolor\":\"#E5ECF6\",\"angularaxis\":{\"gridcolor\":\"white\",\"linecolor\":\"white\",\"ticks\":\"\"},\"radialaxis\":{\"gridcolor\":\"white\",\"linecolor\":\"white\",\"ticks\":\"\"}},\"ternary\":{\"bgcolor\":\"#E5ECF6\",\"aaxis\":{\"gridcolor\":\"white\",\"linecolor\":\"white\",\"ticks\":\"\"},\"baxis\":{\"gridcolor\":\"white\",\"linecolor\":\"white\",\"ticks\":\"\"},\"caxis\":{\"gridcolor\":\"white\",\"linecolor\":\"white\",\"ticks\":\"\"}},\"coloraxis\":{\"colorbar\":{\"outlinewidth\":0,\"ticks\":\"\"}},\"colorscale\":{\"sequential\":[[0.0,\"#0d0887\"],[0.1111111111111111,\"#46039f\"],[0.2222222222222222,\"#7201a8\"],[0.3333333333333333,\"#9c179e\"],[0.4444444444444444,\"#bd3786\"],[0.5555555555555556,\"#d8576b\"],[0.6666666666666666,\"#ed7953\"],[0.7777777777777778,\"#fb9f3a\"],[0.8888888888888888,\"#fdca26\"],[1.0,\"#f0f921\"]],\"sequentialminus\":[[0.0,\"#0d0887\"],[0.1111111111111111,\"#46039f\"],[0.2222222222222222,\"#7201a8\"],[0.3333333333333333,\"#9c179e\"],[0.4444444444444444,\"#bd3786\"],[0.5555555555555556,\"#d8576b\"],[0.6666666666666666,\"#ed7953\"],[0.7777777777777778,\"#fb9f3a\"],[0.8888888888888888,\"#fdca26\"],[1.0,\"#f0f921\"]],\"diverging\":[[0,\"#8e0152\"],[0.1,\"#c51b7d\"],[0.2,\"#de77ae\"],[0.3,\"#f1b6da\"],[0.4,\"#fde0ef\"],[0.5,\"#f7f7f7\"],[0.6,\"#e6f5d0\"],[0.7,\"#b8e186\"],[0.8,\"#7fbc41\"],[0.9,\"#4d9221\"],[1,\"#276419\"]]},\"xaxis\":{\"gridcolor\":\"white\",\"linecolor\":\"white\",\"ticks\":\"\",\"title\":{\"standoff\":15},\"zerolinecolor\":\"white\",\"automargin\":true,\"zerolinewidth\":2},\"yaxis\":{\"gridcolor\":\"white\",\"linecolor\":\"white\",\"ticks\":\"\",\"title\":{\"standoff\":15},\"zerolinecolor\":\"white\",\"automargin\":true,\"zerolinewidth\":2},\"scene\":{\"xaxis\":{\"backgroundcolor\":\"#E5ECF6\",\"gridcolor\":\"white\",\"linecolor\":\"white\",\"showbackground\":true,\"ticks\":\"\",\"zerolinecolor\":\"white\",\"gridwidth\":2},\"yaxis\":{\"backgroundcolor\":\"#E5ECF6\",\"gridcolor\":\"white\",\"linecolor\":\"white\",\"showbackground\":true,\"ticks\":\"\",\"zerolinecolor\":\"white\",\"gridwidth\":2},\"zaxis\":{\"backgroundcolor\":\"#E5ECF6\",\"gridcolor\":\"white\",\"linecolor\":\"white\",\"showbackground\":true,\"ticks\":\"\",\"zerolinecolor\":\"white\",\"gridwidth\":2}},\"shapedefaults\":{\"line\":{\"color\":\"#2a3f5f\"}},\"annotationdefaults\":{\"arrowcolor\":\"#2a3f5f\",\"arrowhead\":0,\"arrowwidth\":1},\"geo\":{\"bgcolor\":\"white\",\"landcolor\":\"#E5ECF6\",\"subunitcolor\":\"white\",\"showland\":true,\"showlakes\":true,\"lakecolor\":\"white\"},\"title\":{\"x\":0.05},\"mapbox\":{\"style\":\"light\"}}},\"xaxis\":{\"anchor\":\"y\",\"domain\":[0.0,1.0],\"title\":{\"text\":\"Age of diagnosis\"},\"categoryorder\":\"array\",\"categoryarray\":[\"40-44 years\",\"45-49 years\",\"50-54 years\",\"55-59 years\",\"60-64 years\",\"65-69 years\",\"70-74 years\",\"75-79 years\",\"80-84 years\",\"85+ years\"]},\"yaxis\":{\"anchor\":\"x\",\"domain\":[0.0,1.0],\"title\":{\"text\":\"Frequency of Unique Maximums\"}},\"legend\":{\"tracegroupgap\":0},\"margin\":{\"t\":60},\"barmode\":\"relative\",\"height\":500,\"width\":600,\"font\":{\"family\":\"arial, monospace\",\"size\":12}},                        {\"responsive\": true}                    ).then(function(){\n",
              "                            \n",
              "var gd = document.getElementById('2f53406b-aaed-4826-b9de-ae4ab86ecf0e');\n",
              "var x = new MutationObserver(function (mutations, observer) {{\n",
              "        var display = window.getComputedStyle(gd).display;\n",
              "        if (!display || display === 'none') {{\n",
              "            console.log([gd, 'removed!']);\n",
              "            Plotly.purge(gd);\n",
              "            observer.disconnect();\n",
              "        }}\n",
              "}});\n",
              "\n",
              "// Listen for the removal of the full notebook cells\n",
              "var notebookContainer = gd.closest('#notebook-container');\n",
              "if (notebookContainer) {{\n",
              "    x.observe(notebookContainer, {childList: true});\n",
              "}}\n",
              "\n",
              "// Listen for the clearing of the current output cell\n",
              "var outputEl = gd.closest('.output');\n",
              "if (outputEl) {{\n",
              "    x.observe(outputEl, {childList: true});\n",
              "}}\n",
              "\n",
              "                        })                };                            </script>        </div>\n",
              "</body>\n",
              "</html>"
            ]
          },
          "metadata": {}
        }
      ]
    },
    {
      "cell_type": "code",
      "source": [
        "# This configuration saves image in higher resolution.\n",
        "config = {\n",
        "  'toImageButtonOptions': {\n",
        "    'format': 'png', # one of png, svg, jpeg, webp\n",
        "    'filename': 'SEER_40plus_truemax_2020',\n",
        "    'height': 500,\n",
        "    'width': 700,\n",
        "    'scale':6 # Multiply title/legend/axis/canvas sizes by this factor\n",
        "  }\n",
        "}\n",
        "figmax.show(config=config)"
      ],
      "metadata": {
        "id": "HBd43u43NW3J",
        "colab": {
          "base_uri": "https://localhost:8080/",
          "height": 517
        },
        "outputId": "797887ef-102f-4f60-ee91-8aa86d473d41"
      },
      "execution_count": null,
      "outputs": [
        {
          "output_type": "display_data",
          "data": {
            "text/html": [
              "<html>\n",
              "<head><meta charset=\"utf-8\" /></head>\n",
              "<body>\n",
              "    <div>            <script src=\"https://cdnjs.cloudflare.com/ajax/libs/mathjax/2.7.5/MathJax.js?config=TeX-AMS-MML_SVG\"></script><script type=\"text/javascript\">if (window.MathJax && window.MathJax.Hub && window.MathJax.Hub.Config) {window.MathJax.Hub.Config({SVG: {font: \"STIX-Web\"}});}</script>                <script type=\"text/javascript\">window.PlotlyConfig = {MathJaxConfig: 'local'};</script>\n",
              "        <script src=\"https://cdn.plot.ly/plotly-2.18.2.min.js\"></script>                <div id=\"b7c002e4-64a7-4071-bbd9-a7ee03f30f6c\" class=\"plotly-graph-div\" style=\"height:500px; width:600px;\"></div>            <script type=\"text/javascript\">                                    window.PLOTLYENV=window.PLOTLYENV || {};                                    if (document.getElementById(\"b7c002e4-64a7-4071-bbd9-a7ee03f30f6c\")) {                    Plotly.newPlot(                        \"b7c002e4-64a7-4071-bbd9-a7ee03f30f6c\",                        [{\"alignmentgroup\":\"True\",\"bingroup\":\"x\",\"hovertemplate\":\"Age recode with <1 year olds=%{x}<br>count=%{y}<extra></extra>\",\"legendgroup\":\"\",\"marker\":{\"color\":\"#636efa\",\"pattern\":{\"shape\":\"\"}},\"name\":\"\",\"offsetgroup\":\"\",\"orientation\":\"v\",\"showlegend\":false,\"x\":[\"55-59 years\",\"50-54 years\",\"70-74 years\",\"50-54 years\",\"65-69 years\",\"40-44 years\",\"75-79 years\",\"40-44 years\",\"60-64 years\",\"50-54 years\",\"40-44 years\",\"45-49 years\",\"45-49 years\",\"40-44 years\",\"45-49 years\",\"60-64 years\",\"70-74 years\",\"50-54 years\",\"40-44 years\",\"50-54 years\",\"85+ years\"],\"xaxis\":\"x\",\"yaxis\":\"y\",\"type\":\"histogram\"}],                        {\"template\":{\"data\":{\"histogram2dcontour\":[{\"type\":\"histogram2dcontour\",\"colorbar\":{\"outlinewidth\":0,\"ticks\":\"\"},\"colorscale\":[[0.0,\"#0d0887\"],[0.1111111111111111,\"#46039f\"],[0.2222222222222222,\"#7201a8\"],[0.3333333333333333,\"#9c179e\"],[0.4444444444444444,\"#bd3786\"],[0.5555555555555556,\"#d8576b\"],[0.6666666666666666,\"#ed7953\"],[0.7777777777777778,\"#fb9f3a\"],[0.8888888888888888,\"#fdca26\"],[1.0,\"#f0f921\"]]}],\"choropleth\":[{\"type\":\"choropleth\",\"colorbar\":{\"outlinewidth\":0,\"ticks\":\"\"}}],\"histogram2d\":[{\"type\":\"histogram2d\",\"colorbar\":{\"outlinewidth\":0,\"ticks\":\"\"},\"colorscale\":[[0.0,\"#0d0887\"],[0.1111111111111111,\"#46039f\"],[0.2222222222222222,\"#7201a8\"],[0.3333333333333333,\"#9c179e\"],[0.4444444444444444,\"#bd3786\"],[0.5555555555555556,\"#d8576b\"],[0.6666666666666666,\"#ed7953\"],[0.7777777777777778,\"#fb9f3a\"],[0.8888888888888888,\"#fdca26\"],[1.0,\"#f0f921\"]]}],\"heatmap\":[{\"type\":\"heatmap\",\"colorbar\":{\"outlinewidth\":0,\"ticks\":\"\"},\"colorscale\":[[0.0,\"#0d0887\"],[0.1111111111111111,\"#46039f\"],[0.2222222222222222,\"#7201a8\"],[0.3333333333333333,\"#9c179e\"],[0.4444444444444444,\"#bd3786\"],[0.5555555555555556,\"#d8576b\"],[0.6666666666666666,\"#ed7953\"],[0.7777777777777778,\"#fb9f3a\"],[0.8888888888888888,\"#fdca26\"],[1.0,\"#f0f921\"]]}],\"heatmapgl\":[{\"type\":\"heatmapgl\",\"colorbar\":{\"outlinewidth\":0,\"ticks\":\"\"},\"colorscale\":[[0.0,\"#0d0887\"],[0.1111111111111111,\"#46039f\"],[0.2222222222222222,\"#7201a8\"],[0.3333333333333333,\"#9c179e\"],[0.4444444444444444,\"#bd3786\"],[0.5555555555555556,\"#d8576b\"],[0.6666666666666666,\"#ed7953\"],[0.7777777777777778,\"#fb9f3a\"],[0.8888888888888888,\"#fdca26\"],[1.0,\"#f0f921\"]]}],\"contourcarpet\":[{\"type\":\"contourcarpet\",\"colorbar\":{\"outlinewidth\":0,\"ticks\":\"\"}}],\"contour\":[{\"type\":\"contour\",\"colorbar\":{\"outlinewidth\":0,\"ticks\":\"\"},\"colorscale\":[[0.0,\"#0d0887\"],[0.1111111111111111,\"#46039f\"],[0.2222222222222222,\"#7201a8\"],[0.3333333333333333,\"#9c179e\"],[0.4444444444444444,\"#bd3786\"],[0.5555555555555556,\"#d8576b\"],[0.6666666666666666,\"#ed7953\"],[0.7777777777777778,\"#fb9f3a\"],[0.8888888888888888,\"#fdca26\"],[1.0,\"#f0f921\"]]}],\"surface\":[{\"type\":\"surface\",\"colorbar\":{\"outlinewidth\":0,\"ticks\":\"\"},\"colorscale\":[[0.0,\"#0d0887\"],[0.1111111111111111,\"#46039f\"],[0.2222222222222222,\"#7201a8\"],[0.3333333333333333,\"#9c179e\"],[0.4444444444444444,\"#bd3786\"],[0.5555555555555556,\"#d8576b\"],[0.6666666666666666,\"#ed7953\"],[0.7777777777777778,\"#fb9f3a\"],[0.8888888888888888,\"#fdca26\"],[1.0,\"#f0f921\"]]}],\"mesh3d\":[{\"type\":\"mesh3d\",\"colorbar\":{\"outlinewidth\":0,\"ticks\":\"\"}}],\"scatter\":[{\"fillpattern\":{\"fillmode\":\"overlay\",\"size\":10,\"solidity\":0.2},\"type\":\"scatter\"}],\"parcoords\":[{\"type\":\"parcoords\",\"line\":{\"colorbar\":{\"outlinewidth\":0,\"ticks\":\"\"}}}],\"scatterpolargl\":[{\"type\":\"scatterpolargl\",\"marker\":{\"colorbar\":{\"outlinewidth\":0,\"ticks\":\"\"}}}],\"bar\":[{\"error_x\":{\"color\":\"#2a3f5f\"},\"error_y\":{\"color\":\"#2a3f5f\"},\"marker\":{\"line\":{\"color\":\"#E5ECF6\",\"width\":0.5},\"pattern\":{\"fillmode\":\"overlay\",\"size\":10,\"solidity\":0.2}},\"type\":\"bar\"}],\"scattergeo\":[{\"type\":\"scattergeo\",\"marker\":{\"colorbar\":{\"outlinewidth\":0,\"ticks\":\"\"}}}],\"scatterpolar\":[{\"type\":\"scatterpolar\",\"marker\":{\"colorbar\":{\"outlinewidth\":0,\"ticks\":\"\"}}}],\"histogram\":[{\"marker\":{\"pattern\":{\"fillmode\":\"overlay\",\"size\":10,\"solidity\":0.2}},\"type\":\"histogram\"}],\"scattergl\":[{\"type\":\"scattergl\",\"marker\":{\"colorbar\":{\"outlinewidth\":0,\"ticks\":\"\"}}}],\"scatter3d\":[{\"type\":\"scatter3d\",\"line\":{\"colorbar\":{\"outlinewidth\":0,\"ticks\":\"\"}},\"marker\":{\"colorbar\":{\"outlinewidth\":0,\"ticks\":\"\"}}}],\"scattermapbox\":[{\"type\":\"scattermapbox\",\"marker\":{\"colorbar\":{\"outlinewidth\":0,\"ticks\":\"\"}}}],\"scatterternary\":[{\"type\":\"scatterternary\",\"marker\":{\"colorbar\":{\"outlinewidth\":0,\"ticks\":\"\"}}}],\"scattercarpet\":[{\"type\":\"scattercarpet\",\"marker\":{\"colorbar\":{\"outlinewidth\":0,\"ticks\":\"\"}}}],\"carpet\":[{\"aaxis\":{\"endlinecolor\":\"#2a3f5f\",\"gridcolor\":\"white\",\"linecolor\":\"white\",\"minorgridcolor\":\"white\",\"startlinecolor\":\"#2a3f5f\"},\"baxis\":{\"endlinecolor\":\"#2a3f5f\",\"gridcolor\":\"white\",\"linecolor\":\"white\",\"minorgridcolor\":\"white\",\"startlinecolor\":\"#2a3f5f\"},\"type\":\"carpet\"}],\"table\":[{\"cells\":{\"fill\":{\"color\":\"#EBF0F8\"},\"line\":{\"color\":\"white\"}},\"header\":{\"fill\":{\"color\":\"#C8D4E3\"},\"line\":{\"color\":\"white\"}},\"type\":\"table\"}],\"barpolar\":[{\"marker\":{\"line\":{\"color\":\"#E5ECF6\",\"width\":0.5},\"pattern\":{\"fillmode\":\"overlay\",\"size\":10,\"solidity\":0.2}},\"type\":\"barpolar\"}],\"pie\":[{\"automargin\":true,\"type\":\"pie\"}]},\"layout\":{\"autotypenumbers\":\"strict\",\"colorway\":[\"#636efa\",\"#EF553B\",\"#00cc96\",\"#ab63fa\",\"#FFA15A\",\"#19d3f3\",\"#FF6692\",\"#B6E880\",\"#FF97FF\",\"#FECB52\"],\"font\":{\"color\":\"#2a3f5f\"},\"hovermode\":\"closest\",\"hoverlabel\":{\"align\":\"left\"},\"paper_bgcolor\":\"white\",\"plot_bgcolor\":\"#E5ECF6\",\"polar\":{\"bgcolor\":\"#E5ECF6\",\"angularaxis\":{\"gridcolor\":\"white\",\"linecolor\":\"white\",\"ticks\":\"\"},\"radialaxis\":{\"gridcolor\":\"white\",\"linecolor\":\"white\",\"ticks\":\"\"}},\"ternary\":{\"bgcolor\":\"#E5ECF6\",\"aaxis\":{\"gridcolor\":\"white\",\"linecolor\":\"white\",\"ticks\":\"\"},\"baxis\":{\"gridcolor\":\"white\",\"linecolor\":\"white\",\"ticks\":\"\"},\"caxis\":{\"gridcolor\":\"white\",\"linecolor\":\"white\",\"ticks\":\"\"}},\"coloraxis\":{\"colorbar\":{\"outlinewidth\":0,\"ticks\":\"\"}},\"colorscale\":{\"sequential\":[[0.0,\"#0d0887\"],[0.1111111111111111,\"#46039f\"],[0.2222222222222222,\"#7201a8\"],[0.3333333333333333,\"#9c179e\"],[0.4444444444444444,\"#bd3786\"],[0.5555555555555556,\"#d8576b\"],[0.6666666666666666,\"#ed7953\"],[0.7777777777777778,\"#fb9f3a\"],[0.8888888888888888,\"#fdca26\"],[1.0,\"#f0f921\"]],\"sequentialminus\":[[0.0,\"#0d0887\"],[0.1111111111111111,\"#46039f\"],[0.2222222222222222,\"#7201a8\"],[0.3333333333333333,\"#9c179e\"],[0.4444444444444444,\"#bd3786\"],[0.5555555555555556,\"#d8576b\"],[0.6666666666666666,\"#ed7953\"],[0.7777777777777778,\"#fb9f3a\"],[0.8888888888888888,\"#fdca26\"],[1.0,\"#f0f921\"]],\"diverging\":[[0,\"#8e0152\"],[0.1,\"#c51b7d\"],[0.2,\"#de77ae\"],[0.3,\"#f1b6da\"],[0.4,\"#fde0ef\"],[0.5,\"#f7f7f7\"],[0.6,\"#e6f5d0\"],[0.7,\"#b8e186\"],[0.8,\"#7fbc41\"],[0.9,\"#4d9221\"],[1,\"#276419\"]]},\"xaxis\":{\"gridcolor\":\"white\",\"linecolor\":\"white\",\"ticks\":\"\",\"title\":{\"standoff\":15},\"zerolinecolor\":\"white\",\"automargin\":true,\"zerolinewidth\":2},\"yaxis\":{\"gridcolor\":\"white\",\"linecolor\":\"white\",\"ticks\":\"\",\"title\":{\"standoff\":15},\"zerolinecolor\":\"white\",\"automargin\":true,\"zerolinewidth\":2},\"scene\":{\"xaxis\":{\"backgroundcolor\":\"#E5ECF6\",\"gridcolor\":\"white\",\"linecolor\":\"white\",\"showbackground\":true,\"ticks\":\"\",\"zerolinecolor\":\"white\",\"gridwidth\":2},\"yaxis\":{\"backgroundcolor\":\"#E5ECF6\",\"gridcolor\":\"white\",\"linecolor\":\"white\",\"showbackground\":true,\"ticks\":\"\",\"zerolinecolor\":\"white\",\"gridwidth\":2},\"zaxis\":{\"backgroundcolor\":\"#E5ECF6\",\"gridcolor\":\"white\",\"linecolor\":\"white\",\"showbackground\":true,\"ticks\":\"\",\"zerolinecolor\":\"white\",\"gridwidth\":2}},\"shapedefaults\":{\"line\":{\"color\":\"#2a3f5f\"}},\"annotationdefaults\":{\"arrowcolor\":\"#2a3f5f\",\"arrowhead\":0,\"arrowwidth\":1},\"geo\":{\"bgcolor\":\"white\",\"landcolor\":\"#E5ECF6\",\"subunitcolor\":\"white\",\"showland\":true,\"showlakes\":true,\"lakecolor\":\"white\"},\"title\":{\"x\":0.05},\"mapbox\":{\"style\":\"light\"}}},\"xaxis\":{\"anchor\":\"y\",\"domain\":[0.0,1.0],\"title\":{\"text\":\"Age of diagnosis\"},\"categoryorder\":\"array\",\"categoryarray\":[\"40-44 years\",\"45-49 years\",\"50-54 years\",\"55-59 years\",\"60-64 years\",\"65-69 years\",\"70-74 years\",\"75-79 years\",\"80-84 years\",\"85+ years\"]},\"yaxis\":{\"anchor\":\"x\",\"domain\":[0.0,1.0],\"title\":{\"text\":\"Frequency of Unique Maximums\"}},\"legend\":{\"tracegroupgap\":0},\"margin\":{\"t\":60},\"barmode\":\"relative\",\"height\":500,\"width\":600,\"font\":{\"family\":\"arial, monospace\",\"size\":12}},                        {\"toImageButtonOptions\": {\"format\": \"png\", \"filename\": \"SEER_40plus_truemax_2020\", \"height\": 500, \"width\": 700, \"scale\": 6}, \"responsive\": true}                    ).then(function(){\n",
              "                            \n",
              "var gd = document.getElementById('b7c002e4-64a7-4071-bbd9-a7ee03f30f6c');\n",
              "var x = new MutationObserver(function (mutations, observer) {{\n",
              "        var display = window.getComputedStyle(gd).display;\n",
              "        if (!display || display === 'none') {{\n",
              "            console.log([gd, 'removed!']);\n",
              "            Plotly.purge(gd);\n",
              "            observer.disconnect();\n",
              "        }}\n",
              "}});\n",
              "\n",
              "// Listen for the removal of the full notebook cells\n",
              "var notebookContainer = gd.closest('#notebook-container');\n",
              "if (notebookContainer) {{\n",
              "    x.observe(notebookContainer, {childList: true});\n",
              "}}\n",
              "\n",
              "// Listen for the clearing of the current output cell\n",
              "var outputEl = gd.closest('.output');\n",
              "if (outputEl) {{\n",
              "    x.observe(outputEl, {childList: true});\n",
              "}}\n",
              "\n",
              "                        })                };                            </script>        </div>\n",
              "</body>\n",
              "</html>"
            ]
          },
          "metadata": {}
        }
      ]
    },
    {
      "cell_type": "markdown",
      "source": [
        "Create 3D graphs"
      ],
      "metadata": {
        "id": "g034BkHSEy8d"
      }
    },
    {
      "cell_type": "code",
      "source": [
        "#import data file to be used\n",
        "#df = pd.read_excel('/content/drive/MyDrive/SP_research/df_clean_osteosarcoma2020_new.xlsx')"
      ],
      "metadata": {
        "id": "FTal7fQeE9lk"
      },
      "execution_count": null,
      "outputs": []
    },
    {
      "cell_type": "code",
      "source": [
        "#set the order for the age groups in the data set\n",
        "age_order = pd.api.types.CategoricalDtype(['01-04 years', '05-09 years', '10-14 years', '15-19 years',\n",
        "       '20-24 years', '25-29 years', '30-34 years', '35-39 years',\n",
        "       '40-44 years', '45-49 years', '50-54 years', '55-59 years',\n",
        "       '60-64 years', '65-69 years', '70-74 years', '75-79 years',\n",
        "       '80-84 years', '85+ years'],\n",
        "       ordered=True)\n",
        "\n",
        "df_clean['Age recode with <1 year olds'] = df_clean['Age recode with <1 year olds'].astype(age_order)"
      ],
      "metadata": {
        "id": "2BIZMxSVE4Lq"
      },
      "execution_count": null,
      "outputs": []
    },
    {
      "cell_type": "code",
      "source": [
        "# Here we create two new data sets, the first which helps us to eliminate areas\n",
        "# in the original dataframe where a count of '0' was originally classified at 'NaN'\n",
        "# and the second which will help us order our data set by age and year of diagnosis.\n",
        "# Our final step is to combine the two dataframes to result in a dataframe which includes\n",
        "# the count of '0' and likewise orders the data correctly.\n",
        "df_consolidated = df_clean.groupby(['Year of diagnosis', 'Age recode with <1 year olds'])['Count'].sum().reset_index()\n",
        "df_w_zeros = pd.DataFrame.from_records([ [x, y] for x in df_clean['Age recode with <1 year olds'].unique()\n",
        " for y in df_clean['Year of diagnosis'].unique() ]).rename(columns={0: 'Age recode with <1 year olds', 1: \"Year of diagnosis\"})\n",
        "df_w_zeros = df_w_zeros.merge(df_consolidated, on = ['Age recode with <1 year olds', \"Year of diagnosis\"],\n",
        "                               how='left').sort_values(['Age recode with <1 year olds', \"Year of diagnosis\"])\n",
        "df_w_zeros['Age recode with <1 year olds'] = df_w_zeros['Age recode with <1 year olds'].astype(age_order)"
      ],
      "metadata": {
        "id": "Weim0u-UFAtf"
      },
      "execution_count": null,
      "outputs": []
    },
    {
      "cell_type": "code",
      "source": [
        "# Here we extract the 'Count' values from a DataFrame df_w_zeros into a list my_list.\n",
        "# We then create sublists of my_list, each containing a consecutive sequence of\n",
        "#'Count' values corresponding to a unique year in the DataFrame's 'Year' column.\n",
        "#These sublists are stored in z_data.\n",
        "my_list = list(df_w_zeros['Count'])\n",
        "z_data = []\n",
        "for i in range(0, df_w_zeros.shape[0], df_w_zeros['Year of diagnosis'].nunique()):\n",
        "    z_data.append((my_list[i : i + df_w_zeros['Year of diagnosis'].nunique()]))"
      ],
      "metadata": {
        "id": "jujYjRaRFCdL"
      },
      "execution_count": null,
      "outputs": []
    },
    {
      "cell_type": "code",
      "source": [
        "# Here we create our first 3D surface plot where the x axis is the year, y axis\n",
        "# is the age group, and z axis is the Count (referencing the z_data set we made\n",
        "# in the code above).\n",
        "x, y  = df_w_zeros['Year of diagnosis'].unique(), df_w_zeros['Age recode with <1 year olds'].unique()\n",
        "trace = go.Surface(x=x, y=y, z=z_data, colorscale='plotly3')\n",
        "data = [trace]\n",
        "\n",
        "x_eye = 2.5\n",
        "y_eye = 2.5\n",
        "z_eye = 2.0\n",
        "\n",
        "fig = go.Figure(data=data)\n",
        "fig.update_layout(height = 800, width=1600,\n",
        "                           scene_camera_eye=dict(x=x_eye, y=y_eye, z=z_eye),\n",
        "         updatemenus=[dict(type='buttons',\n",
        "                  showactive=False,\n",
        "                  y=1,\n",
        "                  x=0.8,\n",
        "                  xanchor='left',\n",
        "                  yanchor='bottom',\n",
        "                  pad=dict(t=45, r=10),\n",
        "                  buttons=[dict(label='Play',\n",
        "                                 method='animate',\n",
        "                                 args=[None, dict(frame=dict(duration=5, redraw=True),\n",
        "                                                             transition=dict(duration=1),\n",
        "                                                             fromcurrent=True,\n",
        "                                                             mode='immediate'\n",
        "                                                            )]\n",
        "                                            )\n",
        "                                      ]\n",
        "                              )\n",
        "                        ]\n",
        ").update_scenes(aspectratio_x = 2.5, aspectratio_y = 2.5, aspectratio_z = 1)\n",
        "\n",
        "fig.update_layout(#title={\n",
        "       #'text':\"Incidence of Osteosarcoma <br> of long bones of lower limbs <br> from SEER data 1975-2019\",\n",
        "       # 'y':0.78,\n",
        "       # 'x':0.5,\n",
        "       #'xanchor': 'center',\n",
        "     #  'yanchor': 'top'},\n",
        "        scene = dict(\n",
        "                    xaxis_title='Year (from 1975-2020)',\n",
        "                    yaxis_title='Age at Diagnosis',\n",
        "                    zaxis_title='Incidence'),\n",
        "                    width=1200,margin=dict(r=30, b=10, l=10, t=10))\n",
        "fig.show()"
      ],
      "metadata": {
        "colab": {
          "base_uri": "https://localhost:8080/",
          "height": 817
        },
        "id": "nxUYdwB1FCWN",
        "outputId": "84896e32-adb8-4a82-8eee-ab573b7c07ac"
      },
      "execution_count": null,
      "outputs": [
        {
          "output_type": "display_data",
          "data": {
            "text/html": [
              "<html>\n",
              "<head><meta charset=\"utf-8\" /></head>\n",
              "<body>\n",
              "    <div>            <script src=\"https://cdnjs.cloudflare.com/ajax/libs/mathjax/2.7.5/MathJax.js?config=TeX-AMS-MML_SVG\"></script><script type=\"text/javascript\">if (window.MathJax && window.MathJax.Hub && window.MathJax.Hub.Config) {window.MathJax.Hub.Config({SVG: {font: \"STIX-Web\"}});}</script>                <script type=\"text/javascript\">window.PlotlyConfig = {MathJaxConfig: 'local'};</script>\n",
              "        <script src=\"https://cdn.plot.ly/plotly-2.18.2.min.js\"></script>                <div id=\"03cf5140-4fad-43ed-a352-dc1c0bd24e68\" class=\"plotly-graph-div\" style=\"height:800px; width:1200px;\"></div>            <script type=\"text/javascript\">                                    window.PLOTLYENV=window.PLOTLYENV || {};                                    if (document.getElementById(\"03cf5140-4fad-43ed-a352-dc1c0bd24e68\")) {                    Plotly.newPlot(                        \"03cf5140-4fad-43ed-a352-dc1c0bd24e68\",                        [{\"colorscale\":[[0.0,\"#0508b8\"],[0.08333333333333333,\"#1910d8\"],[0.16666666666666666,\"#3c19f0\"],[0.25,\"#6b1cfb\"],[0.3333333333333333,\"#981cfd\"],[0.4166666666666667,\"#bf1cfd\"],[0.5,\"#dd2bfd\"],[0.5833333333333334,\"#f246fe\"],[0.6666666666666666,\"#fc67fd\"],[0.75,\"#fe88fc\"],[0.8333333333333334,\"#fea5fd\"],[0.9166666666666666,\"#febefe\"],[1.0,\"#fec3fe\"]],\"x\":[1975,1976,1977,1978,1979,1980,1981,1982,1983,1984,1985,1986,1987,1988,1989,1990,1991,1992,1993,1994,1995,1996,1997,1998,1999,2000,2001,2002,2003,2004,2005,2006,2007,2008,2009,2010,2011,2012,2013,2014,2015,2016,2017,2018,2019,2020],\"y\":[\"01-04 years\",\"05-09 years\",\"10-14 years\",\"15-19 years\",\"20-24 years\",\"25-29 years\",\"30-34 years\",\"35-39 years\",\"40-44 years\",\"45-49 years\",\"50-54 years\",\"55-59 years\",\"60-64 years\",\"65-69 years\",\"70-74 years\",\"75-79 years\",\"80-84 years\",\"85+ years\"],\"z\":[[0,0,1,0,0,0,0,1,1,0,0,0,0,0,0,1,1,0,1,0,0,1,0,0,0,1,1,0,0,0,0,0,1,1,0,0,1,0,1,0,0,0,0,0,0,0],[1,1,2,2,3,1,3,0,6,1,1,3,3,0,4,3,6,3,1,3,4,3,2,3,2,3,3,7,1,2,4,4,3,3,6,2,5,5,5,4,5,7,4,4,6,1],[5,9,7,12,9,8,6,12,6,8,8,7,7,10,8,6,7,7,10,11,11,8,15,16,11,8,9,10,6,12,11,5,10,11,11,11,6,21,9,17,9,9,12,9,15,11],[9,2,8,11,11,12,15,4,12,7,13,8,8,10,10,8,7,10,10,9,10,10,17,10,5,6,9,17,13,4,10,8,9,12,12,9,9,7,9,13,13,9,14,11,16,10],[2,4,1,3,3,2,4,3,6,1,3,1,5,2,3,2,6,8,2,4,3,3,6,5,2,3,5,2,4,4,6,7,1,7,6,5,2,4,5,4,6,5,3,2,2,4],[1,2,1,2,3,2,0,1,3,1,0,2,0,4,4,2,1,3,4,1,2,2,7,1,1,1,3,1,1,0,4,1,3,1,2,2,0,1,3,1,6,2,1,1,2,3],[1,0,1,2,1,0,1,1,0,1,3,2,3,2,2,2,2,0,2,2,0,2,2,3,0,1,3,1,3,1,5,3,1,2,0,0,2,2,1,2,1,2,4,1,2,3],[0,1,0,0,0,0,0,0,2,1,0,1,0,1,1,2,0,2,2,1,2,2,1,1,2,0,0,0,2,0,1,0,2,2,2,1,3,1,0,1,4,1,2,0,0,1],[1,0,0,0,0,1,1,0,1,0,0,0,1,1,2,1,3,2,1,0,0,6,0,1,1,1,1,2,0,3,2,1,4,1,1,1,1,1,2,5,1,0,2,1,2,0],[1,0,1,1,1,0,1,0,0,0,0,0,1,1,0,1,0,0,1,2,1,1,1,0,0,0,0,1,1,1,5,3,3,2,0,1,1,1,1,2,3,0,1,0,1,2],[0,2,0,2,1,1,0,0,0,0,0,0,0,0,0,1,0,0,0,2,0,0,0,2,3,1,0,1,0,1,0,0,0,0,1,2,2,0,0,1,3,3,0,2,2,1],[3,0,0,0,2,1,0,2,0,1,0,1,0,0,0,0,1,0,1,1,1,0,2,1,1,2,1,0,1,1,2,0,0,1,0,1,0,1,0,1,1,1,1,2,2,1],[2,0,1,1,3,0,2,1,0,2,2,1,1,0,2,2,0,1,1,1,1,0,0,3,0,2,0,2,0,0,2,0,1,1,2,1,0,1,0,2,0,0,1,1,1,0],[1,0,0,1,1,1,1,0,1,1,2,1,1,2,0,2,0,0,0,0,1,0,2,0,0,1,0,0,1,0,1,1,0,0,0,2,0,0,1,0,0,0,4,2,1,0],[0,0,2,0,0,1,1,2,0,2,1,0,0,1,0,1,0,0,1,1,1,0,1,0,1,0,1,0,0,0,0,0,1,0,0,3,1,1,2,1,1,2,0,1,1,2],[0,0,0,1,3,1,0,1,1,0,0,1,0,0,0,1,0,2,0,0,2,1,1,1,0,0,0,1,1,1,1,1,0,0,0,0,0,0,0,0,1,0,0,1,0,0],[0,0,0,1,2,0,0,0,0,0,0,1,0,1,0,0,0,0,0,0,1,0,1,1,0,0,0,0,0,0,0,0,2,0,0,0,0,0,0,1,1,0,0,0,0,1],[1,0,1,0,1,1,2,0,0,0,0,0,0,0,0,0,2,1,0,1,0,0,0,0,0,0,0,0,0,0,0,0,1,1,0,0,1,1,1,0,1,1,4,1,3,0]],\"type\":\"surface\"}],                        {\"template\":{\"data\":{\"histogram2dcontour\":[{\"type\":\"histogram2dcontour\",\"colorbar\":{\"outlinewidth\":0,\"ticks\":\"\"},\"colorscale\":[[0.0,\"#0d0887\"],[0.1111111111111111,\"#46039f\"],[0.2222222222222222,\"#7201a8\"],[0.3333333333333333,\"#9c179e\"],[0.4444444444444444,\"#bd3786\"],[0.5555555555555556,\"#d8576b\"],[0.6666666666666666,\"#ed7953\"],[0.7777777777777778,\"#fb9f3a\"],[0.8888888888888888,\"#fdca26\"],[1.0,\"#f0f921\"]]}],\"choropleth\":[{\"type\":\"choropleth\",\"colorbar\":{\"outlinewidth\":0,\"ticks\":\"\"}}],\"histogram2d\":[{\"type\":\"histogram2d\",\"colorbar\":{\"outlinewidth\":0,\"ticks\":\"\"},\"colorscale\":[[0.0,\"#0d0887\"],[0.1111111111111111,\"#46039f\"],[0.2222222222222222,\"#7201a8\"],[0.3333333333333333,\"#9c179e\"],[0.4444444444444444,\"#bd3786\"],[0.5555555555555556,\"#d8576b\"],[0.6666666666666666,\"#ed7953\"],[0.7777777777777778,\"#fb9f3a\"],[0.8888888888888888,\"#fdca26\"],[1.0,\"#f0f921\"]]}],\"heatmap\":[{\"type\":\"heatmap\",\"colorbar\":{\"outlinewidth\":0,\"ticks\":\"\"},\"colorscale\":[[0.0,\"#0d0887\"],[0.1111111111111111,\"#46039f\"],[0.2222222222222222,\"#7201a8\"],[0.3333333333333333,\"#9c179e\"],[0.4444444444444444,\"#bd3786\"],[0.5555555555555556,\"#d8576b\"],[0.6666666666666666,\"#ed7953\"],[0.7777777777777778,\"#fb9f3a\"],[0.8888888888888888,\"#fdca26\"],[1.0,\"#f0f921\"]]}],\"heatmapgl\":[{\"type\":\"heatmapgl\",\"colorbar\":{\"outlinewidth\":0,\"ticks\":\"\"},\"colorscale\":[[0.0,\"#0d0887\"],[0.1111111111111111,\"#46039f\"],[0.2222222222222222,\"#7201a8\"],[0.3333333333333333,\"#9c179e\"],[0.4444444444444444,\"#bd3786\"],[0.5555555555555556,\"#d8576b\"],[0.6666666666666666,\"#ed7953\"],[0.7777777777777778,\"#fb9f3a\"],[0.8888888888888888,\"#fdca26\"],[1.0,\"#f0f921\"]]}],\"contourcarpet\":[{\"type\":\"contourcarpet\",\"colorbar\":{\"outlinewidth\":0,\"ticks\":\"\"}}],\"contour\":[{\"type\":\"contour\",\"colorbar\":{\"outlinewidth\":0,\"ticks\":\"\"},\"colorscale\":[[0.0,\"#0d0887\"],[0.1111111111111111,\"#46039f\"],[0.2222222222222222,\"#7201a8\"],[0.3333333333333333,\"#9c179e\"],[0.4444444444444444,\"#bd3786\"],[0.5555555555555556,\"#d8576b\"],[0.6666666666666666,\"#ed7953\"],[0.7777777777777778,\"#fb9f3a\"],[0.8888888888888888,\"#fdca26\"],[1.0,\"#f0f921\"]]}],\"surface\":[{\"type\":\"surface\",\"colorbar\":{\"outlinewidth\":0,\"ticks\":\"\"},\"colorscale\":[[0.0,\"#0d0887\"],[0.1111111111111111,\"#46039f\"],[0.2222222222222222,\"#7201a8\"],[0.3333333333333333,\"#9c179e\"],[0.4444444444444444,\"#bd3786\"],[0.5555555555555556,\"#d8576b\"],[0.6666666666666666,\"#ed7953\"],[0.7777777777777778,\"#fb9f3a\"],[0.8888888888888888,\"#fdca26\"],[1.0,\"#f0f921\"]]}],\"mesh3d\":[{\"type\":\"mesh3d\",\"colorbar\":{\"outlinewidth\":0,\"ticks\":\"\"}}],\"scatter\":[{\"fillpattern\":{\"fillmode\":\"overlay\",\"size\":10,\"solidity\":0.2},\"type\":\"scatter\"}],\"parcoords\":[{\"type\":\"parcoords\",\"line\":{\"colorbar\":{\"outlinewidth\":0,\"ticks\":\"\"}}}],\"scatterpolargl\":[{\"type\":\"scatterpolargl\",\"marker\":{\"colorbar\":{\"outlinewidth\":0,\"ticks\":\"\"}}}],\"bar\":[{\"error_x\":{\"color\":\"#2a3f5f\"},\"error_y\":{\"color\":\"#2a3f5f\"},\"marker\":{\"line\":{\"color\":\"#E5ECF6\",\"width\":0.5},\"pattern\":{\"fillmode\":\"overlay\",\"size\":10,\"solidity\":0.2}},\"type\":\"bar\"}],\"scattergeo\":[{\"type\":\"scattergeo\",\"marker\":{\"colorbar\":{\"outlinewidth\":0,\"ticks\":\"\"}}}],\"scatterpolar\":[{\"type\":\"scatterpolar\",\"marker\":{\"colorbar\":{\"outlinewidth\":0,\"ticks\":\"\"}}}],\"histogram\":[{\"marker\":{\"pattern\":{\"fillmode\":\"overlay\",\"size\":10,\"solidity\":0.2}},\"type\":\"histogram\"}],\"scattergl\":[{\"type\":\"scattergl\",\"marker\":{\"colorbar\":{\"outlinewidth\":0,\"ticks\":\"\"}}}],\"scatter3d\":[{\"type\":\"scatter3d\",\"line\":{\"colorbar\":{\"outlinewidth\":0,\"ticks\":\"\"}},\"marker\":{\"colorbar\":{\"outlinewidth\":0,\"ticks\":\"\"}}}],\"scattermapbox\":[{\"type\":\"scattermapbox\",\"marker\":{\"colorbar\":{\"outlinewidth\":0,\"ticks\":\"\"}}}],\"scatterternary\":[{\"type\":\"scatterternary\",\"marker\":{\"colorbar\":{\"outlinewidth\":0,\"ticks\":\"\"}}}],\"scattercarpet\":[{\"type\":\"scattercarpet\",\"marker\":{\"colorbar\":{\"outlinewidth\":0,\"ticks\":\"\"}}}],\"carpet\":[{\"aaxis\":{\"endlinecolor\":\"#2a3f5f\",\"gridcolor\":\"white\",\"linecolor\":\"white\",\"minorgridcolor\":\"white\",\"startlinecolor\":\"#2a3f5f\"},\"baxis\":{\"endlinecolor\":\"#2a3f5f\",\"gridcolor\":\"white\",\"linecolor\":\"white\",\"minorgridcolor\":\"white\",\"startlinecolor\":\"#2a3f5f\"},\"type\":\"carpet\"}],\"table\":[{\"cells\":{\"fill\":{\"color\":\"#EBF0F8\"},\"line\":{\"color\":\"white\"}},\"header\":{\"fill\":{\"color\":\"#C8D4E3\"},\"line\":{\"color\":\"white\"}},\"type\":\"table\"}],\"barpolar\":[{\"marker\":{\"line\":{\"color\":\"#E5ECF6\",\"width\":0.5},\"pattern\":{\"fillmode\":\"overlay\",\"size\":10,\"solidity\":0.2}},\"type\":\"barpolar\"}],\"pie\":[{\"automargin\":true,\"type\":\"pie\"}]},\"layout\":{\"autotypenumbers\":\"strict\",\"colorway\":[\"#636efa\",\"#EF553B\",\"#00cc96\",\"#ab63fa\",\"#FFA15A\",\"#19d3f3\",\"#FF6692\",\"#B6E880\",\"#FF97FF\",\"#FECB52\"],\"font\":{\"color\":\"#2a3f5f\"},\"hovermode\":\"closest\",\"hoverlabel\":{\"align\":\"left\"},\"paper_bgcolor\":\"white\",\"plot_bgcolor\":\"#E5ECF6\",\"polar\":{\"bgcolor\":\"#E5ECF6\",\"angularaxis\":{\"gridcolor\":\"white\",\"linecolor\":\"white\",\"ticks\":\"\"},\"radialaxis\":{\"gridcolor\":\"white\",\"linecolor\":\"white\",\"ticks\":\"\"}},\"ternary\":{\"bgcolor\":\"#E5ECF6\",\"aaxis\":{\"gridcolor\":\"white\",\"linecolor\":\"white\",\"ticks\":\"\"},\"baxis\":{\"gridcolor\":\"white\",\"linecolor\":\"white\",\"ticks\":\"\"},\"caxis\":{\"gridcolor\":\"white\",\"linecolor\":\"white\",\"ticks\":\"\"}},\"coloraxis\":{\"colorbar\":{\"outlinewidth\":0,\"ticks\":\"\"}},\"colorscale\":{\"sequential\":[[0.0,\"#0d0887\"],[0.1111111111111111,\"#46039f\"],[0.2222222222222222,\"#7201a8\"],[0.3333333333333333,\"#9c179e\"],[0.4444444444444444,\"#bd3786\"],[0.5555555555555556,\"#d8576b\"],[0.6666666666666666,\"#ed7953\"],[0.7777777777777778,\"#fb9f3a\"],[0.8888888888888888,\"#fdca26\"],[1.0,\"#f0f921\"]],\"sequentialminus\":[[0.0,\"#0d0887\"],[0.1111111111111111,\"#46039f\"],[0.2222222222222222,\"#7201a8\"],[0.3333333333333333,\"#9c179e\"],[0.4444444444444444,\"#bd3786\"],[0.5555555555555556,\"#d8576b\"],[0.6666666666666666,\"#ed7953\"],[0.7777777777777778,\"#fb9f3a\"],[0.8888888888888888,\"#fdca26\"],[1.0,\"#f0f921\"]],\"diverging\":[[0,\"#8e0152\"],[0.1,\"#c51b7d\"],[0.2,\"#de77ae\"],[0.3,\"#f1b6da\"],[0.4,\"#fde0ef\"],[0.5,\"#f7f7f7\"],[0.6,\"#e6f5d0\"],[0.7,\"#b8e186\"],[0.8,\"#7fbc41\"],[0.9,\"#4d9221\"],[1,\"#276419\"]]},\"xaxis\":{\"gridcolor\":\"white\",\"linecolor\":\"white\",\"ticks\":\"\",\"title\":{\"standoff\":15},\"zerolinecolor\":\"white\",\"automargin\":true,\"zerolinewidth\":2},\"yaxis\":{\"gridcolor\":\"white\",\"linecolor\":\"white\",\"ticks\":\"\",\"title\":{\"standoff\":15},\"zerolinecolor\":\"white\",\"automargin\":true,\"zerolinewidth\":2},\"scene\":{\"xaxis\":{\"backgroundcolor\":\"#E5ECF6\",\"gridcolor\":\"white\",\"linecolor\":\"white\",\"showbackground\":true,\"ticks\":\"\",\"zerolinecolor\":\"white\",\"gridwidth\":2},\"yaxis\":{\"backgroundcolor\":\"#E5ECF6\",\"gridcolor\":\"white\",\"linecolor\":\"white\",\"showbackground\":true,\"ticks\":\"\",\"zerolinecolor\":\"white\",\"gridwidth\":2},\"zaxis\":{\"backgroundcolor\":\"#E5ECF6\",\"gridcolor\":\"white\",\"linecolor\":\"white\",\"showbackground\":true,\"ticks\":\"\",\"zerolinecolor\":\"white\",\"gridwidth\":2}},\"shapedefaults\":{\"line\":{\"color\":\"#2a3f5f\"}},\"annotationdefaults\":{\"arrowcolor\":\"#2a3f5f\",\"arrowhead\":0,\"arrowwidth\":1},\"geo\":{\"bgcolor\":\"white\",\"landcolor\":\"#E5ECF6\",\"subunitcolor\":\"white\",\"showland\":true,\"showlakes\":true,\"lakecolor\":\"white\"},\"title\":{\"x\":0.05},\"mapbox\":{\"style\":\"light\"}}},\"scene\":{\"camera\":{\"eye\":{\"x\":2.5,\"y\":2.5,\"z\":2.0}},\"aspectratio\":{\"x\":2.5,\"y\":2.5,\"z\":1},\"xaxis\":{\"title\":{\"text\":\"Year (from 1975-2020)\"}},\"yaxis\":{\"title\":{\"text\":\"Age at Diagnosis\"}},\"zaxis\":{\"title\":{\"text\":\"Incidence\"}}},\"height\":800,\"width\":1200,\"updatemenus\":[{\"buttons\":[{\"args\":[null,{\"frame\":{\"duration\":5,\"redraw\":true},\"transition\":{\"duration\":1},\"fromcurrent\":true,\"mode\":\"immediate\"}],\"label\":\"Play\",\"method\":\"animate\"}],\"pad\":{\"r\":10,\"t\":45},\"showactive\":false,\"type\":\"buttons\",\"x\":0.8,\"xanchor\":\"left\",\"y\":1,\"yanchor\":\"bottom\"}],\"margin\":{\"r\":30,\"b\":10,\"l\":10,\"t\":10}},                        {\"responsive\": true}                    ).then(function(){\n",
              "                            \n",
              "var gd = document.getElementById('03cf5140-4fad-43ed-a352-dc1c0bd24e68');\n",
              "var x = new MutationObserver(function (mutations, observer) {{\n",
              "        var display = window.getComputedStyle(gd).display;\n",
              "        if (!display || display === 'none') {{\n",
              "            console.log([gd, 'removed!']);\n",
              "            Plotly.purge(gd);\n",
              "            observer.disconnect();\n",
              "        }}\n",
              "}});\n",
              "\n",
              "// Listen for the removal of the full notebook cells\n",
              "var notebookContainer = gd.closest('#notebook-container');\n",
              "if (notebookContainer) {{\n",
              "    x.observe(notebookContainer, {childList: true});\n",
              "}}\n",
              "\n",
              "// Listen for the clearing of the current output cell\n",
              "var outputEl = gd.closest('.output');\n",
              "if (outputEl) {{\n",
              "    x.observe(outputEl, {childList: true});\n",
              "}}\n",
              "\n",
              "                        })                };                            </script>        </div>\n",
              "</body>\n",
              "</html>"
            ]
          },
          "metadata": {}
        }
      ]
    },
    {
      "cell_type": "code",
      "source": [
        "#This line of code reformats the graph so that we can save it at a higher resolution.\n",
        "config = {\n",
        "  'toImageButtonOptions': {\n",
        "    'format': 'png', # one of png, svg, jpeg, webp\n",
        "    'filename': 'SEER_Osteosarcoma_3D_incidence_notitle_2020',\n",
        "    'height': 1000,\n",
        "    'width': 1400,\n",
        "    'scale':2.0 # Multiply title/legend/axis/canvas sizes by this factor\n",
        "  }\n",
        "}\n",
        "\n",
        "\n",
        "fig.show(config=config)"
      ],
      "metadata": {
        "id": "rzFGQt0AFFI1"
      },
      "execution_count": null,
      "outputs": []
    },
    {
      "cell_type": "code",
      "source": [
        "# This imports a new data frame which contains information about the rate of osteosarcoma\n",
        "# incidence in each age group each year, as this set has overall population data as well.\n",
        "# Points where the age is \"<1 years old\", year is \"1975-2020\", and sex is \"male and female\" are filtered out.\n",
        "age_adjusted = df.sort_values(['Age recode with <1 year olds', 'Year of diagnosis'])\n",
        "age_adjusted_both = age_adjusted[age_adjusted['Sex'] == 'Male and female']\n",
        "age_adjusted_both = age_adjusted_both[age_adjusted_both['Year of diagnosis']!= '1975-2020']\n",
        "age_adjusted_both = age_adjusted_both[age_adjusted_both['Age recode with <1 year olds'] != 'Unknown']"
      ],
      "metadata": {
        "id": "aExGeo5UFHnG"
      },
      "execution_count": null,
      "outputs": []
    },
    {
      "cell_type": "code",
      "source": [
        "# Here we order the dataframe by age and then create a new term called \"age_rate\"\n",
        "# which gives the calculated rate of osteosarcoma incidence in each age group each year\n",
        "# utilizing the 'Count' and 'Population' data for each year for the calculation.\n",
        "age_adjusted_both['Age recode with <1 year olds'] = age_adjusted_both['Age recode with <1 year olds'].astype(age_order)\n",
        "age_adjusted_both['age_rate'] = (age_adjusted_both['Count'] * 1000000 )/ age_adjusted_both['Population']"
      ],
      "metadata": {
        "id": "UGOFRa_LFO68"
      },
      "execution_count": null,
      "outputs": []
    },
    {
      "cell_type": "code",
      "source": [
        "# Here we organize the values from the 'age_rate' column of the DataFrame\n",
        "# age_adjusted_both into a 2D list (z_data), where each sublist represents a\n",
        "# row of values for a specific range of years. The code assumes that the number\n",
        "# of rows in the DataFrame is a multiple of the number of unique years in the 'Year of diagnosis' column.\n",
        "my_list = list(age_adjusted_both['age_rate'])\n",
        "z_data = []\n",
        "for i in range(0, age_adjusted_both.shape[0], age_adjusted_both['Year of diagnosis'].nunique()):\n",
        "    z_data.append((my_list[i : i + age_adjusted_both['Year of diagnosis'].nunique()]))"
      ],
      "metadata": {
        "id": "ARsKUboSFQvy"
      },
      "execution_count": null,
      "outputs": []
    },
    {
      "cell_type": "code",
      "source": [
        "# Here we create our second 3D surface plot where the x axis is the year, y axis\n",
        "# is the age group, and z axis is the rate of osteosarcoma incidence in each age group\n",
        "# each calendar year. The z axis term is graphing the new term we defined above called\n",
        "# 'age-rate' (and also regerences the z_data set we made in the code above).\n",
        "x, y  = age_adjusted_both['Year of diagnosis'].unique(), age_adjusted_both['Age recode with <1 year olds'].unique()\n",
        "trace = go.Surface(x=x, y=y, z=z_data, colorscale='plotly3')\n",
        "data = [trace]\n",
        "\n",
        "x_eye = 2.5\n",
        "y_eye = 2.5\n",
        "z_eye = 2\n",
        "\n",
        "fig = go.Figure(data=data)\n",
        "fig.update_layout(height = 1000, width=1200,\n",
        "                           scene_camera_eye=dict(x=x_eye, y=y_eye, z=z_eye),\n",
        "         updatemenus=[dict(type='buttons',\n",
        "                  showactive=False,\n",
        "                  y=1,\n",
        "                  x=0.8,\n",
        "                  xanchor='left',\n",
        "                  yanchor='bottom',\n",
        "                  pad=dict(t=45, r=10),\n",
        "                  buttons=[dict(label='Play',\n",
        "                                 method='animate',\n",
        "                                 args=[None, dict(frame=dict(duration=5, redraw=True),\n",
        "                                                             transition=dict(duration=1),\n",
        "                                                             fromcurrent=True,\n",
        "                                                             mode='immediate'\n",
        "                                                            )]\n",
        "                                            )\n",
        "                                      ]\n",
        "                              )\n",
        "                        ]\n",
        ").update_scenes(aspectratio_x = 2.5, aspectratio_y = 2.5, aspectratio_z = 1)\n",
        "fig.update_layout(#title={\n",
        "        #'text':\"Incidence Rate of Osteosarcoma <br> of long bones of lower limbs <br> from SEER data 1975-2019\",\n",
        "        #'y':0.78,\n",
        "       # 'x':0.5,\n",
        "       # 'xanchor': 'center',\n",
        "       # 'yanchor': 'top'},\n",
        "        scene = dict(\n",
        "                    xaxis_title='Year (from 1975-2020)',\n",
        "                    yaxis_title='Age at Diagnosis',\n",
        "                    zaxis_title='Incidence Rate'),\n",
        "                  width=1200,margin=dict(r=30, b=10, l=10, t=10))\n",
        "fig.show()"
      ],
      "metadata": {
        "colab": {
          "base_uri": "https://localhost:8080/",
          "height": 1000
        },
        "id": "fRcYi7teFSPK",
        "outputId": "ae862930-a40a-4fc5-e6c1-36e372b371db"
      },
      "execution_count": null,
      "outputs": [
        {
          "output_type": "display_data",
          "data": {
            "text/html": [
              "<html>\n",
              "<head><meta charset=\"utf-8\" /></head>\n",
              "<body>\n",
              "    <div>            <script src=\"https://cdnjs.cloudflare.com/ajax/libs/mathjax/2.7.5/MathJax.js?config=TeX-AMS-MML_SVG\"></script><script type=\"text/javascript\">if (window.MathJax && window.MathJax.Hub && window.MathJax.Hub.Config) {window.MathJax.Hub.Config({SVG: {font: \"STIX-Web\"}});}</script>                <script type=\"text/javascript\">window.PlotlyConfig = {MathJaxConfig: 'local'};</script>\n",
              "        <script src=\"https://cdn.plot.ly/plotly-2.18.2.min.js\"></script>                <div id=\"c4741f7d-f94c-44b8-8784-ea5009b6758b\" class=\"plotly-graph-div\" style=\"height:1000px; width:1200px;\"></div>            <script type=\"text/javascript\">                                    window.PLOTLYENV=window.PLOTLYENV || {};                                    if (document.getElementById(\"c4741f7d-f94c-44b8-8784-ea5009b6758b\")) {                    Plotly.newPlot(                        \"c4741f7d-f94c-44b8-8784-ea5009b6758b\",                        [{\"colorscale\":[[0.0,\"#0508b8\"],[0.08333333333333333,\"#1910d8\"],[0.16666666666666666,\"#3c19f0\"],[0.25,\"#6b1cfb\"],[0.3333333333333333,\"#981cfd\"],[0.4166666666666667,\"#bf1cfd\"],[0.5,\"#dd2bfd\"],[0.5833333333333334,\"#f246fe\"],[0.6666666666666666,\"#fc67fd\"],[0.75,\"#fe88fc\"],[0.8333333333333334,\"#fea5fd\"],[0.9166666666666666,\"#febefe\"],[1.0,\"#fec3fe\"]],\"x\":[\"1975\",\"1976\",\"1977\",\"1978\",\"1979\",\"1980\",\"1981\",\"1982\",\"1983\",\"1984\",\"1985\",\"1986\",\"1987\",\"1988\",\"1989\",\"1990\",\"1991\",\"1992\",\"1993\",\"1994\",\"1995\",\"1996\",\"1997\",\"1998\",\"1999\",\"2000\",\"2001\",\"2002\",\"2003\",\"2004\",\"2005\",\"2006\",\"2007\",\"2008\",\"2009\",\"2010\",\"2011\",\"2012\",\"2013\",\"2014\",\"2015\",\"2016\",\"2017\",\"2018\",\"2019\",\"2020\"],\"y\":[null,\"01-04 years\",\"05-09 years\",\"10-14 years\",\"15-19 years\",\"20-24 years\",\"25-29 years\",\"30-34 years\",\"35-39 years\",\"40-44 years\",\"45-49 years\",\"50-54 years\",\"55-59 years\",\"60-64 years\",\"65-69 years\",\"70-74 years\",\"75-79 years\",\"80-84 years\",\"85+ years\"],\"z\":[[0.0,0.0,0.0,0.0,0.0,0.0,0.0,0.0,0.0,0.0,0.0,0.0,0.0,0.0,0.0,0.0,0.0,0.0,0.0,0.0,0.0,0.0,0.0,0.0,0.0,0.0,0.0,0.0,0.0,0.0,0.0,0.0,0.0,0.0,0.0,0.0,0.0,0.0,0.0,0.0,0.0,0.0,0.0,0.0,0.0,0.0],[0.0,0.0,1.0646112571994337,0.0,0.0,0.0,0.0,0.9231053263177329,0.8999531124428417,0.0,0.0,0.0,0.0,0.0,0.0,0.8367773695233968,0.8197655306629198,0.0,0.7896330654108342,0.0,0.0,0.7982279339865499,0.0,0.0,0.0,0.8040097574624165,0.8043796865171485,0.0,0.0,0.0,0.0,0.0,0.7553657405379111,0.7429409465959189,0.0,0.0,0.7345584789350665,0.0,0.7448218125536737,0.0,0.0,0.0,0.0,0.0,0.0,0.0],[0.7530721578680226,0.7505405768504766,1.5157842402396757,1.537745895179551,2.3547159859313567,0.7985874585033992,2.4470399381388304,0.0,4.781508948593998,0.7762727574062243,0.7546338290271412,2.2034488381214277,2.1592411562880343,0.0,2.792479016265492,2.0673515572670165,4.100388443465211,2.0408774140178347,0.6725207354955771,1.982252234989395,2.591131722124443,1.90360644586524,1.2440364005050788,1.8389936536329012,1.2198141735088077,1.8403948260366791,1.8679368637340057,4.428451408500602,0.6419556537034422,1.2913206465384213,2.5823445105811564,2.546439091405068,1.883280549164608,1.8483217854295562,3.6206085036025053,1.1906725096935626,2.9591717160000046,2.927177673830446,2.9029497452951896,2.3229532168836884,2.902336380786533,4.067795034268268,2.3394097552217086,2.3573341379700525,3.5487860490122842,0.5938940564270621],[3.2100688302958593,5.940433295204552,4.762961037617866,8.421785474665866,6.4754816679113985,5.813049423999465,4.341059696082411,8.779746879897452,4.458248502771545,6.094030896736647,6.229549556845418,5.610390443100623,5.590813175789543,7.8395095602819085,6.0954563706281295,4.398804404962731,4.954240511390861,4.813874963036318,6.677221127528914,7.242750665016198,7.177008518456656,5.167307735782638,9.62244724493298,10.153766095305787,6.853492882647641,4.88843969559686,5.424189716459523,5.967576960856276,3.563209858213941,7.140617199247617,6.603346576044739,3.014983260812936,6.054474529128379,6.671725047293433,6.644193186561092,6.602272502195255,3.576254386126994,12.477888883805305,5.3156742696558865,9.984160423140464,5.27439760518907,5.247528851205153,6.929730797282852,5.168169359761437,8.64402853220938,6.36572232140532],[5.702786001054382,1.2512277672466108,5.002939226795743,6.890874852942466,6.911592562875072,7.612691625722016,9.777898299427928,2.6927105632342685,8.330244201108755,4.975955472307031,9.315904470415912,5.714302040862974,5.751444151679961,7.252267965499511,7.383217798280153,5.985927085422173,5.326243849139469,7.5193849744641685,7.342844764918825,6.406729058716248,6.879391201396241,6.653289120009368,11.0070263676554,6.324554640673591,3.130925276084991,3.725359078048135,5.542974372365933,10.440375018270656,7.952738709099218,2.4243761322594155,5.973412341667239,4.706001387093909,5.234368865973985,6.919772731597585,6.916896941694017,5.219200627231933,5.257251940948209,4.116852748410895,5.31637135208319,7.694415689031966,7.657215895202166,5.264826629259098,8.172653135088119,6.408781195470739,9.286198909219861,5.817640248762297],[1.3400370922267129,2.611231953123164,0.6350694226139331,1.8621788982853056,1.8262949953429477,1.2000228004332083,2.384574663417286,1.7988404674346916,3.6107144340114856,0.6044246300619052,1.8321561729921858,0.6244251386067702,3.2010612158142666,1.3108908814430287,1.9995560985461227,1.3370851943887883,4.014546038479423,5.36772614397986,1.353123211340255,2.738019453628218,2.072883982756369,2.0988267558434837,4.143254402035167,3.3795452348750143,1.3148509123421768,1.9103218510254607,3.0887515698579855,1.2113356792867656,2.3920640881810504,2.375539544419026,3.549233188169696,4.114841704978782,0.5898921972009615,4.103244670031718,3.485055211987196,2.882048698553269,1.1298049900096994,2.2103758357292884,2.7242567274157756,2.1614681556300304,3.249811375531412,2.727304463179208,1.651163161889393,1.10898555546314,1.1138226504746556,2.2297650217875913],[0.7145567354475162,1.3508228875325126,0.6753115549858928,1.3208826930684698,1.9280453476265762,1.2428744454449583,0.0,0.5899503143845225,1.7358248205591091,0.5711446309548968,0.0,1.1275228323373547,0.0,2.268614120648302,2.282892630423083,1.1517658874586516,0.5828354946816261,1.7754504909712425,2.4088825133798366,0.6104532798739047,1.2225476915854487,1.211499309142519,4.220391242326424,0.602980653968698,0.606225572898322,0.609797742284839,1.864534136823244,0.6285161550649917,0.6295354091633915,0.0,2.4441586136732343,0.5893054034001743,1.7201006373546228,0.5586692052595353,1.102335904899277,1.1019945550449035,0.0,0.5476976161461258,1.6341409076127544,0.5356519205263959,3.1464763398089564,1.018489661311448,0.4971476155557489,0.4910797813123518,0.9796833271613283,1.4880081423805551],[0.8702311333890281,0.0,0.7797483751993232,1.5006981998374744,0.7144224751595305,0.0,0.6448575832027497,0.6456807509008861,0.0,0.6174955000015437,1.8029322890749515,1.1747940879662317,1.7205899558840736,1.127219071644917,1.1182461427497115,1.1088754949049944,1.0870551838128786,0.0,1.0645959565580974,1.0610490485838444,0.0,1.0845986984815619,1.1044134570570916,1.6892120163785997,0.0,0.574627770495967,1.7049145297930972,0.569117952541254,1.7326258059597708,0.5885032361792958,3.0100046534671945,1.8345022169959293,0.6114300737996099,1.2040352035812822,0.0,0.0,1.1200528664952987,1.0938603260688247,0.5362594509024978,1.0567289062380292,0.5231458012579564,1.0342935542308553,2.058840635955284,0.5109694930773853,1.0084457330139922,1.490016886858051],[0.0,1.05818314187273,0.0,0.0,0.0,0.0,0.0,0.0,1.5102717356420354,0.7205872497850848,0.0,0.6513007452834428,0.0,0.6329658755437176,0.6165444778269027,1.1982254281409233,0.0,1.1274293989617503,1.1015369193867743,0.5416070673223001,1.0674694036582177,1.0551461588459234,0.524461954480898,0.5238868844394594,1.0526964028837564,0.0,0.0,0.0,1.142358421808993,0.0,0.579993921663701,0.0,1.1407256155640604,1.1446513020122397,1.1569427556293943,0.5891429207702926,1.7957555521768747,0.5966626272606801,0.0,0.5776420190668078,2.2487499761070313,0.5467145734423555,1.067434080608352,0.0,0.0,0.515637480038384],[1.167140331117712,0.0,0.0,0.0,0.0,1.0900430021964367,1.055955058552708,0.0,0.9545546095919375,0.0,0.0,0.0,0.7754973846350703,0.7418403129379176,1.4120703775876189,0.6713788510290895,1.911511055861362,1.269352871212727,0.6212789275234641,0.0,0.0,3.4606626476837783,0.0,0.5522957831112368,0.5466120710530099,0.5407729267441955,0.535170036899974,1.069500414966161,0.0,1.608776627264152,1.0841042669801897,0.5507633028614357,2.2457501984681736,0.5706651844589609,0.5775095823277447,0.5752876006537568,0.568553316087216,0.5666252085889049,1.1403113163924883,2.889921168730359,0.5875471726936277,0.0,1.1894495822058342,0.5880993393880121,1.1565988591308853,0.0],[1.1243560250866316,0.0,1.1491637535365515,1.1622609229281538,1.1744836382684354,0.0,1.1887892419328763,0.0,0.0,0.0,0.0,0.0,1.0274672828730451,0.9660146389858392,0.0,0.8883314115763796,0.0,0.0,0.7567124174994286,1.4428775595746108,0.6876732506795931,0.6516704268050293,0.6469050123494167,0.0,0.0,0.0,0.0,0.5740221675880679,0.5652320136107869,0.5593854814854593,2.7603019991211197,1.6358053806001116,1.6281712705922962,1.083078042812992,0.0,0.5448320500722448,0.5549331055887868,0.5653262780613831,0.5763579136535155,1.165656722254893,1.739932316632883,0.0,0.5729355556357665,0.0,0.5863479435604924,1.1960327593372782],[0.0,2.208739097111632,0.0,2.250047813516037,1.1359376597412334,1.13830911011547,0.0,0.0,0.0,0.0,0.0,0.0,0.0,0.0,0.0,1.1292264121540898,0.0,0.0,0.0,1.8701691193934669,0.0,0.0,0.0,1.509618534492519,2.155102744523345,0.6837302957475394,0.0,0.651102707545499,0.0,0.6261858394334271,0.0,0.0,0.0,0.0,0.5630617949058673,1.1094549414291,1.098561269233748,0.0,0.0,0.5485659115656893,1.6649221981856788,1.6982465038765306,0.0,1.1796055634916796,1.1950501024755462,0.5964473211761464],[3.769819827744366,0.0,0.0,0.0,2.3269017768221967,1.1456669729416373,0.0,2.3377348985247726,0.0,1.1836182499730727,0.0,1.2051851887561043,0.0,0.0,0.0,0.0,1.2649149281465075,0.0,1.2183087438018543,1.1843345697786243,1.1611569768116952,0.0,2.161290636316383,1.0160030642652418,0.9730522898839538,1.8696306544642105,0.9011144081886069,0.0,0.7883270832134419,0.7503755629692661,1.4208400290419703,0.0,0.0,0.6568688114747099,0.0,0.6235409142606301,0.0,0.594208840639131,0.0,0.5781523176970111,0.5714354286537153,0.566724434777385,0.5666656655573242,1.1346951187685381,1.1396959519139485,0.5784820861452383],[2.959249652658072,0.0,1.4230378442684304,1.395829262164652,4.102098496854374,0.0,2.6109353806547966,1.282620239234327,0.0,2.518482513546288,2.495330612591189,1.256145692802034,1.2672681121126754,0.0,2.543493743005392,2.5599705091397347,0.0,1.2882862572063511,1.3075450580026988,1.3231101026071885,1.3226813396116608,0.0,0.0,3.843714565756347,0.0,2.461814184727151,0.0,2.3009266982277112,0.0,0.0,1.984042347399863,0.0,0.8702485516888478,0.8272071748641519,1.566598859046051,0.739543775444928,0.0,0.6990763104709747,0.0,1.3389990847941255,0.0,0.0,0.6254538449462391,0.6170915856476838,0.6120895021753661,0.0],[1.8154849977397212,0.0,0.0,1.6819839336894653,1.636318414472909,1.598795147976485,1.5703270991347498,0.0,1.51053750966744,1.485996710003284,2.921477975707911,1.4262263050327249,1.3982259309388247,2.7718644669150256,0.0,2.7061329090116932,0.0,0.0,0.0,0.0,1.3793122473272377,0.0,2.793697976105501,0.0,0.0,1.4443874713830733,0.0,0.0,1.3995370331494341,0.0,1.3273936890394449,1.285254531807479,0.0,0.0,0.0,2.0956167033224955,0.0,0.0,0.8759037136565652,0.0,0.0,0.0,3.009125172084346,1.4783626837604815,0.7242482665117741,0.0],[0.0,0.0,4.550977777575512,0.0,0.0,2.0981427240606614,2.039384595304521,3.968513811420192,0.0,3.7765990592491745,1.8503784023832874,0.0,0.0,1.7578214264369312,0.0,1.6963528413910094,0.0,0.0,1.5785593751430569,1.5584504638727805,1.5429527177569171,0.0,1.5620167510676384,0.0,1.5565195600030508,0.0,1.566295820026345,0.0,0.0,0.0,0.0,0.0,1.5759820338048147,0.0,0.0,4.362627406897896,1.4072614691809737,1.344964587082422,2.5269339573175587,1.2001171314320278,1.1479158439936452,2.21004975927033,0.0,0.9634449709135964,0.9177646190726172,1.7518197027161964],[0.0,0.0,0.0,3.1363398286931186,9.08234966440718,2.9426044992422793,0.0,2.781517373357514,2.6989751991168953,0.0,0.0,2.4768476664379713,0.0,0.0,0.0,2.233908043409301,0.0,4.239506691001435,0.0,0.0,3.971366447910565,1.9279338333108407,1.8748359518542128,1.844542000221345,0.0,0.0,0.0,1.8026917793649477,1.8049401211114822,1.8192667627239518,1.8244013683010263,1.8271815176935122,0.0,0.0,0.0,0.0,0.0,0.0,0.0,0.0,1.6584050455315105,0.0,0.0,1.44000299520623,0.0,0.0],[0.0,0.0,0.0,4.725361962726345,9.38112704860362,0.0,0.0,0.0,0.0,0.0,0.0,3.92836238357316,0.0,3.6950818460628905,0.0,0.0,0.0,0.0,0.0,0.0,2.948434823374012,0.0,2.7971323798841428,2.7329274025164794,0.0,0.0,0.0,0.0,0.0,0.0,0.0,0.0,4.597320681506818,0.0,0.0,0.0,0.0,0.0,0.0,2.3002889162878857,2.2873768819393296,0.0,0.0,0.0,0.0,2.0463540110584972],[6.993398232068927,0.0,6.486682840129215,0.0,5.878238174454353,5.633453701460755,10.891466535969068,0.0,0.0,0.0,0.0,0.0,0.0,0.0,0.0,0.0,8.154145975521255,3.92840868021182,0.0,3.6436642144806504,0.0,0.0,0.0,0.0,0.0,0.0,0.0,0.0,0.0,0.0,0.0,0.0,2.437383614932387,2.3625358514815464,0.0,0.0,2.1569621345297283,2.1001344086021505,2.0555533858047594,0.0,1.9729158117364816,1.9381910862591942,7.678162155106554,1.902131528590939,5.64916430029451,0.0]],\"type\":\"surface\"}],                        {\"template\":{\"data\":{\"histogram2dcontour\":[{\"type\":\"histogram2dcontour\",\"colorbar\":{\"outlinewidth\":0,\"ticks\":\"\"},\"colorscale\":[[0.0,\"#0d0887\"],[0.1111111111111111,\"#46039f\"],[0.2222222222222222,\"#7201a8\"],[0.3333333333333333,\"#9c179e\"],[0.4444444444444444,\"#bd3786\"],[0.5555555555555556,\"#d8576b\"],[0.6666666666666666,\"#ed7953\"],[0.7777777777777778,\"#fb9f3a\"],[0.8888888888888888,\"#fdca26\"],[1.0,\"#f0f921\"]]}],\"choropleth\":[{\"type\":\"choropleth\",\"colorbar\":{\"outlinewidth\":0,\"ticks\":\"\"}}],\"histogram2d\":[{\"type\":\"histogram2d\",\"colorbar\":{\"outlinewidth\":0,\"ticks\":\"\"},\"colorscale\":[[0.0,\"#0d0887\"],[0.1111111111111111,\"#46039f\"],[0.2222222222222222,\"#7201a8\"],[0.3333333333333333,\"#9c179e\"],[0.4444444444444444,\"#bd3786\"],[0.5555555555555556,\"#d8576b\"],[0.6666666666666666,\"#ed7953\"],[0.7777777777777778,\"#fb9f3a\"],[0.8888888888888888,\"#fdca26\"],[1.0,\"#f0f921\"]]}],\"heatmap\":[{\"type\":\"heatmap\",\"colorbar\":{\"outlinewidth\":0,\"ticks\":\"\"},\"colorscale\":[[0.0,\"#0d0887\"],[0.1111111111111111,\"#46039f\"],[0.2222222222222222,\"#7201a8\"],[0.3333333333333333,\"#9c179e\"],[0.4444444444444444,\"#bd3786\"],[0.5555555555555556,\"#d8576b\"],[0.6666666666666666,\"#ed7953\"],[0.7777777777777778,\"#fb9f3a\"],[0.8888888888888888,\"#fdca26\"],[1.0,\"#f0f921\"]]}],\"heatmapgl\":[{\"type\":\"heatmapgl\",\"colorbar\":{\"outlinewidth\":0,\"ticks\":\"\"},\"colorscale\":[[0.0,\"#0d0887\"],[0.1111111111111111,\"#46039f\"],[0.2222222222222222,\"#7201a8\"],[0.3333333333333333,\"#9c179e\"],[0.4444444444444444,\"#bd3786\"],[0.5555555555555556,\"#d8576b\"],[0.6666666666666666,\"#ed7953\"],[0.7777777777777778,\"#fb9f3a\"],[0.8888888888888888,\"#fdca26\"],[1.0,\"#f0f921\"]]}],\"contourcarpet\":[{\"type\":\"contourcarpet\",\"colorbar\":{\"outlinewidth\":0,\"ticks\":\"\"}}],\"contour\":[{\"type\":\"contour\",\"colorbar\":{\"outlinewidth\":0,\"ticks\":\"\"},\"colorscale\":[[0.0,\"#0d0887\"],[0.1111111111111111,\"#46039f\"],[0.2222222222222222,\"#7201a8\"],[0.3333333333333333,\"#9c179e\"],[0.4444444444444444,\"#bd3786\"],[0.5555555555555556,\"#d8576b\"],[0.6666666666666666,\"#ed7953\"],[0.7777777777777778,\"#fb9f3a\"],[0.8888888888888888,\"#fdca26\"],[1.0,\"#f0f921\"]]}],\"surface\":[{\"type\":\"surface\",\"colorbar\":{\"outlinewidth\":0,\"ticks\":\"\"},\"colorscale\":[[0.0,\"#0d0887\"],[0.1111111111111111,\"#46039f\"],[0.2222222222222222,\"#7201a8\"],[0.3333333333333333,\"#9c179e\"],[0.4444444444444444,\"#bd3786\"],[0.5555555555555556,\"#d8576b\"],[0.6666666666666666,\"#ed7953\"],[0.7777777777777778,\"#fb9f3a\"],[0.8888888888888888,\"#fdca26\"],[1.0,\"#f0f921\"]]}],\"mesh3d\":[{\"type\":\"mesh3d\",\"colorbar\":{\"outlinewidth\":0,\"ticks\":\"\"}}],\"scatter\":[{\"fillpattern\":{\"fillmode\":\"overlay\",\"size\":10,\"solidity\":0.2},\"type\":\"scatter\"}],\"parcoords\":[{\"type\":\"parcoords\",\"line\":{\"colorbar\":{\"outlinewidth\":0,\"ticks\":\"\"}}}],\"scatterpolargl\":[{\"type\":\"scatterpolargl\",\"marker\":{\"colorbar\":{\"outlinewidth\":0,\"ticks\":\"\"}}}],\"bar\":[{\"error_x\":{\"color\":\"#2a3f5f\"},\"error_y\":{\"color\":\"#2a3f5f\"},\"marker\":{\"line\":{\"color\":\"#E5ECF6\",\"width\":0.5},\"pattern\":{\"fillmode\":\"overlay\",\"size\":10,\"solidity\":0.2}},\"type\":\"bar\"}],\"scattergeo\":[{\"type\":\"scattergeo\",\"marker\":{\"colorbar\":{\"outlinewidth\":0,\"ticks\":\"\"}}}],\"scatterpolar\":[{\"type\":\"scatterpolar\",\"marker\":{\"colorbar\":{\"outlinewidth\":0,\"ticks\":\"\"}}}],\"histogram\":[{\"marker\":{\"pattern\":{\"fillmode\":\"overlay\",\"size\":10,\"solidity\":0.2}},\"type\":\"histogram\"}],\"scattergl\":[{\"type\":\"scattergl\",\"marker\":{\"colorbar\":{\"outlinewidth\":0,\"ticks\":\"\"}}}],\"scatter3d\":[{\"type\":\"scatter3d\",\"line\":{\"colorbar\":{\"outlinewidth\":0,\"ticks\":\"\"}},\"marker\":{\"colorbar\":{\"outlinewidth\":0,\"ticks\":\"\"}}}],\"scattermapbox\":[{\"type\":\"scattermapbox\",\"marker\":{\"colorbar\":{\"outlinewidth\":0,\"ticks\":\"\"}}}],\"scatterternary\":[{\"type\":\"scatterternary\",\"marker\":{\"colorbar\":{\"outlinewidth\":0,\"ticks\":\"\"}}}],\"scattercarpet\":[{\"type\":\"scattercarpet\",\"marker\":{\"colorbar\":{\"outlinewidth\":0,\"ticks\":\"\"}}}],\"carpet\":[{\"aaxis\":{\"endlinecolor\":\"#2a3f5f\",\"gridcolor\":\"white\",\"linecolor\":\"white\",\"minorgridcolor\":\"white\",\"startlinecolor\":\"#2a3f5f\"},\"baxis\":{\"endlinecolor\":\"#2a3f5f\",\"gridcolor\":\"white\",\"linecolor\":\"white\",\"minorgridcolor\":\"white\",\"startlinecolor\":\"#2a3f5f\"},\"type\":\"carpet\"}],\"table\":[{\"cells\":{\"fill\":{\"color\":\"#EBF0F8\"},\"line\":{\"color\":\"white\"}},\"header\":{\"fill\":{\"color\":\"#C8D4E3\"},\"line\":{\"color\":\"white\"}},\"type\":\"table\"}],\"barpolar\":[{\"marker\":{\"line\":{\"color\":\"#E5ECF6\",\"width\":0.5},\"pattern\":{\"fillmode\":\"overlay\",\"size\":10,\"solidity\":0.2}},\"type\":\"barpolar\"}],\"pie\":[{\"automargin\":true,\"type\":\"pie\"}]},\"layout\":{\"autotypenumbers\":\"strict\",\"colorway\":[\"#636efa\",\"#EF553B\",\"#00cc96\",\"#ab63fa\",\"#FFA15A\",\"#19d3f3\",\"#FF6692\",\"#B6E880\",\"#FF97FF\",\"#FECB52\"],\"font\":{\"color\":\"#2a3f5f\"},\"hovermode\":\"closest\",\"hoverlabel\":{\"align\":\"left\"},\"paper_bgcolor\":\"white\",\"plot_bgcolor\":\"#E5ECF6\",\"polar\":{\"bgcolor\":\"#E5ECF6\",\"angularaxis\":{\"gridcolor\":\"white\",\"linecolor\":\"white\",\"ticks\":\"\"},\"radialaxis\":{\"gridcolor\":\"white\",\"linecolor\":\"white\",\"ticks\":\"\"}},\"ternary\":{\"bgcolor\":\"#E5ECF6\",\"aaxis\":{\"gridcolor\":\"white\",\"linecolor\":\"white\",\"ticks\":\"\"},\"baxis\":{\"gridcolor\":\"white\",\"linecolor\":\"white\",\"ticks\":\"\"},\"caxis\":{\"gridcolor\":\"white\",\"linecolor\":\"white\",\"ticks\":\"\"}},\"coloraxis\":{\"colorbar\":{\"outlinewidth\":0,\"ticks\":\"\"}},\"colorscale\":{\"sequential\":[[0.0,\"#0d0887\"],[0.1111111111111111,\"#46039f\"],[0.2222222222222222,\"#7201a8\"],[0.3333333333333333,\"#9c179e\"],[0.4444444444444444,\"#bd3786\"],[0.5555555555555556,\"#d8576b\"],[0.6666666666666666,\"#ed7953\"],[0.7777777777777778,\"#fb9f3a\"],[0.8888888888888888,\"#fdca26\"],[1.0,\"#f0f921\"]],\"sequentialminus\":[[0.0,\"#0d0887\"],[0.1111111111111111,\"#46039f\"],[0.2222222222222222,\"#7201a8\"],[0.3333333333333333,\"#9c179e\"],[0.4444444444444444,\"#bd3786\"],[0.5555555555555556,\"#d8576b\"],[0.6666666666666666,\"#ed7953\"],[0.7777777777777778,\"#fb9f3a\"],[0.8888888888888888,\"#fdca26\"],[1.0,\"#f0f921\"]],\"diverging\":[[0,\"#8e0152\"],[0.1,\"#c51b7d\"],[0.2,\"#de77ae\"],[0.3,\"#f1b6da\"],[0.4,\"#fde0ef\"],[0.5,\"#f7f7f7\"],[0.6,\"#e6f5d0\"],[0.7,\"#b8e186\"],[0.8,\"#7fbc41\"],[0.9,\"#4d9221\"],[1,\"#276419\"]]},\"xaxis\":{\"gridcolor\":\"white\",\"linecolor\":\"white\",\"ticks\":\"\",\"title\":{\"standoff\":15},\"zerolinecolor\":\"white\",\"automargin\":true,\"zerolinewidth\":2},\"yaxis\":{\"gridcolor\":\"white\",\"linecolor\":\"white\",\"ticks\":\"\",\"title\":{\"standoff\":15},\"zerolinecolor\":\"white\",\"automargin\":true,\"zerolinewidth\":2},\"scene\":{\"xaxis\":{\"backgroundcolor\":\"#E5ECF6\",\"gridcolor\":\"white\",\"linecolor\":\"white\",\"showbackground\":true,\"ticks\":\"\",\"zerolinecolor\":\"white\",\"gridwidth\":2},\"yaxis\":{\"backgroundcolor\":\"#E5ECF6\",\"gridcolor\":\"white\",\"linecolor\":\"white\",\"showbackground\":true,\"ticks\":\"\",\"zerolinecolor\":\"white\",\"gridwidth\":2},\"zaxis\":{\"backgroundcolor\":\"#E5ECF6\",\"gridcolor\":\"white\",\"linecolor\":\"white\",\"showbackground\":true,\"ticks\":\"\",\"zerolinecolor\":\"white\",\"gridwidth\":2}},\"shapedefaults\":{\"line\":{\"color\":\"#2a3f5f\"}},\"annotationdefaults\":{\"arrowcolor\":\"#2a3f5f\",\"arrowhead\":0,\"arrowwidth\":1},\"geo\":{\"bgcolor\":\"white\",\"landcolor\":\"#E5ECF6\",\"subunitcolor\":\"white\",\"showland\":true,\"showlakes\":true,\"lakecolor\":\"white\"},\"title\":{\"x\":0.05},\"mapbox\":{\"style\":\"light\"}}},\"scene\":{\"camera\":{\"eye\":{\"x\":2.5,\"y\":2.5,\"z\":2}},\"aspectratio\":{\"x\":2.5,\"y\":2.5,\"z\":1},\"xaxis\":{\"title\":{\"text\":\"Year (from 1975-2020)\"}},\"yaxis\":{\"title\":{\"text\":\"Age at Diagnosis\"}},\"zaxis\":{\"title\":{\"text\":\"Incidence Rate\"}}},\"height\":1000,\"width\":1200,\"updatemenus\":[{\"buttons\":[{\"args\":[null,{\"frame\":{\"duration\":5,\"redraw\":true},\"transition\":{\"duration\":1},\"fromcurrent\":true,\"mode\":\"immediate\"}],\"label\":\"Play\",\"method\":\"animate\"}],\"pad\":{\"r\":10,\"t\":45},\"showactive\":false,\"type\":\"buttons\",\"x\":0.8,\"xanchor\":\"left\",\"y\":1,\"yanchor\":\"bottom\"}],\"margin\":{\"r\":30,\"b\":10,\"l\":10,\"t\":10}},                        {\"responsive\": true}                    ).then(function(){\n",
              "                            \n",
              "var gd = document.getElementById('c4741f7d-f94c-44b8-8784-ea5009b6758b');\n",
              "var x = new MutationObserver(function (mutations, observer) {{\n",
              "        var display = window.getComputedStyle(gd).display;\n",
              "        if (!display || display === 'none') {{\n",
              "            console.log([gd, 'removed!']);\n",
              "            Plotly.purge(gd);\n",
              "            observer.disconnect();\n",
              "        }}\n",
              "}});\n",
              "\n",
              "// Listen for the removal of the full notebook cells\n",
              "var notebookContainer = gd.closest('#notebook-container');\n",
              "if (notebookContainer) {{\n",
              "    x.observe(notebookContainer, {childList: true});\n",
              "}}\n",
              "\n",
              "// Listen for the clearing of the current output cell\n",
              "var outputEl = gd.closest('.output');\n",
              "if (outputEl) {{\n",
              "    x.observe(outputEl, {childList: true});\n",
              "}}\n",
              "\n",
              "                        })                };                            </script>        </div>\n",
              "</body>\n",
              "</html>"
            ]
          },
          "metadata": {}
        }
      ]
    },
    {
      "cell_type": "code",
      "source": [
        "# This reformats the graph so we can save it at a higher resolution.\n",
        "config = {\n",
        "  'toImageButtonOptions': {\n",
        "    'format': 'png', # one of png, svg, jpeg, webp\n",
        "    'filename': 'SEER_Osteosarcoma_3D_IR_notitle_2020',\n",
        "    'height': 1000,\n",
        "    'width': 1200,\n",
        "    'scale':2.0 # Multiply title/legend/axis/canvas sizes by this factor\n",
        "  }\n",
        "}\n",
        "\n",
        "\n",
        "fig.show(config=config)"
      ],
      "metadata": {
        "colab": {
          "base_uri": "https://localhost:8080/",
          "height": 1000
        },
        "id": "Fx1KpbTTFUgN",
        "outputId": "ef69d347-8699-401e-ae72-2fc04ebd4bb7"
      },
      "execution_count": null,
      "outputs": [
        {
          "output_type": "display_data",
          "data": {
            "text/html": [
              "<html>\n",
              "<head><meta charset=\"utf-8\" /></head>\n",
              "<body>\n",
              "    <div>            <script src=\"https://cdnjs.cloudflare.com/ajax/libs/mathjax/2.7.5/MathJax.js?config=TeX-AMS-MML_SVG\"></script><script type=\"text/javascript\">if (window.MathJax && window.MathJax.Hub && window.MathJax.Hub.Config) {window.MathJax.Hub.Config({SVG: {font: \"STIX-Web\"}});}</script>                <script type=\"text/javascript\">window.PlotlyConfig = {MathJaxConfig: 'local'};</script>\n",
              "        <script src=\"https://cdn.plot.ly/plotly-2.18.2.min.js\"></script>                <div id=\"0ab3a5cf-0662-40ed-8e06-3bb049df94bb\" class=\"plotly-graph-div\" style=\"height:1000px; width:1200px;\"></div>            <script type=\"text/javascript\">                                    window.PLOTLYENV=window.PLOTLYENV || {};                                    if (document.getElementById(\"0ab3a5cf-0662-40ed-8e06-3bb049df94bb\")) {                    Plotly.newPlot(                        \"0ab3a5cf-0662-40ed-8e06-3bb049df94bb\",                        [{\"colorscale\":[[0.0,\"#0508b8\"],[0.08333333333333333,\"#1910d8\"],[0.16666666666666666,\"#3c19f0\"],[0.25,\"#6b1cfb\"],[0.3333333333333333,\"#981cfd\"],[0.4166666666666667,\"#bf1cfd\"],[0.5,\"#dd2bfd\"],[0.5833333333333334,\"#f246fe\"],[0.6666666666666666,\"#fc67fd\"],[0.75,\"#fe88fc\"],[0.8333333333333334,\"#fea5fd\"],[0.9166666666666666,\"#febefe\"],[1.0,\"#fec3fe\"]],\"x\":[\"1975\",\"1976\",\"1977\",\"1978\",\"1979\",\"1980\",\"1981\",\"1982\",\"1983\",\"1984\",\"1985\",\"1986\",\"1987\",\"1988\",\"1989\",\"1990\",\"1991\",\"1992\",\"1993\",\"1994\",\"1995\",\"1996\",\"1997\",\"1998\",\"1999\",\"2000\",\"2001\",\"2002\",\"2003\",\"2004\",\"2005\",\"2006\",\"2007\",\"2008\",\"2009\",\"2010\",\"2011\",\"2012\",\"2013\",\"2014\",\"2015\",\"2016\",\"2017\",\"2018\",\"2019\",\"2020\"],\"y\":[null,\"01-04 years\",\"05-09 years\",\"10-14 years\",\"15-19 years\",\"20-24 years\",\"25-29 years\",\"30-34 years\",\"35-39 years\",\"40-44 years\",\"45-49 years\",\"50-54 years\",\"55-59 years\",\"60-64 years\",\"65-69 years\",\"70-74 years\",\"75-79 years\",\"80-84 years\",\"85+ years\"],\"z\":[[0.0,0.0,0.0,0.0,0.0,0.0,0.0,0.0,0.0,0.0,0.0,0.0,0.0,0.0,0.0,0.0,0.0,0.0,0.0,0.0,0.0,0.0,0.0,0.0,0.0,0.0,0.0,0.0,0.0,0.0,0.0,0.0,0.0,0.0,0.0,0.0,0.0,0.0,0.0,0.0,0.0,0.0,0.0,0.0,0.0,0.0],[0.0,0.0,1.0646112571994337,0.0,0.0,0.0,0.0,0.9231053263177329,0.8999531124428417,0.0,0.0,0.0,0.0,0.0,0.0,0.8367773695233968,0.8197655306629198,0.0,0.7896330654108342,0.0,0.0,0.7982279339865499,0.0,0.0,0.0,0.8040097574624165,0.8043796865171485,0.0,0.0,0.0,0.0,0.0,0.7553657405379111,0.7429409465959189,0.0,0.0,0.7345584789350665,0.0,0.7448218125536737,0.0,0.0,0.0,0.0,0.0,0.0,0.0],[0.7530721578680226,0.7505405768504766,1.5157842402396757,1.537745895179551,2.3547159859313567,0.7985874585033992,2.4470399381388304,0.0,4.781508948593998,0.7762727574062243,0.7546338290271412,2.2034488381214277,2.1592411562880343,0.0,2.792479016265492,2.0673515572670165,4.100388443465211,2.0408774140178347,0.6725207354955771,1.982252234989395,2.591131722124443,1.90360644586524,1.2440364005050788,1.8389936536329012,1.2198141735088077,1.8403948260366791,1.8679368637340057,4.428451408500602,0.6419556537034422,1.2913206465384213,2.5823445105811564,2.546439091405068,1.883280549164608,1.8483217854295562,3.6206085036025053,1.1906725096935626,2.9591717160000046,2.927177673830446,2.9029497452951896,2.3229532168836884,2.902336380786533,4.067795034268268,2.3394097552217086,2.3573341379700525,3.5487860490122842,0.5938940564270621],[3.2100688302958593,5.940433295204552,4.762961037617866,8.421785474665866,6.4754816679113985,5.813049423999465,4.341059696082411,8.779746879897452,4.458248502771545,6.094030896736647,6.229549556845418,5.610390443100623,5.590813175789543,7.8395095602819085,6.0954563706281295,4.398804404962731,4.954240511390861,4.813874963036318,6.677221127528914,7.242750665016198,7.177008518456656,5.167307735782638,9.62244724493298,10.153766095305787,6.853492882647641,4.88843969559686,5.424189716459523,5.967576960856276,3.563209858213941,7.140617199247617,6.603346576044739,3.014983260812936,6.054474529128379,6.671725047293433,6.644193186561092,6.602272502195255,3.576254386126994,12.477888883805305,5.3156742696558865,9.984160423140464,5.27439760518907,5.247528851205153,6.929730797282852,5.168169359761437,8.64402853220938,6.36572232140532],[5.702786001054382,1.2512277672466108,5.002939226795743,6.890874852942466,6.911592562875072,7.612691625722016,9.777898299427928,2.6927105632342685,8.330244201108755,4.975955472307031,9.315904470415912,5.714302040862974,5.751444151679961,7.252267965499511,7.383217798280153,5.985927085422173,5.326243849139469,7.5193849744641685,7.342844764918825,6.406729058716248,6.879391201396241,6.653289120009368,11.0070263676554,6.324554640673591,3.130925276084991,3.725359078048135,5.542974372365933,10.440375018270656,7.952738709099218,2.4243761322594155,5.973412341667239,4.706001387093909,5.234368865973985,6.919772731597585,6.916896941694017,5.219200627231933,5.257251940948209,4.116852748410895,5.31637135208319,7.694415689031966,7.657215895202166,5.264826629259098,8.172653135088119,6.408781195470739,9.286198909219861,5.817640248762297],[1.3400370922267129,2.611231953123164,0.6350694226139331,1.8621788982853056,1.8262949953429477,1.2000228004332083,2.384574663417286,1.7988404674346916,3.6107144340114856,0.6044246300619052,1.8321561729921858,0.6244251386067702,3.2010612158142666,1.3108908814430287,1.9995560985461227,1.3370851943887883,4.014546038479423,5.36772614397986,1.353123211340255,2.738019453628218,2.072883982756369,2.0988267558434837,4.143254402035167,3.3795452348750143,1.3148509123421768,1.9103218510254607,3.0887515698579855,1.2113356792867656,2.3920640881810504,2.375539544419026,3.549233188169696,4.114841704978782,0.5898921972009615,4.103244670031718,3.485055211987196,2.882048698553269,1.1298049900096994,2.2103758357292884,2.7242567274157756,2.1614681556300304,3.249811375531412,2.727304463179208,1.651163161889393,1.10898555546314,1.1138226504746556,2.2297650217875913],[0.7145567354475162,1.3508228875325126,0.6753115549858928,1.3208826930684698,1.9280453476265762,1.2428744454449583,0.0,0.5899503143845225,1.7358248205591091,0.5711446309548968,0.0,1.1275228323373547,0.0,2.268614120648302,2.282892630423083,1.1517658874586516,0.5828354946816261,1.7754504909712425,2.4088825133798366,0.6104532798739047,1.2225476915854487,1.211499309142519,4.220391242326424,0.602980653968698,0.606225572898322,0.609797742284839,1.864534136823244,0.6285161550649917,0.6295354091633915,0.0,2.4441586136732343,0.5893054034001743,1.7201006373546228,0.5586692052595353,1.102335904899277,1.1019945550449035,0.0,0.5476976161461258,1.6341409076127544,0.5356519205263959,3.1464763398089564,1.018489661311448,0.4971476155557489,0.4910797813123518,0.9796833271613283,1.4880081423805551],[0.8702311333890281,0.0,0.7797483751993232,1.5006981998374744,0.7144224751595305,0.0,0.6448575832027497,0.6456807509008861,0.0,0.6174955000015437,1.8029322890749515,1.1747940879662317,1.7205899558840736,1.127219071644917,1.1182461427497115,1.1088754949049944,1.0870551838128786,0.0,1.0645959565580974,1.0610490485838444,0.0,1.0845986984815619,1.1044134570570916,1.6892120163785997,0.0,0.574627770495967,1.7049145297930972,0.569117952541254,1.7326258059597708,0.5885032361792958,3.0100046534671945,1.8345022169959293,0.6114300737996099,1.2040352035812822,0.0,0.0,1.1200528664952987,1.0938603260688247,0.5362594509024978,1.0567289062380292,0.5231458012579564,1.0342935542308553,2.058840635955284,0.5109694930773853,1.0084457330139922,1.490016886858051],[0.0,1.05818314187273,0.0,0.0,0.0,0.0,0.0,0.0,1.5102717356420354,0.7205872497850848,0.0,0.6513007452834428,0.0,0.6329658755437176,0.6165444778269027,1.1982254281409233,0.0,1.1274293989617503,1.1015369193867743,0.5416070673223001,1.0674694036582177,1.0551461588459234,0.524461954480898,0.5238868844394594,1.0526964028837564,0.0,0.0,0.0,1.142358421808993,0.0,0.579993921663701,0.0,1.1407256155640604,1.1446513020122397,1.1569427556293943,0.5891429207702926,1.7957555521768747,0.5966626272606801,0.0,0.5776420190668078,2.2487499761070313,0.5467145734423555,1.067434080608352,0.0,0.0,0.515637480038384],[1.167140331117712,0.0,0.0,0.0,0.0,1.0900430021964367,1.055955058552708,0.0,0.9545546095919375,0.0,0.0,0.0,0.7754973846350703,0.7418403129379176,1.4120703775876189,0.6713788510290895,1.911511055861362,1.269352871212727,0.6212789275234641,0.0,0.0,3.4606626476837783,0.0,0.5522957831112368,0.5466120710530099,0.5407729267441955,0.535170036899974,1.069500414966161,0.0,1.608776627264152,1.0841042669801897,0.5507633028614357,2.2457501984681736,0.5706651844589609,0.5775095823277447,0.5752876006537568,0.568553316087216,0.5666252085889049,1.1403113163924883,2.889921168730359,0.5875471726936277,0.0,1.1894495822058342,0.5880993393880121,1.1565988591308853,0.0],[1.1243560250866316,0.0,1.1491637535365515,1.1622609229281538,1.1744836382684354,0.0,1.1887892419328763,0.0,0.0,0.0,0.0,0.0,1.0274672828730451,0.9660146389858392,0.0,0.8883314115763796,0.0,0.0,0.7567124174994286,1.4428775595746108,0.6876732506795931,0.6516704268050293,0.6469050123494167,0.0,0.0,0.0,0.0,0.5740221675880679,0.5652320136107869,0.5593854814854593,2.7603019991211197,1.6358053806001116,1.6281712705922962,1.083078042812992,0.0,0.5448320500722448,0.5549331055887868,0.5653262780613831,0.5763579136535155,1.165656722254893,1.739932316632883,0.0,0.5729355556357665,0.0,0.5863479435604924,1.1960327593372782],[0.0,2.208739097111632,0.0,2.250047813516037,1.1359376597412334,1.13830911011547,0.0,0.0,0.0,0.0,0.0,0.0,0.0,0.0,0.0,1.1292264121540898,0.0,0.0,0.0,1.8701691193934669,0.0,0.0,0.0,1.509618534492519,2.155102744523345,0.6837302957475394,0.0,0.651102707545499,0.0,0.6261858394334271,0.0,0.0,0.0,0.0,0.5630617949058673,1.1094549414291,1.098561269233748,0.0,0.0,0.5485659115656893,1.6649221981856788,1.6982465038765306,0.0,1.1796055634916796,1.1950501024755462,0.5964473211761464],[3.769819827744366,0.0,0.0,0.0,2.3269017768221967,1.1456669729416373,0.0,2.3377348985247726,0.0,1.1836182499730727,0.0,1.2051851887561043,0.0,0.0,0.0,0.0,1.2649149281465075,0.0,1.2183087438018543,1.1843345697786243,1.1611569768116952,0.0,2.161290636316383,1.0160030642652418,0.9730522898839538,1.8696306544642105,0.9011144081886069,0.0,0.7883270832134419,0.7503755629692661,1.4208400290419703,0.0,0.0,0.6568688114747099,0.0,0.6235409142606301,0.0,0.594208840639131,0.0,0.5781523176970111,0.5714354286537153,0.566724434777385,0.5666656655573242,1.1346951187685381,1.1396959519139485,0.5784820861452383],[2.959249652658072,0.0,1.4230378442684304,1.395829262164652,4.102098496854374,0.0,2.6109353806547966,1.282620239234327,0.0,2.518482513546288,2.495330612591189,1.256145692802034,1.2672681121126754,0.0,2.543493743005392,2.5599705091397347,0.0,1.2882862572063511,1.3075450580026988,1.3231101026071885,1.3226813396116608,0.0,0.0,3.843714565756347,0.0,2.461814184727151,0.0,2.3009266982277112,0.0,0.0,1.984042347399863,0.0,0.8702485516888478,0.8272071748641519,1.566598859046051,0.739543775444928,0.0,0.6990763104709747,0.0,1.3389990847941255,0.0,0.0,0.6254538449462391,0.6170915856476838,0.6120895021753661,0.0],[1.8154849977397212,0.0,0.0,1.6819839336894653,1.636318414472909,1.598795147976485,1.5703270991347498,0.0,1.51053750966744,1.485996710003284,2.921477975707911,1.4262263050327249,1.3982259309388247,2.7718644669150256,0.0,2.7061329090116932,0.0,0.0,0.0,0.0,1.3793122473272377,0.0,2.793697976105501,0.0,0.0,1.4443874713830733,0.0,0.0,1.3995370331494341,0.0,1.3273936890394449,1.285254531807479,0.0,0.0,0.0,2.0956167033224955,0.0,0.0,0.8759037136565652,0.0,0.0,0.0,3.009125172084346,1.4783626837604815,0.7242482665117741,0.0],[0.0,0.0,4.550977777575512,0.0,0.0,2.0981427240606614,2.039384595304521,3.968513811420192,0.0,3.7765990592491745,1.8503784023832874,0.0,0.0,1.7578214264369312,0.0,1.6963528413910094,0.0,0.0,1.5785593751430569,1.5584504638727805,1.5429527177569171,0.0,1.5620167510676384,0.0,1.5565195600030508,0.0,1.566295820026345,0.0,0.0,0.0,0.0,0.0,1.5759820338048147,0.0,0.0,4.362627406897896,1.4072614691809737,1.344964587082422,2.5269339573175587,1.2001171314320278,1.1479158439936452,2.21004975927033,0.0,0.9634449709135964,0.9177646190726172,1.7518197027161964],[0.0,0.0,0.0,3.1363398286931186,9.08234966440718,2.9426044992422793,0.0,2.781517373357514,2.6989751991168953,0.0,0.0,2.4768476664379713,0.0,0.0,0.0,2.233908043409301,0.0,4.239506691001435,0.0,0.0,3.971366447910565,1.9279338333108407,1.8748359518542128,1.844542000221345,0.0,0.0,0.0,1.8026917793649477,1.8049401211114822,1.8192667627239518,1.8244013683010263,1.8271815176935122,0.0,0.0,0.0,0.0,0.0,0.0,0.0,0.0,1.6584050455315105,0.0,0.0,1.44000299520623,0.0,0.0],[0.0,0.0,0.0,4.725361962726345,9.38112704860362,0.0,0.0,0.0,0.0,0.0,0.0,3.92836238357316,0.0,3.6950818460628905,0.0,0.0,0.0,0.0,0.0,0.0,2.948434823374012,0.0,2.7971323798841428,2.7329274025164794,0.0,0.0,0.0,0.0,0.0,0.0,0.0,0.0,4.597320681506818,0.0,0.0,0.0,0.0,0.0,0.0,2.3002889162878857,2.2873768819393296,0.0,0.0,0.0,0.0,2.0463540110584972],[6.993398232068927,0.0,6.486682840129215,0.0,5.878238174454353,5.633453701460755,10.891466535969068,0.0,0.0,0.0,0.0,0.0,0.0,0.0,0.0,0.0,8.154145975521255,3.92840868021182,0.0,3.6436642144806504,0.0,0.0,0.0,0.0,0.0,0.0,0.0,0.0,0.0,0.0,0.0,0.0,2.437383614932387,2.3625358514815464,0.0,0.0,2.1569621345297283,2.1001344086021505,2.0555533858047594,0.0,1.9729158117364816,1.9381910862591942,7.678162155106554,1.902131528590939,5.64916430029451,0.0]],\"type\":\"surface\"}],                        {\"template\":{\"data\":{\"histogram2dcontour\":[{\"type\":\"histogram2dcontour\",\"colorbar\":{\"outlinewidth\":0,\"ticks\":\"\"},\"colorscale\":[[0.0,\"#0d0887\"],[0.1111111111111111,\"#46039f\"],[0.2222222222222222,\"#7201a8\"],[0.3333333333333333,\"#9c179e\"],[0.4444444444444444,\"#bd3786\"],[0.5555555555555556,\"#d8576b\"],[0.6666666666666666,\"#ed7953\"],[0.7777777777777778,\"#fb9f3a\"],[0.8888888888888888,\"#fdca26\"],[1.0,\"#f0f921\"]]}],\"choropleth\":[{\"type\":\"choropleth\",\"colorbar\":{\"outlinewidth\":0,\"ticks\":\"\"}}],\"histogram2d\":[{\"type\":\"histogram2d\",\"colorbar\":{\"outlinewidth\":0,\"ticks\":\"\"},\"colorscale\":[[0.0,\"#0d0887\"],[0.1111111111111111,\"#46039f\"],[0.2222222222222222,\"#7201a8\"],[0.3333333333333333,\"#9c179e\"],[0.4444444444444444,\"#bd3786\"],[0.5555555555555556,\"#d8576b\"],[0.6666666666666666,\"#ed7953\"],[0.7777777777777778,\"#fb9f3a\"],[0.8888888888888888,\"#fdca26\"],[1.0,\"#f0f921\"]]}],\"heatmap\":[{\"type\":\"heatmap\",\"colorbar\":{\"outlinewidth\":0,\"ticks\":\"\"},\"colorscale\":[[0.0,\"#0d0887\"],[0.1111111111111111,\"#46039f\"],[0.2222222222222222,\"#7201a8\"],[0.3333333333333333,\"#9c179e\"],[0.4444444444444444,\"#bd3786\"],[0.5555555555555556,\"#d8576b\"],[0.6666666666666666,\"#ed7953\"],[0.7777777777777778,\"#fb9f3a\"],[0.8888888888888888,\"#fdca26\"],[1.0,\"#f0f921\"]]}],\"heatmapgl\":[{\"type\":\"heatmapgl\",\"colorbar\":{\"outlinewidth\":0,\"ticks\":\"\"},\"colorscale\":[[0.0,\"#0d0887\"],[0.1111111111111111,\"#46039f\"],[0.2222222222222222,\"#7201a8\"],[0.3333333333333333,\"#9c179e\"],[0.4444444444444444,\"#bd3786\"],[0.5555555555555556,\"#d8576b\"],[0.6666666666666666,\"#ed7953\"],[0.7777777777777778,\"#fb9f3a\"],[0.8888888888888888,\"#fdca26\"],[1.0,\"#f0f921\"]]}],\"contourcarpet\":[{\"type\":\"contourcarpet\",\"colorbar\":{\"outlinewidth\":0,\"ticks\":\"\"}}],\"contour\":[{\"type\":\"contour\",\"colorbar\":{\"outlinewidth\":0,\"ticks\":\"\"},\"colorscale\":[[0.0,\"#0d0887\"],[0.1111111111111111,\"#46039f\"],[0.2222222222222222,\"#7201a8\"],[0.3333333333333333,\"#9c179e\"],[0.4444444444444444,\"#bd3786\"],[0.5555555555555556,\"#d8576b\"],[0.6666666666666666,\"#ed7953\"],[0.7777777777777778,\"#fb9f3a\"],[0.8888888888888888,\"#fdca26\"],[1.0,\"#f0f921\"]]}],\"surface\":[{\"type\":\"surface\",\"colorbar\":{\"outlinewidth\":0,\"ticks\":\"\"},\"colorscale\":[[0.0,\"#0d0887\"],[0.1111111111111111,\"#46039f\"],[0.2222222222222222,\"#7201a8\"],[0.3333333333333333,\"#9c179e\"],[0.4444444444444444,\"#bd3786\"],[0.5555555555555556,\"#d8576b\"],[0.6666666666666666,\"#ed7953\"],[0.7777777777777778,\"#fb9f3a\"],[0.8888888888888888,\"#fdca26\"],[1.0,\"#f0f921\"]]}],\"mesh3d\":[{\"type\":\"mesh3d\",\"colorbar\":{\"outlinewidth\":0,\"ticks\":\"\"}}],\"scatter\":[{\"fillpattern\":{\"fillmode\":\"overlay\",\"size\":10,\"solidity\":0.2},\"type\":\"scatter\"}],\"parcoords\":[{\"type\":\"parcoords\",\"line\":{\"colorbar\":{\"outlinewidth\":0,\"ticks\":\"\"}}}],\"scatterpolargl\":[{\"type\":\"scatterpolargl\",\"marker\":{\"colorbar\":{\"outlinewidth\":0,\"ticks\":\"\"}}}],\"bar\":[{\"error_x\":{\"color\":\"#2a3f5f\"},\"error_y\":{\"color\":\"#2a3f5f\"},\"marker\":{\"line\":{\"color\":\"#E5ECF6\",\"width\":0.5},\"pattern\":{\"fillmode\":\"overlay\",\"size\":10,\"solidity\":0.2}},\"type\":\"bar\"}],\"scattergeo\":[{\"type\":\"scattergeo\",\"marker\":{\"colorbar\":{\"outlinewidth\":0,\"ticks\":\"\"}}}],\"scatterpolar\":[{\"type\":\"scatterpolar\",\"marker\":{\"colorbar\":{\"outlinewidth\":0,\"ticks\":\"\"}}}],\"histogram\":[{\"marker\":{\"pattern\":{\"fillmode\":\"overlay\",\"size\":10,\"solidity\":0.2}},\"type\":\"histogram\"}],\"scattergl\":[{\"type\":\"scattergl\",\"marker\":{\"colorbar\":{\"outlinewidth\":0,\"ticks\":\"\"}}}],\"scatter3d\":[{\"type\":\"scatter3d\",\"line\":{\"colorbar\":{\"outlinewidth\":0,\"ticks\":\"\"}},\"marker\":{\"colorbar\":{\"outlinewidth\":0,\"ticks\":\"\"}}}],\"scattermapbox\":[{\"type\":\"scattermapbox\",\"marker\":{\"colorbar\":{\"outlinewidth\":0,\"ticks\":\"\"}}}],\"scatterternary\":[{\"type\":\"scatterternary\",\"marker\":{\"colorbar\":{\"outlinewidth\":0,\"ticks\":\"\"}}}],\"scattercarpet\":[{\"type\":\"scattercarpet\",\"marker\":{\"colorbar\":{\"outlinewidth\":0,\"ticks\":\"\"}}}],\"carpet\":[{\"aaxis\":{\"endlinecolor\":\"#2a3f5f\",\"gridcolor\":\"white\",\"linecolor\":\"white\",\"minorgridcolor\":\"white\",\"startlinecolor\":\"#2a3f5f\"},\"baxis\":{\"endlinecolor\":\"#2a3f5f\",\"gridcolor\":\"white\",\"linecolor\":\"white\",\"minorgridcolor\":\"white\",\"startlinecolor\":\"#2a3f5f\"},\"type\":\"carpet\"}],\"table\":[{\"cells\":{\"fill\":{\"color\":\"#EBF0F8\"},\"line\":{\"color\":\"white\"}},\"header\":{\"fill\":{\"color\":\"#C8D4E3\"},\"line\":{\"color\":\"white\"}},\"type\":\"table\"}],\"barpolar\":[{\"marker\":{\"line\":{\"color\":\"#E5ECF6\",\"width\":0.5},\"pattern\":{\"fillmode\":\"overlay\",\"size\":10,\"solidity\":0.2}},\"type\":\"barpolar\"}],\"pie\":[{\"automargin\":true,\"type\":\"pie\"}]},\"layout\":{\"autotypenumbers\":\"strict\",\"colorway\":[\"#636efa\",\"#EF553B\",\"#00cc96\",\"#ab63fa\",\"#FFA15A\",\"#19d3f3\",\"#FF6692\",\"#B6E880\",\"#FF97FF\",\"#FECB52\"],\"font\":{\"color\":\"#2a3f5f\"},\"hovermode\":\"closest\",\"hoverlabel\":{\"align\":\"left\"},\"paper_bgcolor\":\"white\",\"plot_bgcolor\":\"#E5ECF6\",\"polar\":{\"bgcolor\":\"#E5ECF6\",\"angularaxis\":{\"gridcolor\":\"white\",\"linecolor\":\"white\",\"ticks\":\"\"},\"radialaxis\":{\"gridcolor\":\"white\",\"linecolor\":\"white\",\"ticks\":\"\"}},\"ternary\":{\"bgcolor\":\"#E5ECF6\",\"aaxis\":{\"gridcolor\":\"white\",\"linecolor\":\"white\",\"ticks\":\"\"},\"baxis\":{\"gridcolor\":\"white\",\"linecolor\":\"white\",\"ticks\":\"\"},\"caxis\":{\"gridcolor\":\"white\",\"linecolor\":\"white\",\"ticks\":\"\"}},\"coloraxis\":{\"colorbar\":{\"outlinewidth\":0,\"ticks\":\"\"}},\"colorscale\":{\"sequential\":[[0.0,\"#0d0887\"],[0.1111111111111111,\"#46039f\"],[0.2222222222222222,\"#7201a8\"],[0.3333333333333333,\"#9c179e\"],[0.4444444444444444,\"#bd3786\"],[0.5555555555555556,\"#d8576b\"],[0.6666666666666666,\"#ed7953\"],[0.7777777777777778,\"#fb9f3a\"],[0.8888888888888888,\"#fdca26\"],[1.0,\"#f0f921\"]],\"sequentialminus\":[[0.0,\"#0d0887\"],[0.1111111111111111,\"#46039f\"],[0.2222222222222222,\"#7201a8\"],[0.3333333333333333,\"#9c179e\"],[0.4444444444444444,\"#bd3786\"],[0.5555555555555556,\"#d8576b\"],[0.6666666666666666,\"#ed7953\"],[0.7777777777777778,\"#fb9f3a\"],[0.8888888888888888,\"#fdca26\"],[1.0,\"#f0f921\"]],\"diverging\":[[0,\"#8e0152\"],[0.1,\"#c51b7d\"],[0.2,\"#de77ae\"],[0.3,\"#f1b6da\"],[0.4,\"#fde0ef\"],[0.5,\"#f7f7f7\"],[0.6,\"#e6f5d0\"],[0.7,\"#b8e186\"],[0.8,\"#7fbc41\"],[0.9,\"#4d9221\"],[1,\"#276419\"]]},\"xaxis\":{\"gridcolor\":\"white\",\"linecolor\":\"white\",\"ticks\":\"\",\"title\":{\"standoff\":15},\"zerolinecolor\":\"white\",\"automargin\":true,\"zerolinewidth\":2},\"yaxis\":{\"gridcolor\":\"white\",\"linecolor\":\"white\",\"ticks\":\"\",\"title\":{\"standoff\":15},\"zerolinecolor\":\"white\",\"automargin\":true,\"zerolinewidth\":2},\"scene\":{\"xaxis\":{\"backgroundcolor\":\"#E5ECF6\",\"gridcolor\":\"white\",\"linecolor\":\"white\",\"showbackground\":true,\"ticks\":\"\",\"zerolinecolor\":\"white\",\"gridwidth\":2},\"yaxis\":{\"backgroundcolor\":\"#E5ECF6\",\"gridcolor\":\"white\",\"linecolor\":\"white\",\"showbackground\":true,\"ticks\":\"\",\"zerolinecolor\":\"white\",\"gridwidth\":2},\"zaxis\":{\"backgroundcolor\":\"#E5ECF6\",\"gridcolor\":\"white\",\"linecolor\":\"white\",\"showbackground\":true,\"ticks\":\"\",\"zerolinecolor\":\"white\",\"gridwidth\":2}},\"shapedefaults\":{\"line\":{\"color\":\"#2a3f5f\"}},\"annotationdefaults\":{\"arrowcolor\":\"#2a3f5f\",\"arrowhead\":0,\"arrowwidth\":1},\"geo\":{\"bgcolor\":\"white\",\"landcolor\":\"#E5ECF6\",\"subunitcolor\":\"white\",\"showland\":true,\"showlakes\":true,\"lakecolor\":\"white\"},\"title\":{\"x\":0.05},\"mapbox\":{\"style\":\"light\"}}},\"scene\":{\"camera\":{\"eye\":{\"x\":2.5,\"y\":2.5,\"z\":2}},\"aspectratio\":{\"x\":2.5,\"y\":2.5,\"z\":1},\"xaxis\":{\"title\":{\"text\":\"Year (from 1975-2020)\"}},\"yaxis\":{\"title\":{\"text\":\"Age at Diagnosis\"}},\"zaxis\":{\"title\":{\"text\":\"Incidence Rate\"}}},\"height\":1000,\"width\":1200,\"updatemenus\":[{\"buttons\":[{\"args\":[null,{\"frame\":{\"duration\":5,\"redraw\":true},\"transition\":{\"duration\":1},\"fromcurrent\":true,\"mode\":\"immediate\"}],\"label\":\"Play\",\"method\":\"animate\"}],\"pad\":{\"r\":10,\"t\":45},\"showactive\":false,\"type\":\"buttons\",\"x\":0.8,\"xanchor\":\"left\",\"y\":1,\"yanchor\":\"bottom\"}],\"margin\":{\"r\":30,\"b\":10,\"l\":10,\"t\":10}},                        {\"toImageButtonOptions\": {\"format\": \"png\", \"filename\": \"SEER_Osteosarcoma_3D_IR_notitle_2020\", \"height\": 1000, \"width\": 1200, \"scale\": 2.0}, \"responsive\": true}                    ).then(function(){\n",
              "                            \n",
              "var gd = document.getElementById('0ab3a5cf-0662-40ed-8e06-3bb049df94bb');\n",
              "var x = new MutationObserver(function (mutations, observer) {{\n",
              "        var display = window.getComputedStyle(gd).display;\n",
              "        if (!display || display === 'none') {{\n",
              "            console.log([gd, 'removed!']);\n",
              "            Plotly.purge(gd);\n",
              "            observer.disconnect();\n",
              "        }}\n",
              "}});\n",
              "\n",
              "// Listen for the removal of the full notebook cells\n",
              "var notebookContainer = gd.closest('#notebook-container');\n",
              "if (notebookContainer) {{\n",
              "    x.observe(notebookContainer, {childList: true});\n",
              "}}\n",
              "\n",
              "// Listen for the clearing of the current output cell\n",
              "var outputEl = gd.closest('.output');\n",
              "if (outputEl) {{\n",
              "    x.observe(outputEl, {childList: true});\n",
              "}}\n",
              "\n",
              "                        })                };                            </script>        </div>\n",
              "</body>\n",
              "</html>"
            ]
          },
          "metadata": {}
        }
      ]
    },
    {
      "cell_type": "markdown",
      "source": [
        "Do we consider deleting these?\n",
        "Creating a 3D plot that looks at the overall population data across the years\n"
      ],
      "metadata": {
        "id": "dR6kRx7bFe-q"
      }
    },
    {
      "cell_type": "code",
      "source": [
        "# Here we organize the values from the 'Population' column of the DataFrame\n",
        "# age_adjusted_both into a 2D list (z_data), where each sublist represents a\n",
        "# row of values for a specific range of years. The code assumes that each row\n",
        "# in the DataFrame contains 45 values, and the number of rows is a multiple of\n",
        "# the number of unique years in the 'Year of diagnosis' column.\n",
        "my_list = list(age_adjusted_both['Population'])\n",
        "z_data = []\n",
        "for i in range(0, age_adjusted_both.shape[0], age_adjusted_both['Year of diagnosis'].nunique()):\n",
        "    z_data.append((my_list[i : i + 45]))"
      ],
      "metadata": {
        "id": "7OOQSxc9FUbh"
      },
      "execution_count": null,
      "outputs": []
    },
    {
      "cell_type": "code",
      "source": [
        "# Here we create our third 3D surface plot where the x axis is the year, y axis\n",
        "# is the age group, and z axis is overall population in each age group\n",
        "# each calendar year. We plotted this graph to see the aging of the 'baby-boomer'\n",
        "# generation across the calendar years, which may have an impact on the rate of osteosarcoma.\n",
        "x, y  = age_adjusted_both['Year of diagnosis'].unique(),  age_adjusted_both['Age recode with <1 year olds'].unique()\n",
        "trace = go.Surface(x=x, y=y, z=z_data, colorscale='plotly3')\n",
        "data = [trace]\n",
        "\n",
        "x_eye = 2.5\n",
        "y_eye = 2.5\n",
        "z_eye = 2\n",
        "\n",
        "fig = go.Figure(data=data)\n",
        "fig.update_layout(scene=dict(zaxis = dict(nticks=4, range=[0,2500000],)))\n",
        "fig.update_layout(height = 800, width=1600,\n",
        "                           scene_camera_eye=dict(x=x_eye, y=y_eye, z=z_eye),\n",
        "         updatemenus=[dict(type='buttons',\n",
        "                  showactive=False,\n",
        "                  y=1,\n",
        "                  x=0.8,\n",
        "                  xanchor='left',\n",
        "                  yanchor='bottom',\n",
        "                  pad=dict(t=45, r=10),\n",
        "                  buttons=[dict(label='Play',\n",
        "                                 method='animate',\n",
        "                                 args=[None, dict(frame=dict(duration=5, redraw=True),\n",
        "                                                             transition=dict(duration=1),\n",
        "                                                             fromcurrent=True,\n",
        "                                                             mode='immediate'\n",
        "                                                            )]\n",
        "                                            )\n",
        "                                      ]\n",
        "                              )\n",
        "                        ]\n",
        ").update_scenes(aspectratio_x = 2.5, aspectratio_y = 2.5, aspectratio_z = 1)\n",
        "\n",
        "\n",
        "fig.show()"
      ],
      "metadata": {
        "colab": {
          "base_uri": "https://localhost:8080/",
          "height": 837
        },
        "id": "Punqyp6FFZjT",
        "outputId": "4e7f5ee8-3d35-46b9-ba72-5a41fe9d0e7a"
      },
      "execution_count": null,
      "outputs": [
        {
          "output_type": "display_data",
          "data": {
            "text/html": [
              "<html>\n",
              "<head><meta charset=\"utf-8\" /></head>\n",
              "<body>\n",
              "    <div>            <script src=\"https://cdnjs.cloudflare.com/ajax/libs/mathjax/2.7.5/MathJax.js?config=TeX-AMS-MML_SVG\"></script><script type=\"text/javascript\">if (window.MathJax && window.MathJax.Hub && window.MathJax.Hub.Config) {window.MathJax.Hub.Config({SVG: {font: \"STIX-Web\"}});}</script>                <script type=\"text/javascript\">window.PlotlyConfig = {MathJaxConfig: 'local'};</script>\n",
              "        <script src=\"https://cdn.plot.ly/plotly-2.18.2.min.js\"></script>                <div id=\"31288b41-6751-4d67-9b35-1fe27bc955ff\" class=\"plotly-graph-div\" style=\"height:800px; width:1600px;\"></div>            <script type=\"text/javascript\">                                    window.PLOTLYENV=window.PLOTLYENV || {};                                    if (document.getElementById(\"31288b41-6751-4d67-9b35-1fe27bc955ff\")) {                    Plotly.newPlot(                        \"31288b41-6751-4d67-9b35-1fe27bc955ff\",                        [{\"colorscale\":[[0.0,\"#0508b8\"],[0.08333333333333333,\"#1910d8\"],[0.16666666666666666,\"#3c19f0\"],[0.25,\"#6b1cfb\"],[0.3333333333333333,\"#981cfd\"],[0.4166666666666667,\"#bf1cfd\"],[0.5,\"#dd2bfd\"],[0.5833333333333334,\"#f246fe\"],[0.6666666666666666,\"#fc67fd\"],[0.75,\"#fe88fc\"],[0.8333333333333334,\"#fea5fd\"],[0.9166666666666666,\"#febefe\"],[1.0,\"#fec3fe\"]],\"x\":[\"1975\",\"1976\",\"1977\",\"1978\",\"1979\",\"1980\",\"1981\",\"1982\",\"1983\",\"1984\",\"1985\",\"1986\",\"1987\",\"1988\",\"1989\",\"1990\",\"1991\",\"1992\",\"1993\",\"1994\",\"1995\",\"1996\",\"1997\",\"1998\",\"1999\",\"2000\",\"2001\",\"2002\",\"2003\",\"2004\",\"2005\",\"2006\",\"2007\",\"2008\",\"2009\",\"2010\",\"2011\",\"2012\",\"2013\",\"2014\",\"2015\",\"2016\",\"2017\",\"2018\",\"2019\",\"2020\"],\"y\":[null,\"01-04 years\",\"05-09 years\",\"10-14 years\",\"15-19 years\",\"20-24 years\",\"25-29 years\",\"30-34 years\",\"35-39 years\",\"40-44 years\",\"45-49 years\",\"50-54 years\",\"55-59 years\",\"60-64 years\",\"65-69 years\",\"70-74 years\",\"75-79 years\",\"80-84 years\",\"85+ years\"],\"z\":[[240660,240444,254975,262016,273282,287392,293927,296658,297450,289928,297148,296899,296315,300897,309329,321217,320187,318037,313373,309375,307220,305182,307536,309443,311751,317417,331906,326987,329998,332702,330298,338138,347567,344110,338579,334404,333346,329536,331397,331700,333590,332856,326466,317997,313745],[970401,945677,939310,958636,987585,1018350,1057438,1083300,1111169,1128615,1130651,1134259,1140247,1149012,1168582,1195061,1219861,1243968,1266411,1271847,1262401,1252775,1243342,1241843,1243237,1243766,1243194,1256536,1267550,1280565,1296939,1306414,1323862,1346002,1357000,1361691,1361362,1354095,1342603,1340095,1338428,1340463,1342573,1333992,1316103],[1327894,1332373,1319449,1300605,1274039,1252211,1225971,1231543,1254834,1288207,1325146,1361502,1389377,1418253,1432419,1451132,1463276,1469956,1486943,1513430,1543727,1575956,1607670,1631327,1639594,1630085,1606050,1580688,1557740,1548802,1548980,1570821,1592965,1623094,1657180,1679723,1689662,1708130,1722386,1721946,1722750,1720834,1709833,1696832,1690719],[1557599,1515041,1469674,1424876,1389858,1376214,1382151,1366782,1345820,1312760,1284202,1247685,1252054,1275590,1312453,1364007,1412931,1454130,1497629,1518760,1532672,1548195,1558855,1575770,1605021,1636514,1659234,1675722,1683875,1680527,1665822,1658384,1651671,1648749,1655581,1666093,1677733,1682977,1693106,1702697,1706356,1715093,1731669,1741429,1735302],[1578176,1598430,1599060,1596314,1591529,1576315,1534072,1485492,1440534,1406765,1395463,1399996,1390955,1378879,1354423,1336468,1314247,1329896,1361870,1404773,1453617,1503016,1544468,1581139,1596972,1610583,1623677,1628294,1634657,1649909,1674085,1699957,1719405,1734161,1734882,1724402,1711921,1700328,1692884,1689537,1697745,1709458,1713030,1716395,1722987],[1492496,1531844,1574631,1611016,1642670,1666635,1677448,1667741,1661721,1654466,1637415,1601473,1561982,1525680,1500333,1495791,1494565,1490389,1478062,1460910,1447259,1429370,1448137,1479489,1521085,1570416,1618777,1651070,1672196,1683828,1690506,1701159,1695225,1705967,1721637,1734877,1770217,1809647,1835363,1850594,1846261,1833312,1816901,1803450,1795618],[1399469,1480579,1480798,1514139,1555980,1609173,1651964,1695058,1728285,1750870,1762683,1773800,1767108,1763191,1752163,1736464,1715750,1689712,1660521,1638127,1635928,1650847,1658614,1658428,1649551,1639888,1608981,1591049,1588473,1605338,1636555,1696913,1744084,1789968,1814329,1814891,1823712,1825825,1835827,1866884,1906895,1963692,2011475,2036329,2041476],[1149120,1178165,1282465,1332713,1399732,1470495,1550730,1548753,1580284,1619445,1663956,1702426,1743588,1774278,1788515,1803629,1839833,1865033,1878647,1884927,1872806,1844000,1810916,1775976,1746026,1740257,1759619,1757105,1731476,1699226,1661127,1635321,1635510,1661081,1699976,1740055,1785630,1828387,1864769,1892633,1911513,1933687,1942841,1957064,1983250],[915080,945016,984281,1048959,1098777,1145684,1174960,1275149,1324265,1387757,1450899,1535389,1541250,1579864,1621943,1669135,1720941,1773947,1815645,1846357,1873590,1895472,1906716,1908809,1899883,1878822,1842827,1794410,1750764,1719749,1724156,1745069,1753270,1747257,1728694,1697381,1670606,1675989,1698278,1731176,1778766,1829108,1873652,1910920,1932517],[856795,857843,863835,876754,895918,917395,947010,985316,1047609,1097939,1146031,1181501,1289495,1347999,1416360,1489472,1569439,1575606,1609583,1650634,1692310,1733772,1776991,1810624,1829451,1849205,1868565,1870032,1865490,1864771,1844841,1815662,1781142,1752341,1731573,1738261,1758850,1764835,1753907,1730151,1701991,1677097,1681450,1700393,1729208],[889398,880696,870198,860392,851438,842108,841192,845994,865483,888879,908430,934947,973267,1035181,1082982,1125706,1156126,1268299,1321506,1386119,1454179,1534518,1545822,1584952,1627720,1671514,1706541,1742093,1769185,1787676,1811396,1833959,1842558,1846589,1852390,1835428,1802019,1768890,1735033,1715771,1724205,1742517,1745397,1732894,1705472],[907621,905494,895405,888870,880330,878496,874147,862329,844933,832661,827439,823266,827790,847794,868594,885562,915604,956989,1020475,1069422,1117439,1151622,1266347,1324838,1392045,1462565,1532961,1535856,1562467,1596970,1631972,1671963,1715027,1750498,1776004,1802687,1820563,1825122,1825765,1822935,1801886,1766528,1729757,1695482,1673570],[795794,811406,826615,842373,859512,872854,866822,855529,852943,844867,836044,829748,819915,804691,792438,789940,790567,800947,820810,844356,861210,887875,925373,984249,1027694,1069730,1109737,1210007,1268509,1332666,1407618,1479555,1489093,1522374,1563208,1603744,1643756,1682910,1710653,1729648,1749979,1764526,1764709,1762588,1754854],[675847,689528,702722,716420,731333,748050,766009,779654,784542,794129,801497,796086,789099,790746,786320,781259,781849,776225,764792,755795,756040,754358,762313,780495,799506,812409,835608,869215,921325,967458,1008043,1050113,1149097,1208887,1276651,1352185,1421323,1430459,1459080,1493653,1530968,1566178,1598839,1620505,1633748],[550817,565898,580946,594536,611128,625471,636810,648975,662016,672949,684585,701151,715192,721536,731313,739062,733756,728457,730378,727637,724999,724497,715897,702660,693380,692335,692831,699130,714522,733027,753356,778056,812058,864552,912212,954373,992602,1085440,1141678,1200512,1262784,1323834,1329290,1352848,1380742],[414765,428022,439466,452522,463684,476612,490344,503967,518114,529577,540430,548077,557361,568886,577972,589500,605651,622764,633489,641663,648108,644403,640198,642340,642459,642230,638449,632579,627147,621934,623996,627589,634525,649296,668508,687659,710600,743514,791473,833252,871144,904957,987754,1037942,1089604],[299679,302710,309805,318843,330311,339835,349796,359516,370511,381068,392553,403739,416403,426949,437186,447646,460758,471753,481831,492736,503605,518690,533380,542140,549979,556542,556343,554726,554035,549672,548125,547291,543949,540245,538674,540808,545576,553444,568127,586441,602989,623468,651799,694443,730014],[202376,204713,208524,211624,213194,217094,221654,227144,232939,239646,246553,254559,262068,270630,279170,287991,297057,308069,318329,328332,339163,349228,357509,365908,374273,383164,395814,408184,416201,425443,432252,434147,435036,435682,435104,435431,436761,436663,435434,434728,437182,441953,448540,461303,476186],[142992,146089,154162,162172,170119,177511,183630,189538,195859,201508,206156,211909,217808,222234,228513,235552,245274,254556,264546,274449,285321,295550,305779,316238,326590,335836,342910,349688,359191,367034,380512,396077,410276,423274,437062,451413,463615,476160,486487,496866,506864,515945,520958,525726,531052]],\"type\":\"surface\"}],                        {\"template\":{\"data\":{\"histogram2dcontour\":[{\"type\":\"histogram2dcontour\",\"colorbar\":{\"outlinewidth\":0,\"ticks\":\"\"},\"colorscale\":[[0.0,\"#0d0887\"],[0.1111111111111111,\"#46039f\"],[0.2222222222222222,\"#7201a8\"],[0.3333333333333333,\"#9c179e\"],[0.4444444444444444,\"#bd3786\"],[0.5555555555555556,\"#d8576b\"],[0.6666666666666666,\"#ed7953\"],[0.7777777777777778,\"#fb9f3a\"],[0.8888888888888888,\"#fdca26\"],[1.0,\"#f0f921\"]]}],\"choropleth\":[{\"type\":\"choropleth\",\"colorbar\":{\"outlinewidth\":0,\"ticks\":\"\"}}],\"histogram2d\":[{\"type\":\"histogram2d\",\"colorbar\":{\"outlinewidth\":0,\"ticks\":\"\"},\"colorscale\":[[0.0,\"#0d0887\"],[0.1111111111111111,\"#46039f\"],[0.2222222222222222,\"#7201a8\"],[0.3333333333333333,\"#9c179e\"],[0.4444444444444444,\"#bd3786\"],[0.5555555555555556,\"#d8576b\"],[0.6666666666666666,\"#ed7953\"],[0.7777777777777778,\"#fb9f3a\"],[0.8888888888888888,\"#fdca26\"],[1.0,\"#f0f921\"]]}],\"heatmap\":[{\"type\":\"heatmap\",\"colorbar\":{\"outlinewidth\":0,\"ticks\":\"\"},\"colorscale\":[[0.0,\"#0d0887\"],[0.1111111111111111,\"#46039f\"],[0.2222222222222222,\"#7201a8\"],[0.3333333333333333,\"#9c179e\"],[0.4444444444444444,\"#bd3786\"],[0.5555555555555556,\"#d8576b\"],[0.6666666666666666,\"#ed7953\"],[0.7777777777777778,\"#fb9f3a\"],[0.8888888888888888,\"#fdca26\"],[1.0,\"#f0f921\"]]}],\"heatmapgl\":[{\"type\":\"heatmapgl\",\"colorbar\":{\"outlinewidth\":0,\"ticks\":\"\"},\"colorscale\":[[0.0,\"#0d0887\"],[0.1111111111111111,\"#46039f\"],[0.2222222222222222,\"#7201a8\"],[0.3333333333333333,\"#9c179e\"],[0.4444444444444444,\"#bd3786\"],[0.5555555555555556,\"#d8576b\"],[0.6666666666666666,\"#ed7953\"],[0.7777777777777778,\"#fb9f3a\"],[0.8888888888888888,\"#fdca26\"],[1.0,\"#f0f921\"]]}],\"contourcarpet\":[{\"type\":\"contourcarpet\",\"colorbar\":{\"outlinewidth\":0,\"ticks\":\"\"}}],\"contour\":[{\"type\":\"contour\",\"colorbar\":{\"outlinewidth\":0,\"ticks\":\"\"},\"colorscale\":[[0.0,\"#0d0887\"],[0.1111111111111111,\"#46039f\"],[0.2222222222222222,\"#7201a8\"],[0.3333333333333333,\"#9c179e\"],[0.4444444444444444,\"#bd3786\"],[0.5555555555555556,\"#d8576b\"],[0.6666666666666666,\"#ed7953\"],[0.7777777777777778,\"#fb9f3a\"],[0.8888888888888888,\"#fdca26\"],[1.0,\"#f0f921\"]]}],\"surface\":[{\"type\":\"surface\",\"colorbar\":{\"outlinewidth\":0,\"ticks\":\"\"},\"colorscale\":[[0.0,\"#0d0887\"],[0.1111111111111111,\"#46039f\"],[0.2222222222222222,\"#7201a8\"],[0.3333333333333333,\"#9c179e\"],[0.4444444444444444,\"#bd3786\"],[0.5555555555555556,\"#d8576b\"],[0.6666666666666666,\"#ed7953\"],[0.7777777777777778,\"#fb9f3a\"],[0.8888888888888888,\"#fdca26\"],[1.0,\"#f0f921\"]]}],\"mesh3d\":[{\"type\":\"mesh3d\",\"colorbar\":{\"outlinewidth\":0,\"ticks\":\"\"}}],\"scatter\":[{\"fillpattern\":{\"fillmode\":\"overlay\",\"size\":10,\"solidity\":0.2},\"type\":\"scatter\"}],\"parcoords\":[{\"type\":\"parcoords\",\"line\":{\"colorbar\":{\"outlinewidth\":0,\"ticks\":\"\"}}}],\"scatterpolargl\":[{\"type\":\"scatterpolargl\",\"marker\":{\"colorbar\":{\"outlinewidth\":0,\"ticks\":\"\"}}}],\"bar\":[{\"error_x\":{\"color\":\"#2a3f5f\"},\"error_y\":{\"color\":\"#2a3f5f\"},\"marker\":{\"line\":{\"color\":\"#E5ECF6\",\"width\":0.5},\"pattern\":{\"fillmode\":\"overlay\",\"size\":10,\"solidity\":0.2}},\"type\":\"bar\"}],\"scattergeo\":[{\"type\":\"scattergeo\",\"marker\":{\"colorbar\":{\"outlinewidth\":0,\"ticks\":\"\"}}}],\"scatterpolar\":[{\"type\":\"scatterpolar\",\"marker\":{\"colorbar\":{\"outlinewidth\":0,\"ticks\":\"\"}}}],\"histogram\":[{\"marker\":{\"pattern\":{\"fillmode\":\"overlay\",\"size\":10,\"solidity\":0.2}},\"type\":\"histogram\"}],\"scattergl\":[{\"type\":\"scattergl\",\"marker\":{\"colorbar\":{\"outlinewidth\":0,\"ticks\":\"\"}}}],\"scatter3d\":[{\"type\":\"scatter3d\",\"line\":{\"colorbar\":{\"outlinewidth\":0,\"ticks\":\"\"}},\"marker\":{\"colorbar\":{\"outlinewidth\":0,\"ticks\":\"\"}}}],\"scattermapbox\":[{\"type\":\"scattermapbox\",\"marker\":{\"colorbar\":{\"outlinewidth\":0,\"ticks\":\"\"}}}],\"scatterternary\":[{\"type\":\"scatterternary\",\"marker\":{\"colorbar\":{\"outlinewidth\":0,\"ticks\":\"\"}}}],\"scattercarpet\":[{\"type\":\"scattercarpet\",\"marker\":{\"colorbar\":{\"outlinewidth\":0,\"ticks\":\"\"}}}],\"carpet\":[{\"aaxis\":{\"endlinecolor\":\"#2a3f5f\",\"gridcolor\":\"white\",\"linecolor\":\"white\",\"minorgridcolor\":\"white\",\"startlinecolor\":\"#2a3f5f\"},\"baxis\":{\"endlinecolor\":\"#2a3f5f\",\"gridcolor\":\"white\",\"linecolor\":\"white\",\"minorgridcolor\":\"white\",\"startlinecolor\":\"#2a3f5f\"},\"type\":\"carpet\"}],\"table\":[{\"cells\":{\"fill\":{\"color\":\"#EBF0F8\"},\"line\":{\"color\":\"white\"}},\"header\":{\"fill\":{\"color\":\"#C8D4E3\"},\"line\":{\"color\":\"white\"}},\"type\":\"table\"}],\"barpolar\":[{\"marker\":{\"line\":{\"color\":\"#E5ECF6\",\"width\":0.5},\"pattern\":{\"fillmode\":\"overlay\",\"size\":10,\"solidity\":0.2}},\"type\":\"barpolar\"}],\"pie\":[{\"automargin\":true,\"type\":\"pie\"}]},\"layout\":{\"autotypenumbers\":\"strict\",\"colorway\":[\"#636efa\",\"#EF553B\",\"#00cc96\",\"#ab63fa\",\"#FFA15A\",\"#19d3f3\",\"#FF6692\",\"#B6E880\",\"#FF97FF\",\"#FECB52\"],\"font\":{\"color\":\"#2a3f5f\"},\"hovermode\":\"closest\",\"hoverlabel\":{\"align\":\"left\"},\"paper_bgcolor\":\"white\",\"plot_bgcolor\":\"#E5ECF6\",\"polar\":{\"bgcolor\":\"#E5ECF6\",\"angularaxis\":{\"gridcolor\":\"white\",\"linecolor\":\"white\",\"ticks\":\"\"},\"radialaxis\":{\"gridcolor\":\"white\",\"linecolor\":\"white\",\"ticks\":\"\"}},\"ternary\":{\"bgcolor\":\"#E5ECF6\",\"aaxis\":{\"gridcolor\":\"white\",\"linecolor\":\"white\",\"ticks\":\"\"},\"baxis\":{\"gridcolor\":\"white\",\"linecolor\":\"white\",\"ticks\":\"\"},\"caxis\":{\"gridcolor\":\"white\",\"linecolor\":\"white\",\"ticks\":\"\"}},\"coloraxis\":{\"colorbar\":{\"outlinewidth\":0,\"ticks\":\"\"}},\"colorscale\":{\"sequential\":[[0.0,\"#0d0887\"],[0.1111111111111111,\"#46039f\"],[0.2222222222222222,\"#7201a8\"],[0.3333333333333333,\"#9c179e\"],[0.4444444444444444,\"#bd3786\"],[0.5555555555555556,\"#d8576b\"],[0.6666666666666666,\"#ed7953\"],[0.7777777777777778,\"#fb9f3a\"],[0.8888888888888888,\"#fdca26\"],[1.0,\"#f0f921\"]],\"sequentialminus\":[[0.0,\"#0d0887\"],[0.1111111111111111,\"#46039f\"],[0.2222222222222222,\"#7201a8\"],[0.3333333333333333,\"#9c179e\"],[0.4444444444444444,\"#bd3786\"],[0.5555555555555556,\"#d8576b\"],[0.6666666666666666,\"#ed7953\"],[0.7777777777777778,\"#fb9f3a\"],[0.8888888888888888,\"#fdca26\"],[1.0,\"#f0f921\"]],\"diverging\":[[0,\"#8e0152\"],[0.1,\"#c51b7d\"],[0.2,\"#de77ae\"],[0.3,\"#f1b6da\"],[0.4,\"#fde0ef\"],[0.5,\"#f7f7f7\"],[0.6,\"#e6f5d0\"],[0.7,\"#b8e186\"],[0.8,\"#7fbc41\"],[0.9,\"#4d9221\"],[1,\"#276419\"]]},\"xaxis\":{\"gridcolor\":\"white\",\"linecolor\":\"white\",\"ticks\":\"\",\"title\":{\"standoff\":15},\"zerolinecolor\":\"white\",\"automargin\":true,\"zerolinewidth\":2},\"yaxis\":{\"gridcolor\":\"white\",\"linecolor\":\"white\",\"ticks\":\"\",\"title\":{\"standoff\":15},\"zerolinecolor\":\"white\",\"automargin\":true,\"zerolinewidth\":2},\"scene\":{\"xaxis\":{\"backgroundcolor\":\"#E5ECF6\",\"gridcolor\":\"white\",\"linecolor\":\"white\",\"showbackground\":true,\"ticks\":\"\",\"zerolinecolor\":\"white\",\"gridwidth\":2},\"yaxis\":{\"backgroundcolor\":\"#E5ECF6\",\"gridcolor\":\"white\",\"linecolor\":\"white\",\"showbackground\":true,\"ticks\":\"\",\"zerolinecolor\":\"white\",\"gridwidth\":2},\"zaxis\":{\"backgroundcolor\":\"#E5ECF6\",\"gridcolor\":\"white\",\"linecolor\":\"white\",\"showbackground\":true,\"ticks\":\"\",\"zerolinecolor\":\"white\",\"gridwidth\":2}},\"shapedefaults\":{\"line\":{\"color\":\"#2a3f5f\"}},\"annotationdefaults\":{\"arrowcolor\":\"#2a3f5f\",\"arrowhead\":0,\"arrowwidth\":1},\"geo\":{\"bgcolor\":\"white\",\"landcolor\":\"#E5ECF6\",\"subunitcolor\":\"white\",\"showland\":true,\"showlakes\":true,\"lakecolor\":\"white\"},\"title\":{\"x\":0.05},\"mapbox\":{\"style\":\"light\"}}},\"scene\":{\"zaxis\":{\"nticks\":4,\"range\":[0,2500000]},\"camera\":{\"eye\":{\"x\":2.5,\"y\":2.5,\"z\":2}},\"aspectratio\":{\"x\":2.5,\"y\":2.5,\"z\":1}},\"height\":800,\"width\":1600,\"updatemenus\":[{\"buttons\":[{\"args\":[null,{\"frame\":{\"duration\":5,\"redraw\":true},\"transition\":{\"duration\":1},\"fromcurrent\":true,\"mode\":\"immediate\"}],\"label\":\"Play\",\"method\":\"animate\"}],\"pad\":{\"r\":10,\"t\":45},\"showactive\":false,\"type\":\"buttons\",\"x\":0.8,\"xanchor\":\"left\",\"y\":1,\"yanchor\":\"bottom\"}]},                        {\"responsive\": true}                    ).then(function(){\n",
              "                            \n",
              "var gd = document.getElementById('31288b41-6751-4d67-9b35-1fe27bc955ff');\n",
              "var x = new MutationObserver(function (mutations, observer) {{\n",
              "        var display = window.getComputedStyle(gd).display;\n",
              "        if (!display || display === 'none') {{\n",
              "            console.log([gd, 'removed!']);\n",
              "            Plotly.purge(gd);\n",
              "            observer.disconnect();\n",
              "        }}\n",
              "}});\n",
              "\n",
              "// Listen for the removal of the full notebook cells\n",
              "var notebookContainer = gd.closest('#notebook-container');\n",
              "if (notebookContainer) {{\n",
              "    x.observe(notebookContainer, {childList: true});\n",
              "}}\n",
              "\n",
              "// Listen for the clearing of the current output cell\n",
              "var outputEl = gd.closest('.output');\n",
              "if (outputEl) {{\n",
              "    x.observe(outputEl, {childList: true});\n",
              "}}\n",
              "\n",
              "                        })                };                            </script>        </div>\n",
              "</body>\n",
              "</html>"
            ]
          },
          "metadata": {}
        }
      ]
    },
    {
      "cell_type": "code",
      "source": [
        "# This reformats the graph to be higher resolution for saving.\n",
        "config = {\n",
        "  'toImageButtonOptions': {\n",
        "    'format': 'png', # one of png, svg, jpeg, webp\n",
        "    'filename': 'SEER_Osteosarcoma_popdata_2020',\n",
        "    'height': 1000,\n",
        "    'width': 1200,\n",
        "    'scale':2.0 # Multiply title/legend/axis/canvas sizes by this factor\n",
        "  }\n",
        "}\n",
        "\n",
        "\n",
        "fig.show(config=config)"
      ],
      "metadata": {
        "colab": {
          "base_uri": "https://localhost:8080/",
          "height": 837
        },
        "id": "6lH4JFKEFjUj",
        "outputId": "e814887f-5008-4bdc-d421-ddf530875e44"
      },
      "execution_count": null,
      "outputs": [
        {
          "output_type": "display_data",
          "data": {
            "text/html": [
              "<html>\n",
              "<head><meta charset=\"utf-8\" /></head>\n",
              "<body>\n",
              "    <div>            <script src=\"https://cdnjs.cloudflare.com/ajax/libs/mathjax/2.7.5/MathJax.js?config=TeX-AMS-MML_SVG\"></script><script type=\"text/javascript\">if (window.MathJax && window.MathJax.Hub && window.MathJax.Hub.Config) {window.MathJax.Hub.Config({SVG: {font: \"STIX-Web\"}});}</script>                <script type=\"text/javascript\">window.PlotlyConfig = {MathJaxConfig: 'local'};</script>\n",
              "        <script src=\"https://cdn.plot.ly/plotly-2.18.2.min.js\"></script>                <div id=\"1df58345-ea26-401b-9204-e8e73a75ba42\" class=\"plotly-graph-div\" style=\"height:800px; width:1600px;\"></div>            <script type=\"text/javascript\">                                    window.PLOTLYENV=window.PLOTLYENV || {};                                    if (document.getElementById(\"1df58345-ea26-401b-9204-e8e73a75ba42\")) {                    Plotly.newPlot(                        \"1df58345-ea26-401b-9204-e8e73a75ba42\",                        [{\"colorscale\":[[0.0,\"#0508b8\"],[0.08333333333333333,\"#1910d8\"],[0.16666666666666666,\"#3c19f0\"],[0.25,\"#6b1cfb\"],[0.3333333333333333,\"#981cfd\"],[0.4166666666666667,\"#bf1cfd\"],[0.5,\"#dd2bfd\"],[0.5833333333333334,\"#f246fe\"],[0.6666666666666666,\"#fc67fd\"],[0.75,\"#fe88fc\"],[0.8333333333333334,\"#fea5fd\"],[0.9166666666666666,\"#febefe\"],[1.0,\"#fec3fe\"]],\"x\":[\"1975\",\"1976\",\"1977\",\"1978\",\"1979\",\"1980\",\"1981\",\"1982\",\"1983\",\"1984\",\"1985\",\"1986\",\"1987\",\"1988\",\"1989\",\"1990\",\"1991\",\"1992\",\"1993\",\"1994\",\"1995\",\"1996\",\"1997\",\"1998\",\"1999\",\"2000\",\"2001\",\"2002\",\"2003\",\"2004\",\"2005\",\"2006\",\"2007\",\"2008\",\"2009\",\"2010\",\"2011\",\"2012\",\"2013\",\"2014\",\"2015\",\"2016\",\"2017\",\"2018\",\"2019\",\"2020\"],\"y\":[null,\"01-04 years\",\"05-09 years\",\"10-14 years\",\"15-19 years\",\"20-24 years\",\"25-29 years\",\"30-34 years\",\"35-39 years\",\"40-44 years\",\"45-49 years\",\"50-54 years\",\"55-59 years\",\"60-64 years\",\"65-69 years\",\"70-74 years\",\"75-79 years\",\"80-84 years\",\"85+ years\"],\"z\":[[240660,240444,254975,262016,273282,287392,293927,296658,297450,289928,297148,296899,296315,300897,309329,321217,320187,318037,313373,309375,307220,305182,307536,309443,311751,317417,331906,326987,329998,332702,330298,338138,347567,344110,338579,334404,333346,329536,331397,331700,333590,332856,326466,317997,313745],[970401,945677,939310,958636,987585,1018350,1057438,1083300,1111169,1128615,1130651,1134259,1140247,1149012,1168582,1195061,1219861,1243968,1266411,1271847,1262401,1252775,1243342,1241843,1243237,1243766,1243194,1256536,1267550,1280565,1296939,1306414,1323862,1346002,1357000,1361691,1361362,1354095,1342603,1340095,1338428,1340463,1342573,1333992,1316103],[1327894,1332373,1319449,1300605,1274039,1252211,1225971,1231543,1254834,1288207,1325146,1361502,1389377,1418253,1432419,1451132,1463276,1469956,1486943,1513430,1543727,1575956,1607670,1631327,1639594,1630085,1606050,1580688,1557740,1548802,1548980,1570821,1592965,1623094,1657180,1679723,1689662,1708130,1722386,1721946,1722750,1720834,1709833,1696832,1690719],[1557599,1515041,1469674,1424876,1389858,1376214,1382151,1366782,1345820,1312760,1284202,1247685,1252054,1275590,1312453,1364007,1412931,1454130,1497629,1518760,1532672,1548195,1558855,1575770,1605021,1636514,1659234,1675722,1683875,1680527,1665822,1658384,1651671,1648749,1655581,1666093,1677733,1682977,1693106,1702697,1706356,1715093,1731669,1741429,1735302],[1578176,1598430,1599060,1596314,1591529,1576315,1534072,1485492,1440534,1406765,1395463,1399996,1390955,1378879,1354423,1336468,1314247,1329896,1361870,1404773,1453617,1503016,1544468,1581139,1596972,1610583,1623677,1628294,1634657,1649909,1674085,1699957,1719405,1734161,1734882,1724402,1711921,1700328,1692884,1689537,1697745,1709458,1713030,1716395,1722987],[1492496,1531844,1574631,1611016,1642670,1666635,1677448,1667741,1661721,1654466,1637415,1601473,1561982,1525680,1500333,1495791,1494565,1490389,1478062,1460910,1447259,1429370,1448137,1479489,1521085,1570416,1618777,1651070,1672196,1683828,1690506,1701159,1695225,1705967,1721637,1734877,1770217,1809647,1835363,1850594,1846261,1833312,1816901,1803450,1795618],[1399469,1480579,1480798,1514139,1555980,1609173,1651964,1695058,1728285,1750870,1762683,1773800,1767108,1763191,1752163,1736464,1715750,1689712,1660521,1638127,1635928,1650847,1658614,1658428,1649551,1639888,1608981,1591049,1588473,1605338,1636555,1696913,1744084,1789968,1814329,1814891,1823712,1825825,1835827,1866884,1906895,1963692,2011475,2036329,2041476],[1149120,1178165,1282465,1332713,1399732,1470495,1550730,1548753,1580284,1619445,1663956,1702426,1743588,1774278,1788515,1803629,1839833,1865033,1878647,1884927,1872806,1844000,1810916,1775976,1746026,1740257,1759619,1757105,1731476,1699226,1661127,1635321,1635510,1661081,1699976,1740055,1785630,1828387,1864769,1892633,1911513,1933687,1942841,1957064,1983250],[915080,945016,984281,1048959,1098777,1145684,1174960,1275149,1324265,1387757,1450899,1535389,1541250,1579864,1621943,1669135,1720941,1773947,1815645,1846357,1873590,1895472,1906716,1908809,1899883,1878822,1842827,1794410,1750764,1719749,1724156,1745069,1753270,1747257,1728694,1697381,1670606,1675989,1698278,1731176,1778766,1829108,1873652,1910920,1932517],[856795,857843,863835,876754,895918,917395,947010,985316,1047609,1097939,1146031,1181501,1289495,1347999,1416360,1489472,1569439,1575606,1609583,1650634,1692310,1733772,1776991,1810624,1829451,1849205,1868565,1870032,1865490,1864771,1844841,1815662,1781142,1752341,1731573,1738261,1758850,1764835,1753907,1730151,1701991,1677097,1681450,1700393,1729208],[889398,880696,870198,860392,851438,842108,841192,845994,865483,888879,908430,934947,973267,1035181,1082982,1125706,1156126,1268299,1321506,1386119,1454179,1534518,1545822,1584952,1627720,1671514,1706541,1742093,1769185,1787676,1811396,1833959,1842558,1846589,1852390,1835428,1802019,1768890,1735033,1715771,1724205,1742517,1745397,1732894,1705472],[907621,905494,895405,888870,880330,878496,874147,862329,844933,832661,827439,823266,827790,847794,868594,885562,915604,956989,1020475,1069422,1117439,1151622,1266347,1324838,1392045,1462565,1532961,1535856,1562467,1596970,1631972,1671963,1715027,1750498,1776004,1802687,1820563,1825122,1825765,1822935,1801886,1766528,1729757,1695482,1673570],[795794,811406,826615,842373,859512,872854,866822,855529,852943,844867,836044,829748,819915,804691,792438,789940,790567,800947,820810,844356,861210,887875,925373,984249,1027694,1069730,1109737,1210007,1268509,1332666,1407618,1479555,1489093,1522374,1563208,1603744,1643756,1682910,1710653,1729648,1749979,1764526,1764709,1762588,1754854],[675847,689528,702722,716420,731333,748050,766009,779654,784542,794129,801497,796086,789099,790746,786320,781259,781849,776225,764792,755795,756040,754358,762313,780495,799506,812409,835608,869215,921325,967458,1008043,1050113,1149097,1208887,1276651,1352185,1421323,1430459,1459080,1493653,1530968,1566178,1598839,1620505,1633748],[550817,565898,580946,594536,611128,625471,636810,648975,662016,672949,684585,701151,715192,721536,731313,739062,733756,728457,730378,727637,724999,724497,715897,702660,693380,692335,692831,699130,714522,733027,753356,778056,812058,864552,912212,954373,992602,1085440,1141678,1200512,1262784,1323834,1329290,1352848,1380742],[414765,428022,439466,452522,463684,476612,490344,503967,518114,529577,540430,548077,557361,568886,577972,589500,605651,622764,633489,641663,648108,644403,640198,642340,642459,642230,638449,632579,627147,621934,623996,627589,634525,649296,668508,687659,710600,743514,791473,833252,871144,904957,987754,1037942,1089604],[299679,302710,309805,318843,330311,339835,349796,359516,370511,381068,392553,403739,416403,426949,437186,447646,460758,471753,481831,492736,503605,518690,533380,542140,549979,556542,556343,554726,554035,549672,548125,547291,543949,540245,538674,540808,545576,553444,568127,586441,602989,623468,651799,694443,730014],[202376,204713,208524,211624,213194,217094,221654,227144,232939,239646,246553,254559,262068,270630,279170,287991,297057,308069,318329,328332,339163,349228,357509,365908,374273,383164,395814,408184,416201,425443,432252,434147,435036,435682,435104,435431,436761,436663,435434,434728,437182,441953,448540,461303,476186],[142992,146089,154162,162172,170119,177511,183630,189538,195859,201508,206156,211909,217808,222234,228513,235552,245274,254556,264546,274449,285321,295550,305779,316238,326590,335836,342910,349688,359191,367034,380512,396077,410276,423274,437062,451413,463615,476160,486487,496866,506864,515945,520958,525726,531052]],\"type\":\"surface\"}],                        {\"template\":{\"data\":{\"histogram2dcontour\":[{\"type\":\"histogram2dcontour\",\"colorbar\":{\"outlinewidth\":0,\"ticks\":\"\"},\"colorscale\":[[0.0,\"#0d0887\"],[0.1111111111111111,\"#46039f\"],[0.2222222222222222,\"#7201a8\"],[0.3333333333333333,\"#9c179e\"],[0.4444444444444444,\"#bd3786\"],[0.5555555555555556,\"#d8576b\"],[0.6666666666666666,\"#ed7953\"],[0.7777777777777778,\"#fb9f3a\"],[0.8888888888888888,\"#fdca26\"],[1.0,\"#f0f921\"]]}],\"choropleth\":[{\"type\":\"choropleth\",\"colorbar\":{\"outlinewidth\":0,\"ticks\":\"\"}}],\"histogram2d\":[{\"type\":\"histogram2d\",\"colorbar\":{\"outlinewidth\":0,\"ticks\":\"\"},\"colorscale\":[[0.0,\"#0d0887\"],[0.1111111111111111,\"#46039f\"],[0.2222222222222222,\"#7201a8\"],[0.3333333333333333,\"#9c179e\"],[0.4444444444444444,\"#bd3786\"],[0.5555555555555556,\"#d8576b\"],[0.6666666666666666,\"#ed7953\"],[0.7777777777777778,\"#fb9f3a\"],[0.8888888888888888,\"#fdca26\"],[1.0,\"#f0f921\"]]}],\"heatmap\":[{\"type\":\"heatmap\",\"colorbar\":{\"outlinewidth\":0,\"ticks\":\"\"},\"colorscale\":[[0.0,\"#0d0887\"],[0.1111111111111111,\"#46039f\"],[0.2222222222222222,\"#7201a8\"],[0.3333333333333333,\"#9c179e\"],[0.4444444444444444,\"#bd3786\"],[0.5555555555555556,\"#d8576b\"],[0.6666666666666666,\"#ed7953\"],[0.7777777777777778,\"#fb9f3a\"],[0.8888888888888888,\"#fdca26\"],[1.0,\"#f0f921\"]]}],\"heatmapgl\":[{\"type\":\"heatmapgl\",\"colorbar\":{\"outlinewidth\":0,\"ticks\":\"\"},\"colorscale\":[[0.0,\"#0d0887\"],[0.1111111111111111,\"#46039f\"],[0.2222222222222222,\"#7201a8\"],[0.3333333333333333,\"#9c179e\"],[0.4444444444444444,\"#bd3786\"],[0.5555555555555556,\"#d8576b\"],[0.6666666666666666,\"#ed7953\"],[0.7777777777777778,\"#fb9f3a\"],[0.8888888888888888,\"#fdca26\"],[1.0,\"#f0f921\"]]}],\"contourcarpet\":[{\"type\":\"contourcarpet\",\"colorbar\":{\"outlinewidth\":0,\"ticks\":\"\"}}],\"contour\":[{\"type\":\"contour\",\"colorbar\":{\"outlinewidth\":0,\"ticks\":\"\"},\"colorscale\":[[0.0,\"#0d0887\"],[0.1111111111111111,\"#46039f\"],[0.2222222222222222,\"#7201a8\"],[0.3333333333333333,\"#9c179e\"],[0.4444444444444444,\"#bd3786\"],[0.5555555555555556,\"#d8576b\"],[0.6666666666666666,\"#ed7953\"],[0.7777777777777778,\"#fb9f3a\"],[0.8888888888888888,\"#fdca26\"],[1.0,\"#f0f921\"]]}],\"surface\":[{\"type\":\"surface\",\"colorbar\":{\"outlinewidth\":0,\"ticks\":\"\"},\"colorscale\":[[0.0,\"#0d0887\"],[0.1111111111111111,\"#46039f\"],[0.2222222222222222,\"#7201a8\"],[0.3333333333333333,\"#9c179e\"],[0.4444444444444444,\"#bd3786\"],[0.5555555555555556,\"#d8576b\"],[0.6666666666666666,\"#ed7953\"],[0.7777777777777778,\"#fb9f3a\"],[0.8888888888888888,\"#fdca26\"],[1.0,\"#f0f921\"]]}],\"mesh3d\":[{\"type\":\"mesh3d\",\"colorbar\":{\"outlinewidth\":0,\"ticks\":\"\"}}],\"scatter\":[{\"fillpattern\":{\"fillmode\":\"overlay\",\"size\":10,\"solidity\":0.2},\"type\":\"scatter\"}],\"parcoords\":[{\"type\":\"parcoords\",\"line\":{\"colorbar\":{\"outlinewidth\":0,\"ticks\":\"\"}}}],\"scatterpolargl\":[{\"type\":\"scatterpolargl\",\"marker\":{\"colorbar\":{\"outlinewidth\":0,\"ticks\":\"\"}}}],\"bar\":[{\"error_x\":{\"color\":\"#2a3f5f\"},\"error_y\":{\"color\":\"#2a3f5f\"},\"marker\":{\"line\":{\"color\":\"#E5ECF6\",\"width\":0.5},\"pattern\":{\"fillmode\":\"overlay\",\"size\":10,\"solidity\":0.2}},\"type\":\"bar\"}],\"scattergeo\":[{\"type\":\"scattergeo\",\"marker\":{\"colorbar\":{\"outlinewidth\":0,\"ticks\":\"\"}}}],\"scatterpolar\":[{\"type\":\"scatterpolar\",\"marker\":{\"colorbar\":{\"outlinewidth\":0,\"ticks\":\"\"}}}],\"histogram\":[{\"marker\":{\"pattern\":{\"fillmode\":\"overlay\",\"size\":10,\"solidity\":0.2}},\"type\":\"histogram\"}],\"scattergl\":[{\"type\":\"scattergl\",\"marker\":{\"colorbar\":{\"outlinewidth\":0,\"ticks\":\"\"}}}],\"scatter3d\":[{\"type\":\"scatter3d\",\"line\":{\"colorbar\":{\"outlinewidth\":0,\"ticks\":\"\"}},\"marker\":{\"colorbar\":{\"outlinewidth\":0,\"ticks\":\"\"}}}],\"scattermapbox\":[{\"type\":\"scattermapbox\",\"marker\":{\"colorbar\":{\"outlinewidth\":0,\"ticks\":\"\"}}}],\"scatterternary\":[{\"type\":\"scatterternary\",\"marker\":{\"colorbar\":{\"outlinewidth\":0,\"ticks\":\"\"}}}],\"scattercarpet\":[{\"type\":\"scattercarpet\",\"marker\":{\"colorbar\":{\"outlinewidth\":0,\"ticks\":\"\"}}}],\"carpet\":[{\"aaxis\":{\"endlinecolor\":\"#2a3f5f\",\"gridcolor\":\"white\",\"linecolor\":\"white\",\"minorgridcolor\":\"white\",\"startlinecolor\":\"#2a3f5f\"},\"baxis\":{\"endlinecolor\":\"#2a3f5f\",\"gridcolor\":\"white\",\"linecolor\":\"white\",\"minorgridcolor\":\"white\",\"startlinecolor\":\"#2a3f5f\"},\"type\":\"carpet\"}],\"table\":[{\"cells\":{\"fill\":{\"color\":\"#EBF0F8\"},\"line\":{\"color\":\"white\"}},\"header\":{\"fill\":{\"color\":\"#C8D4E3\"},\"line\":{\"color\":\"white\"}},\"type\":\"table\"}],\"barpolar\":[{\"marker\":{\"line\":{\"color\":\"#E5ECF6\",\"width\":0.5},\"pattern\":{\"fillmode\":\"overlay\",\"size\":10,\"solidity\":0.2}},\"type\":\"barpolar\"}],\"pie\":[{\"automargin\":true,\"type\":\"pie\"}]},\"layout\":{\"autotypenumbers\":\"strict\",\"colorway\":[\"#636efa\",\"#EF553B\",\"#00cc96\",\"#ab63fa\",\"#FFA15A\",\"#19d3f3\",\"#FF6692\",\"#B6E880\",\"#FF97FF\",\"#FECB52\"],\"font\":{\"color\":\"#2a3f5f\"},\"hovermode\":\"closest\",\"hoverlabel\":{\"align\":\"left\"},\"paper_bgcolor\":\"white\",\"plot_bgcolor\":\"#E5ECF6\",\"polar\":{\"bgcolor\":\"#E5ECF6\",\"angularaxis\":{\"gridcolor\":\"white\",\"linecolor\":\"white\",\"ticks\":\"\"},\"radialaxis\":{\"gridcolor\":\"white\",\"linecolor\":\"white\",\"ticks\":\"\"}},\"ternary\":{\"bgcolor\":\"#E5ECF6\",\"aaxis\":{\"gridcolor\":\"white\",\"linecolor\":\"white\",\"ticks\":\"\"},\"baxis\":{\"gridcolor\":\"white\",\"linecolor\":\"white\",\"ticks\":\"\"},\"caxis\":{\"gridcolor\":\"white\",\"linecolor\":\"white\",\"ticks\":\"\"}},\"coloraxis\":{\"colorbar\":{\"outlinewidth\":0,\"ticks\":\"\"}},\"colorscale\":{\"sequential\":[[0.0,\"#0d0887\"],[0.1111111111111111,\"#46039f\"],[0.2222222222222222,\"#7201a8\"],[0.3333333333333333,\"#9c179e\"],[0.4444444444444444,\"#bd3786\"],[0.5555555555555556,\"#d8576b\"],[0.6666666666666666,\"#ed7953\"],[0.7777777777777778,\"#fb9f3a\"],[0.8888888888888888,\"#fdca26\"],[1.0,\"#f0f921\"]],\"sequentialminus\":[[0.0,\"#0d0887\"],[0.1111111111111111,\"#46039f\"],[0.2222222222222222,\"#7201a8\"],[0.3333333333333333,\"#9c179e\"],[0.4444444444444444,\"#bd3786\"],[0.5555555555555556,\"#d8576b\"],[0.6666666666666666,\"#ed7953\"],[0.7777777777777778,\"#fb9f3a\"],[0.8888888888888888,\"#fdca26\"],[1.0,\"#f0f921\"]],\"diverging\":[[0,\"#8e0152\"],[0.1,\"#c51b7d\"],[0.2,\"#de77ae\"],[0.3,\"#f1b6da\"],[0.4,\"#fde0ef\"],[0.5,\"#f7f7f7\"],[0.6,\"#e6f5d0\"],[0.7,\"#b8e186\"],[0.8,\"#7fbc41\"],[0.9,\"#4d9221\"],[1,\"#276419\"]]},\"xaxis\":{\"gridcolor\":\"white\",\"linecolor\":\"white\",\"ticks\":\"\",\"title\":{\"standoff\":15},\"zerolinecolor\":\"white\",\"automargin\":true,\"zerolinewidth\":2},\"yaxis\":{\"gridcolor\":\"white\",\"linecolor\":\"white\",\"ticks\":\"\",\"title\":{\"standoff\":15},\"zerolinecolor\":\"white\",\"automargin\":true,\"zerolinewidth\":2},\"scene\":{\"xaxis\":{\"backgroundcolor\":\"#E5ECF6\",\"gridcolor\":\"white\",\"linecolor\":\"white\",\"showbackground\":true,\"ticks\":\"\",\"zerolinecolor\":\"white\",\"gridwidth\":2},\"yaxis\":{\"backgroundcolor\":\"#E5ECF6\",\"gridcolor\":\"white\",\"linecolor\":\"white\",\"showbackground\":true,\"ticks\":\"\",\"zerolinecolor\":\"white\",\"gridwidth\":2},\"zaxis\":{\"backgroundcolor\":\"#E5ECF6\",\"gridcolor\":\"white\",\"linecolor\":\"white\",\"showbackground\":true,\"ticks\":\"\",\"zerolinecolor\":\"white\",\"gridwidth\":2}},\"shapedefaults\":{\"line\":{\"color\":\"#2a3f5f\"}},\"annotationdefaults\":{\"arrowcolor\":\"#2a3f5f\",\"arrowhead\":0,\"arrowwidth\":1},\"geo\":{\"bgcolor\":\"white\",\"landcolor\":\"#E5ECF6\",\"subunitcolor\":\"white\",\"showland\":true,\"showlakes\":true,\"lakecolor\":\"white\"},\"title\":{\"x\":0.05},\"mapbox\":{\"style\":\"light\"}}},\"scene\":{\"zaxis\":{\"nticks\":4,\"range\":[0,2500000]},\"camera\":{\"eye\":{\"x\":2.5,\"y\":2.5,\"z\":2}},\"aspectratio\":{\"x\":2.5,\"y\":2.5,\"z\":1}},\"height\":800,\"width\":1600,\"updatemenus\":[{\"buttons\":[{\"args\":[null,{\"frame\":{\"duration\":5,\"redraw\":true},\"transition\":{\"duration\":1},\"fromcurrent\":true,\"mode\":\"immediate\"}],\"label\":\"Play\",\"method\":\"animate\"}],\"pad\":{\"r\":10,\"t\":45},\"showactive\":false,\"type\":\"buttons\",\"x\":0.8,\"xanchor\":\"left\",\"y\":1,\"yanchor\":\"bottom\"}]},                        {\"toImageButtonOptions\": {\"format\": \"png\", \"filename\": \"SEER_Osteosarcoma_popdata_2020\", \"height\": 1000, \"width\": 1200, \"scale\": 2.0}, \"responsive\": true}                    ).then(function(){\n",
              "                            \n",
              "var gd = document.getElementById('1df58345-ea26-401b-9204-e8e73a75ba42');\n",
              "var x = new MutationObserver(function (mutations, observer) {{\n",
              "        var display = window.getComputedStyle(gd).display;\n",
              "        if (!display || display === 'none') {{\n",
              "            console.log([gd, 'removed!']);\n",
              "            Plotly.purge(gd);\n",
              "            observer.disconnect();\n",
              "        }}\n",
              "}});\n",
              "\n",
              "// Listen for the removal of the full notebook cells\n",
              "var notebookContainer = gd.closest('#notebook-container');\n",
              "if (notebookContainer) {{\n",
              "    x.observe(notebookContainer, {childList: true});\n",
              "}}\n",
              "\n",
              "// Listen for the clearing of the current output cell\n",
              "var outputEl = gd.closest('.output');\n",
              "if (outputEl) {{\n",
              "    x.observe(outputEl, {childList: true});\n",
              "}}\n",
              "\n",
              "                        })                };                            </script>        </div>\n",
              "</body>\n",
              "</html>"
            ]
          },
          "metadata": {}
        }
      ]
    },
    {
      "cell_type": "markdown",
      "source": [
        "Fisher's exact test attempt: comparing if correlation between being >65 years and having osteosarcoma"
      ],
      "metadata": {
        "id": "68FKMW8yFrBS"
      }
    },
    {
      "cell_type": "code",
      "source": [
        "# This code is running a fisher's exact test on the osteosarcoma data to see if there is a\n",
        "# correlation between being > 65 years and having osteosarcoma. We do this by creating equal\n",
        "# sized age groups (35-64 & 65-85+) that span across 20 years each. We then run the fishers\n",
        "# to see if there is a significant difference in the occurrence of osteosarcoma between these\n",
        "# two age groups. Our null hypothesis says there is no significant difference between the two.\n",
        "# However, if we are able to reject this null hypothesis, this will allow us to further conclude\n",
        "# that there is some sort of underlying peak in the incidence of osteosarcoma in the 65+ age range.\n",
        "# Since the data spans over 46 calendar years, we will run a fisher's test each calendar year\n",
        "# and assess for the total number of rejected and accepted null hypotheses.\n",
        "results_dict = {}\n",
        "for year in age_adjusted_both['Year of diagnosis'].unique():\n",
        "    results_dict[year] = {}\n",
        "#creating a copy of the data frame\n",
        "    df_35to64 = age_adjusted_both[age_adjusted_both['Year of diagnosis']==year].copy()\n",
        "    #extracting only data for 35-64 years old for this data frame\n",
        "    df_35to64 = df_35to64[(df_35to64['Age recode with <1 year olds'].isin(\n",
        "        ['35-39 years','40-44 years', '45-49 years', '50-54 years',\n",
        "        '55-59 years','60-64 years']))]\n",
        "    df_35to64 = df_35to64[df_35to64['Sex']=='Male and female']\n",
        "\n",
        "    #creating a copy of the data frame\n",
        "    df_65plus = age_adjusted_both[age_adjusted_both['Year of diagnosis']==year].copy()\n",
        "    #extracting only data for 65+ years old for this data frame\n",
        "    df_65plus = df_65plus[(df_65plus['Age recode with <1 year olds'].isin(\n",
        "        ['65-69 years', '70-74 years',\n",
        "        '75-79 years', '80-84 years', '85+ years']))]\n",
        "    df_65plus = df_65plus[df_65plus['Sex']=='Male and female']\n",
        "    #this is the creation of a contigency table where one group is 35-64 age group and the other is 65+ age group\n",
        "    #the other contingency variable is the occurence of osteosarcoma vs just the overall population\n",
        "    contingency_table = [[df_65plus['Count'].sum(), df_35to64['Count'].sum()],[df_65plus['Population'].sum(), df_35to64['Population'].sum()]]\n",
        "    contingency_table\n",
        "    #this is to run the fischer's exact on that contigency table.\n",
        "    odds_ratio, p_value = fisher_exact(contingency_table, alternative='two-sided')\n",
        "    print(year)\n",
        "    print(\"Odds ratio:\", odds_ratio)\n",
        "    print(\"p-value:\", p_value, \"\\n\")\n",
        "    results_dict[year]['Odds ratio'] = odds_ratio\n",
        "    results_dict[year]['p-value'] = round(p_value, 5)\n",
        "\n",
        "# now we display the results from each fisher's test run each calendar year\n",
        "results_df = pd.DataFrame.from_dict(results_dict, orient='index').reset_index().rename(columns={'index':'Year'})\n"
      ],
      "metadata": {
        "colab": {
          "base_uri": "https://localhost:8080/"
        },
        "id": "IH4pc3omFoGD",
        "outputId": "dca43fd0-6540-4727-cab0-7ed4b69bd432"
      },
      "execution_count": null,
      "outputs": [
        {
          "output_type": "stream",
          "name": "stdout",
          "text": [
            "1975\n",
            "Odds ratio: 0.8941555486352581\n",
            "p-value: 1.0 \n",
            "\n",
            "1976\n",
            "Odds ratio: 0.0\n",
            "p-value: 1.0 \n",
            "\n",
            "1977\n",
            "Odds ratio: 4.557014784662795\n",
            "p-value: 0.10104945976047068 \n",
            "\n",
            "1978\n",
            "Odds ratio: 2.2563273949429123\n",
            "p-value: 0.37664026170050685 \n",
            "\n",
            "1979\n",
            "Odds ratio: 2.973160907071877\n",
            "p-value: 0.05687377550638532 \n",
            "\n",
            "1980\n",
            "Odds ratio: 3.923782059903415\n",
            "p-value: 0.07395029314792763 \n",
            "\n",
            "1981\n",
            "Odds ratio: 2.9061955102288026\n",
            "p-value: 0.12229192459025279 \n",
            "\n",
            "1982\n",
            "Odds ratio: 2.9049063313186188\n",
            "p-value: 0.17918137148914165 \n",
            "\n",
            "1983\n",
            "Odds ratio: 1.926395980544656\n",
            "p-value: 0.6084420905175549 \n",
            "\n",
            "1984\n",
            "Odds ratio: 2.1655406006080757\n",
            "p-value: 0.3834884650515897 \n",
            "\n",
            "1985\n",
            "Odds ratio: 4.32575447633336\n",
            "p-value: 0.11155879621028232 \n",
            "\n",
            "1986\n",
            "Odds ratio: 2.8785676371297066\n",
            "p-value: 0.1820077026229253 \n",
            "\n",
            "1987\n",
            "Odds ratio: 0.959166961756374\n",
            "p-value: 1.0 \n",
            "\n",
            "1988\n",
            "Odds ratio: 3.8646116815632725\n",
            "p-value: 0.0767230178483555 \n",
            "\n",
            "1989\n",
            "Odds ratio: 0.0\n",
            "p-value: 0.33813491563019143 \n",
            "\n",
            "1990\n",
            "Odds ratio: 1.6749823288322456\n",
            "p-value: 0.4870284437765008 \n",
            "\n",
            "1991\n",
            "Odds ratio: 1.480157490130186\n",
            "p-value: 0.6464405024202171 \n",
            "\n",
            "1992\n",
            "Odds ratio: 1.7987967801797369\n",
            "p-value: 0.42174849321045216 \n",
            "\n",
            "1993\n",
            "Odds ratio: 0.5046043499618912\n",
            "p-value: 1.0 \n",
            "\n",
            "1994\n",
            "Odds ratio: 0.8754846418908294\n",
            "p-value: 1.0 \n",
            "\n",
            "1995\n",
            "Odds ratio: 3.1004239571788856\n",
            "p-value: 0.07117942583284106 \n",
            "\n",
            "1996\n",
            "Odds ratio: 0.349151334508518\n",
            "p-value: 0.468345848646277 \n",
            "\n",
            "1997\n",
            "Odds ratio: 4.007208072194716\n",
            "p-value: 0.0400142555989412 \n",
            "\n",
            "1998\n",
            "Odds ratio: 0.8167606681389304\n",
            "p-value: 1.0 \n",
            "\n",
            "1999\n",
            "Odds ratio: 0.4736515911426927\n",
            "p-value: 0.6908265287597412 \n",
            "\n",
            "2000\n",
            "Odds ratio: 0.5583580162294751\n",
            "p-value: 1.0 \n",
            "\n",
            "2001\n",
            "Odds ratio: 1.6936526285368994\n",
            "p-value: 0.5397758848911283 \n",
            "\n",
            "2002\n",
            "Odds ratio: 0.5686186084545655\n",
            "p-value: 1.0 \n",
            "\n",
            "2003\n",
            "Odds ratio: 1.710485134192107\n",
            "p-value: 0.6234763916692041 \n",
            "\n",
            "2004\n",
            "Odds ratio: 0.572791494105419\n",
            "p-value: 1.0 \n",
            "\n",
            "2005\n",
            "Odds ratio: 0.5738492947358055\n",
            "p-value: 0.7488447002475864 \n",
            "\n",
            "2006\n",
            "Odds ratio: 1.7239973627100131\n",
            "p-value: 0.6224289738219807 \n",
            "\n",
            "2007\n",
            "Odds ratio: 1.3724573001899965\n",
            "p-value: 0.5336592592006242 \n",
            "\n",
            "2008\n",
            "Odds ratio: 0.4819665874876412\n",
            "p-value: 0.6916786963648363 \n",
            "\n",
            "2009\n",
            "Odds ratio: 0.0\n",
            "p-value: 0.3472749372577016 \n",
            "\n",
            "2010\n",
            "Odds ratio: 2.3338107207684664\n",
            "p-value: 0.16762380359323356 \n",
            "\n",
            "2011\n",
            "Odds ratio: 0.9178988570082178\n",
            "p-value: 1.0 \n",
            "\n",
            "2012\n",
            "Odds ratio: 1.231869425449765\n",
            "p-value: 0.6824966953754571 \n",
            "\n",
            "2013\n",
            "Odds ratio: 3.9661599184466536\n",
            "p-value: 0.0720393816298639 \n",
            "\n",
            "2014\n",
            "Odds ratio: 0.47972562636568117\n",
            "p-value: 0.5409491401556195 \n",
            "\n",
            "2015\n",
            "Odds ratio: 0.9316216979089439\n",
            "p-value: 1.0 \n",
            "\n",
            "2016\n",
            "Odds ratio: 1.6292169587762395\n",
            "p-value: 0.4510741396948575 \n",
            "\n",
            "2017\n",
            "Odds ratio: 3.016151507159269\n",
            "p-value: 0.03841469589868003 \n",
            "\n",
            "2018\n",
            "Odds ratio: 2.132881348662406\n",
            "p-value: 0.19690647489238305 \n",
            "\n",
            "2019\n",
            "Odds ratio: 1.5491868816840393\n",
            "p-value: 0.5396617453396404 \n",
            "\n",
            "2020\n",
            "Odds ratio: 1.443613810918652\n",
            "p-value: 0.7001002277356478 \n",
            "\n"
          ]
        }
      ]
    },
    {
      "cell_type": "code",
      "source": [
        "# This graphs the p-value from each fisher's test each calendar year. The red line indicates\n",
        "# where p=0.05, so values above the line are years where we must accept the null hypothesis\n",
        "# saying that there is no correlation and values below the red line are where we can\n",
        "# reject this hypothesis.\n",
        "fig = px.bar(results_df, x='Year', y='p-value',\n",
        "            # title=\"Fisher's Test Comparison of Incidence in Age groups 35-64 years  vs 65+ years\",\n",
        "             text = 'p-value', text_auto = False\n",
        "        ).add_hline(y=0.05, line_width=3, line_dash=\"dash\", line_color=\"red\"\n",
        "        ).add_hrect(y0=0.05, y1=1.0, line_width=0, fillcolor=\"red\", opacity=0.1\n",
        "        ).add_hrect(y0=0.05, y1=0.0, line_width=0, fillcolor=\"green\", opacity=0.2)\n",
        "\n",
        "fig.update_layout(title_x = 0.5, xaxis_title= \"Year (1975-2020)\")"
      ],
      "metadata": {
        "colab": {
          "base_uri": "https://localhost:8080/",
          "height": 542
        },
        "id": "05Y_ts4RFuD_",
        "outputId": "2f3a1ecb-dde1-46fc-f601-c2efa912dc7a"
      },
      "execution_count": null,
      "outputs": [
        {
          "output_type": "display_data",
          "data": {
            "text/html": [
              "<html>\n",
              "<head><meta charset=\"utf-8\" /></head>\n",
              "<body>\n",
              "    <div>            <script src=\"https://cdnjs.cloudflare.com/ajax/libs/mathjax/2.7.5/MathJax.js?config=TeX-AMS-MML_SVG\"></script><script type=\"text/javascript\">if (window.MathJax && window.MathJax.Hub && window.MathJax.Hub.Config) {window.MathJax.Hub.Config({SVG: {font: \"STIX-Web\"}});}</script>                <script type=\"text/javascript\">window.PlotlyConfig = {MathJaxConfig: 'local'};</script>\n",
              "        <script src=\"https://cdn.plot.ly/plotly-2.18.2.min.js\"></script>                <div id=\"2521da09-382e-40bc-9a67-055425f555dc\" class=\"plotly-graph-div\" style=\"height:525px; width:100%;\"></div>            <script type=\"text/javascript\">                                    window.PLOTLYENV=window.PLOTLYENV || {};                                    if (document.getElementById(\"2521da09-382e-40bc-9a67-055425f555dc\")) {                    Plotly.newPlot(                        \"2521da09-382e-40bc-9a67-055425f555dc\",                        [{\"alignmentgroup\":\"True\",\"hovertemplate\":\"Year=%{x}<br>p-value=%{text}<extra></extra>\",\"legendgroup\":\"\",\"marker\":{\"color\":\"#636efa\",\"pattern\":{\"shape\":\"\"}},\"name\":\"\",\"offsetgroup\":\"\",\"orientation\":\"v\",\"showlegend\":false,\"text\":[1.0,1.0,0.10105,0.37664,0.05687,0.07395,0.12229,0.17918,0.60844,0.38349,0.11156,0.18201,1.0,0.07672,0.33813,0.48703,0.64644,0.42175,1.0,1.0,0.07118,0.46835,0.04001,1.0,0.69083,1.0,0.53978,1.0,0.62348,1.0,0.74884,0.62243,0.53366,0.69168,0.34727,0.16762,1.0,0.6825,0.07204,0.54095,1.0,0.45107,0.03841,0.19691,0.53966,0.7001],\"textposition\":\"auto\",\"x\":[\"1975\",\"1976\",\"1977\",\"1978\",\"1979\",\"1980\",\"1981\",\"1982\",\"1983\",\"1984\",\"1985\",\"1986\",\"1987\",\"1988\",\"1989\",\"1990\",\"1991\",\"1992\",\"1993\",\"1994\",\"1995\",\"1996\",\"1997\",\"1998\",\"1999\",\"2000\",\"2001\",\"2002\",\"2003\",\"2004\",\"2005\",\"2006\",\"2007\",\"2008\",\"2009\",\"2010\",\"2011\",\"2012\",\"2013\",\"2014\",\"2015\",\"2016\",\"2017\",\"2018\",\"2019\",\"2020\"],\"xaxis\":\"x\",\"y\":[1.0,1.0,0.10105,0.37664,0.05687,0.07395,0.12229,0.17918,0.60844,0.38349,0.11156,0.18201,1.0,0.07672,0.33813,0.48703,0.64644,0.42175,1.0,1.0,0.07118,0.46835,0.04001,1.0,0.69083,1.0,0.53978,1.0,0.62348,1.0,0.74884,0.62243,0.53366,0.69168,0.34727,0.16762,1.0,0.6825,0.07204,0.54095,1.0,0.45107,0.03841,0.19691,0.53966,0.7001],\"yaxis\":\"y\",\"type\":\"bar\"}],                        {\"template\":{\"data\":{\"histogram2dcontour\":[{\"type\":\"histogram2dcontour\",\"colorbar\":{\"outlinewidth\":0,\"ticks\":\"\"},\"colorscale\":[[0.0,\"#0d0887\"],[0.1111111111111111,\"#46039f\"],[0.2222222222222222,\"#7201a8\"],[0.3333333333333333,\"#9c179e\"],[0.4444444444444444,\"#bd3786\"],[0.5555555555555556,\"#d8576b\"],[0.6666666666666666,\"#ed7953\"],[0.7777777777777778,\"#fb9f3a\"],[0.8888888888888888,\"#fdca26\"],[1.0,\"#f0f921\"]]}],\"choropleth\":[{\"type\":\"choropleth\",\"colorbar\":{\"outlinewidth\":0,\"ticks\":\"\"}}],\"histogram2d\":[{\"type\":\"histogram2d\",\"colorbar\":{\"outlinewidth\":0,\"ticks\":\"\"},\"colorscale\":[[0.0,\"#0d0887\"],[0.1111111111111111,\"#46039f\"],[0.2222222222222222,\"#7201a8\"],[0.3333333333333333,\"#9c179e\"],[0.4444444444444444,\"#bd3786\"],[0.5555555555555556,\"#d8576b\"],[0.6666666666666666,\"#ed7953\"],[0.7777777777777778,\"#fb9f3a\"],[0.8888888888888888,\"#fdca26\"],[1.0,\"#f0f921\"]]}],\"heatmap\":[{\"type\":\"heatmap\",\"colorbar\":{\"outlinewidth\":0,\"ticks\":\"\"},\"colorscale\":[[0.0,\"#0d0887\"],[0.1111111111111111,\"#46039f\"],[0.2222222222222222,\"#7201a8\"],[0.3333333333333333,\"#9c179e\"],[0.4444444444444444,\"#bd3786\"],[0.5555555555555556,\"#d8576b\"],[0.6666666666666666,\"#ed7953\"],[0.7777777777777778,\"#fb9f3a\"],[0.8888888888888888,\"#fdca26\"],[1.0,\"#f0f921\"]]}],\"heatmapgl\":[{\"type\":\"heatmapgl\",\"colorbar\":{\"outlinewidth\":0,\"ticks\":\"\"},\"colorscale\":[[0.0,\"#0d0887\"],[0.1111111111111111,\"#46039f\"],[0.2222222222222222,\"#7201a8\"],[0.3333333333333333,\"#9c179e\"],[0.4444444444444444,\"#bd3786\"],[0.5555555555555556,\"#d8576b\"],[0.6666666666666666,\"#ed7953\"],[0.7777777777777778,\"#fb9f3a\"],[0.8888888888888888,\"#fdca26\"],[1.0,\"#f0f921\"]]}],\"contourcarpet\":[{\"type\":\"contourcarpet\",\"colorbar\":{\"outlinewidth\":0,\"ticks\":\"\"}}],\"contour\":[{\"type\":\"contour\",\"colorbar\":{\"outlinewidth\":0,\"ticks\":\"\"},\"colorscale\":[[0.0,\"#0d0887\"],[0.1111111111111111,\"#46039f\"],[0.2222222222222222,\"#7201a8\"],[0.3333333333333333,\"#9c179e\"],[0.4444444444444444,\"#bd3786\"],[0.5555555555555556,\"#d8576b\"],[0.6666666666666666,\"#ed7953\"],[0.7777777777777778,\"#fb9f3a\"],[0.8888888888888888,\"#fdca26\"],[1.0,\"#f0f921\"]]}],\"surface\":[{\"type\":\"surface\",\"colorbar\":{\"outlinewidth\":0,\"ticks\":\"\"},\"colorscale\":[[0.0,\"#0d0887\"],[0.1111111111111111,\"#46039f\"],[0.2222222222222222,\"#7201a8\"],[0.3333333333333333,\"#9c179e\"],[0.4444444444444444,\"#bd3786\"],[0.5555555555555556,\"#d8576b\"],[0.6666666666666666,\"#ed7953\"],[0.7777777777777778,\"#fb9f3a\"],[0.8888888888888888,\"#fdca26\"],[1.0,\"#f0f921\"]]}],\"mesh3d\":[{\"type\":\"mesh3d\",\"colorbar\":{\"outlinewidth\":0,\"ticks\":\"\"}}],\"scatter\":[{\"fillpattern\":{\"fillmode\":\"overlay\",\"size\":10,\"solidity\":0.2},\"type\":\"scatter\"}],\"parcoords\":[{\"type\":\"parcoords\",\"line\":{\"colorbar\":{\"outlinewidth\":0,\"ticks\":\"\"}}}],\"scatterpolargl\":[{\"type\":\"scatterpolargl\",\"marker\":{\"colorbar\":{\"outlinewidth\":0,\"ticks\":\"\"}}}],\"bar\":[{\"error_x\":{\"color\":\"#2a3f5f\"},\"error_y\":{\"color\":\"#2a3f5f\"},\"marker\":{\"line\":{\"color\":\"#E5ECF6\",\"width\":0.5},\"pattern\":{\"fillmode\":\"overlay\",\"size\":10,\"solidity\":0.2}},\"type\":\"bar\"}],\"scattergeo\":[{\"type\":\"scattergeo\",\"marker\":{\"colorbar\":{\"outlinewidth\":0,\"ticks\":\"\"}}}],\"scatterpolar\":[{\"type\":\"scatterpolar\",\"marker\":{\"colorbar\":{\"outlinewidth\":0,\"ticks\":\"\"}}}],\"histogram\":[{\"marker\":{\"pattern\":{\"fillmode\":\"overlay\",\"size\":10,\"solidity\":0.2}},\"type\":\"histogram\"}],\"scattergl\":[{\"type\":\"scattergl\",\"marker\":{\"colorbar\":{\"outlinewidth\":0,\"ticks\":\"\"}}}],\"scatter3d\":[{\"type\":\"scatter3d\",\"line\":{\"colorbar\":{\"outlinewidth\":0,\"ticks\":\"\"}},\"marker\":{\"colorbar\":{\"outlinewidth\":0,\"ticks\":\"\"}}}],\"scattermapbox\":[{\"type\":\"scattermapbox\",\"marker\":{\"colorbar\":{\"outlinewidth\":0,\"ticks\":\"\"}}}],\"scatterternary\":[{\"type\":\"scatterternary\",\"marker\":{\"colorbar\":{\"outlinewidth\":0,\"ticks\":\"\"}}}],\"scattercarpet\":[{\"type\":\"scattercarpet\",\"marker\":{\"colorbar\":{\"outlinewidth\":0,\"ticks\":\"\"}}}],\"carpet\":[{\"aaxis\":{\"endlinecolor\":\"#2a3f5f\",\"gridcolor\":\"white\",\"linecolor\":\"white\",\"minorgridcolor\":\"white\",\"startlinecolor\":\"#2a3f5f\"},\"baxis\":{\"endlinecolor\":\"#2a3f5f\",\"gridcolor\":\"white\",\"linecolor\":\"white\",\"minorgridcolor\":\"white\",\"startlinecolor\":\"#2a3f5f\"},\"type\":\"carpet\"}],\"table\":[{\"cells\":{\"fill\":{\"color\":\"#EBF0F8\"},\"line\":{\"color\":\"white\"}},\"header\":{\"fill\":{\"color\":\"#C8D4E3\"},\"line\":{\"color\":\"white\"}},\"type\":\"table\"}],\"barpolar\":[{\"marker\":{\"line\":{\"color\":\"#E5ECF6\",\"width\":0.5},\"pattern\":{\"fillmode\":\"overlay\",\"size\":10,\"solidity\":0.2}},\"type\":\"barpolar\"}],\"pie\":[{\"automargin\":true,\"type\":\"pie\"}]},\"layout\":{\"autotypenumbers\":\"strict\",\"colorway\":[\"#636efa\",\"#EF553B\",\"#00cc96\",\"#ab63fa\",\"#FFA15A\",\"#19d3f3\",\"#FF6692\",\"#B6E880\",\"#FF97FF\",\"#FECB52\"],\"font\":{\"color\":\"#2a3f5f\"},\"hovermode\":\"closest\",\"hoverlabel\":{\"align\":\"left\"},\"paper_bgcolor\":\"white\",\"plot_bgcolor\":\"#E5ECF6\",\"polar\":{\"bgcolor\":\"#E5ECF6\",\"angularaxis\":{\"gridcolor\":\"white\",\"linecolor\":\"white\",\"ticks\":\"\"},\"radialaxis\":{\"gridcolor\":\"white\",\"linecolor\":\"white\",\"ticks\":\"\"}},\"ternary\":{\"bgcolor\":\"#E5ECF6\",\"aaxis\":{\"gridcolor\":\"white\",\"linecolor\":\"white\",\"ticks\":\"\"},\"baxis\":{\"gridcolor\":\"white\",\"linecolor\":\"white\",\"ticks\":\"\"},\"caxis\":{\"gridcolor\":\"white\",\"linecolor\":\"white\",\"ticks\":\"\"}},\"coloraxis\":{\"colorbar\":{\"outlinewidth\":0,\"ticks\":\"\"}},\"colorscale\":{\"sequential\":[[0.0,\"#0d0887\"],[0.1111111111111111,\"#46039f\"],[0.2222222222222222,\"#7201a8\"],[0.3333333333333333,\"#9c179e\"],[0.4444444444444444,\"#bd3786\"],[0.5555555555555556,\"#d8576b\"],[0.6666666666666666,\"#ed7953\"],[0.7777777777777778,\"#fb9f3a\"],[0.8888888888888888,\"#fdca26\"],[1.0,\"#f0f921\"]],\"sequentialminus\":[[0.0,\"#0d0887\"],[0.1111111111111111,\"#46039f\"],[0.2222222222222222,\"#7201a8\"],[0.3333333333333333,\"#9c179e\"],[0.4444444444444444,\"#bd3786\"],[0.5555555555555556,\"#d8576b\"],[0.6666666666666666,\"#ed7953\"],[0.7777777777777778,\"#fb9f3a\"],[0.8888888888888888,\"#fdca26\"],[1.0,\"#f0f921\"]],\"diverging\":[[0,\"#8e0152\"],[0.1,\"#c51b7d\"],[0.2,\"#de77ae\"],[0.3,\"#f1b6da\"],[0.4,\"#fde0ef\"],[0.5,\"#f7f7f7\"],[0.6,\"#e6f5d0\"],[0.7,\"#b8e186\"],[0.8,\"#7fbc41\"],[0.9,\"#4d9221\"],[1,\"#276419\"]]},\"xaxis\":{\"gridcolor\":\"white\",\"linecolor\":\"white\",\"ticks\":\"\",\"title\":{\"standoff\":15},\"zerolinecolor\":\"white\",\"automargin\":true,\"zerolinewidth\":2},\"yaxis\":{\"gridcolor\":\"white\",\"linecolor\":\"white\",\"ticks\":\"\",\"title\":{\"standoff\":15},\"zerolinecolor\":\"white\",\"automargin\":true,\"zerolinewidth\":2},\"scene\":{\"xaxis\":{\"backgroundcolor\":\"#E5ECF6\",\"gridcolor\":\"white\",\"linecolor\":\"white\",\"showbackground\":true,\"ticks\":\"\",\"zerolinecolor\":\"white\",\"gridwidth\":2},\"yaxis\":{\"backgroundcolor\":\"#E5ECF6\",\"gridcolor\":\"white\",\"linecolor\":\"white\",\"showbackground\":true,\"ticks\":\"\",\"zerolinecolor\":\"white\",\"gridwidth\":2},\"zaxis\":{\"backgroundcolor\":\"#E5ECF6\",\"gridcolor\":\"white\",\"linecolor\":\"white\",\"showbackground\":true,\"ticks\":\"\",\"zerolinecolor\":\"white\",\"gridwidth\":2}},\"shapedefaults\":{\"line\":{\"color\":\"#2a3f5f\"}},\"annotationdefaults\":{\"arrowcolor\":\"#2a3f5f\",\"arrowhead\":0,\"arrowwidth\":1},\"geo\":{\"bgcolor\":\"white\",\"landcolor\":\"#E5ECF6\",\"subunitcolor\":\"white\",\"showland\":true,\"showlakes\":true,\"lakecolor\":\"white\"},\"title\":{\"x\":0.05},\"mapbox\":{\"style\":\"light\"}}},\"xaxis\":{\"anchor\":\"y\",\"domain\":[0.0,1.0],\"title\":{\"text\":\"Year (1975-2020)\"}},\"yaxis\":{\"anchor\":\"x\",\"domain\":[0.0,1.0],\"title\":{\"text\":\"p-value\"}},\"legend\":{\"tracegroupgap\":0},\"margin\":{\"t\":60},\"barmode\":\"relative\",\"shapes\":[{\"line\":{\"color\":\"red\",\"dash\":\"dash\",\"width\":3},\"type\":\"line\",\"x0\":0,\"x1\":1,\"xref\":\"x domain\",\"y0\":0.05,\"y1\":0.05,\"yref\":\"y\"},{\"fillcolor\":\"red\",\"line\":{\"width\":0},\"opacity\":0.1,\"type\":\"rect\",\"x0\":0,\"x1\":1,\"xref\":\"x domain\",\"y0\":0.05,\"y1\":1.0,\"yref\":\"y\"},{\"fillcolor\":\"green\",\"line\":{\"width\":0},\"opacity\":0.2,\"type\":\"rect\",\"x0\":0,\"x1\":1,\"xref\":\"x domain\",\"y0\":0.05,\"y1\":0.0,\"yref\":\"y\"}],\"title\":{\"x\":0.5}},                        {\"responsive\": true}                    ).then(function(){\n",
              "                            \n",
              "var gd = document.getElementById('2521da09-382e-40bc-9a67-055425f555dc');\n",
              "var x = new MutationObserver(function (mutations, observer) {{\n",
              "        var display = window.getComputedStyle(gd).display;\n",
              "        if (!display || display === 'none') {{\n",
              "            console.log([gd, 'removed!']);\n",
              "            Plotly.purge(gd);\n",
              "            observer.disconnect();\n",
              "        }}\n",
              "}});\n",
              "\n",
              "// Listen for the removal of the full notebook cells\n",
              "var notebookContainer = gd.closest('#notebook-container');\n",
              "if (notebookContainer) {{\n",
              "    x.observe(notebookContainer, {childList: true});\n",
              "}}\n",
              "\n",
              "// Listen for the clearing of the current output cell\n",
              "var outputEl = gd.closest('.output');\n",
              "if (outputEl) {{\n",
              "    x.observe(outputEl, {childList: true});\n",
              "}}\n",
              "\n",
              "                        })                };                            </script>        </div>\n",
              "</body>\n",
              "</html>"
            ]
          },
          "metadata": {}
        }
      ]
    },
    {
      "cell_type": "code",
      "source": [
        "# This reformats the graph to be higher resolution.\n",
        "config = {\n",
        "  'toImageButtonOptions': {\n",
        "    'format': 'png', # one of png, svg, jpeg, webp\n",
        "    'filename': 'Fischers_pvalue_notitle_2020',\n",
        "    'height': 500,\n",
        "    'width': 1200,\n",
        "    'scale':2.0 # Multiply title/legend/axis/canvas sizes by this factor\n",
        "  }\n",
        "}\n",
        "\n",
        "\n",
        "fig.show(config=config)"
      ],
      "metadata": {
        "colab": {
          "base_uri": "https://localhost:8080/",
          "height": 542
        },
        "id": "SUhf5uP_FwAh",
        "outputId": "3c8476e7-cddb-4ebe-cbea-0dbefc679b86"
      },
      "execution_count": null,
      "outputs": [
        {
          "output_type": "display_data",
          "data": {
            "text/html": [
              "<html>\n",
              "<head><meta charset=\"utf-8\" /></head>\n",
              "<body>\n",
              "    <div>            <script src=\"https://cdnjs.cloudflare.com/ajax/libs/mathjax/2.7.5/MathJax.js?config=TeX-AMS-MML_SVG\"></script><script type=\"text/javascript\">if (window.MathJax && window.MathJax.Hub && window.MathJax.Hub.Config) {window.MathJax.Hub.Config({SVG: {font: \"STIX-Web\"}});}</script>                <script type=\"text/javascript\">window.PlotlyConfig = {MathJaxConfig: 'local'};</script>\n",
              "        <script src=\"https://cdn.plot.ly/plotly-2.18.2.min.js\"></script>                <div id=\"2447423f-db8b-4e40-bce6-61206d1bdf18\" class=\"plotly-graph-div\" style=\"height:525px; width:100%;\"></div>            <script type=\"text/javascript\">                                    window.PLOTLYENV=window.PLOTLYENV || {};                                    if (document.getElementById(\"2447423f-db8b-4e40-bce6-61206d1bdf18\")) {                    Plotly.newPlot(                        \"2447423f-db8b-4e40-bce6-61206d1bdf18\",                        [{\"alignmentgroup\":\"True\",\"hovertemplate\":\"Year=%{x}<br>p-value=%{text}<extra></extra>\",\"legendgroup\":\"\",\"marker\":{\"color\":\"#636efa\",\"pattern\":{\"shape\":\"\"}},\"name\":\"\",\"offsetgroup\":\"\",\"orientation\":\"v\",\"showlegend\":false,\"text\":[1.0,1.0,0.10105,0.37664,0.05687,0.07395,0.12229,0.17918,0.60844,0.38349,0.11156,0.18201,1.0,0.07672,0.33813,0.48703,0.64644,0.42175,1.0,1.0,0.07118,0.46835,0.04001,1.0,0.69083,1.0,0.53978,1.0,0.62348,1.0,0.74884,0.62243,0.53366,0.69168,0.34727,0.16762,1.0,0.6825,0.07204,0.54095,1.0,0.45107,0.03841,0.19691,0.53966,0.7001],\"textposition\":\"auto\",\"x\":[\"1975\",\"1976\",\"1977\",\"1978\",\"1979\",\"1980\",\"1981\",\"1982\",\"1983\",\"1984\",\"1985\",\"1986\",\"1987\",\"1988\",\"1989\",\"1990\",\"1991\",\"1992\",\"1993\",\"1994\",\"1995\",\"1996\",\"1997\",\"1998\",\"1999\",\"2000\",\"2001\",\"2002\",\"2003\",\"2004\",\"2005\",\"2006\",\"2007\",\"2008\",\"2009\",\"2010\",\"2011\",\"2012\",\"2013\",\"2014\",\"2015\",\"2016\",\"2017\",\"2018\",\"2019\",\"2020\"],\"xaxis\":\"x\",\"y\":[1.0,1.0,0.10105,0.37664,0.05687,0.07395,0.12229,0.17918,0.60844,0.38349,0.11156,0.18201,1.0,0.07672,0.33813,0.48703,0.64644,0.42175,1.0,1.0,0.07118,0.46835,0.04001,1.0,0.69083,1.0,0.53978,1.0,0.62348,1.0,0.74884,0.62243,0.53366,0.69168,0.34727,0.16762,1.0,0.6825,0.07204,0.54095,1.0,0.45107,0.03841,0.19691,0.53966,0.7001],\"yaxis\":\"y\",\"type\":\"bar\"}],                        {\"template\":{\"data\":{\"histogram2dcontour\":[{\"type\":\"histogram2dcontour\",\"colorbar\":{\"outlinewidth\":0,\"ticks\":\"\"},\"colorscale\":[[0.0,\"#0d0887\"],[0.1111111111111111,\"#46039f\"],[0.2222222222222222,\"#7201a8\"],[0.3333333333333333,\"#9c179e\"],[0.4444444444444444,\"#bd3786\"],[0.5555555555555556,\"#d8576b\"],[0.6666666666666666,\"#ed7953\"],[0.7777777777777778,\"#fb9f3a\"],[0.8888888888888888,\"#fdca26\"],[1.0,\"#f0f921\"]]}],\"choropleth\":[{\"type\":\"choropleth\",\"colorbar\":{\"outlinewidth\":0,\"ticks\":\"\"}}],\"histogram2d\":[{\"type\":\"histogram2d\",\"colorbar\":{\"outlinewidth\":0,\"ticks\":\"\"},\"colorscale\":[[0.0,\"#0d0887\"],[0.1111111111111111,\"#46039f\"],[0.2222222222222222,\"#7201a8\"],[0.3333333333333333,\"#9c179e\"],[0.4444444444444444,\"#bd3786\"],[0.5555555555555556,\"#d8576b\"],[0.6666666666666666,\"#ed7953\"],[0.7777777777777778,\"#fb9f3a\"],[0.8888888888888888,\"#fdca26\"],[1.0,\"#f0f921\"]]}],\"heatmap\":[{\"type\":\"heatmap\",\"colorbar\":{\"outlinewidth\":0,\"ticks\":\"\"},\"colorscale\":[[0.0,\"#0d0887\"],[0.1111111111111111,\"#46039f\"],[0.2222222222222222,\"#7201a8\"],[0.3333333333333333,\"#9c179e\"],[0.4444444444444444,\"#bd3786\"],[0.5555555555555556,\"#d8576b\"],[0.6666666666666666,\"#ed7953\"],[0.7777777777777778,\"#fb9f3a\"],[0.8888888888888888,\"#fdca26\"],[1.0,\"#f0f921\"]]}],\"heatmapgl\":[{\"type\":\"heatmapgl\",\"colorbar\":{\"outlinewidth\":0,\"ticks\":\"\"},\"colorscale\":[[0.0,\"#0d0887\"],[0.1111111111111111,\"#46039f\"],[0.2222222222222222,\"#7201a8\"],[0.3333333333333333,\"#9c179e\"],[0.4444444444444444,\"#bd3786\"],[0.5555555555555556,\"#d8576b\"],[0.6666666666666666,\"#ed7953\"],[0.7777777777777778,\"#fb9f3a\"],[0.8888888888888888,\"#fdca26\"],[1.0,\"#f0f921\"]]}],\"contourcarpet\":[{\"type\":\"contourcarpet\",\"colorbar\":{\"outlinewidth\":0,\"ticks\":\"\"}}],\"contour\":[{\"type\":\"contour\",\"colorbar\":{\"outlinewidth\":0,\"ticks\":\"\"},\"colorscale\":[[0.0,\"#0d0887\"],[0.1111111111111111,\"#46039f\"],[0.2222222222222222,\"#7201a8\"],[0.3333333333333333,\"#9c179e\"],[0.4444444444444444,\"#bd3786\"],[0.5555555555555556,\"#d8576b\"],[0.6666666666666666,\"#ed7953\"],[0.7777777777777778,\"#fb9f3a\"],[0.8888888888888888,\"#fdca26\"],[1.0,\"#f0f921\"]]}],\"surface\":[{\"type\":\"surface\",\"colorbar\":{\"outlinewidth\":0,\"ticks\":\"\"},\"colorscale\":[[0.0,\"#0d0887\"],[0.1111111111111111,\"#46039f\"],[0.2222222222222222,\"#7201a8\"],[0.3333333333333333,\"#9c179e\"],[0.4444444444444444,\"#bd3786\"],[0.5555555555555556,\"#d8576b\"],[0.6666666666666666,\"#ed7953\"],[0.7777777777777778,\"#fb9f3a\"],[0.8888888888888888,\"#fdca26\"],[1.0,\"#f0f921\"]]}],\"mesh3d\":[{\"type\":\"mesh3d\",\"colorbar\":{\"outlinewidth\":0,\"ticks\":\"\"}}],\"scatter\":[{\"fillpattern\":{\"fillmode\":\"overlay\",\"size\":10,\"solidity\":0.2},\"type\":\"scatter\"}],\"parcoords\":[{\"type\":\"parcoords\",\"line\":{\"colorbar\":{\"outlinewidth\":0,\"ticks\":\"\"}}}],\"scatterpolargl\":[{\"type\":\"scatterpolargl\",\"marker\":{\"colorbar\":{\"outlinewidth\":0,\"ticks\":\"\"}}}],\"bar\":[{\"error_x\":{\"color\":\"#2a3f5f\"},\"error_y\":{\"color\":\"#2a3f5f\"},\"marker\":{\"line\":{\"color\":\"#E5ECF6\",\"width\":0.5},\"pattern\":{\"fillmode\":\"overlay\",\"size\":10,\"solidity\":0.2}},\"type\":\"bar\"}],\"scattergeo\":[{\"type\":\"scattergeo\",\"marker\":{\"colorbar\":{\"outlinewidth\":0,\"ticks\":\"\"}}}],\"scatterpolar\":[{\"type\":\"scatterpolar\",\"marker\":{\"colorbar\":{\"outlinewidth\":0,\"ticks\":\"\"}}}],\"histogram\":[{\"marker\":{\"pattern\":{\"fillmode\":\"overlay\",\"size\":10,\"solidity\":0.2}},\"type\":\"histogram\"}],\"scattergl\":[{\"type\":\"scattergl\",\"marker\":{\"colorbar\":{\"outlinewidth\":0,\"ticks\":\"\"}}}],\"scatter3d\":[{\"type\":\"scatter3d\",\"line\":{\"colorbar\":{\"outlinewidth\":0,\"ticks\":\"\"}},\"marker\":{\"colorbar\":{\"outlinewidth\":0,\"ticks\":\"\"}}}],\"scattermapbox\":[{\"type\":\"scattermapbox\",\"marker\":{\"colorbar\":{\"outlinewidth\":0,\"ticks\":\"\"}}}],\"scatterternary\":[{\"type\":\"scatterternary\",\"marker\":{\"colorbar\":{\"outlinewidth\":0,\"ticks\":\"\"}}}],\"scattercarpet\":[{\"type\":\"scattercarpet\",\"marker\":{\"colorbar\":{\"outlinewidth\":0,\"ticks\":\"\"}}}],\"carpet\":[{\"aaxis\":{\"endlinecolor\":\"#2a3f5f\",\"gridcolor\":\"white\",\"linecolor\":\"white\",\"minorgridcolor\":\"white\",\"startlinecolor\":\"#2a3f5f\"},\"baxis\":{\"endlinecolor\":\"#2a3f5f\",\"gridcolor\":\"white\",\"linecolor\":\"white\",\"minorgridcolor\":\"white\",\"startlinecolor\":\"#2a3f5f\"},\"type\":\"carpet\"}],\"table\":[{\"cells\":{\"fill\":{\"color\":\"#EBF0F8\"},\"line\":{\"color\":\"white\"}},\"header\":{\"fill\":{\"color\":\"#C8D4E3\"},\"line\":{\"color\":\"white\"}},\"type\":\"table\"}],\"barpolar\":[{\"marker\":{\"line\":{\"color\":\"#E5ECF6\",\"width\":0.5},\"pattern\":{\"fillmode\":\"overlay\",\"size\":10,\"solidity\":0.2}},\"type\":\"barpolar\"}],\"pie\":[{\"automargin\":true,\"type\":\"pie\"}]},\"layout\":{\"autotypenumbers\":\"strict\",\"colorway\":[\"#636efa\",\"#EF553B\",\"#00cc96\",\"#ab63fa\",\"#FFA15A\",\"#19d3f3\",\"#FF6692\",\"#B6E880\",\"#FF97FF\",\"#FECB52\"],\"font\":{\"color\":\"#2a3f5f\"},\"hovermode\":\"closest\",\"hoverlabel\":{\"align\":\"left\"},\"paper_bgcolor\":\"white\",\"plot_bgcolor\":\"#E5ECF6\",\"polar\":{\"bgcolor\":\"#E5ECF6\",\"angularaxis\":{\"gridcolor\":\"white\",\"linecolor\":\"white\",\"ticks\":\"\"},\"radialaxis\":{\"gridcolor\":\"white\",\"linecolor\":\"white\",\"ticks\":\"\"}},\"ternary\":{\"bgcolor\":\"#E5ECF6\",\"aaxis\":{\"gridcolor\":\"white\",\"linecolor\":\"white\",\"ticks\":\"\"},\"baxis\":{\"gridcolor\":\"white\",\"linecolor\":\"white\",\"ticks\":\"\"},\"caxis\":{\"gridcolor\":\"white\",\"linecolor\":\"white\",\"ticks\":\"\"}},\"coloraxis\":{\"colorbar\":{\"outlinewidth\":0,\"ticks\":\"\"}},\"colorscale\":{\"sequential\":[[0.0,\"#0d0887\"],[0.1111111111111111,\"#46039f\"],[0.2222222222222222,\"#7201a8\"],[0.3333333333333333,\"#9c179e\"],[0.4444444444444444,\"#bd3786\"],[0.5555555555555556,\"#d8576b\"],[0.6666666666666666,\"#ed7953\"],[0.7777777777777778,\"#fb9f3a\"],[0.8888888888888888,\"#fdca26\"],[1.0,\"#f0f921\"]],\"sequentialminus\":[[0.0,\"#0d0887\"],[0.1111111111111111,\"#46039f\"],[0.2222222222222222,\"#7201a8\"],[0.3333333333333333,\"#9c179e\"],[0.4444444444444444,\"#bd3786\"],[0.5555555555555556,\"#d8576b\"],[0.6666666666666666,\"#ed7953\"],[0.7777777777777778,\"#fb9f3a\"],[0.8888888888888888,\"#fdca26\"],[1.0,\"#f0f921\"]],\"diverging\":[[0,\"#8e0152\"],[0.1,\"#c51b7d\"],[0.2,\"#de77ae\"],[0.3,\"#f1b6da\"],[0.4,\"#fde0ef\"],[0.5,\"#f7f7f7\"],[0.6,\"#e6f5d0\"],[0.7,\"#b8e186\"],[0.8,\"#7fbc41\"],[0.9,\"#4d9221\"],[1,\"#276419\"]]},\"xaxis\":{\"gridcolor\":\"white\",\"linecolor\":\"white\",\"ticks\":\"\",\"title\":{\"standoff\":15},\"zerolinecolor\":\"white\",\"automargin\":true,\"zerolinewidth\":2},\"yaxis\":{\"gridcolor\":\"white\",\"linecolor\":\"white\",\"ticks\":\"\",\"title\":{\"standoff\":15},\"zerolinecolor\":\"white\",\"automargin\":true,\"zerolinewidth\":2},\"scene\":{\"xaxis\":{\"backgroundcolor\":\"#E5ECF6\",\"gridcolor\":\"white\",\"linecolor\":\"white\",\"showbackground\":true,\"ticks\":\"\",\"zerolinecolor\":\"white\",\"gridwidth\":2},\"yaxis\":{\"backgroundcolor\":\"#E5ECF6\",\"gridcolor\":\"white\",\"linecolor\":\"white\",\"showbackground\":true,\"ticks\":\"\",\"zerolinecolor\":\"white\",\"gridwidth\":2},\"zaxis\":{\"backgroundcolor\":\"#E5ECF6\",\"gridcolor\":\"white\",\"linecolor\":\"white\",\"showbackground\":true,\"ticks\":\"\",\"zerolinecolor\":\"white\",\"gridwidth\":2}},\"shapedefaults\":{\"line\":{\"color\":\"#2a3f5f\"}},\"annotationdefaults\":{\"arrowcolor\":\"#2a3f5f\",\"arrowhead\":0,\"arrowwidth\":1},\"geo\":{\"bgcolor\":\"white\",\"landcolor\":\"#E5ECF6\",\"subunitcolor\":\"white\",\"showland\":true,\"showlakes\":true,\"lakecolor\":\"white\"},\"title\":{\"x\":0.05},\"mapbox\":{\"style\":\"light\"}}},\"xaxis\":{\"anchor\":\"y\",\"domain\":[0.0,1.0],\"title\":{\"text\":\"Year (1975-2020)\"}},\"yaxis\":{\"anchor\":\"x\",\"domain\":[0.0,1.0],\"title\":{\"text\":\"p-value\"}},\"legend\":{\"tracegroupgap\":0},\"margin\":{\"t\":60},\"barmode\":\"relative\",\"shapes\":[{\"line\":{\"color\":\"red\",\"dash\":\"dash\",\"width\":3},\"type\":\"line\",\"x0\":0,\"x1\":1,\"xref\":\"x domain\",\"y0\":0.05,\"y1\":0.05,\"yref\":\"y\"},{\"fillcolor\":\"red\",\"line\":{\"width\":0},\"opacity\":0.1,\"type\":\"rect\",\"x0\":0,\"x1\":1,\"xref\":\"x domain\",\"y0\":0.05,\"y1\":1.0,\"yref\":\"y\"},{\"fillcolor\":\"green\",\"line\":{\"width\":0},\"opacity\":0.2,\"type\":\"rect\",\"x0\":0,\"x1\":1,\"xref\":\"x domain\",\"y0\":0.05,\"y1\":0.0,\"yref\":\"y\"}],\"title\":{\"x\":0.5}},                        {\"toImageButtonOptions\": {\"format\": \"png\", \"filename\": \"Fischers_pvalue_notitle_2020\", \"height\": 500, \"width\": 1200, \"scale\": 2.0}, \"responsive\": true}                    ).then(function(){\n",
              "                            \n",
              "var gd = document.getElementById('2447423f-db8b-4e40-bce6-61206d1bdf18');\n",
              "var x = new MutationObserver(function (mutations, observer) {{\n",
              "        var display = window.getComputedStyle(gd).display;\n",
              "        if (!display || display === 'none') {{\n",
              "            console.log([gd, 'removed!']);\n",
              "            Plotly.purge(gd);\n",
              "            observer.disconnect();\n",
              "        }}\n",
              "}});\n",
              "\n",
              "// Listen for the removal of the full notebook cells\n",
              "var notebookContainer = gd.closest('#notebook-container');\n",
              "if (notebookContainer) {{\n",
              "    x.observe(notebookContainer, {childList: true});\n",
              "}}\n",
              "\n",
              "// Listen for the clearing of the current output cell\n",
              "var outputEl = gd.closest('.output');\n",
              "if (outputEl) {{\n",
              "    x.observe(outputEl, {childList: true});\n",
              "}}\n",
              "\n",
              "                        })                };                            </script>        </div>\n",
              "</body>\n",
              "</html>"
            ]
          },
          "metadata": {}
        }
      ]
    },
    {
      "cell_type": "markdown",
      "source": [
        "ODDS RATIO GRAPH\n"
      ],
      "metadata": {
        "id": "o8i5DXZ1F1hi"
      }
    },
    {
      "cell_type": "code",
      "source": [
        "# This set of code extracts the odds ratio from each Fisher's test and creates a\n",
        "# graph plotting the odds ratio by each calendar year. The red dashed line is a\n",
        "# regression line which shows the overall trend of the odds ratio as the calendar\n",
        "# years progress. The odds ratio indicates the likelihood of there being a relationship\n",
        "# between the incidence of osteosarcoma and the age group 65+, so the greater the odds ratio\n",
        "# the more likely there is a relationship.\n",
        "\n",
        "#convert from string to numeric values\n",
        "results_df['Year'] = pd.to_numeric(results_df['Year'], errors='coerce')\n",
        "results_df['Odds ratio'] = pd.to_numeric(results_df['Odds ratio'], errors='coerce')\n",
        "\n",
        "fig = px.scatter(results_df, x='Year', y='Odds ratio',\n",
        "                # title=\"Odds ratio from Fishers test across the years (between 35-64 & 65+)\"\n",
        "                 )\n",
        "\n",
        "# Calculate regression line parameters\n",
        "z, p = np.polyfit(results_df['Year'], results_df['Odds ratio'], 1)\n",
        "\n",
        "# Add regression line as a Scatter trace\n",
        "reg_trace = go.Scatter(x=results_df['Year'], y=z*results_df['Year']+p,\n",
        "                       mode='lines', line=dict(width=3, dash=\"dash\", color=\"red\"))\n",
        "reg_trace.name = \"regression line\"\n",
        "fig.add_trace(reg_trace)\n",
        "\n",
        "# Add shaded rectangle\n",
        "fig.add_shape(type=\"rect\", xref=\"paper\", yref=\"y\", x0=0, x1=1, y0=0.05, y1=1.0,\n",
        "              fillcolor=\"red\", opacity=0.1, line_width=0)\n",
        "\n",
        "# set the x-axis tick labels\n",
        "labels = results_df['Year'].tolist()\n",
        "fig.update_xaxes(tickvals=results_df['Year'], ticktext=labels, tickangle=45)\n",
        "\n",
        "fig.update_layout(title_x = 0.5, xaxis_title= \"Year (1975-2020)\", )\n",
        "fig.update_layout(\n",
        "    legend=dict(\n",
        "        yanchor=\"top\",\n",
        "        y=0.99,\n",
        "        xanchor=\"left\",\n",
        "        x=0.01\n",
        "    )\n",
        ")\n",
        "fig.show()"
      ],
      "metadata": {
        "colab": {
          "base_uri": "https://localhost:8080/",
          "height": 542
        },
        "id": "65HC9F5WFxYL",
        "outputId": "028d484a-5e8b-4017-b995-b035a8ab25fc"
      },
      "execution_count": null,
      "outputs": [
        {
          "output_type": "display_data",
          "data": {
            "text/html": [
              "<html>\n",
              "<head><meta charset=\"utf-8\" /></head>\n",
              "<body>\n",
              "    <div>            <script src=\"https://cdnjs.cloudflare.com/ajax/libs/mathjax/2.7.5/MathJax.js?config=TeX-AMS-MML_SVG\"></script><script type=\"text/javascript\">if (window.MathJax && window.MathJax.Hub && window.MathJax.Hub.Config) {window.MathJax.Hub.Config({SVG: {font: \"STIX-Web\"}});}</script>                <script type=\"text/javascript\">window.PlotlyConfig = {MathJaxConfig: 'local'};</script>\n",
              "        <script src=\"https://cdn.plot.ly/plotly-2.18.2.min.js\"></script>                <div id=\"d691fd73-77c8-4834-9d86-a949270b23a8\" class=\"plotly-graph-div\" style=\"height:525px; width:100%;\"></div>            <script type=\"text/javascript\">                                    window.PLOTLYENV=window.PLOTLYENV || {};                                    if (document.getElementById(\"d691fd73-77c8-4834-9d86-a949270b23a8\")) {                    Plotly.newPlot(                        \"d691fd73-77c8-4834-9d86-a949270b23a8\",                        [{\"hovertemplate\":\"Year=%{x}<br>Odds ratio=%{y}<extra></extra>\",\"legendgroup\":\"\",\"marker\":{\"color\":\"#636efa\",\"symbol\":\"circle\"},\"mode\":\"markers\",\"name\":\"\",\"orientation\":\"v\",\"showlegend\":false,\"x\":[1975,1976,1977,1978,1979,1980,1981,1982,1983,1984,1985,1986,1987,1988,1989,1990,1991,1992,1993,1994,1995,1996,1997,1998,1999,2000,2001,2002,2003,2004,2005,2006,2007,2008,2009,2010,2011,2012,2013,2014,2015,2016,2017,2018,2019,2020],\"xaxis\":\"x\",\"y\":[0.8941555486352581,0.0,4.557014784662795,2.2563273949429123,2.973160907071877,3.923782059903415,2.9061955102288026,2.9049063313186188,1.926395980544656,2.1655406006080757,4.32575447633336,2.8785676371297066,0.959166961756374,3.8646116815632725,0.0,1.6749823288322456,1.480157490130186,1.7987967801797369,0.5046043499618912,0.8754846418908294,3.1004239571788856,0.349151334508518,4.007208072194716,0.8167606681389304,0.4736515911426927,0.5583580162294751,1.6936526285368994,0.5686186084545655,1.710485134192107,0.572791494105419,0.5738492947358055,1.7239973627100131,1.3724573001899965,0.4819665874876412,0.0,2.3338107207684664,0.9178988570082178,1.231869425449765,3.9661599184466536,0.47972562636568117,0.9316216979089439,1.6292169587762395,3.016151507159269,2.132881348662406,1.5491868816840393,1.443613810918652],\"yaxis\":\"y\",\"type\":\"scatter\"},{\"line\":{\"color\":\"red\",\"dash\":\"dash\",\"width\":3},\"mode\":\"lines\",\"name\":\"regression line\",\"x\":[1975,1976,1977,1978,1979,1980,1981,1982,1983,1984,1985,1986,1987,1988,1989,1990,1991,1992,1993,1994,1995,1996,1997,1998,1999,2000,2001,2002,2003,2004,2005,2006,2007,2008,2009,2010,2011,2012,2013,2014,2015,2016,2017,2018,2019,2020],\"y\":[2.3279753465020647,2.302292494646565,2.2766096427910583,2.2509267909355586,2.225243939080052,2.199561087224552,2.1738782353690453,2.1481953835135457,2.122512531658046,2.096829679802539,2.0711468279470395,2.0454639760915327,2.019781124236033,1.9940982723805263,1.9684154205250266,1.9427325686695198,1.9170497168140201,1.8913668649585205,1.8656840131030137,1.840001161247514,1.8143183093920072,1.7886354575365075,1.7629526056810008,1.737269753825501,1.7115869019700014,1.6859040501144946,1.660221198258995,1.6345383464034882,1.6088554945479885,1.5831726426924817,1.557489790836982,1.5318069389814752,1.5061240871259756,1.4804412352704759,1.454758383414969,1.4290755315594694,1.4033926797039626,1.377709827848463,1.3520269759929562,1.3263441241374565,1.3006612722819497,1.27497842042645,1.2492955685709504,1.2236127167154436,1.197929864859944,1.1722470130044371],\"type\":\"scatter\"}],                        {\"template\":{\"data\":{\"histogram2dcontour\":[{\"type\":\"histogram2dcontour\",\"colorbar\":{\"outlinewidth\":0,\"ticks\":\"\"},\"colorscale\":[[0.0,\"#0d0887\"],[0.1111111111111111,\"#46039f\"],[0.2222222222222222,\"#7201a8\"],[0.3333333333333333,\"#9c179e\"],[0.4444444444444444,\"#bd3786\"],[0.5555555555555556,\"#d8576b\"],[0.6666666666666666,\"#ed7953\"],[0.7777777777777778,\"#fb9f3a\"],[0.8888888888888888,\"#fdca26\"],[1.0,\"#f0f921\"]]}],\"choropleth\":[{\"type\":\"choropleth\",\"colorbar\":{\"outlinewidth\":0,\"ticks\":\"\"}}],\"histogram2d\":[{\"type\":\"histogram2d\",\"colorbar\":{\"outlinewidth\":0,\"ticks\":\"\"},\"colorscale\":[[0.0,\"#0d0887\"],[0.1111111111111111,\"#46039f\"],[0.2222222222222222,\"#7201a8\"],[0.3333333333333333,\"#9c179e\"],[0.4444444444444444,\"#bd3786\"],[0.5555555555555556,\"#d8576b\"],[0.6666666666666666,\"#ed7953\"],[0.7777777777777778,\"#fb9f3a\"],[0.8888888888888888,\"#fdca26\"],[1.0,\"#f0f921\"]]}],\"heatmap\":[{\"type\":\"heatmap\",\"colorbar\":{\"outlinewidth\":0,\"ticks\":\"\"},\"colorscale\":[[0.0,\"#0d0887\"],[0.1111111111111111,\"#46039f\"],[0.2222222222222222,\"#7201a8\"],[0.3333333333333333,\"#9c179e\"],[0.4444444444444444,\"#bd3786\"],[0.5555555555555556,\"#d8576b\"],[0.6666666666666666,\"#ed7953\"],[0.7777777777777778,\"#fb9f3a\"],[0.8888888888888888,\"#fdca26\"],[1.0,\"#f0f921\"]]}],\"heatmapgl\":[{\"type\":\"heatmapgl\",\"colorbar\":{\"outlinewidth\":0,\"ticks\":\"\"},\"colorscale\":[[0.0,\"#0d0887\"],[0.1111111111111111,\"#46039f\"],[0.2222222222222222,\"#7201a8\"],[0.3333333333333333,\"#9c179e\"],[0.4444444444444444,\"#bd3786\"],[0.5555555555555556,\"#d8576b\"],[0.6666666666666666,\"#ed7953\"],[0.7777777777777778,\"#fb9f3a\"],[0.8888888888888888,\"#fdca26\"],[1.0,\"#f0f921\"]]}],\"contourcarpet\":[{\"type\":\"contourcarpet\",\"colorbar\":{\"outlinewidth\":0,\"ticks\":\"\"}}],\"contour\":[{\"type\":\"contour\",\"colorbar\":{\"outlinewidth\":0,\"ticks\":\"\"},\"colorscale\":[[0.0,\"#0d0887\"],[0.1111111111111111,\"#46039f\"],[0.2222222222222222,\"#7201a8\"],[0.3333333333333333,\"#9c179e\"],[0.4444444444444444,\"#bd3786\"],[0.5555555555555556,\"#d8576b\"],[0.6666666666666666,\"#ed7953\"],[0.7777777777777778,\"#fb9f3a\"],[0.8888888888888888,\"#fdca26\"],[1.0,\"#f0f921\"]]}],\"surface\":[{\"type\":\"surface\",\"colorbar\":{\"outlinewidth\":0,\"ticks\":\"\"},\"colorscale\":[[0.0,\"#0d0887\"],[0.1111111111111111,\"#46039f\"],[0.2222222222222222,\"#7201a8\"],[0.3333333333333333,\"#9c179e\"],[0.4444444444444444,\"#bd3786\"],[0.5555555555555556,\"#d8576b\"],[0.6666666666666666,\"#ed7953\"],[0.7777777777777778,\"#fb9f3a\"],[0.8888888888888888,\"#fdca26\"],[1.0,\"#f0f921\"]]}],\"mesh3d\":[{\"type\":\"mesh3d\",\"colorbar\":{\"outlinewidth\":0,\"ticks\":\"\"}}],\"scatter\":[{\"fillpattern\":{\"fillmode\":\"overlay\",\"size\":10,\"solidity\":0.2},\"type\":\"scatter\"}],\"parcoords\":[{\"type\":\"parcoords\",\"line\":{\"colorbar\":{\"outlinewidth\":0,\"ticks\":\"\"}}}],\"scatterpolargl\":[{\"type\":\"scatterpolargl\",\"marker\":{\"colorbar\":{\"outlinewidth\":0,\"ticks\":\"\"}}}],\"bar\":[{\"error_x\":{\"color\":\"#2a3f5f\"},\"error_y\":{\"color\":\"#2a3f5f\"},\"marker\":{\"line\":{\"color\":\"#E5ECF6\",\"width\":0.5},\"pattern\":{\"fillmode\":\"overlay\",\"size\":10,\"solidity\":0.2}},\"type\":\"bar\"}],\"scattergeo\":[{\"type\":\"scattergeo\",\"marker\":{\"colorbar\":{\"outlinewidth\":0,\"ticks\":\"\"}}}],\"scatterpolar\":[{\"type\":\"scatterpolar\",\"marker\":{\"colorbar\":{\"outlinewidth\":0,\"ticks\":\"\"}}}],\"histogram\":[{\"marker\":{\"pattern\":{\"fillmode\":\"overlay\",\"size\":10,\"solidity\":0.2}},\"type\":\"histogram\"}],\"scattergl\":[{\"type\":\"scattergl\",\"marker\":{\"colorbar\":{\"outlinewidth\":0,\"ticks\":\"\"}}}],\"scatter3d\":[{\"type\":\"scatter3d\",\"line\":{\"colorbar\":{\"outlinewidth\":0,\"ticks\":\"\"}},\"marker\":{\"colorbar\":{\"outlinewidth\":0,\"ticks\":\"\"}}}],\"scattermapbox\":[{\"type\":\"scattermapbox\",\"marker\":{\"colorbar\":{\"outlinewidth\":0,\"ticks\":\"\"}}}],\"scatterternary\":[{\"type\":\"scatterternary\",\"marker\":{\"colorbar\":{\"outlinewidth\":0,\"ticks\":\"\"}}}],\"scattercarpet\":[{\"type\":\"scattercarpet\",\"marker\":{\"colorbar\":{\"outlinewidth\":0,\"ticks\":\"\"}}}],\"carpet\":[{\"aaxis\":{\"endlinecolor\":\"#2a3f5f\",\"gridcolor\":\"white\",\"linecolor\":\"white\",\"minorgridcolor\":\"white\",\"startlinecolor\":\"#2a3f5f\"},\"baxis\":{\"endlinecolor\":\"#2a3f5f\",\"gridcolor\":\"white\",\"linecolor\":\"white\",\"minorgridcolor\":\"white\",\"startlinecolor\":\"#2a3f5f\"},\"type\":\"carpet\"}],\"table\":[{\"cells\":{\"fill\":{\"color\":\"#EBF0F8\"},\"line\":{\"color\":\"white\"}},\"header\":{\"fill\":{\"color\":\"#C8D4E3\"},\"line\":{\"color\":\"white\"}},\"type\":\"table\"}],\"barpolar\":[{\"marker\":{\"line\":{\"color\":\"#E5ECF6\",\"width\":0.5},\"pattern\":{\"fillmode\":\"overlay\",\"size\":10,\"solidity\":0.2}},\"type\":\"barpolar\"}],\"pie\":[{\"automargin\":true,\"type\":\"pie\"}]},\"layout\":{\"autotypenumbers\":\"strict\",\"colorway\":[\"#636efa\",\"#EF553B\",\"#00cc96\",\"#ab63fa\",\"#FFA15A\",\"#19d3f3\",\"#FF6692\",\"#B6E880\",\"#FF97FF\",\"#FECB52\"],\"font\":{\"color\":\"#2a3f5f\"},\"hovermode\":\"closest\",\"hoverlabel\":{\"align\":\"left\"},\"paper_bgcolor\":\"white\",\"plot_bgcolor\":\"#E5ECF6\",\"polar\":{\"bgcolor\":\"#E5ECF6\",\"angularaxis\":{\"gridcolor\":\"white\",\"linecolor\":\"white\",\"ticks\":\"\"},\"radialaxis\":{\"gridcolor\":\"white\",\"linecolor\":\"white\",\"ticks\":\"\"}},\"ternary\":{\"bgcolor\":\"#E5ECF6\",\"aaxis\":{\"gridcolor\":\"white\",\"linecolor\":\"white\",\"ticks\":\"\"},\"baxis\":{\"gridcolor\":\"white\",\"linecolor\":\"white\",\"ticks\":\"\"},\"caxis\":{\"gridcolor\":\"white\",\"linecolor\":\"white\",\"ticks\":\"\"}},\"coloraxis\":{\"colorbar\":{\"outlinewidth\":0,\"ticks\":\"\"}},\"colorscale\":{\"sequential\":[[0.0,\"#0d0887\"],[0.1111111111111111,\"#46039f\"],[0.2222222222222222,\"#7201a8\"],[0.3333333333333333,\"#9c179e\"],[0.4444444444444444,\"#bd3786\"],[0.5555555555555556,\"#d8576b\"],[0.6666666666666666,\"#ed7953\"],[0.7777777777777778,\"#fb9f3a\"],[0.8888888888888888,\"#fdca26\"],[1.0,\"#f0f921\"]],\"sequentialminus\":[[0.0,\"#0d0887\"],[0.1111111111111111,\"#46039f\"],[0.2222222222222222,\"#7201a8\"],[0.3333333333333333,\"#9c179e\"],[0.4444444444444444,\"#bd3786\"],[0.5555555555555556,\"#d8576b\"],[0.6666666666666666,\"#ed7953\"],[0.7777777777777778,\"#fb9f3a\"],[0.8888888888888888,\"#fdca26\"],[1.0,\"#f0f921\"]],\"diverging\":[[0,\"#8e0152\"],[0.1,\"#c51b7d\"],[0.2,\"#de77ae\"],[0.3,\"#f1b6da\"],[0.4,\"#fde0ef\"],[0.5,\"#f7f7f7\"],[0.6,\"#e6f5d0\"],[0.7,\"#b8e186\"],[0.8,\"#7fbc41\"],[0.9,\"#4d9221\"],[1,\"#276419\"]]},\"xaxis\":{\"gridcolor\":\"white\",\"linecolor\":\"white\",\"ticks\":\"\",\"title\":{\"standoff\":15},\"zerolinecolor\":\"white\",\"automargin\":true,\"zerolinewidth\":2},\"yaxis\":{\"gridcolor\":\"white\",\"linecolor\":\"white\",\"ticks\":\"\",\"title\":{\"standoff\":15},\"zerolinecolor\":\"white\",\"automargin\":true,\"zerolinewidth\":2},\"scene\":{\"xaxis\":{\"backgroundcolor\":\"#E5ECF6\",\"gridcolor\":\"white\",\"linecolor\":\"white\",\"showbackground\":true,\"ticks\":\"\",\"zerolinecolor\":\"white\",\"gridwidth\":2},\"yaxis\":{\"backgroundcolor\":\"#E5ECF6\",\"gridcolor\":\"white\",\"linecolor\":\"white\",\"showbackground\":true,\"ticks\":\"\",\"zerolinecolor\":\"white\",\"gridwidth\":2},\"zaxis\":{\"backgroundcolor\":\"#E5ECF6\",\"gridcolor\":\"white\",\"linecolor\":\"white\",\"showbackground\":true,\"ticks\":\"\",\"zerolinecolor\":\"white\",\"gridwidth\":2}},\"shapedefaults\":{\"line\":{\"color\":\"#2a3f5f\"}},\"annotationdefaults\":{\"arrowcolor\":\"#2a3f5f\",\"arrowhead\":0,\"arrowwidth\":1},\"geo\":{\"bgcolor\":\"white\",\"landcolor\":\"#E5ECF6\",\"subunitcolor\":\"white\",\"showland\":true,\"showlakes\":true,\"lakecolor\":\"white\"},\"title\":{\"x\":0.05},\"mapbox\":{\"style\":\"light\"}}},\"xaxis\":{\"anchor\":\"y\",\"domain\":[0.0,1.0],\"title\":{\"text\":\"Year (1975-2020)\"},\"tickvals\":[1975,1976,1977,1978,1979,1980,1981,1982,1983,1984,1985,1986,1987,1988,1989,1990,1991,1992,1993,1994,1995,1996,1997,1998,1999,2000,2001,2002,2003,2004,2005,2006,2007,2008,2009,2010,2011,2012,2013,2014,2015,2016,2017,2018,2019,2020],\"ticktext\":[1975,1976,1977,1978,1979,1980,1981,1982,1983,1984,1985,1986,1987,1988,1989,1990,1991,1992,1993,1994,1995,1996,1997,1998,1999,2000,2001,2002,2003,2004,2005,2006,2007,2008,2009,2010,2011,2012,2013,2014,2015,2016,2017,2018,2019,2020],\"tickangle\":45},\"yaxis\":{\"anchor\":\"x\",\"domain\":[0.0,1.0],\"title\":{\"text\":\"Odds ratio\"}},\"legend\":{\"tracegroupgap\":0,\"yanchor\":\"top\",\"y\":0.99,\"xanchor\":\"left\",\"x\":0.01},\"margin\":{\"t\":60},\"shapes\":[{\"fillcolor\":\"red\",\"line\":{\"width\":0},\"opacity\":0.1,\"type\":\"rect\",\"x0\":0,\"x1\":1,\"xref\":\"paper\",\"y0\":0.05,\"y1\":1.0,\"yref\":\"y\"}],\"title\":{\"x\":0.5}},                        {\"responsive\": true}                    ).then(function(){\n",
              "                            \n",
              "var gd = document.getElementById('d691fd73-77c8-4834-9d86-a949270b23a8');\n",
              "var x = new MutationObserver(function (mutations, observer) {{\n",
              "        var display = window.getComputedStyle(gd).display;\n",
              "        if (!display || display === 'none') {{\n",
              "            console.log([gd, 'removed!']);\n",
              "            Plotly.purge(gd);\n",
              "            observer.disconnect();\n",
              "        }}\n",
              "}});\n",
              "\n",
              "// Listen for the removal of the full notebook cells\n",
              "var notebookContainer = gd.closest('#notebook-container');\n",
              "if (notebookContainer) {{\n",
              "    x.observe(notebookContainer, {childList: true});\n",
              "}}\n",
              "\n",
              "// Listen for the clearing of the current output cell\n",
              "var outputEl = gd.closest('.output');\n",
              "if (outputEl) {{\n",
              "    x.observe(outputEl, {childList: true});\n",
              "}}\n",
              "\n",
              "                        })                };                            </script>        </div>\n",
              "</body>\n",
              "</html>"
            ]
          },
          "metadata": {}
        }
      ]
    },
    {
      "cell_type": "code",
      "source": [
        "#This is reformatting the graph to save in h\n",
        "config = {\n",
        "  'toImageButtonOptions': {\n",
        "    'format': 'png', # one of png, svg, jpeg, webp\n",
        "    'filename': 'Fischers_oddsratio_notitle_2020',\n",
        "    'height': 500,\n",
        "    'width': 1200,\n",
        "    'scale':2.0 # Multiply title/legend/axis/canvas sizes by this factor\n",
        "  }\n",
        "}\n",
        "\n",
        "\n",
        "fig.show(config=config)"
      ],
      "metadata": {
        "colab": {
          "base_uri": "https://localhost:8080/",
          "height": 542
        },
        "id": "A6PQE_LOF33p",
        "outputId": "fdf14cd4-b468-4156-d68b-8d1b2a620941"
      },
      "execution_count": null,
      "outputs": [
        {
          "output_type": "display_data",
          "data": {
            "text/html": [
              "<html>\n",
              "<head><meta charset=\"utf-8\" /></head>\n",
              "<body>\n",
              "    <div>            <script src=\"https://cdnjs.cloudflare.com/ajax/libs/mathjax/2.7.5/MathJax.js?config=TeX-AMS-MML_SVG\"></script><script type=\"text/javascript\">if (window.MathJax && window.MathJax.Hub && window.MathJax.Hub.Config) {window.MathJax.Hub.Config({SVG: {font: \"STIX-Web\"}});}</script>                <script type=\"text/javascript\">window.PlotlyConfig = {MathJaxConfig: 'local'};</script>\n",
              "        <script src=\"https://cdn.plot.ly/plotly-2.18.2.min.js\"></script>                <div id=\"97c3ff36-1371-4c13-889b-40e3ccb2e81e\" class=\"plotly-graph-div\" style=\"height:525px; width:100%;\"></div>            <script type=\"text/javascript\">                                    window.PLOTLYENV=window.PLOTLYENV || {};                                    if (document.getElementById(\"97c3ff36-1371-4c13-889b-40e3ccb2e81e\")) {                    Plotly.newPlot(                        \"97c3ff36-1371-4c13-889b-40e3ccb2e81e\",                        [{\"hovertemplate\":\"Year=%{x}<br>Odds ratio=%{y}<extra></extra>\",\"legendgroup\":\"\",\"marker\":{\"color\":\"#636efa\",\"symbol\":\"circle\"},\"mode\":\"markers\",\"name\":\"\",\"orientation\":\"v\",\"showlegend\":false,\"x\":[1975,1976,1977,1978,1979,1980,1981,1982,1983,1984,1985,1986,1987,1988,1989,1990,1991,1992,1993,1994,1995,1996,1997,1998,1999,2000,2001,2002,2003,2004,2005,2006,2007,2008,2009,2010,2011,2012,2013,2014,2015,2016,2017,2018,2019,2020],\"xaxis\":\"x\",\"y\":[0.8941555486352581,0.0,4.557014784662795,2.2563273949429123,2.973160907071877,3.923782059903415,2.9061955102288026,2.9049063313186188,1.926395980544656,2.1655406006080757,4.32575447633336,2.8785676371297066,0.959166961756374,3.8646116815632725,0.0,1.6749823288322456,1.480157490130186,1.7987967801797369,0.5046043499618912,0.8754846418908294,3.1004239571788856,0.349151334508518,4.007208072194716,0.8167606681389304,0.4736515911426927,0.5583580162294751,1.6936526285368994,0.5686186084545655,1.710485134192107,0.572791494105419,0.5738492947358055,1.7239973627100131,1.3724573001899965,0.4819665874876412,0.0,2.3338107207684664,0.9178988570082178,1.231869425449765,3.9661599184466536,0.47972562636568117,0.9316216979089439,1.6292169587762395,3.016151507159269,2.132881348662406,1.5491868816840393,1.443613810918652],\"yaxis\":\"y\",\"type\":\"scatter\"},{\"line\":{\"color\":\"red\",\"dash\":\"dash\",\"width\":3},\"mode\":\"lines\",\"name\":\"regression line\",\"x\":[1975,1976,1977,1978,1979,1980,1981,1982,1983,1984,1985,1986,1987,1988,1989,1990,1991,1992,1993,1994,1995,1996,1997,1998,1999,2000,2001,2002,2003,2004,2005,2006,2007,2008,2009,2010,2011,2012,2013,2014,2015,2016,2017,2018,2019,2020],\"y\":[2.3279753465020647,2.302292494646565,2.2766096427910583,2.2509267909355586,2.225243939080052,2.199561087224552,2.1738782353690453,2.1481953835135457,2.122512531658046,2.096829679802539,2.0711468279470395,2.0454639760915327,2.019781124236033,1.9940982723805263,1.9684154205250266,1.9427325686695198,1.9170497168140201,1.8913668649585205,1.8656840131030137,1.840001161247514,1.8143183093920072,1.7886354575365075,1.7629526056810008,1.737269753825501,1.7115869019700014,1.6859040501144946,1.660221198258995,1.6345383464034882,1.6088554945479885,1.5831726426924817,1.557489790836982,1.5318069389814752,1.5061240871259756,1.4804412352704759,1.454758383414969,1.4290755315594694,1.4033926797039626,1.377709827848463,1.3520269759929562,1.3263441241374565,1.3006612722819497,1.27497842042645,1.2492955685709504,1.2236127167154436,1.197929864859944,1.1722470130044371],\"type\":\"scatter\"}],                        {\"template\":{\"data\":{\"histogram2dcontour\":[{\"type\":\"histogram2dcontour\",\"colorbar\":{\"outlinewidth\":0,\"ticks\":\"\"},\"colorscale\":[[0.0,\"#0d0887\"],[0.1111111111111111,\"#46039f\"],[0.2222222222222222,\"#7201a8\"],[0.3333333333333333,\"#9c179e\"],[0.4444444444444444,\"#bd3786\"],[0.5555555555555556,\"#d8576b\"],[0.6666666666666666,\"#ed7953\"],[0.7777777777777778,\"#fb9f3a\"],[0.8888888888888888,\"#fdca26\"],[1.0,\"#f0f921\"]]}],\"choropleth\":[{\"type\":\"choropleth\",\"colorbar\":{\"outlinewidth\":0,\"ticks\":\"\"}}],\"histogram2d\":[{\"type\":\"histogram2d\",\"colorbar\":{\"outlinewidth\":0,\"ticks\":\"\"},\"colorscale\":[[0.0,\"#0d0887\"],[0.1111111111111111,\"#46039f\"],[0.2222222222222222,\"#7201a8\"],[0.3333333333333333,\"#9c179e\"],[0.4444444444444444,\"#bd3786\"],[0.5555555555555556,\"#d8576b\"],[0.6666666666666666,\"#ed7953\"],[0.7777777777777778,\"#fb9f3a\"],[0.8888888888888888,\"#fdca26\"],[1.0,\"#f0f921\"]]}],\"heatmap\":[{\"type\":\"heatmap\",\"colorbar\":{\"outlinewidth\":0,\"ticks\":\"\"},\"colorscale\":[[0.0,\"#0d0887\"],[0.1111111111111111,\"#46039f\"],[0.2222222222222222,\"#7201a8\"],[0.3333333333333333,\"#9c179e\"],[0.4444444444444444,\"#bd3786\"],[0.5555555555555556,\"#d8576b\"],[0.6666666666666666,\"#ed7953\"],[0.7777777777777778,\"#fb9f3a\"],[0.8888888888888888,\"#fdca26\"],[1.0,\"#f0f921\"]]}],\"heatmapgl\":[{\"type\":\"heatmapgl\",\"colorbar\":{\"outlinewidth\":0,\"ticks\":\"\"},\"colorscale\":[[0.0,\"#0d0887\"],[0.1111111111111111,\"#46039f\"],[0.2222222222222222,\"#7201a8\"],[0.3333333333333333,\"#9c179e\"],[0.4444444444444444,\"#bd3786\"],[0.5555555555555556,\"#d8576b\"],[0.6666666666666666,\"#ed7953\"],[0.7777777777777778,\"#fb9f3a\"],[0.8888888888888888,\"#fdca26\"],[1.0,\"#f0f921\"]]}],\"contourcarpet\":[{\"type\":\"contourcarpet\",\"colorbar\":{\"outlinewidth\":0,\"ticks\":\"\"}}],\"contour\":[{\"type\":\"contour\",\"colorbar\":{\"outlinewidth\":0,\"ticks\":\"\"},\"colorscale\":[[0.0,\"#0d0887\"],[0.1111111111111111,\"#46039f\"],[0.2222222222222222,\"#7201a8\"],[0.3333333333333333,\"#9c179e\"],[0.4444444444444444,\"#bd3786\"],[0.5555555555555556,\"#d8576b\"],[0.6666666666666666,\"#ed7953\"],[0.7777777777777778,\"#fb9f3a\"],[0.8888888888888888,\"#fdca26\"],[1.0,\"#f0f921\"]]}],\"surface\":[{\"type\":\"surface\",\"colorbar\":{\"outlinewidth\":0,\"ticks\":\"\"},\"colorscale\":[[0.0,\"#0d0887\"],[0.1111111111111111,\"#46039f\"],[0.2222222222222222,\"#7201a8\"],[0.3333333333333333,\"#9c179e\"],[0.4444444444444444,\"#bd3786\"],[0.5555555555555556,\"#d8576b\"],[0.6666666666666666,\"#ed7953\"],[0.7777777777777778,\"#fb9f3a\"],[0.8888888888888888,\"#fdca26\"],[1.0,\"#f0f921\"]]}],\"mesh3d\":[{\"type\":\"mesh3d\",\"colorbar\":{\"outlinewidth\":0,\"ticks\":\"\"}}],\"scatter\":[{\"fillpattern\":{\"fillmode\":\"overlay\",\"size\":10,\"solidity\":0.2},\"type\":\"scatter\"}],\"parcoords\":[{\"type\":\"parcoords\",\"line\":{\"colorbar\":{\"outlinewidth\":0,\"ticks\":\"\"}}}],\"scatterpolargl\":[{\"type\":\"scatterpolargl\",\"marker\":{\"colorbar\":{\"outlinewidth\":0,\"ticks\":\"\"}}}],\"bar\":[{\"error_x\":{\"color\":\"#2a3f5f\"},\"error_y\":{\"color\":\"#2a3f5f\"},\"marker\":{\"line\":{\"color\":\"#E5ECF6\",\"width\":0.5},\"pattern\":{\"fillmode\":\"overlay\",\"size\":10,\"solidity\":0.2}},\"type\":\"bar\"}],\"scattergeo\":[{\"type\":\"scattergeo\",\"marker\":{\"colorbar\":{\"outlinewidth\":0,\"ticks\":\"\"}}}],\"scatterpolar\":[{\"type\":\"scatterpolar\",\"marker\":{\"colorbar\":{\"outlinewidth\":0,\"ticks\":\"\"}}}],\"histogram\":[{\"marker\":{\"pattern\":{\"fillmode\":\"overlay\",\"size\":10,\"solidity\":0.2}},\"type\":\"histogram\"}],\"scattergl\":[{\"type\":\"scattergl\",\"marker\":{\"colorbar\":{\"outlinewidth\":0,\"ticks\":\"\"}}}],\"scatter3d\":[{\"type\":\"scatter3d\",\"line\":{\"colorbar\":{\"outlinewidth\":0,\"ticks\":\"\"}},\"marker\":{\"colorbar\":{\"outlinewidth\":0,\"ticks\":\"\"}}}],\"scattermapbox\":[{\"type\":\"scattermapbox\",\"marker\":{\"colorbar\":{\"outlinewidth\":0,\"ticks\":\"\"}}}],\"scatterternary\":[{\"type\":\"scatterternary\",\"marker\":{\"colorbar\":{\"outlinewidth\":0,\"ticks\":\"\"}}}],\"scattercarpet\":[{\"type\":\"scattercarpet\",\"marker\":{\"colorbar\":{\"outlinewidth\":0,\"ticks\":\"\"}}}],\"carpet\":[{\"aaxis\":{\"endlinecolor\":\"#2a3f5f\",\"gridcolor\":\"white\",\"linecolor\":\"white\",\"minorgridcolor\":\"white\",\"startlinecolor\":\"#2a3f5f\"},\"baxis\":{\"endlinecolor\":\"#2a3f5f\",\"gridcolor\":\"white\",\"linecolor\":\"white\",\"minorgridcolor\":\"white\",\"startlinecolor\":\"#2a3f5f\"},\"type\":\"carpet\"}],\"table\":[{\"cells\":{\"fill\":{\"color\":\"#EBF0F8\"},\"line\":{\"color\":\"white\"}},\"header\":{\"fill\":{\"color\":\"#C8D4E3\"},\"line\":{\"color\":\"white\"}},\"type\":\"table\"}],\"barpolar\":[{\"marker\":{\"line\":{\"color\":\"#E5ECF6\",\"width\":0.5},\"pattern\":{\"fillmode\":\"overlay\",\"size\":10,\"solidity\":0.2}},\"type\":\"barpolar\"}],\"pie\":[{\"automargin\":true,\"type\":\"pie\"}]},\"layout\":{\"autotypenumbers\":\"strict\",\"colorway\":[\"#636efa\",\"#EF553B\",\"#00cc96\",\"#ab63fa\",\"#FFA15A\",\"#19d3f3\",\"#FF6692\",\"#B6E880\",\"#FF97FF\",\"#FECB52\"],\"font\":{\"color\":\"#2a3f5f\"},\"hovermode\":\"closest\",\"hoverlabel\":{\"align\":\"left\"},\"paper_bgcolor\":\"white\",\"plot_bgcolor\":\"#E5ECF6\",\"polar\":{\"bgcolor\":\"#E5ECF6\",\"angularaxis\":{\"gridcolor\":\"white\",\"linecolor\":\"white\",\"ticks\":\"\"},\"radialaxis\":{\"gridcolor\":\"white\",\"linecolor\":\"white\",\"ticks\":\"\"}},\"ternary\":{\"bgcolor\":\"#E5ECF6\",\"aaxis\":{\"gridcolor\":\"white\",\"linecolor\":\"white\",\"ticks\":\"\"},\"baxis\":{\"gridcolor\":\"white\",\"linecolor\":\"white\",\"ticks\":\"\"},\"caxis\":{\"gridcolor\":\"white\",\"linecolor\":\"white\",\"ticks\":\"\"}},\"coloraxis\":{\"colorbar\":{\"outlinewidth\":0,\"ticks\":\"\"}},\"colorscale\":{\"sequential\":[[0.0,\"#0d0887\"],[0.1111111111111111,\"#46039f\"],[0.2222222222222222,\"#7201a8\"],[0.3333333333333333,\"#9c179e\"],[0.4444444444444444,\"#bd3786\"],[0.5555555555555556,\"#d8576b\"],[0.6666666666666666,\"#ed7953\"],[0.7777777777777778,\"#fb9f3a\"],[0.8888888888888888,\"#fdca26\"],[1.0,\"#f0f921\"]],\"sequentialminus\":[[0.0,\"#0d0887\"],[0.1111111111111111,\"#46039f\"],[0.2222222222222222,\"#7201a8\"],[0.3333333333333333,\"#9c179e\"],[0.4444444444444444,\"#bd3786\"],[0.5555555555555556,\"#d8576b\"],[0.6666666666666666,\"#ed7953\"],[0.7777777777777778,\"#fb9f3a\"],[0.8888888888888888,\"#fdca26\"],[1.0,\"#f0f921\"]],\"diverging\":[[0,\"#8e0152\"],[0.1,\"#c51b7d\"],[0.2,\"#de77ae\"],[0.3,\"#f1b6da\"],[0.4,\"#fde0ef\"],[0.5,\"#f7f7f7\"],[0.6,\"#e6f5d0\"],[0.7,\"#b8e186\"],[0.8,\"#7fbc41\"],[0.9,\"#4d9221\"],[1,\"#276419\"]]},\"xaxis\":{\"gridcolor\":\"white\",\"linecolor\":\"white\",\"ticks\":\"\",\"title\":{\"standoff\":15},\"zerolinecolor\":\"white\",\"automargin\":true,\"zerolinewidth\":2},\"yaxis\":{\"gridcolor\":\"white\",\"linecolor\":\"white\",\"ticks\":\"\",\"title\":{\"standoff\":15},\"zerolinecolor\":\"white\",\"automargin\":true,\"zerolinewidth\":2},\"scene\":{\"xaxis\":{\"backgroundcolor\":\"#E5ECF6\",\"gridcolor\":\"white\",\"linecolor\":\"white\",\"showbackground\":true,\"ticks\":\"\",\"zerolinecolor\":\"white\",\"gridwidth\":2},\"yaxis\":{\"backgroundcolor\":\"#E5ECF6\",\"gridcolor\":\"white\",\"linecolor\":\"white\",\"showbackground\":true,\"ticks\":\"\",\"zerolinecolor\":\"white\",\"gridwidth\":2},\"zaxis\":{\"backgroundcolor\":\"#E5ECF6\",\"gridcolor\":\"white\",\"linecolor\":\"white\",\"showbackground\":true,\"ticks\":\"\",\"zerolinecolor\":\"white\",\"gridwidth\":2}},\"shapedefaults\":{\"line\":{\"color\":\"#2a3f5f\"}},\"annotationdefaults\":{\"arrowcolor\":\"#2a3f5f\",\"arrowhead\":0,\"arrowwidth\":1},\"geo\":{\"bgcolor\":\"white\",\"landcolor\":\"#E5ECF6\",\"subunitcolor\":\"white\",\"showland\":true,\"showlakes\":true,\"lakecolor\":\"white\"},\"title\":{\"x\":0.05},\"mapbox\":{\"style\":\"light\"}}},\"xaxis\":{\"anchor\":\"y\",\"domain\":[0.0,1.0],\"title\":{\"text\":\"Year (1975-2020)\"},\"tickvals\":[1975,1976,1977,1978,1979,1980,1981,1982,1983,1984,1985,1986,1987,1988,1989,1990,1991,1992,1993,1994,1995,1996,1997,1998,1999,2000,2001,2002,2003,2004,2005,2006,2007,2008,2009,2010,2011,2012,2013,2014,2015,2016,2017,2018,2019,2020],\"ticktext\":[1975,1976,1977,1978,1979,1980,1981,1982,1983,1984,1985,1986,1987,1988,1989,1990,1991,1992,1993,1994,1995,1996,1997,1998,1999,2000,2001,2002,2003,2004,2005,2006,2007,2008,2009,2010,2011,2012,2013,2014,2015,2016,2017,2018,2019,2020],\"tickangle\":45},\"yaxis\":{\"anchor\":\"x\",\"domain\":[0.0,1.0],\"title\":{\"text\":\"Odds ratio\"}},\"legend\":{\"tracegroupgap\":0,\"yanchor\":\"top\",\"y\":0.99,\"xanchor\":\"left\",\"x\":0.01},\"margin\":{\"t\":60},\"shapes\":[{\"fillcolor\":\"red\",\"line\":{\"width\":0},\"opacity\":0.1,\"type\":\"rect\",\"x0\":0,\"x1\":1,\"xref\":\"paper\",\"y0\":0.05,\"y1\":1.0,\"yref\":\"y\"}],\"title\":{\"x\":0.5}},                        {\"toImageButtonOptions\": {\"format\": \"png\", \"filename\": \"Fischers_oddsratio_notitle_2020\", \"height\": 500, \"width\": 1200, \"scale\": 2.0}, \"responsive\": true}                    ).then(function(){\n",
              "                            \n",
              "var gd = document.getElementById('97c3ff36-1371-4c13-889b-40e3ccb2e81e');\n",
              "var x = new MutationObserver(function (mutations, observer) {{\n",
              "        var display = window.getComputedStyle(gd).display;\n",
              "        if (!display || display === 'none') {{\n",
              "            console.log([gd, 'removed!']);\n",
              "            Plotly.purge(gd);\n",
              "            observer.disconnect();\n",
              "        }}\n",
              "}});\n",
              "\n",
              "// Listen for the removal of the full notebook cells\n",
              "var notebookContainer = gd.closest('#notebook-container');\n",
              "if (notebookContainer) {{\n",
              "    x.observe(notebookContainer, {childList: true});\n",
              "}}\n",
              "\n",
              "// Listen for the clearing of the current output cell\n",
              "var outputEl = gd.closest('.output');\n",
              "if (outputEl) {{\n",
              "    x.observe(outputEl, {childList: true});\n",
              "}}\n",
              "\n",
              "                        })                };                            </script>        </div>\n",
              "</body>\n",
              "</html>"
            ]
          },
          "metadata": {}
        }
      ]
    }
  ]
}